{
 "metadata": {
  "name": "",
  "signature": "sha256:cd5d959adaa25cad92c997fc81b9ab535d7d162d1932ac3a4ca9bf30f0ef93f0"
 },
 "nbformat": 3,
 "nbformat_minor": 0,
 "worksheets": [
  {
   "cells": [
    {
     "cell_type": "heading",
     "level": 1,
     "metadata": {},
     "source": [
      "Colour - Vectorise"
     ]
    },
    {
     "cell_type": "heading",
     "level": 2,
     "metadata": {},
     "source": [
      "Data"
     ]
    },
    {
     "cell_type": "code",
     "collapsed": false,
     "input": [
      "from __future__ import division, unicode_literals\n",
      "\n",
      "import numpy as np\n",
      "\n",
      "DATA_HD1 = np.random.rand(1920 * 1080, 3)\n",
      "DATA_HD2 = np.random.rand(1920 * 1080, 3)\n",
      "DATA_HD3 = np.random.rand(1920 * 1080, 3)\n",
      "\n",
      "DATA_PAL1 = np.random.rand(640 * 480, 3)\n",
      "DATA_PAL2 = np.random.rand(640 * 480, 3)\n",
      "DATA_PAL3 = np.random.rand(640 * 480, 3)\n",
      "\n",
      "DATA1, DATA2, DATA3 = DATA_PAL1, DATA_PAL2, DATA_PAL3"
     ],
     "language": "python",
     "metadata": {},
     "outputs": [],
     "prompt_number": 1
    },
    {
     "cell_type": "heading",
     "level": 2,
     "metadata": {},
     "source": [
      "Utilities"
     ]
    },
    {
     "cell_type": "code",
     "collapsed": false,
     "input": [
      "from colour.algebra import as_array, is_numeric, is_iterable\n",
      "\n",
      "def as_numeric(x):\n",
      "    try:\n",
      "        return float(x)\n",
      "    except TypeError as error:\n",
      "        return x\n",
      "    \n",
      "def row_as_diagonal(a):\n",
      "    # http://stackoverflow.com/a/26517247/931625\n",
      "    rd = np.zeros((a.shape[0], a.shape[1], a.shape[1]))\n",
      "    diagonal = np.arange(a.shape[1])\n",
      "    rd[:, diagonal, diagonal] = a\n",
      "    return rd"
     ],
     "language": "python",
     "metadata": {},
     "outputs": [],
     "prompt_number": 2
    },
    {
     "cell_type": "heading",
     "level": 2,
     "metadata": {},
     "source": [
      "colour.adaptation.cat"
     ]
    },
    {
     "cell_type": "heading",
     "level": 3,
     "metadata": {},
     "source": [
      "colour.chromatic_adaptation_matrix"
     ]
    },
    {
     "cell_type": "code",
     "collapsed": false,
     "input": [
      "from colour.adaptation.cat import *\n",
      "\n",
      "def chromatic_adaptation_matrix_2d(data1, data2):\n",
      "    for i in range(len(data1)):\n",
      "        chromatic_adaptation_matrix(data1[i], data2[i])"
     ],
     "language": "python",
     "metadata": {},
     "outputs": [],
     "prompt_number": 3
    },
    {
     "cell_type": "code",
     "collapsed": false,
     "input": [
      "%timeit -n 1 chromatic_adaptation_matrix_2d(DATA1, DATA2)"
     ],
     "language": "python",
     "metadata": {},
     "outputs": [
      {
       "output_type": "stream",
       "stream": "stdout",
       "text": [
        "1 loops, best of 3: 17.2 s per loop\n"
       ]
      }
     ],
     "prompt_number": 4
    },
    {
     "cell_type": "code",
     "collapsed": false,
     "input": [
      "def chromatic_adaptation_matrix2(XYZ_w, XYZ_wr, method='CAT02'):\n",
      "    M = CHROMATIC_ADAPTATION_METHODS.get(method)\n",
      "\n",
      "    if M is None:\n",
      "        raise KeyError(\n",
      "            '\"{0}\" chromatic adaptation method is not defined! Supported '\n",
      "            'methods: \"{1}\".'.format(method,\n",
      "                                     CHROMATIC_ADAPTATION_METHODS.keys()))\n",
      "    M = as_array(M, (3, 3))\n",
      "\n",
      "    XYZ_w = as_array(XYZ_w, (-1, 3))\n",
      "    XYZ_wr = as_array(XYZ_wr, (-1, 3))\n",
      "\n",
      "    rgb_w = np.dot(XYZ_w, np.transpose(M))\n",
      "    rgb_wr = np.dot(XYZ_wr, np.transpose(M))\n",
      "\n",
      "    D = rgb_wr / rgb_w\n",
      "    \n",
      "    D = row_as_diagonal(D)\n",
      "\n",
      "    cat = np.einsum('...ij,...jk->...ik', np.linalg.inv(M), D)\n",
      "    cat = np.einsum('...ij,...jk->...ik', cat, M)\n",
      "\n",
      "    cat = np.squeeze(cat)\n",
      "\n",
      "    return cat\n",
      "\n",
      "\n",
      "print('Reference:')\n",
      "print(np.array([[0.86876537, -0.14165393, 0.38719611],\n",
      "                [-0.10300724, 1.05840142, 0.15386462],\n",
      "                [0.00781674, 0.0267875, 2.96081771]]))\n",
      "\n",
      "print('\\n')\n",
      "\n",
      "print('1d array:')\n",
      "XYZ_w = np.array([1.09846607, 1., 0.3558228])\n",
      "XYZ_wr = np.array([0.95042855, 1., 1.08890037])\n",
      "print(chromatic_adaptation_matrix2(XYZ_w, XYZ_wr))\n",
      "\n",
      "print('\\n')\n",
      "\n",
      "print('2d array:')\n",
      "XYZ_w = np.tile(XYZ_w, (5, 1))\n",
      "XYZ_wr = np.tile(XYZ_wr, (5, 1))\n",
      "print(chromatic_adaptation_matrix2(XYZ_w, XYZ_wr))"
     ],
     "language": "python",
     "metadata": {},
     "outputs": [
      {
       "output_type": "stream",
       "stream": "stdout",
       "text": [
        "Reference:\n",
        "[[ 0.86876537 -0.14165393  0.38719611]\n",
        " [-0.10300724  1.05840142  0.15386462]\n",
        " [ 0.00781674  0.0267875   2.96081771]]\n",
        "\n",
        "\n",
        "1d array:\n",
        "[[ 0.86876537 -0.14165393  0.38719611]\n",
        " [-0.10300724  1.05840142  0.15386462]\n",
        " [ 0.00781674  0.0267875   2.96081771]]\n",
        "\n",
        "\n",
        "2d array:\n",
        "[[[ 0.86876537 -0.14165393  0.38719611]\n",
        "  [-0.10300724  1.05840142  0.15386462]\n",
        "  [ 0.00781674  0.0267875   2.96081771]]\n",
        "\n",
        " [[ 0.86876537 -0.14165393  0.38719611]\n",
        "  [-0.10300724  1.05840142  0.15386462]\n",
        "  [ 0.00781674  0.0267875   2.96081771]]\n",
        "\n",
        " [[ 0.86876537 -0.14165393  0.38719611]\n",
        "  [-0.10300724  1.05840142  0.15386462]\n",
        "  [ 0.00781674  0.0267875   2.96081771]]\n",
        "\n",
        " [[ 0.86876537 -0.14165393  0.38719611]\n",
        "  [-0.10300724  1.05840142  0.15386462]\n",
        "  [ 0.00781674  0.0267875   2.96081771]]\n",
        "\n",
        " [[ 0.86876537 -0.14165393  0.38719611]\n",
        "  [-0.10300724  1.05840142  0.15386462]\n",
        "  [ 0.00781674  0.0267875   2.96081771]]]\n"
       ]
      }
     ],
     "prompt_number": 5
    },
    {
     "cell_type": "code",
     "collapsed": false,
     "input": [
      "%timeit -n 1 chromatic_adaptation_matrix2(DATA1, DATA2)"
     ],
     "language": "python",
     "metadata": {},
     "outputs": [
      {
       "output_type": "stream",
       "stream": "stdout",
       "text": [
        "1 loops, best of 3: 281 ms per loop\n"
       ]
      }
     ],
     "prompt_number": 6
    },
    {
     "cell_type": "heading",
     "level": 3,
     "metadata": {},
     "source": [
      "colour.chromatic_adaptation"
     ]
    },
    {
     "cell_type": "code",
     "collapsed": false,
     "input": [
      "def chromatic_adaptation_2d(data1, data2, data3):\n",
      "    for i in range(len(data1)):\n",
      "        chromatic_adaptation(data1[i], data2[i], data3[i])"
     ],
     "language": "python",
     "metadata": {},
     "outputs": [],
     "prompt_number": 7
    },
    {
     "cell_type": "code",
     "collapsed": false,
     "input": [
      "%timeit -n 1 chromatic_adaptation_2d(DATA1, DATA2, DATA3)"
     ],
     "language": "python",
     "metadata": {},
     "outputs": [
      {
       "output_type": "stream",
       "stream": "stdout",
       "text": [
        "1 loops, best of 3: 17.2 s per loop\n"
       ]
      }
     ],
     "prompt_number": 8
    },
    {
     "cell_type": "code",
     "collapsed": false,
     "input": [
      "def chromatic_adaptation2(XYZ, XYZ_w, XYZ_wr, method='CAT02'):\n",
      "    XYZ = as_array(XYZ, (-1, 3))\n",
      "\n",
      "    cat = chromatic_adaptation_matrix2(XYZ_w, XYZ_wr, method)\n",
      "    XYZ_a = np.squeeze(np.einsum('...i,...ji', XYZ, cat))\n",
      "\n",
      "    return XYZ_a\n",
      "\n",
      "\n",
      "print('Reference:')\n",
      "print(np.array([0.08397461, 0.11413219, 0.28625545]))\n",
      "\n",
      "print('\\n')\n",
      "\n",
      "print('1d array:')\n",
      "XYZ = np.array([0.07049534, 0.1008, 0.09558313])\n",
      "XYZ_w = np.array([1.09846607, 1., 0.3558228])\n",
      "XYZ_wr = np.array([0.95042855, 1., 1.08890037])\n",
      "print(chromatic_adaptation2(XYZ, XYZ_w, XYZ_wr))\n",
      "\n",
      "print('\\n')\n",
      "\n",
      "print('2d array:')\n",
      "XYZ = np.tile(XYZ, (5, 1))\n",
      "XYZ_w = np.tile(XYZ_w, (5, 1))\n",
      "XYZ_wr = np.tile(XYZ_wr, (5, 1))\n",
      "print(chromatic_adaptation2(XYZ, XYZ_w, XYZ_wr))"
     ],
     "language": "python",
     "metadata": {},
     "outputs": [
      {
       "output_type": "stream",
       "stream": "stdout",
       "text": [
        "Reference:\n",
        "[ 0.08397461  0.11413219  0.28625545]\n",
        "\n",
        "\n",
        "1d array:\n",
        "[ 0.08397461  0.11413219  0.28625545]\n",
        "\n",
        "\n",
        "2d array:\n",
        "[[ 0.08397461  0.11413219  0.28625545]\n",
        " [ 0.08397461  0.11413219  0.28625545]\n",
        " [ 0.08397461  0.11413219  0.28625545]\n",
        " [ 0.08397461  0.11413219  0.28625545]\n",
        " [ 0.08397461  0.11413219  0.28625545]]\n"
       ]
      }
     ],
     "prompt_number": 9
    },
    {
     "cell_type": "code",
     "collapsed": false,
     "input": [
      "%timeit -n 1 chromatic_adaptation2(DATA1, DATA2, DATA3)"
     ],
     "language": "python",
     "metadata": {},
     "outputs": [
      {
       "output_type": "stream",
       "stream": "stdout",
       "text": [
        "1 loops, best of 3: 260 ms per loop\n"
       ]
      }
     ],
     "prompt_number": 10
    },
    {
     "cell_type": "heading",
     "level": 2,
     "metadata": {},
     "source": [
      "colour.algebra.coordinates.transformations"
     ]
    },
    {
     "cell_type": "heading",
     "level": 3,
     "metadata": {},
     "source": [
      "colour.cartesian_to_spherical"
     ]
    },
    {
     "cell_type": "code",
     "collapsed": false,
     "input": [
      "import math\n",
      "\n",
      "from colour.algebra.coordinates.transformations import *\n",
      "\n",
      "def cartesian_to_spherical_2d(vectors):\n",
      "    for vector in vectors:\n",
      "        cartesian_to_spherical(vector)"
     ],
     "language": "python",
     "metadata": {},
     "outputs": [],
     "prompt_number": 11
    },
    {
     "cell_type": "code",
     "collapsed": false,
     "input": [
      "%timeit -n 1 cartesian_to_spherical_2d(DATA1)"
     ],
     "language": "python",
     "metadata": {},
     "outputs": [
      {
       "output_type": "stream",
       "stream": "stdout",
       "text": [
        "1 loops, best of 3: 6.61 s per loop\n"
       ]
      }
     ],
     "prompt_number": 12
    },
    {
     "cell_type": "code",
     "collapsed": false,
     "input": [
      "def cartesian_to_spherical2(vector):\n",
      "    vector = as_array(vector, (-1, 3))\n",
      "\n",
      "    r = np.linalg.norm(vector, axis=1)\n",
      "    x, y, z = vector[:, 0], vector[:, 1], vector[:, 2]\n",
      "\n",
      "    theta = np.arctan2(z, np.linalg.norm(\n",
      "        np.dstack((x, y)).reshape((-1, 2)), axis=1))\n",
      "    phi = np.arctan2(y, x)\n",
      "\n",
      "    return np.squeeze(np.dstack((r, theta, phi)))\n",
      "\n",
      "\n",
      "print('Reference:')\n",
      "print(np.array([6.78232998, 1.08574654, 0.32175055]))\n",
      "\n",
      "print('\\n')\n",
      "\n",
      "print('1d array:')\n",
      "vector = np.array([3, 1, 6])\n",
      "print(cartesian_to_spherical2(vector))\n",
      "\n",
      "print('\\n')\n",
      "\n",
      "print('2d array:')\n",
      "vector = np.tile(vector, (5, 1))\n",
      "print(cartesian_to_spherical2(vector))"
     ],
     "language": "python",
     "metadata": {},
     "outputs": [
      {
       "output_type": "stream",
       "stream": "stdout",
       "text": [
        "Reference:\n",
        "[ 6.78232998  1.08574654  0.32175055]\n",
        "\n",
        "\n",
        "1d array:\n",
        "[ 6.78232998  1.08574654  0.32175055]\n",
        "\n",
        "\n",
        "2d array:\n",
        "[[ 6.78232998  1.08574654  0.32175055]\n",
        " [ 6.78232998  1.08574654  0.32175055]\n",
        " [ 6.78232998  1.08574654  0.32175055]\n",
        " [ 6.78232998  1.08574654  0.32175055]\n",
        " [ 6.78232998  1.08574654  0.32175055]]\n"
       ]
      }
     ],
     "prompt_number": 13
    },
    {
     "cell_type": "code",
     "collapsed": false,
     "input": [
      "%timeit -n 1 cartesian_to_spherical2(DATA1)"
     ],
     "language": "python",
     "metadata": {},
     "outputs": [
      {
       "output_type": "stream",
       "stream": "stdout",
       "text": [
        "1 loops, best of 3: 104 ms per loop\n"
       ]
      }
     ],
     "prompt_number": 14
    },
    {
     "cell_type": "heading",
     "level": 3,
     "metadata": {},
     "source": [
      "colour.spherical_to_cartesian"
     ]
    },
    {
     "cell_type": "code",
     "collapsed": false,
     "input": [
      "def spherical_to_cartesian_2d(vectors):\n",
      "    for vector in vectors:\n",
      "        spherical_to_cartesian(vector)"
     ],
     "language": "python",
     "metadata": {},
     "outputs": [],
     "prompt_number": 15
    },
    {
     "cell_type": "code",
     "collapsed": false,
     "input": [
      "%timeit -n 1 spherical_to_cartesian_2d(DATA1)"
     ],
     "language": "python",
     "metadata": {},
     "outputs": [
      {
       "output_type": "stream",
       "stream": "stdout",
       "text": [
        "1 loops, best of 3: 4.06 s per loop\n"
       ]
      }
     ],
     "prompt_number": 16
    },
    {
     "cell_type": "code",
     "collapsed": false,
     "input": [
      "def spherical_to_cartesian2(vector):\n",
      "    vector = as_array(vector, (-1, 3))\n",
      "\n",
      "    r, theta, phi = vector[:, 0], vector[:, 1], vector[:, 2]\n",
      "\n",
      "    x = r * np.cos(theta) * np.cos(phi)\n",
      "    y = r * np.cos(theta) * np.sin(phi)\n",
      "    z = r * np.sin(theta)\n",
      "\n",
      "    return np.squeeze(np.dstack((x, y, z)))\n",
      "\n",
      "\n",
      "print('Reference:')\n",
      "print(np.array([3., 0.99999999, 6.]))\n",
      "\n",
      "print('\\n')\n",
      "\n",
      "print('1d array:')\n",
      "vector = np.array([6.78232998, 1.08574654, 0.32175055])\n",
      "print(spherical_to_cartesian2(vector))\n",
      "\n",
      "print('\\n')\n",
      "\n",
      "print('2d array:')\n",
      "vector = np.tile(vector, (5, 1))\n",
      "print(spherical_to_cartesian2(vector))"
     ],
     "language": "python",
     "metadata": {},
     "outputs": [
      {
       "output_type": "stream",
       "stream": "stdout",
       "text": [
        "Reference:\n",
        "[ 3.          0.99999999  6.        ]\n",
        "\n",
        "\n",
        "1d array:\n",
        "[ 3.          0.99999999  6.        ]\n",
        "\n",
        "\n",
        "2d array:\n",
        "[[ 3.          0.99999999  6.        ]\n",
        " [ 3.          0.99999999  6.        ]\n",
        " [ 3.          0.99999999  6.        ]\n",
        " [ 3.          0.99999999  6.        ]\n",
        " [ 3.          0.99999999  6.        ]]\n"
       ]
      }
     ],
     "prompt_number": 17
    },
    {
     "cell_type": "code",
     "collapsed": false,
     "input": [
      "%timeit -n 1 spherical_to_cartesian2(DATA1)"
     ],
     "language": "python",
     "metadata": {},
     "outputs": [
      {
       "output_type": "stream",
       "stream": "stdout",
       "text": [
        "1 loops, best of 3: 36.5 ms per loop\n"
       ]
      }
     ],
     "prompt_number": 18
    },
    {
     "cell_type": "heading",
     "level": 3,
     "metadata": {},
     "source": [
      "colour.cartesian_to_cylindrical"
     ]
    },
    {
     "cell_type": "code",
     "collapsed": false,
     "input": [
      "def cartesian_to_cylindrical_2d(vectors):\n",
      "    for vector in vectors:\n",
      "        cartesian_to_cylindrical(vector)"
     ],
     "language": "python",
     "metadata": {},
     "outputs": [],
     "prompt_number": 19
    },
    {
     "cell_type": "code",
     "collapsed": false,
     "input": [
      "%timeit -n 1 cartesian_to_cylindrical_2d(DATA1)"
     ],
     "language": "python",
     "metadata": {},
     "outputs": [
      {
       "output_type": "stream",
       "stream": "stdout",
       "text": [
        "1 loops, best of 3: 4.22 s per loop\n"
       ]
      }
     ],
     "prompt_number": 20
    },
    {
     "cell_type": "code",
     "collapsed": false,
     "input": [
      "def cartesian_to_cylindrical2(vector):\n",
      "    vector = as_array(vector, (-1, 3))\n",
      "\n",
      "    x, y, z = vector[:, 0], vector[:, 1], vector[:, 2]\n",
      "\n",
      "    theta = np.arctan2(y, x)\n",
      "    rho = np.linalg.norm(\n",
      "        np.dstack((x, y)).reshape((-1, 2)), axis=1)\n",
      "\n",
      "    return np.squeeze(np.dstack((z, theta, rho)))\n",
      "\n",
      "\n",
      "print('Reference:')\n",
      "print(np.array([6., 0.32175055, 3.16227766]))\n",
      "\n",
      "print('\\n')\n",
      "\n",
      "print('1d array:')\n",
      "vector = np.array([3, 1, 6])\n",
      "print(cartesian_to_cylindrical2(vector))\n",
      "\n",
      "print('\\n')\n",
      "\n",
      "print('2d array:')\n",
      "vector = np.tile(vector, (5, 1))\n",
      "print(cartesian_to_cylindrical2(vector))"
     ],
     "language": "python",
     "metadata": {},
     "outputs": [
      {
       "output_type": "stream",
       "stream": "stdout",
       "text": [
        "Reference:\n",
        "[ 6.          0.32175055  3.16227766]\n",
        "\n",
        "\n",
        "1d array:\n",
        "[ 6.          0.32175055  3.16227766]\n",
        "\n",
        "\n",
        "2d array:\n",
        "[[ 6.          0.32175055  3.16227766]\n",
        " [ 6.          0.32175055  3.16227766]\n",
        " [ 6.          0.32175055  3.16227766]\n",
        " [ 6.          0.32175055  3.16227766]\n",
        " [ 6.          0.32175055  3.16227766]]\n"
       ]
      }
     ],
     "prompt_number": 21
    },
    {
     "cell_type": "code",
     "collapsed": false,
     "input": [
      "%timeit -n 1 cartesian_to_cylindrical2(DATA1)"
     ],
     "language": "python",
     "metadata": {},
     "outputs": [
      {
       "output_type": "stream",
       "stream": "stdout",
       "text": [
        "1 loops, best of 3: 30.1 ms per loop\n"
       ]
      }
     ],
     "prompt_number": 22
    },
    {
     "cell_type": "heading",
     "level": 3,
     "metadata": {},
     "source": [
      "colour.cylindrical_to_cartesian"
     ]
    },
    {
     "cell_type": "code",
     "collapsed": false,
     "input": [
      "def cylindrical_to_cartesian_2d(vectors):\n",
      "    for vector in vectors:\n",
      "        cylindrical_to_cartesian(vector)"
     ],
     "language": "python",
     "metadata": {},
     "outputs": [],
     "prompt_number": 23
    },
    {
     "cell_type": "code",
     "collapsed": false,
     "input": [
      "%timeit -n 1 cylindrical_to_cartesian_2d(DATA1)"
     ],
     "language": "python",
     "metadata": {},
     "outputs": [
      {
       "output_type": "stream",
       "stream": "stdout",
       "text": [
        "1 loops, best of 3: 2.21 s per loop\n"
       ]
      }
     ],
     "prompt_number": 24
    },
    {
     "cell_type": "code",
     "collapsed": false,
     "input": [
      "def cylindrical_to_cartesian2(vector):\n",
      "    vector = as_array(vector, (-1, 3))\n",
      "\n",
      "    z, theta, rho = vector[:, 0], vector[:, 1], vector[:, 2]\n",
      "\n",
      "    x = rho * np.cos(theta)\n",
      "    y = rho * np.sin(theta)\n",
      "\n",
      "    return np.squeeze(np.dstack((x, y, z)))\n",
      "\n",
      "\n",
      "print('Reference:')\n",
      "print(np.array([3., 0.99999999, 6.]))\n",
      "\n",
      "print('\\n')\n",
      "\n",
      "print('1d array:')\n",
      "vector = np.array([6, 0.32175055, 3.16227766])\n",
      "print(cylindrical_to_cartesian2(vector))\n",
      "\n",
      "print('\\n')\n",
      "\n",
      "print('2d array:')\n",
      "vector = np.tile(vector, (5, 1))\n",
      "print(cylindrical_to_cartesian2(vector))"
     ],
     "language": "python",
     "metadata": {},
     "outputs": [
      {
       "output_type": "stream",
       "stream": "stdout",
       "text": [
        "Reference:\n",
        "[ 3.          0.99999999  6.        ]\n",
        "\n",
        "\n",
        "1d array:\n",
        "[ 3.          0.99999999  6.        ]\n",
        "\n",
        "\n",
        "2d array:\n",
        "[[ 3.          0.99999999  6.        ]\n",
        " [ 3.          0.99999999  6.        ]\n",
        " [ 3.          0.99999999  6.        ]\n",
        " [ 3.          0.99999999  6.        ]\n",
        " [ 3.          0.99999999  6.        ]]\n"
       ]
      }
     ],
     "prompt_number": 25
    },
    {
     "cell_type": "code",
     "collapsed": false,
     "input": [
      "%timeit -n 1 cylindrical_to_cartesian2(DATA1)"
     ],
     "language": "python",
     "metadata": {},
     "outputs": [
      {
       "output_type": "stream",
       "stream": "stdout",
       "text": [
        "1 loops, best of 3: 16 ms per loop\n"
       ]
      }
     ],
     "prompt_number": 26
    },
    {
     "cell_type": "heading",
     "level": 2,
     "metadata": {},
     "source": [
      "colour.colorimetry.blackbody"
     ]
    },
    {
     "cell_type": "heading",
     "level": 3,
     "metadata": {},
     "source": [
      "colour.planck_law"
     ]
    },
    {
     "cell_type": "code",
     "collapsed": false,
     "input": [
      "from colour.colorimetry.blackbody import *\n",
      "\n",
      "WAVELENGTHS = np.linspace(1, 15000, 100000) * 1e-9\n",
      "\n",
      "def planck_law_2d(wavelengths):\n",
      "    for wavelength in wavelengths:\n",
      "        planck_law(wavelength, 5500)"
     ],
     "language": "python",
     "metadata": {},
     "outputs": [],
     "prompt_number": 27
    },
    {
     "cell_type": "code",
     "collapsed": false,
     "input": [
      "%timeit -n 1 planck_law_2d(WAVELENGTHS)"
     ],
     "language": "python",
     "metadata": {},
     "outputs": [
      {
       "output_type": "stream",
       "stream": "stdout",
       "text": [
        "1 loops, best of 3: 2.02 s per loop\n"
       ]
      }
     ],
     "prompt_number": 28
    },
    {
     "cell_type": "code",
     "collapsed": false,
     "input": [
      "def planck_law2(wavelength, temperature, c1=C1, c2=C2, n=N):\n",
      "    t = temperature\n",
      "    l = as_array(wavelength)\n",
      "\n",
      "    error_settings = np.seterr()\n",
      "    np.seterr(over='ignore')\n",
      "\n",
      "    p = (((c1 * n ** -2 * l ** -5) / np.pi) *\n",
      "            (np.exp(c2 / (n * l * t)) - 1) ** -1)\n",
      "\n",
      "    np.seterr(**error_settings)\n",
      "\n",
      "    return as_numeric(p)\n",
      "\n",
      "print('Reference:')\n",
      "print(2.04727019098e+13)\n",
      "\n",
      "print('\\n')\n",
      "\n",
      "print('1d array:')\n",
      "print(planck_law2(500 * 1e-9, 5500))\n",
      "\n",
      "print('\\n')\n",
      "\n",
      "print('2d array:')\n",
      "print(planck_law2([500 * 1e-9] * 5, 5500))"
     ],
     "language": "python",
     "metadata": {},
     "outputs": [
      {
       "output_type": "stream",
       "stream": "stdout",
       "text": [
        "Reference:\n",
        "2.04727019098e+13\n",
        "\n",
        "\n",
        "1d array:\n",
        "2.04727019098e+13\n",
        "\n",
        "\n",
        "2d array:\n",
        "[  2.04727019e+13   2.04727019e+13   2.04727019e+13   2.04727019e+13\n",
        "   2.04727019e+13]\n"
       ]
      }
     ],
     "prompt_number": 29
    },
    {
     "cell_type": "code",
     "collapsed": false,
     "input": [
      "%timeit -n 1 planck_law2(WAVELENGTHS, 5500)"
     ],
     "language": "python",
     "metadata": {},
     "outputs": [
      {
       "output_type": "stream",
       "stream": "stdout",
       "text": [
        "1 loops, best of 3: 19.6 ms per loop\n"
       ]
      }
     ],
     "prompt_number": 30
    },
    {
     "cell_type": "heading",
     "level": 2,
     "metadata": {},
     "source": [
      "colour.colorimetry.lightness\u00b6"
     ]
    },
    {
     "cell_type": "heading",
     "level": 3,
     "metadata": {},
     "source": [
      "colour.lightness_glasser1958"
     ]
    },
    {
     "cell_type": "code",
     "collapsed": false,
     "input": [
      "def lightness_glasser1958(Y, **kwargs):\n",
      "    Y = as_array(Y)\n",
      "\n",
      "    L = 25.29 * (Y ** (1 / 3)) - 18.38\n",
      "\n",
      "    return as_numeric(L)\n",
      "\n",
      "print('Reference:')\n",
      "print(36.250562645752595)\n",
      "\n",
      "print('\\n')\n",
      "\n",
      "print('1d array:')\n",
      "print(lightness_glasser1958(10.08))\n",
      "\n",
      "print('\\n')\n",
      "\n",
      "print('2d array:')\n",
      "print(lightness_glasser1958([10.08, 10.08, 10.08, 10.08, 10.08]))"
     ],
     "language": "python",
     "metadata": {},
     "outputs": [
      {
       "output_type": "stream",
       "stream": "stdout",
       "text": [
        "Reference:\n",
        "36.2505626458\n",
        "\n",
        "\n",
        "1d array:\n",
        "36.2505626458\n",
        "\n",
        "\n",
        "2d array:\n",
        "[ 36.25056265  36.25056265  36.25056265  36.25056265  36.25056265]\n"
       ]
      }
     ],
     "prompt_number": 31
    },
    {
     "cell_type": "heading",
     "level": 3,
     "metadata": {},
     "source": [
      "colour.lightness_wyszecki1963"
     ]
    },
    {
     "cell_type": "code",
     "collapsed": false,
     "input": [
      "def lightness_wyszecki1963(Y, **kwargs):\n",
      "    Y = as_array(Y)\n",
      "\n",
      "    if (Y < 1).any() or (Y > 98).any():\n",
      "        warning(('\"W*\" Lightness computation is only applicable for '\n",
      "                 '1% < \"Y\" < 98%, unpredictable results may occur!'))\n",
      "\n",
      "    W = 25 * (Y ** (1 / 3)) - 17\n",
      "\n",
      "    return as_numeric(W)\n",
      "\n",
      "print('Reference:')\n",
      "print(37.004114912764535)\n",
      "\n",
      "print('\\n')\n",
      "\n",
      "print('1d array:')\n",
      "print(lightness_wyszecki1963(10.08))\n",
      "\n",
      "print('\\n')\n",
      "\n",
      "print('2d array:')\n",
      "print(lightness_wyszecki1963([10.08, 10.08, 10.08, 10.08, 10.08]))"
     ],
     "language": "python",
     "metadata": {},
     "outputs": [
      {
       "output_type": "stream",
       "stream": "stdout",
       "text": [
        "Reference:\n",
        "37.0041149128\n",
        "\n",
        "\n",
        "1d array:\n",
        "37.0041149128\n",
        "\n",
        "\n",
        "2d array:\n",
        "[ 37.00411491  37.00411491  37.00411491  37.00411491  37.00411491]\n"
       ]
      }
     ],
     "prompt_number": 32
    },
    {
     "cell_type": "heading",
     "level": 3,
     "metadata": {},
     "source": [
      "colour.lightness_1976"
     ]
    },
    {
     "cell_type": "code",
     "collapsed": false,
     "input": [
      "from colour.constants import CIE_E, CIE_K\n",
      "\n",
      "\n",
      "def lightness_1976(Y, Y_n=100):\n",
      "    Y = as_array(Y)\n",
      "    Y_n = np.resize(as_array(Y_n), Y.shape)\n",
      "    \n",
      "    Lstar = Y / Y_n\n",
      "    \n",
      "    mask = Lstar <= CIE_E\n",
      "\n",
      "    Lstar[mask] = CIE_K * Lstar[mask]\n",
      "    Lstar[~mask] = 116 * Lstar[~mask] ** (1 / 3) - 16\n",
      "\n",
      "    return as_numeric(Lstar)\n",
      "\n",
      "\n",
      "print('Reference:')\n",
      "print(37.98562909765304)\n",
      "\n",
      "print('\\n')\n",
      "\n",
      "print('1d array:')\n",
      "print(lightness_1976(10.08, 100))\n",
      "\n",
      "print('\\n')\n",
      "\n",
      "print('2d array:')\n",
      "print(lightness_1976([10.08, 10.08, 10.08, 10.08, 10.08]))"
     ],
     "language": "python",
     "metadata": {},
     "outputs": [
      {
       "output_type": "stream",
       "stream": "stdout",
       "text": [
        "Reference:\n",
        "37.9856290977\n",
        "\n",
        "\n",
        "1d array:\n",
        "37.9856290977\n",
        "\n",
        "\n",
        "2d array:\n",
        "[ 37.9856291  37.9856291  37.9856291  37.9856291  37.9856291]\n"
       ]
      }
     ],
     "prompt_number": 33
    },
    {
     "cell_type": "heading",
     "level": 2,
     "metadata": {},
     "source": [
      "colour.colorimetry.luminance"
     ]
    },
    {
     "cell_type": "heading",
     "level": 3,
     "metadata": {},
     "source": [
      "colour.luminance_newhall1943"
     ]
    },
    {
     "cell_type": "code",
     "collapsed": false,
     "input": [
      "def luminance_newhall1943(V, **kwargs):\n",
      "    V = as_array(V)\n",
      "\n",
      "    R_Y = (1.2219 * V - 0.23111 * (V * V) + 0.23951 * (V ** 3) - 0.021009 *\n",
      "           (V ** 4) + 0.0008404 * (V ** 5))\n",
      "\n",
      "    return as_numeric(R_Y)\n",
      "\n",
      "print('Reference:')\n",
      "print(10.408987457743208)\n",
      "\n",
      "print('\\n')\n",
      "\n",
      "print('1d array:')\n",
      "print(luminance_newhall1943(3.74629715382))\n",
      "\n",
      "print('\\n')\n",
      "\n",
      "print('2d array:')\n",
      "print(luminance_newhall1943([3.74629715382, 3.74629715382, 3.74629715382, 3.74629715382, 3.74629715382]))"
     ],
     "language": "python",
     "metadata": {},
     "outputs": [
      {
       "output_type": "stream",
       "stream": "stdout",
       "text": [
        "Reference:\n",
        "10.4089874577\n",
        "\n",
        "\n",
        "1d array:\n",
        "10.4089874577\n",
        "\n",
        "\n",
        "2d array:\n",
        "[ 10.40898746  10.40898746  10.40898746  10.40898746  10.40898746]\n"
       ]
      }
     ],
     "prompt_number": 34
    },
    {
     "cell_type": "heading",
     "level": 3,
     "metadata": {},
     "source": [
      "colour.luminance_ASTM_D1535_08"
     ]
    },
    {
     "cell_type": "code",
     "collapsed": false,
     "input": [
      "def luminance_ASTM_D1535_08(V, **kwargs):\n",
      "    V = as_array(V)\n",
      "\n",
      "    Y = (1.1914 * V - 0.22533 * (V ** 2) + 0.23352 * (V ** 3) - 0.020484 *\n",
      "         (V ** 4) + 0.00081939 * (V ** 5))\n",
      "\n",
      "    return as_numeric(Y)\n",
      "\n",
      "print('Reference:')\n",
      "print(10.148809678226682)\n",
      "\n",
      "print('\\n')\n",
      "\n",
      "print('1d array:')\n",
      "print(luminance_ASTM_D1535_08(3.74629715382))\n",
      "\n",
      "print('\\n')\n",
      "\n",
      "print('2d array:')\n",
      "print(luminance_ASTM_D1535_08([3.74629715382, 3.74629715382, 3.74629715382, 3.74629715382, 3.74629715382]))"
     ],
     "language": "python",
     "metadata": {},
     "outputs": [
      {
       "output_type": "stream",
       "stream": "stdout",
       "text": [
        "Reference:\n",
        "10.1488096782\n",
        "\n",
        "\n",
        "1d array:\n",
        "10.1488096782\n",
        "\n",
        "\n",
        "2d array:\n",
        "[ 10.14880968  10.14880968  10.14880968  10.14880968  10.14880968]\n"
       ]
      }
     ],
     "prompt_number": 35
    },
    {
     "cell_type": "heading",
     "level": 3,
     "metadata": {},
     "source": [
      "colour.luminance_1976"
     ]
    },
    {
     "cell_type": "code",
     "collapsed": false,
     "input": [
      "def luminance_1976(Lstar, Y_n=100):\n",
      "    Lstar = as_array(Lstar)\n",
      "    Y_n = np.resize(as_array(Y_n), Lstar.shape)\n",
      "\n",
      "    mask = Lstar > CIE_K * CIE_E\n",
      "    \n",
      "    Y = np.empty(Lstar.shape)\n",
      "    \n",
      "    Y[mask] = Y_n[mask] * ((Lstar[mask] + 16) / 116) ** 3\n",
      "    Y[~mask] = Y_n[~mask] * (Lstar[~mask] / CIE_K)\n",
      "\n",
      "    return as_numeric(Y)\n",
      "\n",
      "\n",
      "print('Reference:')\n",
      "print(10.080000000000000)\n",
      "\n",
      "print('\\n')\n",
      "\n",
      "print('1d array:')\n",
      "print(luminance_1976(37.9856290977))\n",
      "\n",
      "print('\\n')\n",
      "\n",
      "print('2d array:')\n",
      "print(luminance_1976([37.9856290977, 37.9856290977, 37.9856290977, 37.9856290977, 37.9856290977]))"
     ],
     "language": "python",
     "metadata": {},
     "outputs": [
      {
       "output_type": "stream",
       "stream": "stdout",
       "text": [
        "Reference:\n",
        "10.08\n",
        "\n",
        "\n",
        "1d array:\n",
        "10.08\n",
        "\n",
        "\n",
        "2d array:\n",
        "[ 10.08  10.08  10.08  10.08  10.08]\n"
       ]
      }
     ],
     "prompt_number": 36
    },
    {
     "cell_type": "heading",
     "level": 2,
     "metadata": {},
     "source": [
      "colour.colorimetry.spectrum"
     ]
    },
    {
     "cell_type": "heading",
     "level": 3,
     "metadata": {},
     "source": [
      "colour.SpectralShape"
     ]
    },
    {
     "cell_type": "code",
     "collapsed": false,
     "input": [
      "from pprint import pprint\n",
      "\n",
      "from colour.colorimetry.spectrum import *\n",
      "\n",
      "\n",
      "def SpectralShape__contains__(self, wavelength):\n",
      "    wavelengths = self.range()\n",
      "    return all(wavelength in wavelengths \n",
      "               for wavelength in as_array(wavelength))\n",
      "\n",
      "SpectralShape.__contains__ = SpectralShape__contains__\n",
      "\n",
      "print(380 in SpectralShape(360, 830, 1))\n",
      "\n",
      "print((380, 480) in SpectralShape(360, 830, 1))\n",
      "\n",
      "print((380, 480.5) in SpectralShape(360, 830, 1))"
     ],
     "language": "python",
     "metadata": {},
     "outputs": [
      {
       "output_type": "stream",
       "stream": "stdout",
       "text": [
        "True\n",
        "True\n",
        "False\n"
       ]
      }
     ],
     "prompt_number": 37
    },
    {
     "cell_type": "heading",
     "level": 3,
     "metadata": {},
     "source": [
      "colour.SpectralPowerDistribution"
     ]
    },
    {
     "cell_type": "code",
     "collapsed": false,
     "input": [
      "def SpectralPowerDistribution__getitem__(self, wavelength):\n",
      "    if is_numeric(wavelength):\n",
      "        # self.data ===> self.__data\n",
      "        return self.data.__getitem__(wavelength)\n",
      "    elif is_iterable(wavelength):\n",
      "        # self.data ===> self.__data\n",
      "        return np.array([self.data.__getitem__(x) for x in wavelength])\n",
      "    elif type(wavelength) is slice:\n",
      "        return self.values[wavelength]\n",
      "    else:\n",
      "        raise NotImplementedError(\n",
      "            '\"{0}\" type is not supported for indexing!'.format(\n",
      "                type(wavelength)))\n",
      "\n",
      "\n",
      "SpectralPowerDistribution.__getitem__ = SpectralPowerDistribution__getitem__\n",
      "\n",
      "data = {510: 49.67, 520: 69.59, 530: 81.73, 540: 88.19}\n",
      "spd = SpectralPowerDistribution('Spd', data)\n",
      "\n",
      "print(spd[510])\n",
      "\n",
      "print('\\n')\n",
      "\n",
      "print(spd[(510, 520)])\n",
      "\n",
      "print('\\n')\n",
      "\n",
      "print(spd[0:-1])"
     ],
     "language": "python",
     "metadata": {},
     "outputs": [
      {
       "output_type": "stream",
       "stream": "stdout",
       "text": [
        "49.67\n",
        "\n",
        "\n",
        "[ 49.67  69.59]\n",
        "\n",
        "\n",
        "[ 49.67  69.59  81.73]\n"
       ]
      }
     ],
     "prompt_number": 38
    },
    {
     "cell_type": "code",
     "collapsed": false,
     "input": [
      "def SpectralPowerDistribution__setitem__(self, wavelength, value):\n",
      "    if is_numeric(wavelength) or is_iterable(wavelength):\n",
      "        wavelengths = as_array(wavelength)\n",
      "    elif type(wavelength) is slice:\n",
      "        wavelengths = self.wavelengths[wavelength]\n",
      "    else:\n",
      "        raise NotImplementedError(\n",
      "            '\"{0}\" type is not supported for indexing!'.format(\n",
      "                type(wavelength)))\n",
      "\n",
      "    values = np.resize(as_array(value), wavelengths.shape)\n",
      "    for i in range(len(wavelengths)):\n",
      "        # self.data ===> self.__data\n",
      "        self.data.__setitem__(wavelengths[i], values[i])\n",
      "\n",
      "SpectralPowerDistribution.__setitem__ = SpectralPowerDistribution__setitem__\n",
      "\n",
      "spd = SpectralPowerDistribution('Spd', {})\n",
      "\n",
      "spd[510] = 49.67\n",
      "pprint(list(spd.items))\n",
      "\n",
      "print('\\n')\n",
      "\n",
      "spd[(520, 530)] = (69.59, 81.73)\n",
      "pprint(list(spd.items))\n",
      "\n",
      "print('\\n')\n",
      "\n",
      "spd[(540, 550)] = 88.19\n",
      "pprint(list(spd.items))\n",
      "\n",
      "print('\\n')\n",
      "\n",
      "spd[:] = 49.67\n",
      "pprint(list(spd.items))\n",
      "\n",
      "print('\\n')\n",
      "\n",
      "spd[0:3] = 69.59\n",
      "pprint(list(spd.items))"
     ],
     "language": "python",
     "metadata": {},
     "outputs": [
      {
       "output_type": "stream",
       "stream": "stdout",
       "text": [
        "[(510.0, 49.670000000000002)]\n",
        "\n",
        "\n",
        "[(510.0, 49.670000000000002),\n",
        " (520.0, 69.590000000000003),\n",
        " (530.0, 81.730000000000004)]\n",
        "\n",
        "\n",
        "[(510.0, 49.670000000000002),\n",
        " (520.0, 69.590000000000003),\n",
        " (530.0, 81.730000000000004),\n",
        " (540.0, 88.189999999999998),\n",
        " (550.0, 88.189999999999998)]\n",
        "\n",
        "\n",
        "[(510.0, 49.670000000000002),\n",
        " (520.0, 49.670000000000002),\n",
        " (530.0, 49.670000000000002),\n",
        " (540.0, 49.670000000000002),\n",
        " (550.0, 49.670000000000002)]\n",
        "\n",
        "\n",
        "[(510.0, 69.590000000000003),\n",
        " (520.0, 69.590000000000003),\n",
        " (530.0, 69.590000000000003),\n",
        " (540.0, 49.670000000000002),\n",
        " (550.0, 49.670000000000002)]\n"
       ]
      }
     ],
     "prompt_number": 39
    },
    {
     "cell_type": "code",
     "collapsed": false,
     "input": [
      "def SpectralPowerDistribution_get(self, wavelength, default=None):\n",
      "    wavelength = as_array(wavelength)\n",
      "\n",
      "    return as_numeric(np.array([self.data.get(x, default)\n",
      "                                for x in wavelength]))\n",
      "\n",
      "\n",
      "SpectralPowerDistribution.get = SpectralPowerDistribution_get\n",
      "\n",
      "data = {510: 49.67, 520: 69.59, 530: 81.73, 540: 88.19}\n",
      "spd = SpectralPowerDistribution('Spd', data)\n",
      "\n",
      "print(spd.get(510))\n",
      "\n",
      "print('\\n')\n",
      "\n",
      "print(spd.get((510, 520)))\n",
      "\n",
      "print('\\n')\n",
      "\n",
      "print(spd.get((510, 520, 521)))"
     ],
     "language": "python",
     "metadata": {},
     "outputs": [
      {
       "output_type": "stream",
       "stream": "stdout",
       "text": [
        "49.67\n",
        "\n",
        "\n",
        "[ 49.67  69.59]\n",
        "\n",
        "\n",
        "[49.67 69.59 None]\n"
       ]
      }
     ],
     "prompt_number": 40
    },
    {
     "cell_type": "code",
     "collapsed": false,
     "input": [
      "def SpectralPowerDistribution__contains__(self, wavelength):\n",
      "    wavelengths = self.wavelengths\n",
      "    return all(wavelength in wavelengths \n",
      "               for wavelength in as_array(wavelength))\n",
      "\n",
      "SpectralPowerDistribution.__contains__ = SpectralPowerDistribution__contains__\n",
      "\n",
      "\n",
      "data = {510: 49.67, 520: 69.59, 530: 81.73, 540: 88.19}\n",
      "spd = SpectralPowerDistribution('Spd', data)\n",
      "\n",
      "print(510 in spd)\n",
      "\n",
      "print('\\n')\n",
      "\n",
      "print((510, 520) in spd)\n",
      "\n",
      "print('\\n')\n",
      "\n",
      "print((510, 520, 521) in spd)"
     ],
     "language": "python",
     "metadata": {},
     "outputs": [
      {
       "output_type": "stream",
       "stream": "stdout",
       "text": [
        "True\n",
        "\n",
        "\n",
        "True\n",
        "\n",
        "\n",
        "False\n"
       ]
      }
     ],
     "prompt_number": 41
    },
    {
     "cell_type": "heading",
     "level": 3,
     "metadata": {},
     "source": [
      "colour.TriSpectralPowerDistribution"
     ]
    },
    {
     "cell_type": "code",
     "collapsed": false,
     "input": [
      "def TriSpectralPowerDistribution__getitem__(self, wavelength):\n",
      "    return np.swapaxes(np.array((self.x[wavelength],\n",
      "                                 self.y[wavelength],\n",
      "                                 self.z[wavelength])), 0, 1)\n",
      "\n",
      "\n",
      "TriSpectralPowerDistribution.__getitem__ = TriSpectralPowerDistribution__getitem__\n",
      "\n",
      "x_bar = {510: 49.67, 520: 69.59, 530: 81.73, 540: 88.19}\n",
      "y_bar = {510: 90.56, 520: 87.34, 530: 45.76, 540: 23.45}\n",
      "z_bar = {510: 12.43, 520: 23.15, 530: 67.98, 540: 90.28}\n",
      "data = {'x_bar': x_bar, 'y_bar': y_bar, 'z_bar': z_bar}\n",
      "mpg = lbl = {'x': 'x_bar', 'y': 'y_bar', 'z': 'z_bar'}\n",
      "tri_spd = TriSpectralPowerDistribution('Tri Spd', data, mpg, lbl)\n",
      "\n",
      "print(tri_spd[510])\n",
      "\n",
      "print('\\n')\n",
      "\n",
      "print(tri_spd[(510, 520)])\n",
      "\n",
      "print('\\n')\n",
      "\n",
      "print(tri_spd[0:-1])"
     ],
     "language": "python",
     "metadata": {},
     "outputs": [
      {
       "output_type": "stream",
       "stream": "stdout",
       "text": [
        "[ 49.67  90.56  12.43]\n",
        "\n",
        "\n",
        "[[ 49.67  90.56  12.43]\n",
        " [ 69.59  87.34  23.15]]\n",
        "\n",
        "\n",
        "[[ 49.67  90.56  12.43]\n",
        " [ 69.59  87.34  23.15]\n",
        " [ 81.73  45.76  67.98]]\n"
       ]
      }
     ],
     "prompt_number": 42
    },
    {
     "cell_type": "code",
     "collapsed": false,
     "input": [
      "def TriSpectralPowerDistribution__setitem__(self, wavelength, value):\n",
      "    if is_numeric(wavelength) or is_iterable(wavelength):\n",
      "        wavelengths = as_array(wavelength)\n",
      "    elif type(wavelength) is slice:\n",
      "        wavelengths = self.wavelengths[wavelength]\n",
      "    else:\n",
      "        raise NotImplementedError(\n",
      "            '\"{0}\" type is not supported for indexing!'.format(\n",
      "                type(wavelength)))\n",
      "\n",
      "    value = np.resize(as_array(value), (wavelengths.shape[0], 3))\n",
      "    x, y, z = value[:, 0], value[:, 1], value[:, 2]\n",
      "\n",
      "    self.x.__setitem__(wavelengths, x)\n",
      "    self.y.__setitem__(wavelengths, y)\n",
      "    self.z.__setitem__(wavelengths, z)\n",
      "\n",
      "\n",
      "TriSpectralPowerDistribution.__setitem__ = TriSpectralPowerDistribution__setitem__\n",
      "\n",
      "data = {'x_bar': {}, 'y_bar': {}, 'z_bar': {}}\n",
      "mpg = lbl = {'x': 'x_bar', 'y': 'y_bar', 'z': 'z_bar'}\n",
      "tri_spd = TriSpectralPowerDistribution('Tri Spd', data, mpg, lbl)\n",
      "\n",
      "tri_spd[510] = 49.67\n",
      "pprint(list(tri_spd.items))\n",
      "\n",
      "print('\\n')\n",
      "\n",
      "tri_spd[(520, 530)] = (69.59, 81.73)\n",
      "pprint(list(tri_spd.items))\n",
      "\n",
      "print('\\n')\n",
      "\n",
      "tri_spd[(540, 550)] = ((49.67, 69.59, 81.73), (81.73, 69.59, 49.67))\n",
      "pprint(list(tri_spd.items))\n",
      "\n",
      "print('\\n')\n",
      "\n",
      "tri_spd[:] = 49.67\n",
      "pprint(list(tri_spd.items))\n",
      "\n",
      "print('\\n')\n",
      "\n",
      "tri_spd[0:3] = ((81.73, 69.59, 49.67), (49.67, 69.59, 81.73))\n",
      "pprint(list(tri_spd.items))"
     ],
     "language": "python",
     "metadata": {},
     "outputs": [
      {
       "output_type": "stream",
       "stream": "stdout",
       "text": [
        "[(510.0, array([ 49.67,  49.67,  49.67]))]\n",
        "\n",
        "\n",
        "[(510.0, array([ 49.67,  49.67,  49.67])),\n",
        " (520.0, array([ 69.59,  81.73,  69.59])),\n",
        " (530.0, array([ 81.73,  69.59,  81.73]))]\n",
        "\n",
        "\n",
        "[(510.0, array([ 49.67,  49.67,  49.67])),\n",
        " (520.0, array([ 69.59,  81.73,  69.59])),\n",
        " (530.0, array([ 81.73,  69.59,  81.73])),\n",
        " (540.0, array([ 49.67,  69.59,  81.73])),\n",
        " (550.0, array([ 81.73,  69.59,  49.67]))]\n",
        "\n",
        "\n",
        "[(510.0, array([ 49.67,  49.67,  49.67])),\n",
        " (520.0, array([ 49.67,  49.67,  49.67])),\n",
        " (530.0, array([ 49.67,  49.67,  49.67])),\n",
        " (540.0, array([ 49.67,  49.67,  49.67])),\n",
        " (550.0, array([ 49.67,  49.67,  49.67]))]\n",
        "\n",
        "\n",
        "[(510.0, array([ 81.73,  69.59,  49.67])),\n",
        " (520.0, array([ 49.67,  69.59,  81.73])),\n",
        " (530.0, array([ 81.73,  69.59,  49.67])),\n",
        " (540.0, array([ 49.67,  49.67,  49.67])),\n",
        " (550.0, array([ 49.67,  49.67,  49.67]))]\n"
       ]
      }
     ],
     "prompt_number": 43
    },
    {
     "cell_type": "code",
     "collapsed": false,
     "input": [
      "def TriSpectralPowerDistribution_get(self, wavelength, default=None):\n",
      "    wavelength = as_array(wavelength)\n",
      "\n",
      "    return np.squeeze(np.array([(self.x.get(x, default),\n",
      "                                 self.y.get(x, default),\n",
      "                                 self.z.get(x, default)) for x in wavelength]))\n",
      "\n",
      "\n",
      "TriSpectralPowerDistribution.get = TriSpectralPowerDistribution_get\n",
      "\n",
      "x_bar = {510: 49.67, 520: 69.59, 530: 81.73, 540: 88.19}\n",
      "y_bar = {510: 90.56, 520: 87.34, 530: 45.76, 540: 23.45}\n",
      "z_bar = {510: 12.43, 520: 23.15, 530: 67.98, 540: 90.28}\n",
      "data = {'x_bar': x_bar, 'y_bar': y_bar, 'z_bar': z_bar}\n",
      "mpg = lbl = {'x': 'x_bar', 'y': 'y_bar', 'z': 'z_bar'}\n",
      "tri_spd = TriSpectralPowerDistribution('Tri Spd', data, mpg, lbl)\n",
      "\n",
      "print(tri_spd.get(510))\n",
      "\n",
      "print('\\n')\n",
      "\n",
      "print(tri_spd.get((510, 520)))\n",
      "\n",
      "print('\\n')\n",
      "\n",
      "print(tri_spd.get((510, 520, 521)))"
     ],
     "language": "python",
     "metadata": {},
     "outputs": [
      {
       "output_type": "stream",
       "stream": "stdout",
       "text": [
        "[ 49.67  90.56  12.43]\n",
        "\n",
        "\n",
        "[[ 49.67  90.56  12.43]\n",
        " [ 69.59  87.34  23.15]]\n",
        "\n",
        "\n",
        "[[49.67 90.56 12.43]\n",
        " [69.59 87.34 23.15]\n",
        " [array([None], dtype=object) array([None], dtype=object)\n",
        "  array([None], dtype=object)]]\n"
       ]
      }
     ],
     "prompt_number": 44
    },
    {
     "cell_type": "heading",
     "level": 2,
     "metadata": {},
     "source": [
      "colour.colorimetry.transformations"
     ]
    },
    {
     "cell_type": "heading",
     "level": 3,
     "metadata": {},
     "source": [
      "colour.RGB_2_degree_cmfs_to_XYZ_2_degree_cmfs"
     ]
    },
    {
     "cell_type": "code",
     "collapsed": false,
     "input": [
      "from colour import PHOTOPIC_LEFS, RGB_CMFS\n",
      "\n",
      "\n",
      "def RGB_2_degree_cmfs_to_XYZ_2_degree_cmfs2(wavelength):\n",
      "    wavelength = as_array(wavelength)\n",
      "\n",
      "    cmfs = RGB_CMFS.get('Wright & Guild 1931 2 Degree RGB CMFs')\n",
      "\n",
      "    try:\n",
      "        rgb_bar = cmfs[wavelength]\n",
      "    except KeyError as error:\n",
      "        raise KeyError(('\"{0} nm\" wavelength not available in \"{1}\" colour '\n",
      "                        'matching functions with \"{2}\" shape!').format(\n",
      "            error.args[0], cmfs.name, cmfs.shape))\n",
      "\n",
      "    rgb = rgb_bar / np.sum(rgb_bar)\n",
      "\n",
      "    M1 = np.array([[0.49000, 0.31000, 0.20000],\n",
      "                   [0.17697, 0.81240, 0.01063],\n",
      "                   [0.00000, 0.01000, 0.99000]])\n",
      "\n",
      "    M2 = np.array([[0.66697, 1.13240, 1.20063],\n",
      "                   [0.66697, 1.13240, 1.20063],\n",
      "                   [0.66697, 1.13240, 1.20063]])\n",
      "\n",
      "    xyz = np.einsum('...i,...ji', rgb, M1)\n",
      "    xyz /= np.einsum('...i,...ji', rgb, M2)\n",
      "\n",
      "    x, y, z = xyz[:, 0], xyz[:, 1], xyz[:, 2]\n",
      "\n",
      "    V = PHOTOPIC_LEFS.get('CIE 1924 Photopic Standard Observer').clone()\n",
      "    V.align(cmfs.shape)\n",
      "    L = V.get(wavelength)\n",
      "\n",
      "    x_bar = x / y * L\n",
      "    y_bar = L\n",
      "    z_bar = z / y * L\n",
      "\n",
      "    return np.squeeze(np.dstack((x_bar, y_bar, z_bar)))\n",
      "\n",
      "\n",
      "print('Reference:')\n",
      "print(np.array([0.01135774, 0.004102, 0.]))\n",
      "\n",
      "print('\\n')\n",
      "\n",
      "print('1d array:')\n",
      "print(RGB_2_degree_cmfs_to_XYZ_2_degree_cmfs2(700))\n",
      "\n",
      "print('\\n')\n",
      "\n",
      "print('2d array:')\n",
      "print(RGB_2_degree_cmfs_to_XYZ_2_degree_cmfs2([700, 700, 700, 700, 700]))"
     ],
     "language": "python",
     "metadata": {},
     "outputs": [
      {
       "output_type": "stream",
       "stream": "stdout",
       "text": [
        "Reference:\n",
        "[ 0.01135774  0.004102    0.        ]\n",
        "\n",
        "\n",
        "1d array:\n",
        "[ 0.01135774  0.004102    0.        ]\n",
        "\n",
        "\n",
        "2d array:\n",
        "[[ 0.01135774  0.004102    0.        ]\n",
        " [ 0.01135774  0.004102    0.        ]\n",
        " [ 0.01135774  0.004102    0.        ]\n",
        " [ 0.01135774  0.004102    0.        ]\n",
        " [ 0.01135774  0.004102    0.        ]]\n"
       ]
      }
     ],
     "prompt_number": 45
    },
    {
     "cell_type": "heading",
     "level": 3,
     "metadata": {},
     "source": [
      "colour.RGB_10_degree_cmfs_to_XYZ_10_degree_cmfs"
     ]
    },
    {
     "cell_type": "code",
     "collapsed": false,
     "input": [
      "def RGB_10_degree_cmfs_to_XYZ_10_degree_cmfs2(wavelength):\n",
      "    wavelength = as_array(wavelength)\n",
      "\n",
      "    cmfs = RGB_CMFS.get('Stiles & Burch 1959 10 Degree RGB CMFs')\n",
      "\n",
      "    try:\n",
      "        rgb_bar = cmfs[wavelength]\n",
      "    except KeyError as error:\n",
      "        raise KeyError(('\"{0} nm\" wavelength not available in \"{1}\" colour '\n",
      "                        'matching functions with \"{2}\" shape!').format(\n",
      "            error.args[0], cmfs.name, cmfs.shape))\n",
      "\n",
      "    M = np.array([[0.341080, 0.189145, 0.387529],\n",
      "                  [0.139058, 0.837460, 0.073316],\n",
      "                  [0.000000, 0.039553, 2.026200]])\n",
      "\n",
      "    xyz_bar = np.squeeze(np.einsum('...i,...ji', rgb_bar, M))\n",
      "\n",
      "    return xyz_bar\n",
      "\n",
      "\n",
      "print('Reference:')\n",
      "print(np.array([9.64321500e-03, 3.75263179e-03, -4.10788300e-06]))\n",
      "\n",
      "print('\\n')\n",
      "\n",
      "print('1d array:')\n",
      "print(RGB_10_degree_cmfs_to_XYZ_10_degree_cmfs2(700))\n",
      "\n",
      "print('\\n')\n",
      "\n",
      "print('2d array:')\n",
      "print(RGB_10_degree_cmfs_to_XYZ_10_degree_cmfs2([700, 700, 700, 700, 700]))"
     ],
     "language": "python",
     "metadata": {},
     "outputs": [
      {
       "output_type": "stream",
       "stream": "stdout",
       "text": [
        "Reference:\n",
        "[  9.64321500e-03   3.75263179e-03  -4.10788300e-06]\n",
        "\n",
        "\n",
        "1d array:\n",
        "[  9.64321500e-03   3.75263179e-03  -4.10788300e-06]\n",
        "\n",
        "\n",
        "2d array:\n",
        "[[  9.64321500e-03   3.75263179e-03  -4.10788300e-06]\n",
        " [  9.64321500e-03   3.75263179e-03  -4.10788300e-06]\n",
        " [  9.64321500e-03   3.75263179e-03  -4.10788300e-06]\n",
        " [  9.64321500e-03   3.75263179e-03  -4.10788300e-06]\n",
        " [  9.64321500e-03   3.75263179e-03  -4.10788300e-06]]\n"
       ]
      }
     ],
     "prompt_number": 46
    },
    {
     "cell_type": "heading",
     "level": 3,
     "metadata": {},
     "source": [
      "colour.RGB_10_degree_cmfs_to_LMS_10_degree_cmfs"
     ]
    },
    {
     "cell_type": "code",
     "collapsed": false,
     "input": [
      "def RGB_10_degree_cmfs_to_LMS_10_degree_cmfs(wavelength):\n",
      "    wavelength = as_array(wavelength)\n",
      "\n",
      "    cmfs = RGB_CMFS.get('Stiles & Burch 1959 10 Degree RGB CMFs')\n",
      "\n",
      "    try:\n",
      "        rgb_bar = cmfs[wavelength]\n",
      "    except KeyError as error:\n",
      "        raise KeyError(('\"{0} nm\" wavelength not available in \"{1}\" colour '\n",
      "                        'matching functions with \"{2}\" shape!').format(\n",
      "            error.args[0], cmfs.name, cmfs.shape))\n",
      "\n",
      "    M = np.array([[0.1923252690, 0.749548882, 0.0675726702],\n",
      "                  [0.0192290085, 0.940908496, 0.113830196],\n",
      "                  [0.0000000000, 0.0105107859, 0.991427669]])\n",
      "\n",
      "    lms_bar = np.einsum('...i,...ji', rgb_bar, M)\n",
      "\n",
      "    lms_bar[wavelength > 505, 2] = 0\n",
      "\n",
      "    lms_bar = np.squeeze(lms_bar)\n",
      "\n",
      "    return lms_bar\n",
      "\n",
      "\n",
      "print('Reference:')\n",
      "print(np.array([0.00528607, 0.00032528, 0.]))\n",
      "\n",
      "print('\\n')\n",
      "\n",
      "print('1d array:')\n",
      "print(RGB_10_degree_cmfs_to_LMS_10_degree_cmfs(700))\n",
      "\n",
      "print('\\n')\n",
      "\n",
      "print('2d array:')\n",
      "print(RGB_10_degree_cmfs_to_LMS_10_degree_cmfs([700, 700, 700, 700, 700]))"
     ],
     "language": "python",
     "metadata": {},
     "outputs": [
      {
       "output_type": "stream",
       "stream": "stdout",
       "text": [
        "Reference:\n",
        "[ 0.00528607  0.00032528  0.        ]\n",
        "\n",
        "\n",
        "1d array:\n",
        "[ 0.00528607  0.00032528  0.        ]\n",
        "\n",
        "\n",
        "2d array:\n",
        "[[ 0.00528607  0.00032528  0.        ]\n",
        " [ 0.00528607  0.00032528  0.        ]\n",
        " [ 0.00528607  0.00032528  0.        ]\n",
        " [ 0.00528607  0.00032528  0.        ]\n",
        " [ 0.00528607  0.00032528  0.        ]]\n"
       ]
      }
     ],
     "prompt_number": 47
    },
    {
     "cell_type": "heading",
     "level": 3,
     "metadata": {},
     "source": [
      "colour.LMS_2_degree_cmfs_to_XYZ_2_degree_cmfs"
     ]
    },
    {
     "cell_type": "code",
     "collapsed": false,
     "input": [
      "from colour import LMS_CMFS\n",
      "\n",
      "def LMS_2_degree_cmfs_to_XYZ_2_degree_cmfs2(wavelength):\n",
      "    wavelength = as_array(wavelength)\n",
      "\n",
      "    cmfs = LMS_CMFS.get('Stockman & Sharpe 2 Degree Cone Fundamentals')\n",
      "    \n",
      "    try:\n",
      "        lms_bar = cmfs[wavelength]\n",
      "    except KeyError as error:\n",
      "        raise KeyError(('\"{0} nm\" wavelength not available in \"{1}\" colour '\n",
      "                        'matching functions with \"{2}\" shape!').format(\n",
      "            error.args[0], cmfs.name, cmfs.shape))\n",
      "\n",
      "    M = np.array([[1.94735469, -1.41445123, 0.36476327],\n",
      "                  [0.68990272, 0.34832189, 0.00000000],\n",
      "                  [0.00000000, 0.00000000, 1.93485343]])\n",
      "\n",
      "    xyz_bar = np.squeeze(np.einsum('...i,...ji', lms_bar, M))\n",
      "\n",
      "    return xyz_bar\n",
      "\n",
      "print('Reference:')\n",
      "print(np.array([0.01096778, 0.00419594, 0.]))\n",
      "\n",
      "print('\\n')\n",
      "\n",
      "print('1d array:')\n",
      "print(LMS_2_degree_cmfs_to_XYZ_2_degree_cmfs2(700))\n",
      "\n",
      "print('\\n')\n",
      "\n",
      "print('2d array:')\n",
      "print(LMS_2_degree_cmfs_to_XYZ_2_degree_cmfs2([700, 700, 700, 700, 700]))"
     ],
     "language": "python",
     "metadata": {},
     "outputs": [
      {
       "output_type": "stream",
       "stream": "stdout",
       "text": [
        "Reference:\n",
        "[ 0.01096778  0.00419594  0.        ]\n",
        "\n",
        "\n",
        "1d array:\n",
        "[ 0.01096778  0.00419594  0.        ]\n",
        "\n",
        "\n",
        "2d array:\n",
        "[[ 0.01096778  0.00419594  0.        ]\n",
        " [ 0.01096778  0.00419594  0.        ]\n",
        " [ 0.01096778  0.00419594  0.        ]\n",
        " [ 0.01096778  0.00419594  0.        ]\n",
        " [ 0.01096778  0.00419594  0.        ]]\n"
       ]
      }
     ],
     "prompt_number": 48
    },
    {
     "cell_type": "heading",
     "level": 3,
     "metadata": {},
     "source": [
      "colour.LMS_10_degree_cmfs_to_XYZ_10_degree_cmfs"
     ]
    },
    {
     "cell_type": "code",
     "collapsed": false,
     "input": [
      "from colour import LMS_CMFS\n",
      "\n",
      "def LMS_10_degree_cmfs_to_XYZ_10_degree_cmfs2(wavelength):\n",
      "    wavelength = as_array(wavelength)\n",
      "\n",
      "    cmfs = LMS_CMFS.get('Stockman & Sharpe 10 Degree Cone Fundamentals')\n",
      "    \n",
      "    try:\n",
      "        lms_bar = cmfs[wavelength]\n",
      "    except KeyError as error:\n",
      "        raise KeyError(('\"{0} nm\" wavelength not available in \"{1}\" colour '\n",
      "                        'matching functions with \"{2}\" shape!').format(\n",
      "            error.args[0], cmfs.name, cmfs.shape))\n",
      "\n",
      "    M = np.array([[1.93986443, -1.34664359, 0.43044935],\n",
      "                  [0.69283932, 0.34967567, 0.00000000],\n",
      "                  [0.00000000, 0.00000000, 2.14687945]])\n",
      "\n",
      "    xyz_bar = np.squeeze(np.einsum('...i,...ji', lms_bar, M))\n",
      "\n",
      "    return xyz_bar\n",
      "\n",
      "print('Reference:')\n",
      "print(np.array([0.00981623, 0.00377614, 0.]))\n",
      "\n",
      "print('\\n')\n",
      "\n",
      "print('1d array:')\n",
      "print(LMS_10_degree_cmfs_to_XYZ_10_degree_cmfs2(700))\n",
      "\n",
      "print('\\n')\n",
      "\n",
      "print('2d array:')\n",
      "print(LMS_10_degree_cmfs_to_XYZ_10_degree_cmfs2([700, 700, 700, 700, 700]))"
     ],
     "language": "python",
     "metadata": {},
     "outputs": [
      {
       "output_type": "stream",
       "stream": "stdout",
       "text": [
        "Reference:\n",
        "[ 0.00981623  0.00377614  0.        ]\n",
        "\n",
        "\n",
        "1d array:\n",
        "[ 0.00981623  0.00377614  0.        ]\n",
        "\n",
        "\n",
        "2d array:\n",
        "[[ 0.00981623  0.00377614  0.        ]\n",
        " [ 0.00981623  0.00377614  0.        ]\n",
        " [ 0.00981623  0.00377614  0.        ]\n",
        " [ 0.00981623  0.00377614  0.        ]\n",
        " [ 0.00981623  0.00377614  0.        ]]\n"
       ]
      }
     ],
     "prompt_number": 49
    },
    {
     "cell_type": "heading",
     "level": 2,
     "metadata": {},
     "source": [
      "colour.colorimetry.tristimulus"
     ]
    },
    {
     "cell_type": "heading",
     "level": 3,
     "metadata": {},
     "source": [
      "colour.wavelength_to_XYZ"
     ]
    },
    {
     "cell_type": "code",
     "collapsed": false,
     "input": [
      "from colour.colorimetry.tristimulus import *\n",
      "\n",
      "def wavelength_to_XYZ_2d(wavelengths):\n",
      "    for wavelength in wavelengths:\n",
      "        wavelength_to_XYZ(wavelength)\n",
      "        \n",
      "WAVELENGTHS = np.linspace(400, 700, 1000)"
     ],
     "language": "python",
     "metadata": {},
     "outputs": [],
     "prompt_number": 50
    },
    {
     "cell_type": "code",
     "collapsed": false,
     "input": [
      "%timeit -n 1 wavelength_to_XYZ_2d(WAVELENGTHS)"
     ],
     "language": "python",
     "metadata": {},
     "outputs": [
      {
       "output_type": "stream",
       "stream": "stdout",
       "text": [
        "1 loops, best of 3: 20.9 s per loop\n"
       ]
      }
     ],
     "prompt_number": 51
    },
    {
     "cell_type": "code",
     "collapsed": false,
     "input": [
      "from colour import STANDARD_OBSERVERS_CMFS, SpragueInterpolator, \\\n",
      "    SplineInterpolator\n",
      "\n",
      "\n",
      "def wavelength_to_XYZ2(wavelength,\n",
      "                       cmfs=STANDARD_OBSERVERS_CMFS.get(\n",
      "                           'CIE 1931 2 Degree Standard Observer')):\n",
      "    wavelength = as_array(wavelength)\n",
      "\n",
      "    shape = cmfs.shape\n",
      "    if np.min(wavelength) < shape.start or np.max(wavelength) > shape.end:\n",
      "        raise ValueError(\n",
      "            '\"{0} nm\" wavelength is not in \"[{1}, {2}]\" domain!'.format(\n",
      "                wavelength, shape.start, shape.end))\n",
      "\n",
      "    if wavelength not in cmfs:\n",
      "        wavelengths, values, = cmfs.wavelengths, cmfs.values\n",
      "        interpolator = (SpragueInterpolator\n",
      "                        if cmfs.is_uniform() else\n",
      "                        SplineInterpolator)\n",
      "\n",
      "        interpolators = [interpolator(wavelengths, values[:, i])\n",
      "                         for i in range(values.shape[-1])]\n",
      "\n",
      "        return np.squeeze(np.swapaxes(np.array([interpolator(wavelength)\n",
      "                                                for interpolator in\n",
      "                                                interpolators]), 0, 1))\n",
      "    else:\n",
      "        return np.array(cmfs.get(wavelength))\n",
      "\n",
      "\n",
      "print('Reference:')\n",
      "print(np.array([0.09564, 0.13902, 0.8129501]))\n",
      "\n",
      "print('\\n')\n",
      "\n",
      "print('1d array:')\n",
      "print(wavelength_to_XYZ2(480.1))\n",
      "\n",
      "print('\\n')\n",
      "\n",
      "print('2d array:')\n",
      "print(wavelength_to_XYZ2([480, 480, 480, 480, 480]))\n",
      "\n",
      "print('\\n')\n",
      "\n",
      "print('2d array:')\n",
      "print(wavelength_to_XYZ2([480, 480, 480, 480, 480.5]))"
     ],
     "language": "python",
     "metadata": {},
     "outputs": [
      {
       "output_type": "stream",
       "stream": "stdout",
       "text": [
        "Reference:\n",
        "[ 0.09564    0.13902    0.8129501]\n",
        "\n",
        "\n",
        "1d array:\n",
        "[ 0.09479141  0.13958135  0.80864955]"
       ]
      },
      {
       "output_type": "stream",
       "stream": "stdout",
       "text": [
        "\n",
        "\n",
        "\n",
        "2d array:\n",
        "[[ 0.09564    0.13902    0.8129501]\n",
        " [ 0.09564    0.13902    0.8129501]\n",
        " [ 0.09564    0.13902    0.8129501]\n",
        " [ 0.09564    0.13902    0.8129501]\n",
        " [ 0.09564    0.13902    0.8129501]]\n",
        "\n",
        "\n",
        "2d array:\n",
        "[[ 0.09564     0.13902     0.8129501 ]\n",
        " [ 0.09564     0.13902     0.8129501 ]\n",
        " [ 0.09564     0.13902     0.8129501 ]\n",
        " [ 0.09564     0.13902     0.8129501 ]\n",
        " [ 0.09142876  0.14183505  0.79157269]]\n"
       ]
      }
     ],
     "prompt_number": 52
    },
    {
     "cell_type": "code",
     "collapsed": false,
     "input": [
      "%timeit -n 1 wavelength_to_XYZ2(WAVELENGTHS)"
     ],
     "language": "python",
     "metadata": {},
     "outputs": [
      {
       "output_type": "stream",
       "stream": "stdout",
       "text": [
        "1 loops, best of 3: 205 ms per loop\n"
       ]
      }
     ],
     "prompt_number": 53
    }
   ],
   "metadata": {}
  }
 ]
}