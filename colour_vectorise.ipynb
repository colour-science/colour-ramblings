{
 "metadata": {
  "name": "",
  "signature": "sha256:2bd7eaae9fb202d2efb7465edd464c1657be3bd6ca0b9f159ff09bf649bb88d1"
 },
 "nbformat": 3,
 "nbformat_minor": 0,
 "worksheets": [
  {
   "cells": [
    {
     "cell_type": "heading",
     "level": 1,
     "metadata": {},
     "source": [
      "Colour - Vectorise"
     ]
    },
    {
     "cell_type": "heading",
     "level": 2,
     "metadata": {},
     "source": [
      "Data"
     ]
    },
    {
     "cell_type": "code",
     "collapsed": false,
     "input": [
      "from __future__ import division, unicode_literals\n",
      "\n",
      "import numpy as np\n",
      "\n",
      "DATA_HD1 = np.random.rand(1920 * 1080, 3)\n",
      "DATA_HD2 = np.random.rand(1920 * 1080, 3)\n",
      "DATA_HD3 = np.random.rand(1920 * 1080, 3)\n",
      "\n",
      "DATA_PAL1 = np.random.rand(640 * 480, 3)\n",
      "DATA_PAL2 = np.random.rand(640 * 480, 3)\n",
      "DATA_PAL3 = np.random.rand(640 * 480, 3)\n",
      "\n",
      "DATA1, DATA2, DATA3 = DATA_HD1, DATA_HD2, DATA_HD3"
     ],
     "language": "python",
     "metadata": {},
     "outputs": [],
     "prompt_number": 724
    },
    {
     "cell_type": "heading",
     "level": 2,
     "metadata": {},
     "source": [
      "Utilities"
     ]
    },
    {
     "cell_type": "code",
     "collapsed": false,
     "input": [
      "from __future__ import with_statement\n",
      "import functools\n",
      "\n",
      "from colour.algebra import as_array, is_numeric, is_iterable\n",
      "from colour.utilities import CaseInsensitiveMapping, warning\n",
      "\n",
      "\n",
      "def as_numeric(x):\n",
      "    try:\n",
      "        return float(x)\n",
      "    except TypeError as error:\n",
      "        return x\n",
      "\n",
      "\n",
      "def as_stack(x, direction='Depth', squeeze=True):\n",
      "    methods = CaseInsensitiveMapping(\n",
      "        {'Depth': np.dstack,\n",
      "         'D': np.dstack,\n",
      "         'Horizontal': np.hstack,\n",
      "         'H': np.hstack,\n",
      "         'Vertical': np.vstack,\n",
      "         'V': np.vstack})\n",
      "\n",
      "    x = methods.get(direction)(x)\n",
      "    if squeeze:\n",
      "        x = np.squeeze(x)\n",
      "    return x\n",
      "\n",
      "\n",
      "def row_as_diagonal(a):\n",
      "    # http://stackoverflow.com/a/26517247/931625\n",
      "    rd = np.zeros((a.shape[0], a.shape[1], a.shape[1]))\n",
      "    diagonal = np.arange(a.shape[1])\n",
      "    rd[:, diagonal, diagonal] = a\n",
      "    return rd\n",
      "\n",
      "\n",
      "def handle_floating_point_errors(**kwargs):\n",
      "    # http://www.reflectometry.org/danse/docs/refl1d/_modules/refl1d/numpyerrors.html\n",
      "    context = np.errstate(**kwargs)\n",
      "\n",
      "    def wrapper(object):\n",
      "        @functools.wraps(object)\n",
      "        def wrapped(*args, **kwargs):\n",
      "            with context:\n",
      "                return object(*args, **kwargs)\n",
      "\n",
      "        return wrapped\n",
      "\n",
      "    return wrapper\n",
      "\n",
      "\n",
      "ignore_floating_point_errors = handle_floating_point_errors(all='ignore')\n",
      "raise_floating_point_errors = handle_floating_point_errors(all='raise')\n",
      "print_floating_point_errors = handle_floating_point_errors(all='print')\n",
      "warn_floating_point_errors = handle_floating_point_errors(all='warn')"
     ],
     "language": "python",
     "metadata": {},
     "outputs": [],
     "prompt_number": 725
    },
    {
     "cell_type": "heading",
     "level": 2,
     "metadata": {},
     "source": [
      "colour.adaptation.cat"
     ]
    },
    {
     "cell_type": "heading",
     "level": 3,
     "metadata": {},
     "source": [
      "colour.chromatic_adaptation_matrix_VonKries"
     ]
    },
    {
     "cell_type": "code",
     "collapsed": false,
     "input": [
      "from colour.adaptation import *\n",
      "from colour.adaptation.vonkries import *\n",
      "\n",
      "def chromatic_adaptation_matrix_VonKries_2d(data1, data2):\n",
      "    for i in range(len(data1)):\n",
      "        chromatic_adaptation_matrix_VonKries(data1[i], data2[i])"
     ],
     "language": "python",
     "metadata": {},
     "outputs": [],
     "prompt_number": 726
    },
    {
     "cell_type": "code",
     "collapsed": false,
     "input": [
      "%timeit chromatic_adaptation_matrix_VonKries_2d(DATA1, DATA2)"
     ],
     "language": "python",
     "metadata": {},
     "outputs": [
      {
       "output_type": "stream",
       "stream": "stdout",
       "text": [
        "1 loops, best of 3: 1min 41s per loop\n"
       ]
      }
     ],
     "prompt_number": 727
    },
    {
     "cell_type": "code",
     "collapsed": false,
     "input": [
      "def chromatic_adaptation_matrix_VonKries_vectorise(XYZ_w, XYZ_wr, transform='CAT02'):\n",
      "    M = CHROMATIC_ADAPTATION_TRANSFORMS.get(transform)\n",
      "\n",
      "    if M is None:\n",
      "        raise KeyError(\n",
      "            '\"{0}\" chromatic adaptation transform is not defined! Supported '\n",
      "            'methods: \"{1}\".'.format(transform,\n",
      "                                     CHROMATIC_ADAPTATION_TRANSFORMS.keys()))\n",
      "    M = as_array(M, (3, 3))\n",
      "\n",
      "    XYZ_w = as_array(XYZ_w, (-1, 3))\n",
      "    XYZ_wr = as_array(XYZ_wr, (-1, 3))\n",
      "\n",
      "    rgb_w = np.dot(XYZ_w, np.transpose(M))\n",
      "    rgb_wr = np.dot(XYZ_wr, np.transpose(M))\n",
      "\n",
      "    D = rgb_wr / rgb_w\n",
      "    \n",
      "    D = row_as_diagonal(D)\n",
      "\n",
      "    cat = np.einsum('...ij,...jk->...ik', np.linalg.inv(M), D)\n",
      "    cat = np.einsum('...ij,...jk->...ik', cat, M)\n",
      "\n",
      "    cat = np.squeeze(cat)\n",
      "\n",
      "    return cat\n",
      "\n",
      "\n",
      "print('Reference:')\n",
      "XYZ_w = np.array([1.09846607, 1., 0.3558228])\n",
      "XYZ_wr = np.array([0.95042855, 1., 1.08890037])\n",
      "print(chromatic_adaptation_matrix_VonKries(XYZ_w, XYZ_wr))\n",
      "\n",
      "print('\\n')\n",
      "\n",
      "print('1d array:')\n",
      "print(chromatic_adaptation_matrix_VonKries_vectorise(XYZ_w, XYZ_wr))\n",
      "\n",
      "print('\\n')\n",
      "\n",
      "print('2d array:')\n",
      "XYZ_w = np.tile(XYZ_w, (5, 1))\n",
      "XYZ_wr = np.tile(XYZ_wr, (5, 1))\n",
      "print(chromatic_adaptation_matrix_VonKries_vectorise(XYZ_w, XYZ_wr))"
     ],
     "language": "python",
     "metadata": {},
     "outputs": [
      {
       "output_type": "stream",
       "stream": "stdout",
       "text": [
        "Reference:\n",
        "[[ 0.86876537 -0.14165393  0.38719611]\n",
        " [-0.10300724  1.05840142  0.15386462]\n",
        " [ 0.00781674  0.0267875   2.96081771]]\n",
        "\n",
        "\n",
        "1d array:\n",
        "[[ 0.86876537 -0.14165393  0.38719611]\n",
        " [-0.10300724  1.05840142  0.15386462]\n",
        " [ 0.00781674  0.0267875   2.96081771]]\n",
        "\n",
        "\n",
        "2d array:\n",
        "[[[ 0.86876537 -0.14165393  0.38719611]\n",
        "  [-0.10300724  1.05840142  0.15386462]\n",
        "  [ 0.00781674  0.0267875   2.96081771]]\n",
        "\n",
        " [[ 0.86876537 -0.14165393  0.38719611]\n",
        "  [-0.10300724  1.05840142  0.15386462]\n",
        "  [ 0.00781674  0.0267875   2.96081771]]\n",
        "\n",
        " [[ 0.86876537 -0.14165393  0.38719611]\n",
        "  [-0.10300724  1.05840142  0.15386462]\n",
        "  [ 0.00781674  0.0267875   2.96081771]]\n",
        "\n",
        " [[ 0.86876537 -0.14165393  0.38719611]\n",
        "  [-0.10300724  1.05840142  0.15386462]\n",
        "  [ 0.00781674  0.0267875   2.96081771]]\n",
        "\n",
        " [[ 0.86876537 -0.14165393  0.38719611]\n",
        "  [-0.10300724  1.05840142  0.15386462]\n",
        "  [ 0.00781674  0.0267875   2.96081771]]]\n"
       ]
      }
     ],
     "prompt_number": 728
    },
    {
     "cell_type": "code",
     "collapsed": false,
     "input": [
      "%timeit chromatic_adaptation_matrix_VonKries_vectorise(DATA1, DATA2)"
     ],
     "language": "python",
     "metadata": {},
     "outputs": [
      {
       "output_type": "stream",
       "stream": "stdout",
       "text": [
        "1 loops, best of 3: 1.58 s per loop\n"
       ]
      }
     ],
     "prompt_number": 729
    },
    {
     "cell_type": "heading",
     "level": 3,
     "metadata": {},
     "source": [
      "colour.chromatic_adaptation_VonKries"
     ]
    },
    {
     "cell_type": "code",
     "collapsed": false,
     "input": [
      "def chromatic_adaptation_VonKries_2d(data1, data2, data3):\n",
      "    for i in range(len(data1)):\n",
      "        chromatic_adaptation_VonKries(data1[i], data2[i], data3[i])"
     ],
     "language": "python",
     "metadata": {},
     "outputs": [],
     "prompt_number": 730
    },
    {
     "cell_type": "code",
     "collapsed": false,
     "input": [
      "%timeit chromatic_adaptation_VonKries_2d(DATA1, DATA2, DATA3)"
     ],
     "language": "python",
     "metadata": {},
     "outputs": [
      {
       "output_type": "stream",
       "stream": "stdout",
       "text": [
        "1 loops, best of 3: 1min 44s per loop\n"
       ]
      }
     ],
     "prompt_number": 731
    },
    {
     "cell_type": "code",
     "collapsed": false,
     "input": [
      "def chromatic_adaptation_VonKries_vectorise(XYZ, XYZ_w, XYZ_wr, transform='CAT02'):\n",
      "    XYZ = as_array(XYZ, (-1, 3))\n",
      "\n",
      "    cat = chromatic_adaptation_matrix_VonKries_vectorise(XYZ_w, XYZ_wr, transform)\n",
      "    XYZ_a = np.squeeze(np.einsum('...i,...ji', XYZ, cat))\n",
      "\n",
      "    return XYZ_a\n",
      "\n",
      "\n",
      "print('Reference:')\n",
      "XYZ = np.array([0.07049534, 0.1008, 0.09558313])\n",
      "XYZ_w = np.array([1.09846607, 1., 0.3558228])\n",
      "XYZ_wr = np.array([0.95042855, 1., 1.08890037])\n",
      "print(chromatic_adaptation_VonKries(XYZ, XYZ_w, XYZ_wr))\n",
      "\n",
      "print('\\n')\n",
      "\n",
      "print('1d array:')\n",
      "print(chromatic_adaptation_VonKries_vectorise(XYZ, XYZ_w, XYZ_wr))\n",
      "\n",
      "print('\\n')\n",
      "\n",
      "print('2d array:')\n",
      "XYZ = np.tile(XYZ, (5, 1))\n",
      "XYZ_w = np.tile(XYZ_w, (5, 1))\n",
      "XYZ_wr = np.tile(XYZ_wr, (5, 1))\n",
      "print(chromatic_adaptation_VonKries_vectorise(XYZ, XYZ_w, XYZ_wr))"
     ],
     "language": "python",
     "metadata": {},
     "outputs": [
      {
       "output_type": "stream",
       "stream": "stdout",
       "text": [
        "Reference:\n",
        "[ 0.08397461  0.11413219  0.28625545]\n",
        "\n",
        "\n",
        "1d array:\n",
        "[ 0.08397461  0.11413219  0.28625545]\n",
        "\n",
        "\n",
        "2d array:\n",
        "[[ 0.08397461  0.11413219  0.28625545]\n",
        " [ 0.08397461  0.11413219  0.28625545]\n",
        " [ 0.08397461  0.11413219  0.28625545]\n",
        " [ 0.08397461  0.11413219  0.28625545]\n",
        " [ 0.08397461  0.11413219  0.28625545]]\n"
       ]
      }
     ],
     "prompt_number": 732
    },
    {
     "cell_type": "code",
     "collapsed": false,
     "input": [
      "%timeit chromatic_adaptation_VonKries_vectorise(DATA1, DATA2, DATA3)"
     ],
     "language": "python",
     "metadata": {},
     "outputs": [
      {
       "output_type": "stream",
       "stream": "stdout",
       "text": [
        "1 loops, best of 3: 2.06 s per loop\n"
       ]
      }
     ],
     "prompt_number": 733
    },
    {
     "cell_type": "heading",
     "level": 2,
     "metadata": {},
     "source": [
      "colour.algebra.coordinates.transformations"
     ]
    },
    {
     "cell_type": "heading",
     "level": 3,
     "metadata": {},
     "source": [
      "colour.cartesian_to_spherical"
     ]
    },
    {
     "cell_type": "code",
     "collapsed": false,
     "input": [
      "import math\n",
      "\n",
      "from colour.algebra.coordinates.transformations import *\n",
      "\n",
      "def cartesian_to_spherical_2d(vectors):\n",
      "    for vector in vectors:\n",
      "        cartesian_to_spherical(vector)"
     ],
     "language": "python",
     "metadata": {},
     "outputs": [],
     "prompt_number": 734
    },
    {
     "cell_type": "code",
     "collapsed": false,
     "input": [
      "%timeit cartesian_to_spherical_2d(DATA1)"
     ],
     "language": "python",
     "metadata": {},
     "outputs": [
      {
       "output_type": "stream",
       "stream": "stdout",
       "text": [
        "1 loops, best of 3: 40.1 s per loop\n"
       ]
      }
     ],
     "prompt_number": 735
    },
    {
     "cell_type": "code",
     "collapsed": false,
     "input": [
      "def cartesian_to_spherical_vectorise(vector):\n",
      "    vector = as_array(vector, (-1, 3))\n",
      "\n",
      "    r = np.linalg.norm(vector, axis=1)\n",
      "    x, y, z = vector[:, 0], vector[:, 1], vector[:, 2]\n",
      "\n",
      "    theta = np.arctan2(z, np.linalg.norm(\n",
      "        np.dstack((x, y)).reshape((-1, 2)), axis=1))\n",
      "    phi = np.arctan2(y, x)\n",
      "\n",
      "    return as_stack((r, theta, phi))\n",
      "\n",
      "\n",
      "print('Reference:')\n",
      "vector = np.array([3, 1, 6])\n",
      "print(cartesian_to_spherical(vector))\n",
      "\n",
      "print('\\n')\n",
      "\n",
      "print('1d array:')\n",
      "print(cartesian_to_spherical_vectorise(vector))\n",
      "\n",
      "print('\\n')\n",
      "\n",
      "print('2d array:')\n",
      "vector = np.tile(vector, (5, 1))\n",
      "print(cartesian_to_spherical_vectorise(vector))"
     ],
     "language": "python",
     "metadata": {},
     "outputs": [
      {
       "output_type": "stream",
       "stream": "stdout",
       "text": [
        "Reference:\n",
        "[ 6.78232998  1.08574654  0.32175055]\n",
        "\n",
        "\n",
        "1d array:\n",
        "[ 6.78232998  1.08574654  0.32175055]\n",
        "\n",
        "\n",
        "2d array:\n",
        "[[ 6.78232998  1.08574654  0.32175055]\n",
        " [ 6.78232998  1.08574654  0.32175055]\n",
        " [ 6.78232998  1.08574654  0.32175055]\n",
        " [ 6.78232998  1.08574654  0.32175055]\n",
        " [ 6.78232998  1.08574654  0.32175055]]\n"
       ]
      }
     ],
     "prompt_number": 736
    },
    {
     "cell_type": "code",
     "collapsed": false,
     "input": [
      "%timeit cartesian_to_spherical_vectorise(DATA1)"
     ],
     "language": "python",
     "metadata": {},
     "outputs": [
      {
       "output_type": "stream",
       "stream": "stdout",
       "text": [
        "1 loops, best of 3: 328 ms per loop\n"
       ]
      }
     ],
     "prompt_number": 737
    },
    {
     "cell_type": "heading",
     "level": 3,
     "metadata": {},
     "source": [
      "colour.spherical_to_cartesian"
     ]
    },
    {
     "cell_type": "code",
     "collapsed": false,
     "input": [
      "def spherical_to_cartesian_2d(vectors):\n",
      "    for vector in vectors:\n",
      "        spherical_to_cartesian(vector)"
     ],
     "language": "python",
     "metadata": {},
     "outputs": [],
     "prompt_number": 738
    },
    {
     "cell_type": "code",
     "collapsed": false,
     "input": [
      "%timeit spherical_to_cartesian_2d(DATA1)"
     ],
     "language": "python",
     "metadata": {},
     "outputs": [
      {
       "output_type": "stream",
       "stream": "stdout",
       "text": [
        "1 loops, best of 3: 21.5 s per loop\n"
       ]
      }
     ],
     "prompt_number": 739
    },
    {
     "cell_type": "code",
     "collapsed": false,
     "input": [
      "def spherical_to_cartesian_vectorise(vector):\n",
      "    vector = as_array(vector, (-1, 3))\n",
      "\n",
      "    r, theta, phi = vector[:, 0], vector[:, 1], vector[:, 2]\n",
      "\n",
      "    x = r * np.cos(theta) * np.cos(phi)\n",
      "    y = r * np.cos(theta) * np.sin(phi)\n",
      "    z = r * np.sin(theta)\n",
      "\n",
      "    return as_stack((x, y, z))\n",
      "\n",
      "\n",
      "print('Reference:')\n",
      "vector = np.array([6.78232998, 1.08574654, 0.32175055])\n",
      "print(spherical_to_cartesian(vector))\n",
      "\n",
      "print('\\n')\n",
      "\n",
      "print('1d array:')\n",
      "print(spherical_to_cartesian_vectorise(vector))\n",
      "\n",
      "print('\\n')\n",
      "\n",
      "print('2d array:')\n",
      "vector = np.tile(vector, (5, 1))\n",
      "print(spherical_to_cartesian_vectorise(vector))"
     ],
     "language": "python",
     "metadata": {},
     "outputs": [
      {
       "output_type": "stream",
       "stream": "stdout",
       "text": [
        "Reference:\n",
        "[ 3.          0.99999999  6.        ]\n",
        "\n",
        "\n",
        "1d array:\n",
        "[ 3.          0.99999999  6.        ]\n",
        "\n",
        "\n",
        "2d array:\n",
        "[[ 3.          0.99999999  6.        ]\n",
        " [ 3.          0.99999999  6.        ]\n",
        " [ 3.          0.99999999  6.        ]\n",
        " [ 3.          0.99999999  6.        ]\n",
        " [ 3.          0.99999999  6.        ]]\n"
       ]
      }
     ],
     "prompt_number": 740
    },
    {
     "cell_type": "code",
     "collapsed": false,
     "input": [
      "%timeit spherical_to_cartesian_vectorise(DATA1)"
     ],
     "language": "python",
     "metadata": {},
     "outputs": [
      {
       "output_type": "stream",
       "stream": "stdout",
       "text": [
        "1 loops, best of 3: 235 ms per loop\n"
       ]
      }
     ],
     "prompt_number": 741
    },
    {
     "cell_type": "heading",
     "level": 3,
     "metadata": {},
     "source": [
      "colour.cartesian_to_cylindrical"
     ]
    },
    {
     "cell_type": "code",
     "collapsed": false,
     "input": [
      "def cartesian_to_cylindrical_2d(vectors):\n",
      "    for vector in vectors:\n",
      "        cartesian_to_cylindrical(vector)"
     ],
     "language": "python",
     "metadata": {},
     "outputs": [],
     "prompt_number": 742
    },
    {
     "cell_type": "code",
     "collapsed": false,
     "input": [
      "%timeit cartesian_to_cylindrical_2d(DATA1)"
     ],
     "language": "python",
     "metadata": {},
     "outputs": [
      {
       "output_type": "stream",
       "stream": "stdout",
       "text": [
        "1 loops, best of 3: 25.2 s per loop\n"
       ]
      }
     ],
     "prompt_number": 743
    },
    {
     "cell_type": "code",
     "collapsed": false,
     "input": [
      "def cartesian_to_cylindrical_vectorise(vector):\n",
      "    vector = as_array(vector, (-1, 3))\n",
      "\n",
      "    x, y, z = vector[:, 0], vector[:, 1], vector[:, 2]\n",
      "\n",
      "    theta = np.arctan2(y, x)\n",
      "    rho = np.linalg.norm(\n",
      "        np.dstack((x, y)).reshape((-1, 2)), axis=1)\n",
      "\n",
      "    return as_stack((z, theta, rho))\n",
      "\n",
      "\n",
      "print('Reference:')\n",
      "vector = np.array([3, 1, 6])\n",
      "print(cartesian_to_cylindrical(vector))\n",
      "\n",
      "print('\\n')\n",
      "\n",
      "print('1d array:')\n",
      "print(cartesian_to_cylindrical_vectorise(vector))\n",
      "\n",
      "print('\\n')\n",
      "\n",
      "print('2d array:')\n",
      "vector = np.tile(vector, (5, 1))\n",
      "print(cartesian_to_cylindrical_vectorise(vector))"
     ],
     "language": "python",
     "metadata": {},
     "outputs": [
      {
       "output_type": "stream",
       "stream": "stdout",
       "text": [
        "Reference:\n",
        "[ 6.          0.32175055  3.16227766]\n",
        "\n",
        "\n",
        "1d array:\n",
        "[ 6.          0.32175055  3.16227766]\n",
        "\n",
        "\n",
        "2d array:\n",
        "[[ 6.          0.32175055  3.16227766]\n",
        " [ 6.          0.32175055  3.16227766]\n",
        " [ 6.          0.32175055  3.16227766]\n",
        " [ 6.          0.32175055  3.16227766]\n",
        " [ 6.          0.32175055  3.16227766]]\n"
       ]
      }
     ],
     "prompt_number": 744
    },
    {
     "cell_type": "code",
     "collapsed": false,
     "input": [
      "%timeit cartesian_to_cylindrical_vectorise(DATA1)"
     ],
     "language": "python",
     "metadata": {},
     "outputs": [
      {
       "output_type": "stream",
       "stream": "stdout",
       "text": [
        "10 loops, best of 3: 166 ms per loop\n"
       ]
      }
     ],
     "prompt_number": 745
    },
    {
     "cell_type": "heading",
     "level": 3,
     "metadata": {},
     "source": [
      "colour.cylindrical_to_cartesian"
     ]
    },
    {
     "cell_type": "code",
     "collapsed": false,
     "input": [
      "def cylindrical_to_cartesian_2d(vectors):\n",
      "    for vector in vectors:\n",
      "        cylindrical_to_cartesian(vector)"
     ],
     "language": "python",
     "metadata": {},
     "outputs": [],
     "prompt_number": 746
    },
    {
     "cell_type": "code",
     "collapsed": false,
     "input": [
      "%timeit cylindrical_to_cartesian_2d(DATA1)"
     ],
     "language": "python",
     "metadata": {},
     "outputs": [
      {
       "output_type": "stream",
       "stream": "stdout",
       "text": [
        "1 loops, best of 3: 14.4 s per loop\n"
       ]
      }
     ],
     "prompt_number": 747
    },
    {
     "cell_type": "code",
     "collapsed": false,
     "input": [
      "def cylindrical_to_cartesian_vectorise(vector):\n",
      "    vector = as_array(vector, (-1, 3))\n",
      "\n",
      "    z, theta, rho = vector[:, 0], vector[:, 1], vector[:, 2]\n",
      "\n",
      "    x = rho * np.cos(theta)\n",
      "    y = rho * np.sin(theta)\n",
      "\n",
      "    return as_stack((x, y, z))\n",
      "\n",
      "\n",
      "print('Reference:')\n",
      "vector = np.array([6, 0.32175055, 3.16227766])\n",
      "print(cylindrical_to_cartesian(vector))\n",
      "\n",
      "print('\\n')\n",
      "\n",
      "print('1d array:')\n",
      "print(cylindrical_to_cartesian_vectorise(vector))\n",
      "\n",
      "print('\\n')\n",
      "\n",
      "print('2d array:')\n",
      "vector = np.tile(vector, (5, 1))\n",
      "print(cylindrical_to_cartesian_vectorise(vector))"
     ],
     "language": "python",
     "metadata": {},
     "outputs": [
      {
       "output_type": "stream",
       "stream": "stdout",
       "text": [
        "Reference:\n",
        "[ 3.          0.99999999  6.        ]\n",
        "\n",
        "\n",
        "1d array:\n",
        "[ 3.          0.99999999  6.        ]\n",
        "\n",
        "\n",
        "2d array:\n",
        "[[ 3.          0.99999999  6.        ]\n",
        " [ 3.          0.99999999  6.        ]\n",
        " [ 3.          0.99999999  6.        ]\n",
        " [ 3.          0.99999999  6.        ]\n",
        " [ 3.          0.99999999  6.        ]]\n"
       ]
      }
     ],
     "prompt_number": 748
    },
    {
     "cell_type": "code",
     "collapsed": false,
     "input": [
      "%timeit cylindrical_to_cartesian_vectorise(DATA1)"
     ],
     "language": "python",
     "metadata": {},
     "outputs": [
      {
       "output_type": "stream",
       "stream": "stdout",
       "text": [
        "10 loops, best of 3: 96.1 ms per loop\n"
       ]
      }
     ],
     "prompt_number": 749
    },
    {
     "cell_type": "heading",
     "level": 2,
     "metadata": {},
     "source": [
      "colour.colorimetry.blackbody"
     ]
    },
    {
     "cell_type": "heading",
     "level": 3,
     "metadata": {},
     "source": [
      "colour.planck_law"
     ]
    },
    {
     "cell_type": "code",
     "collapsed": false,
     "input": [
      "from colour.colorimetry.blackbody import *\n",
      "\n",
      "WAVELENGTHS = np.linspace(1, 15000, 100000) * 1e-9\n",
      "\n",
      "def planck_law_2d(wavelengths):\n",
      "    for wavelength in wavelengths:\n",
      "        planck_law(wavelength, 5500)"
     ],
     "language": "python",
     "metadata": {},
     "outputs": [],
     "prompt_number": 750
    },
    {
     "cell_type": "code",
     "collapsed": false,
     "input": [
      "%timeit planck_law_2d(WAVELENGTHS)"
     ],
     "language": "python",
     "metadata": {},
     "outputs": [
      {
       "output_type": "stream",
       "stream": "stdout",
       "text": [
        "1 loops, best of 3: 1.7 s per loop\n"
       ]
      }
     ],
     "prompt_number": 751
    },
    {
     "cell_type": "code",
     "collapsed": false,
     "input": [
      "@handle_floating_point_errors(over='ignore')\n",
      "def planck_law_vectorise(wavelength, temperature, c1=C1, c2=C2, n=N):\n",
      "    t = temperature\n",
      "    l = as_array(wavelength)\n",
      "\n",
      "    p = (((c1 * n ** -2 * l ** -5) / np.pi) *\n",
      "            (np.exp(c2 / (n * l * t)) - 1) ** -1)\n",
      "\n",
      "    return as_numeric(p)\n",
      "\n",
      "\n",
      "print('Reference:')\n",
      "print(planck_law(500 * 1e-9, 5500))\n",
      "\n",
      "print('\\n')\n",
      "\n",
      "print('1d array:')\n",
      "print(planck_law_vectorise(500 * 1e-9, 5500))\n",
      "\n",
      "print('\\n')\n",
      "\n",
      "print('2d array:')\n",
      "print(planck_law_vectorise([500 * 1e-9] * 5, 5500))"
     ],
     "language": "python",
     "metadata": {},
     "outputs": [
      {
       "output_type": "stream",
       "stream": "stdout",
       "text": [
        "Reference:\n",
        "2.04727019098e+13\n",
        "\n",
        "\n",
        "1d array:\n",
        "2.04727019098e+13\n",
        "\n",
        "\n",
        "2d array:\n",
        "[  2.04727019e+13   2.04727019e+13   2.04727019e+13   2.04727019e+13\n",
        "   2.04727019e+13]\n"
       ]
      }
     ],
     "prompt_number": 752
    },
    {
     "cell_type": "code",
     "collapsed": false,
     "input": [
      "%timeit planck_law_vectorise(WAVELENGTHS, 5500)"
     ],
     "language": "python",
     "metadata": {},
     "outputs": [
      {
       "output_type": "stream",
       "stream": "stdout",
       "text": [
        "100 loops, best of 3: 10.8 ms per loop\n"
       ]
      }
     ],
     "prompt_number": 753
    },
    {
     "cell_type": "heading",
     "level": 2,
     "metadata": {},
     "source": [
      "colour.colorimetry.lightness\u00b6"
     ]
    },
    {
     "cell_type": "heading",
     "level": 3,
     "metadata": {},
     "source": [
      "colour.lightness_Glasser1958"
     ]
    },
    {
     "cell_type": "code",
     "collapsed": false,
     "input": [
      "from colour.colorimetry.lightness import *\n",
      "\n",
      "def lightness_Glasser1958_2d(Y):\n",
      "    for Y_ in Y:\n",
      "        lightness_Glasser1958(Y_)\n",
      "        \n",
      "\n",
      "Y = np.linspace(0, 100, 1000000)"
     ],
     "language": "python",
     "metadata": {},
     "outputs": [],
     "prompt_number": 754
    },
    {
     "cell_type": "code",
     "collapsed": false,
     "input": [
      "%timeit lightness_Glasser1958_2d(Y)"
     ],
     "language": "python",
     "metadata": {},
     "outputs": [
      {
       "output_type": "stream",
       "stream": "stdout",
       "text": [
        "1 loops, best of 3: 1.28 s per loop\n"
       ]
      }
     ],
     "prompt_number": 755
    },
    {
     "cell_type": "code",
     "collapsed": false,
     "input": [
      "def lightness_Glasser1958_vectorise(Y, **kwargs):\n",
      "    Y = as_array(Y)\n",
      "\n",
      "    L = 25.29 * (Y ** (1 / 3)) - 18.38\n",
      "\n",
      "    return as_numeric(L)\n",
      "\n",
      "\n",
      "print('Reference:')\n",
      "print(lightness_Glasser1958(10.08))\n",
      "\n",
      "print('\\n')\n",
      "\n",
      "print('1d array:')\n",
      "print(lightness_Glasser1958_vectorise(10.08))\n",
      "\n",
      "print('\\n')\n",
      "\n",
      "print('2d array:')\n",
      "print(lightness_Glasser1958_vectorise([10.08, 10.08, 10.08, 10.08, 10.08]))"
     ],
     "language": "python",
     "metadata": {},
     "outputs": [
      {
       "output_type": "stream",
       "stream": "stdout",
       "text": [
        "Reference:\n",
        "36.2505626458\n",
        "\n",
        "\n",
        "1d array:\n",
        "36.2505626458\n",
        "\n",
        "\n",
        "2d array:\n",
        "[ 36.25056265  36.25056265  36.25056265  36.25056265  36.25056265]\n"
       ]
      }
     ],
     "prompt_number": 756
    },
    {
     "cell_type": "code",
     "collapsed": false,
     "input": [
      "%timeit lightness_Glasser1958_vectorise(Y)"
     ],
     "language": "python",
     "metadata": {},
     "outputs": [
      {
       "output_type": "stream",
       "stream": "stdout",
       "text": [
        "10 loops, best of 3: 73.3 ms per loop\n"
       ]
      }
     ],
     "prompt_number": 757
    },
    {
     "cell_type": "heading",
     "level": 3,
     "metadata": {},
     "source": [
      "colour.lightness_Wyszecki1963"
     ]
    },
    {
     "cell_type": "code",
     "collapsed": false,
     "input": [
      "def lightness_Wyszecki1963_2d(Y):\n",
      "    for Y_ in Y:\n",
      "        lightness_Wyszecki1963(Y_)"
     ],
     "language": "python",
     "metadata": {},
     "outputs": [],
     "prompt_number": 758
    },
    {
     "cell_type": "code",
     "collapsed": false,
     "input": [
      "%timeit lightness_Wyszecki1963_2d(Y)"
     ],
     "language": "python",
     "metadata": {},
     "outputs": [
      {
       "output_type": "stream",
       "stream": "stdout",
       "text": [
        "1 loops, best of 3: 3.21 s per loop\n"
       ]
      }
     ],
     "prompt_number": 759
    },
    {
     "cell_type": "code",
     "collapsed": false,
     "input": [
      "def lightness_Wyszecki1963_vectorise(Y, **kwargs):\n",
      "    Y = as_array(Y)\n",
      "\n",
      "    if np.any(Y < 1) or np.any(Y > 98):\n",
      "        warning(('\"W*\" Lightness computation is only applicable for '\n",
      "                 '1% < \"Y\" < 98%, unpredictable results may occur!'))\n",
      "\n",
      "    W = 25 * (Y ** (1 / 3)) - 17\n",
      "\n",
      "    return as_numeric(W)\n",
      "\n",
      "\n",
      "print('Reference:')\n",
      "print(lightness_Wyszecki1963(10.08))\n",
      "\n",
      "print('\\n')\n",
      "\n",
      "print('1d array:')\n",
      "print(lightness_Wyszecki1963_vectorise(10.08))\n",
      "\n",
      "print('\\n')\n",
      "\n",
      "print('2d array:')\n",
      "print(lightness_Wyszecki1963_vectorise([10.08, 10.08, 10.08, 10.08, 10.08]))"
     ],
     "language": "python",
     "metadata": {},
     "outputs": [
      {
       "output_type": "stream",
       "stream": "stdout",
       "text": [
        "Reference:\n",
        "37.0041149128\n",
        "\n",
        "\n",
        "1d array:\n",
        "37.0041149128\n",
        "\n",
        "\n",
        "2d array:\n",
        "[ 37.00411491  37.00411491  37.00411491  37.00411491  37.00411491]\n"
       ]
      }
     ],
     "prompt_number": 760
    },
    {
     "cell_type": "code",
     "collapsed": false,
     "input": [
      "%timeit lightness_Wyszecki1963_vectorise(Y)"
     ],
     "language": "python",
     "metadata": {},
     "outputs": [
      {
       "output_type": "stream",
       "stream": "stdout",
       "text": [
        "10 loops, best of 3: 76.8 ms per loop\n"
       ]
      }
     ],
     "prompt_number": 761
    },
    {
     "cell_type": "heading",
     "level": 3,
     "metadata": {},
     "source": [
      "colour.lightness_1976"
     ]
    },
    {
     "cell_type": "code",
     "collapsed": false,
     "input": [
      "def lightness_1976_2d(Y):\n",
      "    for Y_ in Y:\n",
      "        lightness_1976(Y_)"
     ],
     "language": "python",
     "metadata": {},
     "outputs": [],
     "prompt_number": 762
    },
    {
     "cell_type": "code",
     "collapsed": false,
     "input": [
      "%timeit lightness_1976_2d(Y)"
     ],
     "language": "python",
     "metadata": {},
     "outputs": [
      {
       "output_type": "stream",
       "stream": "stdout",
       "text": [
        "1 loops, best of 3: 3.26 s per loop\n"
       ]
      }
     ],
     "prompt_number": 763
    },
    {
     "cell_type": "code",
     "collapsed": false,
     "input": [
      "from colour.constants import CIE_E, CIE_K\n",
      "\n",
      "\n",
      "def lightness_1976_vectorise(Y, Y_n=100):\n",
      "    Y = as_array(Y)\n",
      "    Y_n = np.resize(as_array(Y_n), Y.shape)\n",
      "\n",
      "    Lstar = Y / Y_n\n",
      "\n",
      "    Lstar = np.where(Lstar <= CIE_E,\n",
      "                     CIE_K * Lstar,\n",
      "                     116 * Lstar ** (1 / 3) - 16)\n",
      "\n",
      "    return as_numeric(Lstar)\n",
      "\n",
      "\n",
      "print('Reference:')\n",
      "print(lightness_1976(10.08, 100))\n",
      "\n",
      "print('\\n')\n",
      "\n",
      "print('1d array:')\n",
      "print(lightness_1976_vectorise(10.08, 100))\n",
      "\n",
      "print('\\n')\n",
      "\n",
      "print('2d array:')\n",
      "print(lightness_1976_vectorise([10.08, 10.08, 10.08, 10.08, 10.08]))"
     ],
     "language": "python",
     "metadata": {},
     "outputs": [
      {
       "output_type": "stream",
       "stream": "stdout",
       "text": [
        "Reference:\n",
        "37.9856290977\n",
        "\n",
        "\n",
        "1d array:\n",
        "37.9856290977\n",
        "\n",
        "\n",
        "2d array:\n",
        "[ 37.9856291  37.9856291  37.9856291  37.9856291  37.9856291]\n"
       ]
      }
     ],
     "prompt_number": 764
    },
    {
     "cell_type": "code",
     "collapsed": false,
     "input": [
      "%timeit lightness_1976_vectorise(Y)"
     ],
     "language": "python",
     "metadata": {},
     "outputs": [
      {
       "output_type": "stream",
       "stream": "stdout",
       "text": [
        "1 loops, best of 3: 240 ms per loop\n"
       ]
      }
     ],
     "prompt_number": 765
    },
    {
     "cell_type": "heading",
     "level": 2,
     "metadata": {},
     "source": [
      "colour.colorimetry.luminance"
     ]
    },
    {
     "cell_type": "heading",
     "level": 3,
     "metadata": {},
     "source": [
      "colour.luminance_Newhall1943"
     ]
    },
    {
     "cell_type": "code",
     "collapsed": false,
     "input": [
      "from colour.colorimetry.luminance import *\n",
      "\n",
      "def luminance_Newhall1943_2d(L):\n",
      "    for L_ in L:\n",
      "        luminance_Newhall1943(L_)\n",
      "\n",
      "        \n",
      "L = np.linspace(0, 100, 1000000)"
     ],
     "language": "python",
     "metadata": {},
     "outputs": [],
     "prompt_number": 766
    },
    {
     "cell_type": "code",
     "collapsed": false,
     "input": [
      "%timeit luminance_Newhall1943_2d(L)"
     ],
     "language": "python",
     "metadata": {},
     "outputs": [
      {
       "output_type": "stream",
       "stream": "stdout",
       "text": [
        "1 loops, best of 3: 6.31 s per loop\n"
       ]
      }
     ],
     "prompt_number": 767
    },
    {
     "cell_type": "code",
     "collapsed": false,
     "input": [
      "def luminance_Newhall1943_vectorise(V, **kwargs):\n",
      "    V = as_array(V)\n",
      "\n",
      "    R_Y = (1.2219 * V - 0.23111 * (V * V) + 0.23951 * (V ** 3) - 0.021009 *\n",
      "           (V ** 4) + 0.0008404 * (V ** 5))\n",
      "\n",
      "    return as_numeric(R_Y)\n",
      "\n",
      "\n",
      "print('Reference:')\n",
      "print(luminance_Newhall1943(3.74629715382))\n",
      "\n",
      "print('\\n')\n",
      "\n",
      "print('1d array:')\n",
      "print(luminance_Newhall1943_vectorise(3.74629715382))\n",
      "\n",
      "print('\\n')\n",
      "\n",
      "print('2d array:')\n",
      "print(luminance_Newhall1943_vectorise([3.74629715382, 3.74629715382, 3.74629715382, 3.74629715382, 3.74629715382]))"
     ],
     "language": "python",
     "metadata": {},
     "outputs": [
      {
       "output_type": "stream",
       "stream": "stdout",
       "text": [
        "Reference:\n",
        "10.4089874577\n",
        "\n",
        "\n",
        "1d array:\n",
        "10.4089874577\n",
        "\n",
        "\n",
        "2d array:\n",
        "[ 10.40898746  10.40898746  10.40898746  10.40898746  10.40898746]\n"
       ]
      }
     ],
     "prompt_number": 768
    },
    {
     "cell_type": "code",
     "collapsed": false,
     "input": [
      "%timeit luminance_Newhall1943_vectorise(L)"
     ],
     "language": "python",
     "metadata": {},
     "outputs": [
      {
       "output_type": "stream",
       "stream": "stdout",
       "text": [
        "1 loops, best of 3: 258 ms per loop\n"
       ]
      }
     ],
     "prompt_number": 769
    },
    {
     "cell_type": "heading",
     "level": 3,
     "metadata": {},
     "source": [
      "colour.luminance_ASTMD153508"
     ]
    },
    {
     "cell_type": "code",
     "collapsed": false,
     "input": [
      "def luminance_ASTMD153508_2d(L):\n",
      "    for L_ in L:\n",
      "        luminance_ASTMD153508(L_)"
     ],
     "language": "python",
     "metadata": {},
     "outputs": [],
     "prompt_number": 770
    },
    {
     "cell_type": "code",
     "collapsed": false,
     "input": [
      "%timeit luminance_ASTMD153508_2d(L)"
     ],
     "language": "python",
     "metadata": {},
     "outputs": [
      {
       "output_type": "stream",
       "stream": "stdout",
       "text": [
        "1 loops, best of 3: 5.94 s per loop\n"
       ]
      }
     ],
     "prompt_number": 771
    },
    {
     "cell_type": "code",
     "collapsed": false,
     "input": [
      "def luminance_ASTMD153508_vectorise(V, **kwargs):\n",
      "    V = as_array(V)\n",
      "\n",
      "    Y = (1.1914 * V - 0.22533 * (V ** 2) + 0.23352 * (V ** 3) - 0.020484 *\n",
      "         (V ** 4) + 0.00081939 * (V ** 5))\n",
      "\n",
      "    return as_numeric(Y)\n",
      "\n",
      "\n",
      "print('Reference:')\n",
      "print(luminance_ASTMD153508(3.74629715382))\n",
      "\n",
      "print('\\n')\n",
      "\n",
      "print('1d array:')\n",
      "print(luminance_ASTMD153508_vectorise(3.74629715382))\n",
      "\n",
      "print('\\n')\n",
      "\n",
      "print('2d array:')\n",
      "print(luminance_ASTMD153508_vectorise([3.74629715382, 3.74629715382, 3.74629715382, 3.74629715382, 3.74629715382]))"
     ],
     "language": "python",
     "metadata": {},
     "outputs": [
      {
       "output_type": "stream",
       "stream": "stdout",
       "text": [
        "Reference:\n",
        "10.1488096782\n",
        "\n",
        "\n",
        "1d array:\n",
        "10.1488096782\n",
        "\n",
        "\n",
        "2d array:\n",
        "[ 10.14880968  10.14880968  10.14880968  10.14880968  10.14880968]\n"
       ]
      }
     ],
     "prompt_number": 772
    },
    {
     "cell_type": "code",
     "collapsed": false,
     "input": [
      "%timeit luminance_ASTMD153508_vectorise(L)"
     ],
     "language": "python",
     "metadata": {},
     "outputs": [
      {
       "output_type": "stream",
       "stream": "stdout",
       "text": [
        "1 loops, best of 3: 243 ms per loop\n"
       ]
      }
     ],
     "prompt_number": 773
    },
    {
     "cell_type": "heading",
     "level": 3,
     "metadata": {},
     "source": [
      "colour.luminance_1976"
     ]
    },
    {
     "cell_type": "code",
     "collapsed": false,
     "input": [
      "def luminance_1976_2d(L):\n",
      "    for L_ in L:\n",
      "        luminance_1976(L_)"
     ],
     "language": "python",
     "metadata": {},
     "outputs": [],
     "prompt_number": 774
    },
    {
     "cell_type": "code",
     "collapsed": false,
     "input": [
      "%timeit luminance_1976_2d(L)"
     ],
     "language": "python",
     "metadata": {},
     "outputs": [
      {
       "output_type": "stream",
       "stream": "stdout",
       "text": [
        "1 loops, best of 3: 3.34 s per loop\n"
       ]
      }
     ],
     "prompt_number": 775
    },
    {
     "cell_type": "code",
     "collapsed": false,
     "input": [
      "def luminance_1976_vectorise(Lstar, Y_n=100):\n",
      "    Lstar = as_array(Lstar)\n",
      "    Y_n = np.resize(as_array(Y_n), Lstar.shape)\n",
      "\n",
      "    Y = np.where(Lstar > CIE_K * CIE_E,\n",
      "                 Y_n * ((Lstar + 16) / 116) ** 3,\n",
      "                 Y_n * (Lstar / CIE_K))\n",
      "\n",
      "    return as_numeric(Y)\n",
      "\n",
      "\n",
      "print('Reference:')\n",
      "print(luminance_1976(37.9856290977))\n",
      "\n",
      "print('\\n')\n",
      "\n",
      "print('1d array:')\n",
      "print(luminance_1976_vectorise(37.9856290977))\n",
      "\n",
      "print('\\n')\n",
      "\n",
      "print('2d array:')\n",
      "print(luminance_1976_vectorise(\n",
      "    [37.9856290977, 37.9856290977, 37.9856290977, 37.9856290977, 37.9856290977]))"
     ],
     "language": "python",
     "metadata": {},
     "outputs": [
      {
       "output_type": "stream",
       "stream": "stdout",
       "text": [
        "Reference:\n",
        "10.08\n",
        "\n",
        "\n",
        "1d array:\n",
        "10.08\n",
        "\n",
        "\n",
        "2d array:\n",
        "[ 10.08  10.08  10.08  10.08  10.08]\n"
       ]
      }
     ],
     "prompt_number": 776
    },
    {
     "cell_type": "code",
     "collapsed": false,
     "input": [
      "%timeit luminance_1976_vectorise(L)"
     ],
     "language": "python",
     "metadata": {},
     "outputs": [
      {
       "output_type": "stream",
       "stream": "stdout",
       "text": [
        "1 loops, best of 3: 228 ms per loop\n"
       ]
      }
     ],
     "prompt_number": 777
    },
    {
     "cell_type": "heading",
     "level": 2,
     "metadata": {},
     "source": [
      "colour.colorimetry.spectrum"
     ]
    },
    {
     "cell_type": "heading",
     "level": 3,
     "metadata": {},
     "source": [
      "colour.SpectralShape"
     ]
    },
    {
     "cell_type": "code",
     "collapsed": false,
     "input": [
      "from pprint import pprint\n",
      "\n",
      "from colour.colorimetry.spectrum import *\n",
      "\n",
      "\n",
      "def SpectralShape__contains__(self, wavelength):\n",
      "    wavelengths = self.range()\n",
      "    return all(wavelength in wavelengths \n",
      "               for wavelength in as_array(wavelength))\n",
      "\n",
      "\n",
      "SpectralShape.__contains__ = SpectralShape__contains__\n",
      "\n",
      "print(380 in SpectralShape(360, 830, 1))\n",
      "\n",
      "print((380, 480) in SpectralShape(360, 830, 1))\n",
      "\n",
      "print((380, 480.5) in SpectralShape(360, 830, 1))"
     ],
     "language": "python",
     "metadata": {},
     "outputs": [
      {
       "output_type": "stream",
       "stream": "stdout",
       "text": [
        "True\n",
        "True\n",
        "False\n"
       ]
      }
     ],
     "prompt_number": 778
    },
    {
     "cell_type": "heading",
     "level": 3,
     "metadata": {},
     "source": [
      "colour.SpectralPowerDistribution"
     ]
    },
    {
     "cell_type": "code",
     "collapsed": false,
     "input": [
      "def SpectralPowerDistribution__getitem__(self, wavelength):\n",
      "    if is_numeric(wavelength):\n",
      "        # self.data ===> self.__data\n",
      "        return self.data.__getitem__(wavelength)\n",
      "    elif is_iterable(wavelength):\n",
      "        # self.data ===> self.__data\n",
      "        return np.array([self.data.__getitem__(x) for x in wavelength])\n",
      "    elif type(wavelength) is slice:\n",
      "        return self.values[wavelength]\n",
      "    else:\n",
      "        raise NotImplementedError(\n",
      "            '\"{0}\" type is not supported for indexing!'.format(\n",
      "                type(wavelength)))\n",
      "\n",
      "\n",
      "SpectralPowerDistribution.__getitem__ = SpectralPowerDistribution__getitem__\n",
      "\n",
      "data = {510: 49.67, 520: 69.59, 530: 81.73, 540: 88.19}\n",
      "spd = SpectralPowerDistribution('Spd', data)\n",
      "\n",
      "print(spd[510])\n",
      "\n",
      "print('\\n')\n",
      "\n",
      "print(spd[(510, 520)])\n",
      "\n",
      "print('\\n')\n",
      "\n",
      "print(spd[0:-1])"
     ],
     "language": "python",
     "metadata": {},
     "outputs": [
      {
       "output_type": "stream",
       "stream": "stdout",
       "text": [
        "49.67\n",
        "\n",
        "\n",
        "[ 49.67  69.59]\n",
        "\n",
        "\n",
        "[ 49.67  69.59  81.73]\n"
       ]
      }
     ],
     "prompt_number": 779
    },
    {
     "cell_type": "code",
     "collapsed": false,
     "input": [
      "def SpectralPowerDistribution__setitem__(self, wavelength, value):\n",
      "    if is_numeric(wavelength) or is_iterable(wavelength):\n",
      "        wavelengths = as_array(wavelength)\n",
      "    elif type(wavelength) is slice:\n",
      "        wavelengths = self.wavelengths[wavelength]\n",
      "    else:\n",
      "        raise NotImplementedError(\n",
      "            '\"{0}\" type is not supported for indexing!'.format(\n",
      "                type(wavelength)))\n",
      "\n",
      "    values = np.resize(as_array(value), wavelengths.shape)\n",
      "    for i in range(len(wavelengths)):\n",
      "        # self.data ===> self.__data\n",
      "        self.data.__setitem__(wavelengths[i], values[i])\n",
      "\n",
      "\n",
      "SpectralPowerDistribution.__setitem__ = SpectralPowerDistribution__setitem__\n",
      "\n",
      "spd = SpectralPowerDistribution('Spd', {})\n",
      "\n",
      "spd[510] = 49.67\n",
      "pprint(list(spd.items))\n",
      "\n",
      "print('\\n')\n",
      "\n",
      "spd[(520, 530)] = (69.59, 81.73)\n",
      "pprint(list(spd.items))\n",
      "\n",
      "print('\\n')\n",
      "\n",
      "spd[(540, 550)] = 88.19\n",
      "pprint(list(spd.items))\n",
      "\n",
      "print('\\n')\n",
      "\n",
      "spd[:] = 49.67\n",
      "pprint(list(spd.items))\n",
      "\n",
      "print('\\n')\n",
      "\n",
      "spd[0:3] = 69.59\n",
      "pprint(list(spd.items))"
     ],
     "language": "python",
     "metadata": {},
     "outputs": [
      {
       "output_type": "stream",
       "stream": "stdout",
       "text": [
        "[(510.0, 49.670000000000002)]\n",
        "\n",
        "\n",
        "[(510.0, 49.670000000000002),\n",
        " (520.0, 69.590000000000003),\n",
        " (530.0, 81.730000000000004)]\n",
        "\n",
        "\n",
        "[(510.0, 49.670000000000002),\n",
        " (520.0, 69.590000000000003),\n",
        " (530.0, 81.730000000000004),\n",
        " (540.0, 88.189999999999998),\n",
        " (550.0, 88.189999999999998)]\n",
        "\n",
        "\n",
        "[(510.0, 49.670000000000002),\n",
        " (520.0, 49.670000000000002),\n",
        " (530.0, 49.670000000000002),\n",
        " (540.0, 49.670000000000002),\n",
        " (550.0, 49.670000000000002)]\n",
        "\n",
        "\n",
        "[(510.0, 69.590000000000003),\n",
        " (520.0, 69.590000000000003),\n",
        " (530.0, 69.590000000000003),\n",
        " (540.0, 49.670000000000002),\n",
        " (550.0, 49.670000000000002)]\n"
       ]
      }
     ],
     "prompt_number": 780
    },
    {
     "cell_type": "code",
     "collapsed": false,
     "input": [
      "def SpectralPowerDistribution_get(self, wavelength, default=None):\n",
      "    wavelength = as_array(wavelength)\n",
      "\n",
      "    return as_numeric(np.array([self.data.get(x, default)\n",
      "                                for x in wavelength]))\n",
      "\n",
      "\n",
      "SpectralPowerDistribution.get = SpectralPowerDistribution_get\n",
      "\n",
      "data = {510: 49.67, 520: 69.59, 530: 81.73, 540: 88.19}\n",
      "spd = SpectralPowerDistribution('Spd', data)\n",
      "\n",
      "print(spd.get(510))\n",
      "\n",
      "print('\\n')\n",
      "\n",
      "print(spd.get((510, 520)))\n",
      "\n",
      "print('\\n')\n",
      "\n",
      "print(spd.get((510, 520, 521)))"
     ],
     "language": "python",
     "metadata": {},
     "outputs": [
      {
       "output_type": "stream",
       "stream": "stdout",
       "text": [
        "49.67\n",
        "\n",
        "\n",
        "[ 49.67  69.59]\n",
        "\n",
        "\n",
        "[49.67 69.59 None]\n"
       ]
      }
     ],
     "prompt_number": 781
    },
    {
     "cell_type": "code",
     "collapsed": false,
     "input": [
      "def SpectralPowerDistribution__contains__(self, wavelength):\n",
      "    wavelengths = self.wavelengths\n",
      "    return all(wavelength in wavelengths \n",
      "               for wavelength in as_array(wavelength))\n",
      "\n",
      "\n",
      "SpectralPowerDistribution.__contains__ = SpectralPowerDistribution__contains__\n",
      "\n",
      "data = {510: 49.67, 520: 69.59, 530: 81.73, 540: 88.19}\n",
      "spd = SpectralPowerDistribution('Spd', data)\n",
      "\n",
      "print(510 in spd)\n",
      "\n",
      "print('\\n')\n",
      "\n",
      "print((510, 520) in spd)\n",
      "\n",
      "print('\\n')\n",
      "\n",
      "print((510, 520, 521) in spd)"
     ],
     "language": "python",
     "metadata": {},
     "outputs": [
      {
       "output_type": "stream",
       "stream": "stdout",
       "text": [
        "True\n",
        "\n",
        "\n",
        "True\n",
        "\n",
        "\n",
        "False\n"
       ]
      }
     ],
     "prompt_number": 782
    },
    {
     "cell_type": "heading",
     "level": 3,
     "metadata": {},
     "source": [
      "colour.TriSpectralPowerDistribution"
     ]
    },
    {
     "cell_type": "code",
     "collapsed": false,
     "input": [
      "def TriSpectralPowerDistribution__getitem__(self, wavelength):\n",
      "    return np.swapaxes(np.array((self.x[wavelength],\n",
      "                                 self.y[wavelength],\n",
      "                                 self.z[wavelength])), 0, 1)\n",
      "\n",
      "\n",
      "TriSpectralPowerDistribution.__getitem__ = TriSpectralPowerDistribution__getitem__\n",
      "\n",
      "x_bar = {510: 49.67, 520: 69.59, 530: 81.73, 540: 88.19}\n",
      "y_bar = {510: 90.56, 520: 87.34, 530: 45.76, 540: 23.45}\n",
      "z_bar = {510: 12.43, 520: 23.15, 530: 67.98, 540: 90.28}\n",
      "data = {'x_bar': x_bar, 'y_bar': y_bar, 'z_bar': z_bar}\n",
      "mpg = {'x': 'x_bar', 'y': 'y_bar', 'z': 'z_bar'}\n",
      "tri_spd = TriSpectralPowerDistribution('Tri Spd', data, mpg)\n",
      "\n",
      "print(tri_spd[510])\n",
      "\n",
      "print('\\n')\n",
      "\n",
      "print(tri_spd[(510, 520)])\n",
      "\n",
      "print('\\n')\n",
      "\n",
      "print(tri_spd[0:-1])"
     ],
     "language": "python",
     "metadata": {},
     "outputs": [
      {
       "output_type": "stream",
       "stream": "stdout",
       "text": [
        "[ 49.67  90.56  12.43]\n",
        "\n",
        "\n",
        "[[ 49.67  90.56  12.43]\n",
        " [ 69.59  87.34  23.15]]\n",
        "\n",
        "\n",
        "[[ 49.67  90.56  12.43]\n",
        " [ 69.59  87.34  23.15]\n",
        " [ 81.73  45.76  67.98]]\n"
       ]
      }
     ],
     "prompt_number": 783
    },
    {
     "cell_type": "code",
     "collapsed": false,
     "input": [
      "def TriSpectralPowerDistribution__setitem__(self, wavelength, value):\n",
      "    if is_numeric(wavelength) or is_iterable(wavelength):\n",
      "        wavelengths = as_array(wavelength)\n",
      "    elif type(wavelength) is slice:\n",
      "        wavelengths = self.wavelengths[wavelength]\n",
      "    else:\n",
      "        raise NotImplementedError(\n",
      "            '\"{0}\" type is not supported for indexing!'.format(\n",
      "                type(wavelength)))\n",
      "\n",
      "    value = np.resize(as_array(value), (wavelengths.shape[0], 3))\n",
      "    x, y, z = value[:, 0], value[:, 1], value[:, 2]\n",
      "\n",
      "    self.x.__setitem__(wavelengths, x)\n",
      "    self.y.__setitem__(wavelengths, y)\n",
      "    self.z.__setitem__(wavelengths, z)\n",
      "\n",
      "\n",
      "TriSpectralPowerDistribution.__setitem__ = TriSpectralPowerDistribution__setitem__\n",
      "\n",
      "data = {'x_bar': {}, 'y_bar': {}, 'z_bar': {}}\n",
      "mpg = {'x': 'x_bar', 'y': 'y_bar', 'z': 'z_bar'}\n",
      "tri_spd = TriSpectralPowerDistribution('Tri Spd', data, mpg)\n",
      "\n",
      "tri_spd[510] = 49.67\n",
      "pprint(list(tri_spd.items))\n",
      "\n",
      "print('\\n')\n",
      "\n",
      "tri_spd[(520, 530)] = (69.59, 81.73)\n",
      "pprint(list(tri_spd.items))\n",
      "\n",
      "print('\\n')\n",
      "\n",
      "tri_spd[(540, 550)] = ((49.67, 69.59, 81.73), (81.73, 69.59, 49.67))\n",
      "pprint(list(tri_spd.items))\n",
      "\n",
      "print('\\n')\n",
      "\n",
      "tri_spd[:] = 49.67\n",
      "pprint(list(tri_spd.items))\n",
      "\n",
      "print('\\n')\n",
      "\n",
      "tri_spd[0:3] = ((81.73, 69.59, 49.67), (49.67, 69.59, 81.73))\n",
      "pprint(list(tri_spd.items))"
     ],
     "language": "python",
     "metadata": {},
     "outputs": [
      {
       "output_type": "stream",
       "stream": "stdout",
       "text": [
        "[(510.0, array([ 49.67,  49.67,  49.67]))]\n",
        "\n",
        "\n",
        "[(510.0, array([ 49.67,  49.67,  49.67])),\n",
        " (520.0, array([ 69.59,  81.73,  69.59])),\n",
        " (530.0, array([ 81.73,  69.59,  81.73]))]\n",
        "\n",
        "\n",
        "[(510.0, array([ 49.67,  49.67,  49.67])),\n",
        " (520.0, array([ 69.59,  81.73,  69.59])"
       ]
      },
      {
       "output_type": "stream",
       "stream": "stdout",
       "text": [
        "),\n",
        " (530.0, array([ 81.73,  69.59,  81.73])),\n",
        " (540.0, array([ 49.67,  69.59,  81.73])),\n",
        " (550.0, array([ 81.73,  69.59,  49.67]))]\n",
        "\n",
        "\n",
        "[(510.0, array([ 49.67,  49.67,  49.67])),\n",
        " (520.0, array([ 49.67,  49.67,  49.67])),\n",
        " (530.0, array([ 49.67,  49.67,  49.67])),\n",
        " (540.0, array([ 49.67,  49.67,  49.67])),\n",
        " (550.0, array([ 49.67,  49.67,  49.67]))]\n",
        "\n",
        "\n",
        "[(510.0, array([ 81.73,  69.59,  49.67])),\n",
        " (520.0, array([ 49.67,  69.59,  81.73])),\n",
        " (530.0, array([ 81.73,  69.59,  49.67])),\n",
        " (540.0, array([ 49.67,  49.67,  49.67])),\n",
        " (550.0, array([ 49.67,  49.67,  49.67]))]\n"
       ]
      }
     ],
     "prompt_number": 784
    },
    {
     "cell_type": "code",
     "collapsed": false,
     "input": [
      "def TriSpectralPowerDistribution_get(self, wavelength, default=None):\n",
      "    wavelength = as_array(wavelength)\n",
      "\n",
      "    return np.squeeze(np.array([(self.x.get(x, default),\n",
      "                                 self.y.get(x, default),\n",
      "                                 self.z.get(x, default)) for x in wavelength]))\n",
      "\n",
      "\n",
      "TriSpectralPowerDistribution.get = TriSpectralPowerDistribution_get\n",
      "\n",
      "x_bar = {510: 49.67, 520: 69.59, 530: 81.73, 540: 88.19}\n",
      "y_bar = {510: 90.56, 520: 87.34, 530: 45.76, 540: 23.45}\n",
      "z_bar = {510: 12.43, 520: 23.15, 530: 67.98, 540: 90.28}\n",
      "data = {'x_bar': x_bar, 'y_bar': y_bar, 'z_bar': z_bar}\n",
      "mpg = {'x': 'x_bar', 'y': 'y_bar', 'z': 'z_bar'}\n",
      "tri_spd = TriSpectralPowerDistribution('Tri Spd', data, mpg)\n",
      "\n",
      "print(tri_spd.get(510))\n",
      "\n",
      "print('\\n')\n",
      "\n",
      "print(tri_spd.get((510, 520)))\n",
      "\n",
      "print('\\n')\n",
      "\n",
      "print(tri_spd.get((510, 520, 521)))"
     ],
     "language": "python",
     "metadata": {},
     "outputs": [
      {
       "output_type": "stream",
       "stream": "stdout",
       "text": [
        "[ 49.67  90.56  12.43]\n",
        "\n",
        "\n",
        "[[ 49.67  90.56  12.43]\n",
        " [ 69.59  87.34  23.15]]\n",
        "\n",
        "\n",
        "[[49.67 90.56 12.43]\n",
        " [69.59 87.34 23.15]\n",
        " [array([None], dtype=object) array([None], dtype=object)\n",
        "  array([None], dtype=object)]]\n"
       ]
      }
     ],
     "prompt_number": 785
    },
    {
     "cell_type": "heading",
     "level": 2,
     "metadata": {},
     "source": [
      "colour.colorimetry.transformations"
     ]
    },
    {
     "cell_type": "heading",
     "level": 3,
     "metadata": {},
     "source": [
      "colour.RGB_2_degree_cmfs_to_XYZ_2_degree_cmfs"
     ]
    },
    {
     "cell_type": "code",
     "collapsed": false,
     "input": [
      "from colour import PHOTOPIC_LEFS, RGB_CMFS\n",
      "from colour.colorimetry.transformations import *\n",
      "\n",
      "def RGB_2_degree_cmfs_to_XYZ_2_degree_cmfs_vectorise(wavelength):\n",
      "    wavelength = as_array(wavelength)\n",
      "\n",
      "    cmfs = RGB_CMFS.get('Wright & Guild 1931 2 Degree RGB CMFs')\n",
      "\n",
      "    try:\n",
      "        rgb_bar = cmfs[wavelength]\n",
      "    except KeyError as error:\n",
      "        raise KeyError(('\"{0} nm\" wavelength not available in \"{1}\" colour '\n",
      "                        'matching functions with \"{2}\" shape!').format(\n",
      "            error.args[0], cmfs.name, cmfs.shape))\n",
      "\n",
      "    rgb = rgb_bar / np.sum(rgb_bar)\n",
      "\n",
      "    M1 = np.array([[0.49000, 0.31000, 0.20000],\n",
      "                   [0.17697, 0.81240, 0.01063],\n",
      "                   [0.00000, 0.01000, 0.99000]])\n",
      "\n",
      "    M2 = np.array([[0.66697, 1.13240, 1.20063],\n",
      "                   [0.66697, 1.13240, 1.20063],\n",
      "                   [0.66697, 1.13240, 1.20063]])\n",
      "\n",
      "    xyz = np.einsum('...i,...ji', rgb, M1)\n",
      "    xyz /= np.einsum('...i,...ji', rgb, M2)\n",
      "\n",
      "    x, y, z = xyz[:, 0], xyz[:, 1], xyz[:, 2]\n",
      "\n",
      "    V = PHOTOPIC_LEFS.get('CIE 1924 Photopic Standard Observer').clone()\n",
      "    V.align(cmfs.shape)\n",
      "    L = V.get(wavelength)\n",
      "\n",
      "    x_bar = x / y * L\n",
      "    y_bar = L\n",
      "    z_bar = z / y * L\n",
      "\n",
      "    return as_stack((x_bar, y_bar, z_bar))\n",
      "\n",
      "\n",
      "print('Reference:')\n",
      "print(RGB_2_degree_cmfs_to_XYZ_2_degree_cmfs(700))\n",
      "\n",
      "print('\\n')\n",
      "\n",
      "print('1d array:')\n",
      "print(RGB_2_degree_cmfs_to_XYZ_2_degree_cmfs_vectorise(700))\n",
      "\n",
      "print('\\n')\n",
      "\n",
      "print('2d array:')\n",
      "print(RGB_2_degree_cmfs_to_XYZ_2_degree_cmfs_vectorise([700, 700, 700, 700, 700]))"
     ],
     "language": "python",
     "metadata": {},
     "outputs": [
      {
       "output_type": "stream",
       "stream": "stdout",
       "text": [
        "Reference:\n",
        "[ 0.01135774  0.004102    0.        ]\n",
        "\n",
        "\n",
        "1d array:\n",
        "[ 0.01135774  0.004102    0.        ]\n",
        "\n",
        "\n",
        "2d array:\n",
        "[[ 0.01135774  0.004102    0.        ]\n",
        " [ 0.01135774  0.004102    0.        ]\n",
        " [ 0.01135774  0.004102    0.        ]\n",
        " [ 0.01135774  0.004102    0.        ]\n",
        " [ 0.01135774  0.004102    0.        ]]\n"
       ]
      }
     ],
     "prompt_number": 786
    },
    {
     "cell_type": "heading",
     "level": 3,
     "metadata": {},
     "source": [
      "colour.RGB_10_degree_cmfs_to_XYZ_10_degree_cmfs"
     ]
    },
    {
     "cell_type": "code",
     "collapsed": false,
     "input": [
      "def RGB_10_degree_cmfs_to_XYZ_10_degree_cmfs_vectorise(wavelength):\n",
      "    wavelength = as_array(wavelength)\n",
      "\n",
      "    cmfs = RGB_CMFS.get('Stiles & Burch 1959 10 Degree RGB CMFs')\n",
      "\n",
      "    try:\n",
      "        rgb_bar = cmfs[wavelength]\n",
      "    except KeyError as error:\n",
      "        raise KeyError(('\"{0} nm\" wavelength not available in \"{1}\" colour '\n",
      "                        'matching functions with \"{2}\" shape!').format(\n",
      "            error.args[0], cmfs.name, cmfs.shape))\n",
      "\n",
      "    M = np.array([[0.341080, 0.189145, 0.387529],\n",
      "                  [0.139058, 0.837460, 0.073316],\n",
      "                  [0.000000, 0.039553, 2.026200]])\n",
      "\n",
      "    xyz_bar = np.squeeze(np.einsum('...i,...ji', rgb_bar, M))\n",
      "\n",
      "    return xyz_bar\n",
      "\n",
      "\n",
      "print('Reference:')\n",
      "print(RGB_10_degree_cmfs_to_XYZ_10_degree_cmfs(700))\n",
      "\n",
      "print('\\n')\n",
      "\n",
      "print('1d array:')\n",
      "print(RGB_10_degree_cmfs_to_XYZ_10_degree_cmfs_vectorise(700))\n",
      "\n",
      "print('\\n')\n",
      "\n",
      "print('2d array:')\n",
      "print(RGB_10_degree_cmfs_to_XYZ_10_degree_cmfs_vectorise([700, 700, 700, 700, 700]))"
     ],
     "language": "python",
     "metadata": {},
     "outputs": [
      {
       "output_type": "stream",
       "stream": "stdout",
       "text": [
        "Reference:\n",
        "[  9.64321500e-03   3.75263179e-03  -4.10788300e-06]\n",
        "\n",
        "\n",
        "1d array:\n",
        "[  9.64321500e-03   3.75263179e-03  -4.10788300e-06]\n",
        "\n",
        "\n",
        "2d array:\n",
        "[[  9.64321500e-03   3.75263179e-03  -4.10788300e-06]\n",
        " [  9.64321500e-03   3.75263179e-03  -4.10788300e-06]\n",
        " [  9.64321500e-03   3.75263179e-03  -4.10788300e-06]\n",
        " [  9.64321500e-03   3.75263179e-03  -4.10788300e-06]\n",
        " [  9.64321500e-03   3.75263179e-03  -4.10788300e-06]]\n"
       ]
      }
     ],
     "prompt_number": 787
    },
    {
     "cell_type": "heading",
     "level": 3,
     "metadata": {},
     "source": [
      "colour.RGB_10_degree_cmfs_to_LMS_10_degree_cmfs"
     ]
    },
    {
     "cell_type": "code",
     "collapsed": false,
     "input": [
      "def RGB_10_degree_cmfs_to_LMS_10_degree_cmfs_vectorise(wavelength):\n",
      "    wavelength = as_array(wavelength)\n",
      "\n",
      "    cmfs = RGB_CMFS.get('Stiles & Burch 1959 10 Degree RGB CMFs')\n",
      "\n",
      "    try:\n",
      "        rgb_bar = cmfs[wavelength]\n",
      "    except KeyError as error:\n",
      "        raise KeyError(('\"{0} nm\" wavelength not available in \"{1}\" colour '\n",
      "                        'matching functions with \"{2}\" shape!').format(\n",
      "            error.args[0], cmfs.name, cmfs.shape))\n",
      "\n",
      "    M = np.array([[0.1923252690, 0.749548882, 0.0675726702],\n",
      "                  [0.0192290085, 0.940908496, 0.113830196],\n",
      "                  [0.0000000000, 0.0105107859, 0.991427669]])\n",
      "\n",
      "    lms_bar = np.einsum('...i,...ji', rgb_bar, M)\n",
      "\n",
      "    lms_bar[wavelength > 505, 2] = 0\n",
      "\n",
      "    lms_bar = np.squeeze(lms_bar)\n",
      "\n",
      "    return lms_bar\n",
      "\n",
      "\n",
      "print('Reference:')\n",
      "print(RGB_10_degree_cmfs_to_LMS_10_degree_cmfs(700))\n",
      "\n",
      "print('\\n')\n",
      "\n",
      "print('1d array:')\n",
      "print(RGB_10_degree_cmfs_to_LMS_10_degree_cmfs_vectorise(700))\n",
      "\n",
      "print('\\n')\n",
      "\n",
      "print('2d array:')\n",
      "print(RGB_10_degree_cmfs_to_LMS_10_degree_cmfs_vectorise([700, 700, 700, 700, 700]))"
     ],
     "language": "python",
     "metadata": {},
     "outputs": [
      {
       "output_type": "stream",
       "stream": "stdout",
       "text": [
        "Reference:\n",
        "[ 0.00528607  0.00032528  0.        ]\n",
        "\n",
        "\n",
        "1d array:\n",
        "[ 0.00528607  0.00032528  0.        ]\n",
        "\n",
        "\n",
        "2d array:\n",
        "[[ 0.00528607  0.00032528  0.        ]\n",
        " [ 0.00528607  0.00032528  0.        ]\n",
        " [ 0.00528607  0.00032528  0.        ]\n",
        " [ 0.00528607  0.00032528  0.        ]\n",
        " [ 0.00528607  0.00032528  0.        ]]\n"
       ]
      }
     ],
     "prompt_number": 788
    },
    {
     "cell_type": "heading",
     "level": 3,
     "metadata": {},
     "source": [
      "colour.LMS_2_degree_cmfs_to_XYZ_2_degree_cmfs"
     ]
    },
    {
     "cell_type": "code",
     "collapsed": false,
     "input": [
      "from colour import LMS_CMFS\n",
      "\n",
      "def LMS_2_degree_cmfs_to_XYZ_2_degree_cmfs_vectorise(wavelength):\n",
      "    wavelength = as_array(wavelength)\n",
      "\n",
      "    cmfs = LMS_CMFS.get('Stockman & Sharpe 2 Degree Cone Fundamentals')\n",
      "    \n",
      "    try:\n",
      "        lms_bar = cmfs[wavelength]\n",
      "    except KeyError as error:\n",
      "        raise KeyError(('\"{0} nm\" wavelength not available in \"{1}\" colour '\n",
      "                        'matching functions with \"{2}\" shape!').format(\n",
      "            error.args[0], cmfs.name, cmfs.shape))\n",
      "\n",
      "    M = np.array([[1.94735469, -1.41445123, 0.36476327],\n",
      "                  [0.68990272, 0.34832189, 0.00000000],\n",
      "                  [0.00000000, 0.00000000, 1.93485343]])\n",
      "\n",
      "    xyz_bar = np.squeeze(np.einsum('...i,...ji', lms_bar, M))\n",
      "\n",
      "    return xyz_bar\n",
      "\n",
      "\n",
      "print('Reference:')\n",
      "print(LMS_2_degree_cmfs_to_XYZ_2_degree_cmfs(700))\n",
      "\n",
      "print('\\n')\n",
      "\n",
      "print('1d array:')\n",
      "print(LMS_2_degree_cmfs_to_XYZ_2_degree_cmfs_vectorise(700))\n",
      "\n",
      "print('\\n')\n",
      "\n",
      "print('2d array:')\n",
      "print(LMS_2_degree_cmfs_to_XYZ_2_degree_cmfs_vectorise([700, 700, 700, 700, 700]))"
     ],
     "language": "python",
     "metadata": {},
     "outputs": [
      {
       "output_type": "stream",
       "stream": "stdout",
       "text": [
        "Reference:\n",
        "[ 0.01096778  0.00419594  0.        ]\n",
        "\n",
        "\n",
        "1d array:\n",
        "[ 0.01096778  0.00419594  0.        ]\n",
        "\n",
        "\n",
        "2d array:\n",
        "[[ 0.01096778  0.00419594  0.        ]\n",
        " [ 0.01096778  0.00419594  0.        ]\n",
        " [ 0.01096778  0.00419594  0.        ]\n",
        " [ 0.01096778  0.00419594  0.        ]\n",
        " [ 0.01096778  0.00419594  0.        ]]\n"
       ]
      }
     ],
     "prompt_number": 789
    },
    {
     "cell_type": "heading",
     "level": 3,
     "metadata": {},
     "source": [
      "colour.LMS_10_degree_cmfs_to_XYZ_10_degree_cmfs"
     ]
    },
    {
     "cell_type": "code",
     "collapsed": false,
     "input": [
      "from colour import LMS_CMFS\n",
      "\n",
      "def LMS_10_degree_cmfs_to_XYZ_10_degree_cmfs_vectorise(wavelength):\n",
      "    wavelength = as_array(wavelength)\n",
      "\n",
      "    cmfs = LMS_CMFS.get('Stockman & Sharpe 10 Degree Cone Fundamentals')\n",
      "    \n",
      "    try:\n",
      "        lms_bar = cmfs[wavelength]\n",
      "    except KeyError as error:\n",
      "        raise KeyError(('\"{0} nm\" wavelength not available in \"{1}\" colour '\n",
      "                        'matching functions with \"{2}\" shape!').format(\n",
      "            error.args[0], cmfs.name, cmfs.shape))\n",
      "\n",
      "    M = np.array([[1.93986443, -1.34664359, 0.43044935],\n",
      "                  [0.69283932, 0.34967567, 0.00000000],\n",
      "                  [0.00000000, 0.00000000, 2.14687945]])\n",
      "\n",
      "    xyz_bar = np.squeeze(np.einsum('...i,...ji', lms_bar, M))\n",
      "\n",
      "    return xyz_bar\n",
      "\n",
      "\n",
      "print('Reference:')\n",
      "print(LMS_10_degree_cmfs_to_XYZ_10_degree_cmfs(700))\n",
      "\n",
      "print('\\n')\n",
      "\n",
      "print('1d array:')\n",
      "print(LMS_10_degree_cmfs_to_XYZ_10_degree_cmfs_vectorise(700))\n",
      "\n",
      "print('\\n')\n",
      "\n",
      "print('2d array:')\n",
      "print(LMS_10_degree_cmfs_to_XYZ_10_degree_cmfs_vectorise([700, 700, 700, 700, 700]))"
     ],
     "language": "python",
     "metadata": {},
     "outputs": [
      {
       "output_type": "stream",
       "stream": "stdout",
       "text": [
        "Reference:\n",
        "[ 0.00981623  0.00377614  0.        ]\n",
        "\n",
        "\n",
        "1d array:\n",
        "[ 0.00981623  0.00377614  0.        ]\n",
        "\n",
        "\n",
        "2d array:\n",
        "[[ 0.00981623  0.00377614  0.        ]\n",
        " [ 0.00981623  0.00377614  0.        ]\n",
        " [ 0.00981623  0.00377614  0.        ]\n",
        " [ 0.00981623  0.00377614  0.        ]\n",
        " [ 0.00981623  0.00377614  0.        ]]\n"
       ]
      }
     ],
     "prompt_number": 790
    },
    {
     "cell_type": "heading",
     "level": 2,
     "metadata": {},
     "source": [
      "colour.colorimetry.tristimulus"
     ]
    },
    {
     "cell_type": "heading",
     "level": 3,
     "metadata": {},
     "source": [
      "colour.wavelength_to_XYZ"
     ]
    },
    {
     "cell_type": "code",
     "collapsed": false,
     "input": [
      "from colour.colorimetry.tristimulus import *\n",
      "\n",
      "def wavelength_to_XYZ_2d(wavelengths):\n",
      "    for wavelength in wavelengths:\n",
      "        wavelength_to_XYZ(wavelength)\n",
      "        \n",
      "WAVELENGTHS = np.linspace(400, 700, 1000)"
     ],
     "language": "python",
     "metadata": {},
     "outputs": [],
     "prompt_number": 791
    },
    {
     "cell_type": "code",
     "collapsed": false,
     "input": [
      "%timeit wavelength_to_XYZ_2d(WAVELENGTHS)"
     ],
     "language": "python",
     "metadata": {},
     "outputs": [
      {
       "output_type": "stream",
       "stream": "stdout",
       "text": [
        "100 loops, best of 3: 3.33 ms per loop\n"
       ]
      }
     ],
     "prompt_number": 792
    },
    {
     "cell_type": "code",
     "collapsed": false,
     "input": [
      "from colour import STANDARD_OBSERVERS_CMFS, SpragueInterpolator, \\\n",
      "    SplineInterpolator\n",
      "\n",
      "\n",
      "def wavelength_to_XYZ_vectorise(wavelength,\n",
      "                                cmfs=STANDARD_OBSERVERS_CMFS.get(\n",
      "                                    'CIE 1931 2 Degree Standard Observer')):\n",
      "    wavelength = as_array(wavelength)\n",
      "\n",
      "    shape = cmfs.shape\n",
      "    if np.min(wavelength) < shape.start or np.max(wavelength) > shape.end:\n",
      "        raise ValueError(\n",
      "            '\"{0} nm\" wavelength is not in \"[{1}, {2}]\" domain!'.format(\n",
      "                wavelength, shape.start, shape.end))\n",
      "\n",
      "    if wavelength not in cmfs:\n",
      "        wavelengths, values, = cmfs.wavelengths, cmfs.values\n",
      "        interpolator = (SpragueInterpolator\n",
      "                        if cmfs.is_uniform() else\n",
      "                        SplineInterpolator)\n",
      "\n",
      "        interpolators = [interpolator(wavelengths, values[:, i])\n",
      "                         for i in range(values.shape[-1])]\n",
      "\n",
      "        return np.squeeze(np.swapaxes(np.array([interpolator(wavelength)\n",
      "                                                for interpolator in\n",
      "                                                interpolators]), 0, 1))\n",
      "    else:\n",
      "        return np.array(cmfs.get(wavelength))\n",
      "\n",
      "\n",
      "print('Reference:')\n",
      "print(wavelength_to_XYZ(480))\n",
      "\n",
      "print('\\n')\n",
      "\n",
      "print('1d array:')\n",
      "print(wavelength_to_XYZ_vectorise(480))\n",
      "\n",
      "print('\\n')\n",
      "\n",
      "print('2d array:')\n",
      "print(wavelength_to_XYZ_vectorise([480, 480, 480, 480, 480]))\n",
      "\n",
      "print('\\n')\n",
      "\n",
      "print('2d array:')\n",
      "print(wavelength_to_XYZ_vectorise([480, 480, 480, 480, 480.5]))"
     ],
     "language": "python",
     "metadata": {},
     "outputs": [
      {
       "output_type": "stream",
       "stream": "stdout",
       "text": [
        "Reference:\n",
        "[ 0.09564    0.13902    0.8129501]\n",
        "\n",
        "\n",
        "1d array:\n",
        "[ 0.09564    0.13902    0.8129501]\n",
        "\n",
        "\n",
        "2d array:\n",
        "[[ 0.09564    0.13902    0.8129501]\n",
        " [ 0.09564    0.13902    0.8129501]\n",
        " [ 0.09564    0.13902    0.8129501]\n",
        " [ 0.09564    0.13902    0.8129501]\n",
        " [ 0.09564    0.13902    0.8129501]]\n",
        "\n",
        "\n",
        "2d array:\n",
        "[[ 0.09564     0.13902     0.8129501 ]\n",
        " [ 0.09564     0.13902     0.8129501 ]\n",
        " [ 0.09564     0.13902     0.8129501 ]\n",
        " [ 0.09564     0.13902     0.8129501 ]\n",
        " [ 0.09142876  0.14183505  0.79157269]]\n"
       ]
      }
     ],
     "prompt_number": 793
    },
    {
     "cell_type": "code",
     "collapsed": false,
     "input": [
      "%timeit wavelength_to_XYZ_vectorise(WAVELENGTHS)"
     ],
     "language": "python",
     "metadata": {},
     "outputs": [
      {
       "output_type": "stream",
       "stream": "stdout",
       "text": [
        "1 loops, best of 3: 180 ms per loop\n"
       ]
      }
     ],
     "prompt_number": 794
    },
    {
     "cell_type": "heading",
     "level": 2,
     "metadata": {},
     "source": [
      "colour.difference.delta_e"
     ]
    },
    {
     "cell_type": "heading",
     "level": 3,
     "metadata": {},
     "source": [
      "colour.delta_E_CIE1976"
     ]
    },
    {
     "cell_type": "code",
     "collapsed": false,
     "input": [
      "from colour.difference.delta_e import *\n",
      "\n",
      "def delta_E_CIE1976_2d(Lab1, Lab2):\n",
      "    for i in range(len(Lab1)):\n",
      "        delta_E_CIE1976(Lab1[i], Lab2[i])"
     ],
     "language": "python",
     "metadata": {},
     "outputs": [],
     "prompt_number": 795
    },
    {
     "cell_type": "code",
     "collapsed": false,
     "input": [
      "%timeit delta_E_CIE1976_2d(DATA1, DATA2)"
     ],
     "language": "python",
     "metadata": {},
     "outputs": [
      {
       "output_type": "stream",
       "stream": "stdout",
       "text": [
        "1 loops, best of 3: 18 s per loop\n"
       ]
      }
     ],
     "prompt_number": 796
    },
    {
     "cell_type": "code",
     "collapsed": false,
     "input": [
      "def delta_E_CIE1976_vectorise(Lab1, Lab2, **kwargs):\n",
      "    Lab1 = as_array(Lab1, (-1, 3))\n",
      "    Lab2 = as_array(Lab2, (-1, 3))\n",
      "\n",
      "    return as_numeric(np.linalg.norm(np.array(Lab1) - np.array(Lab2), axis=1))\n",
      "\n",
      "\n",
      "print('Reference:')\n",
      "Lab1 = np.array([100, 21.57210357, 272.2281935])\n",
      "Lab2 = np.array([100, 426.67945353, 72.39590835])\n",
      "print(delta_E_CIE1976(Lab1, Lab2))\n",
      "\n",
      "print('\\n')\n",
      "\n",
      "print('1d array:')\n",
      "print(delta_E_CIE1976_vectorise(Lab1, Lab2))\n",
      "\n",
      "print('\\n')\n",
      "\n",
      "print('2d array:')\n",
      "Lab1 = np.tile(Lab1, (5, 1))\n",
      "Lab2 = np.tile(Lab2, (5, 1))\n",
      "print(delta_E_CIE1976_vectorise(Lab1, Lab2))"
     ],
     "language": "python",
     "metadata": {},
     "outputs": [
      {
       "output_type": "stream",
       "stream": "stdout",
       "text": [
        "Reference:\n",
        "451.713301974\n",
        "\n",
        "\n",
        "1d array:\n",
        "451.713301974\n",
        "\n",
        "\n",
        "2d array:\n",
        "[ 451.71330197  451.71330197  451.71330197  451.71330197  451.71330197]\n"
       ]
      }
     ],
     "prompt_number": 797
    },
    {
     "cell_type": "code",
     "collapsed": false,
     "input": [
      "%timeit delta_E_CIE1976_vectorise(DATA1, DATA2)"
     ],
     "language": "python",
     "metadata": {},
     "outputs": [
      {
       "output_type": "stream",
       "stream": "stdout",
       "text": [
        "10 loops, best of 3: 65.6 ms per loop\n"
       ]
      }
     ],
     "prompt_number": 798
    },
    {
     "cell_type": "heading",
     "level": 3,
     "metadata": {},
     "source": [
      "colour.delta_E_CIE1994"
     ]
    },
    {
     "cell_type": "code",
     "collapsed": false,
     "input": [
      "def delta_E_CIE1994_2d(Lab1, Lab2):\n",
      "    for i in range(len(Lab1)):\n",
      "        delta_E_CIE1994(Lab1[i], Lab2[i])"
     ],
     "language": "python",
     "metadata": {},
     "outputs": [],
     "prompt_number": 799
    },
    {
     "cell_type": "code",
     "collapsed": false,
     "input": [
      "%timeit delta_E_CIE1994_2d(DATA1, DATA2)"
     ],
     "language": "python",
     "metadata": {},
     "outputs": [
      {
       "output_type": "stream",
       "stream": "stdout",
       "text": [
        "1 loops, best of 3: 52.8 s per loop\n"
       ]
      }
     ],
     "prompt_number": 800
    },
    {
     "cell_type": "code",
     "collapsed": false,
     "input": [
      "def delta_E_CIE1994_vectorise(Lab1, Lab2, textiles=True, **kwargs):\n",
      "\n",
      "    k1 = 0.048 if textiles else 0.045\n",
      "    k2 = 0.014 if textiles else 0.015\n",
      "    kL = 2 if textiles else 1\n",
      "    kC = 1\n",
      "    kH = 1\n",
      "\n",
      "    Lab1 = as_array(Lab1, (-1, 3))\n",
      "    Lab2 = as_array(Lab2, (-1, 3))\n",
      "    \n",
      "    L1, a1, b1 = Lab1[:, 0], Lab1[:, 1], Lab1[:, 2]\n",
      "    L2, a2, b2 = Lab2[:, 0], Lab2[:, 1], Lab2[:, 2]\n",
      "\n",
      "    C1 = np.sqrt(a1 ** 2 + b1 ** 2)\n",
      "    C2 = np.sqrt(a2 ** 2 + b2 ** 2)\n",
      "\n",
      "    sL = 1\n",
      "    sC = 1 + k1 * C1\n",
      "    sH = 1 + k2 * C1\n",
      "\n",
      "    delta_L = L1 - L2\n",
      "    delta_C = C1 - C2\n",
      "    delta_A = a1 - a2\n",
      "    delta_B = b1 - b2\n",
      "\n",
      "    delta_H = np.sqrt(delta_A ** 2 + delta_B ** 2 - delta_C ** 2)\n",
      "\n",
      "    L = (delta_L / (kL * sL)) ** 2\n",
      "    C = (delta_C / (kC * sC)) ** 2\n",
      "    H = (delta_H / (kH * sH)) ** 2\n",
      "\n",
      "    return as_numeric(np.sqrt(L + C + H))\n",
      "\n",
      "\n",
      "print('Reference:')\n",
      "Lab1 = np.array([100, 21.57210357, 272.2281935])\n",
      "Lab2 = np.array([100, 426.67945353, 72.39590835])\n",
      "print(delta_E_CIE1994(Lab1, Lab2))\n",
      "\n",
      "print('\\n')\n",
      "\n",
      "print('1d array:')\n",
      "print(delta_E_CIE1994_vectorise(Lab1, Lab2))\n",
      "\n",
      "print('\\n')\n",
      "\n",
      "print('2d array:')\n",
      "Lab1 = np.tile(Lab1, (5, 1))\n",
      "Lab2 = np.tile(Lab2, (5, 1))\n",
      "print(delta_E_CIE1994_vectorise(Lab1, Lab2))"
     ],
     "language": "python",
     "metadata": {},
     "outputs": [
      {
       "output_type": "stream",
       "stream": "stdout",
       "text": [
        "Reference:\n",
        "88.3355530575\n",
        "\n",
        "\n",
        "1d array:\n",
        "88.3355530575\n",
        "\n",
        "\n",
        "2d array:\n",
        "[ 88.33555306  88.33555306  88.33555306  88.33555306  88.33555306]\n"
       ]
      }
     ],
     "prompt_number": 801
    },
    {
     "cell_type": "code",
     "collapsed": false,
     "input": [
      "%timeit delta_E_CIE1994_vectorise(DATA1, DATA2)"
     ],
     "language": "python",
     "metadata": {},
     "outputs": [
      {
       "output_type": "stream",
       "stream": "stdout",
       "text": [
        "10 loops, best of 3: 139 ms per loop\n"
       ]
      }
     ],
     "prompt_number": 802
    },
    {
     "cell_type": "heading",
     "level": 3,
     "metadata": {},
     "source": [
      "colour.delta_E_CIE2000"
     ]
    },
    {
     "cell_type": "code",
     "collapsed": false,
     "input": [
      "def delta_E_CIE2000_2d(Lab1, Lab2):\n",
      "    for i in range(len(Lab1)):\n",
      "        delta_E_CIE2000(Lab1[i], Lab2[i])"
     ],
     "language": "python",
     "metadata": {},
     "outputs": [],
     "prompt_number": 803
    },
    {
     "cell_type": "code",
     "collapsed": false,
     "input": [
      "%timeit delta_E_CIE2000_2d(DATA1, DATA2)"
     ],
     "language": "python",
     "metadata": {},
     "outputs": [
      {
       "output_type": "stream",
       "stream": "stdout",
       "text": [
        "1 loops, best of 3: 3min 2s per loop\n"
       ]
      }
     ],
     "prompt_number": 804
    },
    {
     "cell_type": "code",
     "collapsed": false,
     "input": [
      "def delta_E_CIE2000_vectorise(Lab1, Lab2, **kwargs):\n",
      "    kL = 1\n",
      "    kC = 1\n",
      "    kH = 1\n",
      "\n",
      "    Lab1 = as_array(Lab1, (-1, 3))\n",
      "    Lab2 = as_array(Lab2, (-1, 3))\n",
      "\n",
      "    L1, a1, b1 = Lab1[:, 0], Lab1[:, 1], Lab1[:, 2]\n",
      "    L2, a2, b2 = Lab2[:, 0], Lab2[:, 1], Lab2[:, 2]\n",
      "\n",
      "    l_bar_prime = 0.5 * (L1 + L2)\n",
      "\n",
      "    c1 = np.sqrt(a1 * a1 + b1 * b1)\n",
      "    c2 = np.sqrt(a2 * a2 + b2 * b2)\n",
      "\n",
      "    c_bar = 0.5 * (c1 + c2)\n",
      "    c_bar7 = np.power(c_bar, 7)\n",
      "\n",
      "    g = 0.5 * (1 - np.sqrt(c_bar7 / (c_bar7 + 25 ** 7)))\n",
      "\n",
      "    a1_prime = a1 * (1 + g)\n",
      "    a2_prime = a2 * (1 + g)\n",
      "    c1_prime = np.sqrt(a1_prime * a1_prime + b1 * b1)\n",
      "    c2_prime = np.sqrt(a2_prime * a2_prime + b2 * b2)\n",
      "    c_bar_prime = 0.5 * (c1_prime + c2_prime)\n",
      "\n",
      "    h1_prime = np.rad2deg(np.arctan2(b1, a1_prime))\n",
      "    h1_prime[h1_prime < 0.0] += 360\n",
      "\n",
      "    h2_prime = np.rad2deg(np.arctan2(b2, a2_prime))\n",
      "    h2_prime[h2_prime < 0.0] += 360\n",
      "    \n",
      "    h_bar_prime = np.where(np.fabs(h1_prime - h2_prime) <= 180,\n",
      "                           0.5 * (h1_prime + h2_prime),\n",
      "                           (0.5 * (h1_prime + h2_prime + 360)))\n",
      "\n",
      "    t = (1 - 0.17 * np.cos(np.deg2rad(h_bar_prime - 30)) +\n",
      "         0.24 * np.cos(np.deg2rad(2 * h_bar_prime)) +\n",
      "         0.32 * np.cos(np.deg2rad(3 * h_bar_prime + 6)) -\n",
      "         0.20 * np.cos(np.deg2rad(4 * h_bar_prime - 63)))\n",
      "\n",
      "    h = h2_prime - h1_prime\n",
      "    delta_h_prime = np.where(h2_prime <= h1_prime, h - 360, h + 360)\n",
      "    delta_h_prime = np.where(np.fabs(h) <= 180, h, delta_h_prime)\n",
      "    \n",
      "    delta_L_prime = L2 - L1\n",
      "    delta_C_prime = c2_prime - c1_prime\n",
      "    delta_H_prime = (2 * np.sqrt(c1_prime * c2_prime) *\n",
      "                     np.sin(np.deg2rad(0.5 * delta_h_prime)))\n",
      "\n",
      "    sL = 1 + ((0.015 * (l_bar_prime - 50) * (l_bar_prime - 50)) /\n",
      "              np.sqrt(20 + (l_bar_prime - 50) * (l_bar_prime - 50)))\n",
      "    sC = 1 + 0.045 * c_bar_prime\n",
      "    sH = 1 + 0.015 * c_bar_prime * t\n",
      "\n",
      "    delta_theta = (30 * np.exp(-((h_bar_prime - 275) / 25) *\n",
      "                               ((h_bar_prime - 275) / 25)))\n",
      "\n",
      "    c_bar_prime7 = c_bar_prime ** 7\n",
      "\n",
      "    rC = np.sqrt(c_bar_prime7 / (c_bar_prime7 + 25 ** 7))\n",
      "    rT = -2 * rC * np.sin(np.deg2rad(2 * delta_theta))\n",
      "\n",
      "    return as_numeric(np.sqrt(\n",
      "        (delta_L_prime / (kL * sL)) * (delta_L_prime / (kL * sL)) +\n",
      "        (delta_C_prime / (kC * sC)) * (delta_C_prime / (kC * sC)) +\n",
      "        (delta_H_prime / (kH * sH)) * (delta_H_prime / (kH * sH)) +\n",
      "        (delta_C_prime / (kC * sC)) * (delta_H_prime / (kH * sH)) * rT))\n",
      "\n",
      "\n",
      "print('Reference:')\n",
      "Lab1 = np.array([100, 21.57210357, 272.2281935])\n",
      "Lab2 = np.array([100, 426.67945353, 72.39590835])\n",
      "print(delta_E_CIE2000(Lab1, Lab2))\n",
      "\n",
      "print('\\n')\n",
      "\n",
      "print('1d array:')\n",
      "print(delta_E_CIE2000_vectorise(Lab1, Lab2))\n",
      "\n",
      "print('\\n')\n",
      "\n",
      "print('2d array:')\n",
      "Lab1 = np.tile(Lab1, (5, 1))\n",
      "Lab2 = np.tile(Lab2, (5, 1))\n",
      "print(delta_E_CIE2000_vectorise(Lab1, Lab2))"
     ],
     "language": "python",
     "metadata": {},
     "outputs": [
      {
       "output_type": "stream",
       "stream": "stdout",
       "text": [
        "Reference:\n",
        "94.0356490267\n",
        "\n",
        "\n",
        "1d array:\n",
        "94.0356490267\n",
        "\n",
        "\n",
        "2d array:\n",
        "[ 94.03564903  94.03564903  94.03564903  94.03564903  94.03564903]\n"
       ]
      }
     ],
     "prompt_number": 805
    },
    {
     "cell_type": "code",
     "collapsed": false,
     "input": [
      "%timeit delta_E_CIE2000_vectorise(DATA1, DATA2)"
     ],
     "language": "python",
     "metadata": {},
     "outputs": [
      {
       "output_type": "stream",
       "stream": "stdout",
       "text": [
        "1 loops, best of 3: 1.55 s per loop\n"
       ]
      }
     ],
     "prompt_number": 806
    },
    {
     "cell_type": "heading",
     "level": 3,
     "metadata": {},
     "source": [
      "colour.delta_E_CMC"
     ]
    },
    {
     "cell_type": "code",
     "collapsed": false,
     "input": [
      "def delta_E_CMC_2d(Lab1, Lab2):\n",
      "    for i in range(len(Lab1)):\n",
      "        delta_E_CMC(Lab1[i], Lab2[i])"
     ],
     "language": "python",
     "metadata": {},
     "outputs": [],
     "prompt_number": 807
    },
    {
     "cell_type": "code",
     "collapsed": false,
     "input": [
      "%timeit delta_E_CMC_2d(DATA1, DATA2)"
     ],
     "language": "python",
     "metadata": {},
     "outputs": [
      {
       "output_type": "stream",
       "stream": "stdout",
       "text": [
        "1 loops, best of 3: 1min 4s per loop\n"
       ]
      }
     ],
     "prompt_number": 808
    },
    {
     "cell_type": "code",
     "collapsed": false,
     "input": [
      "def delta_E_CMC_vectorise(Lab1, Lab2, l=2, c=1):\n",
      "    Lab1 = as_array(Lab1, (-1, 3))\n",
      "    Lab2 = as_array(Lab2, (-1, 3))\n",
      "\n",
      "    L1, a1, b1 = Lab1[:, 0], Lab1[:, 1], Lab1[:, 2]\n",
      "    L2, a2, b2 = Lab2[:, 0], Lab2[:, 1], Lab2[:, 2]\n",
      "\n",
      "    c1 = np.sqrt(a1 * a1 + b1 * b1)\n",
      "    c2 = np.sqrt(a2 * a2 + b2 * b2)\n",
      "    sl = np.where(L1 < 16, 0.511, (0.040975 * L1) / (1 + 0.01765 * L1))\n",
      "    sc = 0.0638 * c1 / (1 + 0.0131 * c1) + 0.638\n",
      "    h1 = np.where(c1 < 0.000001, 0, np.rad2deg(np.arctan2(b1, a1)))\n",
      "\n",
      "    while np.any(h1 < 0):\n",
      "        h1[h1 < 0] += 360\n",
      "\n",
      "    while np.any(h1 >= 360):\n",
      "        h1[h1 >= 360] -= 360\n",
      "\n",
      "    t = np.where(np.logical_and(h1 >= 164, h1 <= 345),\n",
      "                 0.56 + np.fabs(0.2 * np.cos(np.deg2rad(h1 + 168))),\n",
      "                 0.36 + np.fabs(0.4 * np.cos(np.deg2rad(h1 + 35))))\n",
      "\n",
      "    c4 = c1 * c1 * c1 * c1\n",
      "    f = np.sqrt(c4 / (c4 + 1900))\n",
      "    sh = sc * (f * t + 1 - f)\n",
      "\n",
      "    delta_L = L1 - L2\n",
      "    delta_C = c1 - c2\n",
      "    delta_A = a1 - a2\n",
      "    delta_B = b1 - b2\n",
      "    delta_H2 = delta_A * delta_A + delta_B * delta_B - delta_C * delta_C\n",
      "\n",
      "    v1 = delta_L / (l * sl)\n",
      "    v2 = delta_C / (c * sc)\n",
      "    v3 = sh\n",
      "\n",
      "    return as_numeric(np.sqrt(v1 * v1 + v2 * v2 + (delta_H2 / (v3 * v3))))\n",
      "\n",
      "\n",
      "print('Reference:')\n",
      "Lab1 = np.array([100, 21.57210357, 272.2281935])\n",
      "Lab2 = np.array([100, 426.67945353, 72.39590835])\n",
      "print(delta_E_CMC(Lab1, Lab2))\n",
      "\n",
      "print('\\n')\n",
      "\n",
      "print('1d array:')\n",
      "print(delta_E_CMC_vectorise(Lab1, Lab2))\n",
      "\n",
      "print('\\n')\n",
      "\n",
      "print('2d array:')\n",
      "Lab1 = np.tile(Lab1, (5, 1))\n",
      "Lab2 = np.tile(Lab2, (5, 1))\n",
      "print(delta_E_CMC_vectorise(Lab1, Lab2))"
     ],
     "language": "python",
     "metadata": {},
     "outputs": [
      {
       "output_type": "stream",
       "stream": "stdout",
       "text": [
        "Reference:\n",
        "172.704771287\n",
        "\n",
        "\n",
        "1d array:\n",
        "172.704771287\n",
        "\n",
        "\n",
        "2d array:\n",
        "[ 172.70477129  172.70477129  172.70477129  172.70477129  172.70477129]\n"
       ]
      }
     ],
     "prompt_number": 809
    },
    {
     "cell_type": "code",
     "collapsed": false,
     "input": [
      "%timeit delta_E_CMC_vectorise(DATA1, DATA2)"
     ],
     "language": "python",
     "metadata": {},
     "outputs": [
      {
       "output_type": "stream",
       "stream": "stdout",
       "text": [
        "1 loops, best of 3: 593 ms per loop\n"
       ]
      }
     ],
     "prompt_number": 810
    },
    {
     "cell_type": "heading",
     "level": 2,
     "metadata": {},
     "source": [
      "colour.models.cie_xyy"
     ]
    },
    {
     "cell_type": "heading",
     "level": 3,
     "metadata": {},
     "source": [
      "colour.XYZ_to_xyY"
     ]
    },
    {
     "cell_type": "code",
     "collapsed": false,
     "input": [
      "from colour.models.cie_xyy import *\n",
      "\n",
      "\n",
      "def XYZ_to_xyY_2d(XYZ):\n",
      "    for i in range(len(XYZ)):\n",
      "        XYZ_to_xyY(XYZ[i])"
     ],
     "language": "python",
     "metadata": {},
     "outputs": [],
     "prompt_number": 811
    },
    {
     "cell_type": "code",
     "collapsed": false,
     "input": [
      "%timeit XYZ_to_xyY_2d(DATA1)"
     ],
     "language": "python",
     "metadata": {},
     "outputs": [
      {
       "output_type": "stream",
       "stream": "stdout",
       "text": [
        "1 loops, best of 3: 11.5 s per loop\n"
       ]
      }
     ],
     "prompt_number": 812
    },
    {
     "cell_type": "code",
     "collapsed": false,
     "input": [
      "from colour import ILLUMINANTS\n",
      "\n",
      "\n",
      "@handle_floating_point_errors(divide='ignore', invalid='ignore')\n",
      "def XYZ_to_xyY_vectorise(XYZ,\n",
      "                         illuminant=ILLUMINANTS.get(\n",
      "                             'CIE 1931 2 Degree Standard Observer').get(\n",
      "                             'D50')):\n",
      "    XYZ = as_array(XYZ, (-1, 3))\n",
      "    illuminant = np.resize(as_array(illuminant, (-1, 2)), XYZ.shape)\n",
      "\n",
      "    X, Y, Z = XYZ[:, 0], XYZ[:, 1], XYZ[:, 2]\n",
      "\n",
      "    xyY = np.squeeze(\n",
      "        np.where(XYZ == 0,\n",
      "                 np.dstack((illuminant[:, 0], illuminant[:, 1], Y)),\n",
      "                 np.dstack((X / (X + Y + Z), Y / (X + Y + Z), Y))))\n",
      "\n",
      "    return xyY\n",
      "\n",
      "\n",
      "print('Reference:')\n",
      "XYZ = np.array([0.07049534, 0.1008, 0.09558313])\n",
      "print(XYZ_to_xyY(XYZ))\n",
      "\n",
      "print('\\n')\n",
      "\n",
      "print('1d array:')\n",
      "print(XYZ_to_xyY_vectorise(XYZ))\n",
      "\n",
      "print('\\n')\n",
      "\n",
      "print('2d array:')\n",
      "XYZ = np.tile(XYZ, (5, 1))\n",
      "print(XYZ_to_xyY_vectorise(XYZ))\n",
      "\n",
      "XYZ = np.tile((0, 0, 0), (5, 1))\n",
      "print(XYZ_to_xyY_vectorise(XYZ))"
     ],
     "language": "python",
     "metadata": {},
     "outputs": [
      {
       "output_type": "stream",
       "stream": "stdout",
       "text": [
        "Reference:\n",
        "[ 0.26414772  0.37770001  0.1008    ]\n",
        "\n",
        "\n",
        "1d array:\n",
        "[ 0.26414772  0.37770001  0.1008    ]\n",
        "\n",
        "\n",
        "2d array:\n",
        "[[ 0.26414772  0.37770001  0.1008    ]\n",
        " [ 0.26414772  0.37770001  0.1008    ]\n",
        " [ 0.26414772  0.37770001  0.1008    ]\n",
        " [ 0.26414772  0.37770001  0.1008    ]\n",
        " [ 0.26414772  0.37770001  0.1008    ]]\n",
        "[[ 0.34567  0.3585   0.     ]\n",
        " [ 0.3585   0.34567  0.     ]\n",
        " [ 0.34567  0.3585   0.     ]\n",
        " [ 0.3585   0.34567  0.     ]\n",
        " [ 0.34567  0.3585   0.     ]]\n"
       ]
      }
     ],
     "prompt_number": 813
    },
    {
     "cell_type": "code",
     "collapsed": false,
     "input": [
      "%timeit XYZ_to_xyY_vectorise(DATA1)"
     ],
     "language": "python",
     "metadata": {},
     "outputs": [
      {
       "output_type": "stream",
       "stream": "stdout",
       "text": [
        "1 loops, best of 3: 616 ms per loop\n"
       ]
      }
     ],
     "prompt_number": 814
    },
    {
     "cell_type": "heading",
     "level": 3,
     "metadata": {},
     "source": [
      "colour.xyY_to_XYZ"
     ]
    },
    {
     "cell_type": "code",
     "collapsed": false,
     "input": [
      "def xyY_to_XYZ_2d(xyY):\n",
      "    for i in range(len(xyY)):\n",
      "        xyY_to_XYZ(xyY[i])"
     ],
     "language": "python",
     "metadata": {},
     "outputs": [],
     "prompt_number": 815
    },
    {
     "cell_type": "code",
     "collapsed": false,
     "input": [
      "%timeit xyY_to_XYZ_2d(DATA1)"
     ],
     "language": "python",
     "metadata": {},
     "outputs": [
      {
       "output_type": "stream",
       "stream": "stdout",
       "text": [
        "1 loops, best of 3: 13.5 s per loop\n"
       ]
      }
     ],
     "prompt_number": 816
    },
    {
     "cell_type": "code",
     "collapsed": false,
     "input": [
      "from colour import ILLUMINANTS\n",
      "\n",
      "\n",
      "@handle_floating_point_errors(divide='ignore')\n",
      "def xyY_to_XYZ_vectorise(xyY):\n",
      "    xyY = as_array(xyY, (-1, 3))\n",
      "\n",
      "    x, y, Y = xyY[:, 0], xyY[:, 1], xyY[:, 2]    \n",
      "    \n",
      "    XYZ = np.squeeze(\n",
      "        np.where((y == 0)[:, np.newaxis],\n",
      "                 np.dstack((y, y, y)),\n",
      "                 np.dstack((x * Y / y, Y, (1 - x - y) * Y / y))))\n",
      "\n",
      "    return XYZ\n",
      "\n",
      "\n",
      "print('Reference:')\n",
      "xyY = np.array([0.26414772, 0.37770001, 0.1008])\n",
      "print(xyY_to_XYZ(xyY))\n",
      "\n",
      "print('\\n')\n",
      "\n",
      "print('1d array:')\n",
      "print(xyY_to_XYZ_vectorise(xyY))\n",
      "\n",
      "print('\\n')\n",
      "\n",
      "print('2d array:')\n",
      "xyY = np.tile(xyY, (5, 1))\n",
      "print(xyY_to_XYZ_vectorise(xyY))"
     ],
     "language": "python",
     "metadata": {},
     "outputs": [
      {
       "output_type": "stream",
       "stream": "stdout",
       "text": [
        "Reference:\n",
        "[ 0.07049534  0.1008      0.09558313]\n",
        "\n",
        "\n",
        "1d array:\n",
        "[ 0.07049534  0.1008      0.09558313]\n",
        "\n",
        "\n",
        "2d array:\n",
        "[[ 0.07049534  0.1008      0.09558313]\n",
        " [ 0.07049534  0.1008      0.09558313]\n",
        " [ 0.07049534  0.1008      0.09558313]\n",
        " [ 0.07049534  0.1008      0.09558313]\n",
        " [ 0.07049534  0.1008      0.09558313]]\n"
       ]
      }
     ],
     "prompt_number": 817
    },
    {
     "cell_type": "code",
     "collapsed": false,
     "input": [
      "%timeit xyY_to_XYZ_vectorise(DATA1)"
     ],
     "language": "python",
     "metadata": {},
     "outputs": [
      {
       "output_type": "stream",
       "stream": "stdout",
       "text": [
        "1 loops, best of 3: 208 ms per loop\n"
       ]
      }
     ],
     "prompt_number": 818
    },
    {
     "cell_type": "heading",
     "level": 3,
     "metadata": {},
     "source": [
      "colour.xy_to_XYZ"
     ]
    },
    {
     "cell_type": "code",
     "collapsed": false,
     "input": [
      "def xy_to_XYZ_2d(xy):\n",
      "    for i in range(len(xy)):\n",
      "        xy_to_XYZ(xy[i])"
     ],
     "language": "python",
     "metadata": {},
     "outputs": [],
     "prompt_number": 819
    },
    {
     "cell_type": "code",
     "collapsed": false,
     "input": [
      "%timeit xy_to_XYZ_2d(DATA1[:, 0:2])"
     ],
     "language": "python",
     "metadata": {},
     "outputs": [
      {
       "output_type": "stream",
       "stream": "stdout",
       "text": [
        "1 loops, best of 3: 16.7 s per loop\n"
       ]
      }
     ],
     "prompt_number": 820
    },
    {
     "cell_type": "code",
     "collapsed": false,
     "input": [
      "def xy_to_XYZ_vectorise(xy):\n",
      "    xy = as_array(xy, (-1, 2))\n",
      "    return xyY_to_XYZ_vectorise(np.dstack((xy[:, 0],\n",
      "                                           xy[:, 1],\n",
      "                                           np.ones(xy.shape[0]))))\n",
      "\n",
      "\n",
      "print('Reference:')\n",
      "xy = (0.26414772236966133, 0.37770000704815188)\n",
      "print(xy_to_XYZ(xy))\n",
      "\n",
      "print('\\n')\n",
      "\n",
      "print('1d array:')\n",
      "print(xy_to_XYZ_vectorise(xy))\n",
      "\n",
      "print('\\n')\n",
      "\n",
      "print('2d array:')\n",
      "xy = np.tile(xy, (5, 1))\n",
      "print(xy_to_XYZ_vectorise(xy))"
     ],
     "language": "python",
     "metadata": {},
     "outputs": [
      {
       "output_type": "stream",
       "stream": "stdout",
       "text": [
        "Reference:\n",
        "[ 0.69935853  1.          0.94824534]\n",
        "\n",
        "\n",
        "1d array:\n",
        "[ 0.69935853  1.          0.94824534]\n",
        "\n",
        "\n",
        "2d array:\n",
        "[[ 0.69935853  1.          0.94824534]\n",
        " [ 0.69935853  1.          0.94824534]\n",
        " [ 0.69935853  1.          0.94824534]\n",
        " [ 0.69935853  1.          0.94824534]\n",
        " [ 0.69935853  1.          0.94824534]]\n"
       ]
      }
     ],
     "prompt_number": 821
    },
    {
     "cell_type": "code",
     "collapsed": false,
     "input": [
      "%timeit xy_to_XYZ_vectorise(DATA1[:, 0:2])"
     ],
     "language": "python",
     "metadata": {},
     "outputs": [
      {
       "output_type": "stream",
       "stream": "stdout",
       "text": [
        "1 loops, best of 3: 237 ms per loop\n"
       ]
      }
     ],
     "prompt_number": 822
    },
    {
     "cell_type": "heading",
     "level": 3,
     "metadata": {},
     "source": [
      "colour.XYZ_to_xy"
     ]
    },
    {
     "cell_type": "code",
     "collapsed": false,
     "input": [
      "def XYZ_to_xy_2d(XYZ):\n",
      "    for i in range(len(XYZ)):\n",
      "        XYZ_to_xy(XYZ[i])"
     ],
     "language": "python",
     "metadata": {},
     "outputs": [],
     "prompt_number": 823
    },
    {
     "cell_type": "code",
     "collapsed": false,
     "input": [
      "%timeit XYZ_to_xy_2d(DATA1)"
     ],
     "language": "python",
     "metadata": {},
     "outputs": [
      {
       "output_type": "stream",
       "stream": "stdout",
       "text": [
        "1 loops, best of 3: 16.1 s per loop\n"
       ]
      }
     ],
     "prompt_number": 824
    },
    {
     "cell_type": "code",
     "collapsed": false,
     "input": [
      "def XYZ_to_xy_vectorise(XYZ,\n",
      "              illuminant=ILLUMINANTS.get(\n",
      "                  'CIE 1931 2 Degree Standard Observer').get('D50')):\n",
      "\n",
      "    xyY = as_array(XYZ_to_xyY_vectorise(XYZ, illuminant), (-1, 3))\n",
      "    xy = np.squeeze(xyY[:, 0:2])\n",
      "\n",
      "    return xy\n",
      "\n",
      "\n",
      "print('Reference:')\n",
      "XYZ = np.array([0.07049534, 0.1008, 0.09558313])\n",
      "print(XYZ_to_xy(XYZ))\n",
      "\n",
      "print('\\n')\n",
      "\n",
      "print('1d array:')\n",
      "print(XYZ_to_xy_vectorise(XYZ))\n",
      "\n",
      "print('\\n')\n",
      "\n",
      "print('2d array:')\n",
      "XYZ = np.tile(XYZ, (5, 1))\n",
      "print(XYZ_to_xy_vectorise(XYZ))"
     ],
     "language": "python",
     "metadata": {},
     "outputs": [
      {
       "output_type": "stream",
       "stream": "stdout",
       "text": [
        "Reference:\n",
        "(0.26414772236966133, 0.37770000704815188)\n",
        "\n",
        "\n",
        "1d array:\n",
        "[ 0.26414772  0.37770001]\n",
        "\n",
        "\n",
        "2d array:\n",
        "[[ 0.26414772  0.37770001]\n",
        " [ 0.26414772  0.37770001]\n",
        " [ 0.26414772  0.37770001]\n",
        " [ 0.26414772  0.37770001]\n",
        " [ 0.26414772  0.37770001]]\n"
       ]
      }
     ],
     "prompt_number": 825
    },
    {
     "cell_type": "code",
     "collapsed": false,
     "input": [
      "%timeit XYZ_to_xy_vectorise(DATA1)"
     ],
     "language": "python",
     "metadata": {},
     "outputs": [
      {
       "output_type": "stream",
       "stream": "stdout",
       "text": [
        "1 loops, best of 3: 666 ms per loop\n"
       ]
      }
     ],
     "prompt_number": 826
    },
    {
     "cell_type": "heading",
     "level": 2,
     "metadata": {},
     "source": [
      "colour.models.cie_lab"
     ]
    },
    {
     "cell_type": "heading",
     "level": 3,
     "metadata": {},
     "source": [
      "colour.XYZ_to_Lab"
     ]
    },
    {
     "cell_type": "code",
     "collapsed": false,
     "input": [
      "from colour.models.cie_lab import *\n",
      "\n",
      "\n",
      "def XYZ_to_Lab_2d(XYZ):\n",
      "    for i in range(len(XYZ)):\n",
      "        XYZ_to_Lab(XYZ[i])"
     ],
     "language": "python",
     "metadata": {},
     "outputs": [],
     "prompt_number": 827
    },
    {
     "cell_type": "code",
     "collapsed": false,
     "input": [
      "%timeit XYZ_to_Lab_2d(DATA1)"
     ],
     "language": "python",
     "metadata": {},
     "outputs": [
      {
       "output_type": "stream",
       "stream": "stdout",
       "text": [
        "1 loops, best of 3: 38.1 s per loop\n"
       ]
      }
     ],
     "prompt_number": 828
    },
    {
     "cell_type": "code",
     "collapsed": false,
     "input": [
      "def XYZ_to_Lab_vectorise(XYZ,\n",
      "                         illuminant=ILLUMINANTS.get(\n",
      "                             'CIE 1931 2 Degree Standard Observer').get(\n",
      "                             'D50')):\n",
      "    XYZ = as_array(XYZ, (-1, 3))\n",
      "    XYZ_r = np.resize(xy_to_XYZ_vectorise(illuminant), XYZ.shape)\n",
      "\n",
      "    XYZ_f = XYZ / XYZ_r\n",
      "\n",
      "    XYZ_f = np.where(XYZ_f > CIE_E,\n",
      "                     np.power(XYZ_f, 1 / 3),\n",
      "                     (CIE_K * XYZ_f + 16) / 116)\n",
      "\n",
      "    X_f, Y_f, Z_f = XYZ_f[:, 0], XYZ_f[:, 1], XYZ_f[:, 2]\n",
      "\n",
      "    L = 116 * Y_f - 16\n",
      "    a = 500 * (X_f - Y_f)\n",
      "    b = 200 * (Y_f - Z_f)\n",
      "\n",
      "    Lab = as_stack((L, a, b))\n",
      "\n",
      "    return Lab\n",
      "\n",
      "\n",
      "print('Reference:')\n",
      "XYZ = np.array([0.07049534, 0.1008, 0.09558313])\n",
      "print(XYZ_to_Lab(XYZ))\n",
      "\n",
      "print('\\n')\n",
      "\n",
      "print('1d array:')\n",
      "print(XYZ_to_Lab_vectorise(XYZ))\n",
      "\n",
      "print('\\n')\n",
      "\n",
      "print('2d array:')\n",
      "XYZ = np.tile(XYZ, (5, 1))\n",
      "print(XYZ_to_Lab_vectorise(XYZ))"
     ],
     "language": "python",
     "metadata": {},
     "outputs": [
      {
       "output_type": "stream",
       "stream": "stdout",
       "text": [
        "Reference:\n",
        "[ 37.9856291  -23.62302887  -4.41417036]\n",
        "\n",
        "\n",
        "1d array:\n",
        "[ 37.9856291  -23.62302887  -4.41417036]\n",
        "\n",
        "\n",
        "2d array:\n",
        "[[ 37.9856291  -23.62302887  -4.41417036]\n",
        " [ 37.9856291  -23.62302887  -4.41417036]\n",
        " [ 37.9856291  -23.62302887  -4.41417036]\n",
        " [ 37.9856291  -23.62302887  -4.41417036]\n",
        " [ 37.9856291  -23.62302887  -4.41417036]]\n"
       ]
      }
     ],
     "prompt_number": 829
    },
    {
     "cell_type": "code",
     "collapsed": false,
     "input": [
      "%timeit XYZ_to_Lab_vectorise(DATA1)"
     ],
     "language": "python",
     "metadata": {},
     "outputs": [
      {
       "output_type": "stream",
       "stream": "stdout",
       "text": [
        "1 loops, best of 3: 998 ms per loop\n"
       ]
      }
     ],
     "prompt_number": 830
    },
    {
     "cell_type": "heading",
     "level": 3,
     "metadata": {},
     "source": [
      "colour.Lab_to_XYZ"
     ]
    },
    {
     "cell_type": "code",
     "collapsed": false,
     "input": [
      "def Lab_to_XYZ_2d(Lab):\n",
      "    for i in range(len(Lab)):\n",
      "        Lab_to_XYZ(Lab[i])"
     ],
     "language": "python",
     "metadata": {},
     "outputs": [],
     "prompt_number": 831
    },
    {
     "cell_type": "code",
     "collapsed": false,
     "input": [
      "%timeit Lab_to_XYZ_2d(DATA1)"
     ],
     "language": "python",
     "metadata": {},
     "outputs": [
      {
       "output_type": "stream",
       "stream": "stdout",
       "text": [
        "1 loops, best of 3: 46.2 s per loop\n"
       ]
      }
     ],
     "prompt_number": 832
    },
    {
     "cell_type": "code",
     "collapsed": false,
     "input": [
      "def Lab_to_XYZ_vectorise(Lab,\n",
      "                         illuminant=ILLUMINANTS.get(\n",
      "                             'CIE 1931 2 Degree Standard Observer').get(\n",
      "                             'D50')):\n",
      "    Lab = as_array(Lab, (-1, 3))\n",
      "    XYZ_r = np.resize(xy_to_XYZ_vectorise(illuminant), Lab.shape)\n",
      "\n",
      "    L, a, b = Lab[:, 0], Lab[:, 1], Lab[:, 2]\n",
      "\n",
      "    f_y = (L + 16) / 116\n",
      "    f_x = a / 500 + f_y\n",
      "    f_z = f_y - b / 200\n",
      "\n",
      "    x_r = np.where(f_x ** 3 > CIE_E, f_x ** 3, (116 * f_x - 16) / CIE_K)\n",
      "    y_r = np.where(L > CIE_K * CIE_E, ((L + 16) / 116) ** 3, L / CIE_K)\n",
      "    z_r = np.where(f_z ** 3 > CIE_E, f_z ** 3, (116 * f_z - 16) / CIE_K)\n",
      "\n",
      "    XYZ = as_stack((x_r, y_r, z_r)) * np.squeeze(XYZ_r)\n",
      "\n",
      "    return XYZ\n",
      "\n",
      "\n",
      "print('Reference:')\n",
      "Lab = np.array([37.9856291, -23.62302887, -4.41417036])\n",
      "print(Lab_to_XYZ(Lab))\n",
      "\n",
      "print('\\n')\n",
      "\n",
      "print('1d array:')\n",
      "print(Lab_to_XYZ_vectorise(Lab))\n",
      "\n",
      "print('\\n')\n",
      "\n",
      "print('2d array:')\n",
      "Lab = np.tile(Lab, (5, 1))\n",
      "print(Lab_to_XYZ_vectorise(Lab))"
     ],
     "language": "python",
     "metadata": {},
     "outputs": [
      {
       "output_type": "stream",
       "stream": "stdout",
       "text": [
        "Reference:\n",
        "[ 0.07049534  0.1008      0.09558313]\n",
        "\n",
        "\n",
        "1d array:\n",
        "[ 0.07049534  0.1008      0.09558313]\n",
        "\n",
        "\n",
        "2d array:\n",
        "[[ 0.07049534  0.1008      0.09558313]\n",
        " [ 0.07049534  0.1008      0.09558313]\n",
        " [ 0.07049534  0.1008      0.09558313]\n",
        " [ 0.07049534  0.1008      0.09558313]\n",
        " [ 0.07049534  0.1008      0.09558313]]\n"
       ]
      }
     ],
     "prompt_number": 833
    },
    {
     "cell_type": "code",
     "collapsed": false,
     "input": [
      "%timeit Lab_to_XYZ_vectorise(DATA1)"
     ],
     "language": "python",
     "metadata": {},
     "outputs": [
      {
       "output_type": "stream",
       "stream": "stdout",
       "text": [
        "1 loops, best of 3: 1.29 s per loop\n"
       ]
      }
     ],
     "prompt_number": 834
    },
    {
     "cell_type": "heading",
     "level": 3,
     "metadata": {},
     "source": [
      "colour.Lab_to_LCHab"
     ]
    },
    {
     "cell_type": "code",
     "collapsed": false,
     "input": [
      "def Lab_to_LCHab_2d(Lab):\n",
      "    for i in range(len(Lab)):\n",
      "        Lab_to_LCHab(Lab[i])"
     ],
     "language": "python",
     "metadata": {},
     "outputs": [],
     "prompt_number": 835
    },
    {
     "cell_type": "code",
     "collapsed": false,
     "input": [
      "%timeit Lab_to_LCHab_2d(DATA1)"
     ],
     "language": "python",
     "metadata": {},
     "outputs": [
      {
       "output_type": "stream",
       "stream": "stdout",
       "text": [
        "1 loops, best of 3: 21.6 s per loop\n"
       ]
      }
     ],
     "prompt_number": 836
    },
    {
     "cell_type": "code",
     "collapsed": false,
     "input": [
      "def Lab_to_LCHab_vectorise(Lab):\n",
      "    Lab = as_array(Lab, (-1, 3))\n",
      "    L, a, b = Lab[:, 0], Lab[:, 1], Lab[:, 2]\n",
      "\n",
      "    H = 180 * np.arctan2(b, a) / np.pi\n",
      "    H[H <0] += 360\n",
      "\n",
      "    LCHab = as_stack((L, np.sqrt(a ** 2 + b ** 2), H))\n",
      "\n",
      "    return LCHab\n",
      "\n",
      "\n",
      "print('Reference:')\n",
      "Lab = np.array([37.9856291, -23.62302887, -4.41417036])\n",
      "print(Lab_to_LCHab(Lab))\n",
      "\n",
      "print('\\n')\n",
      "\n",
      "print('1d array:')\n",
      "print(Lab_to_LCHab_vectorise(Lab))\n",
      "\n",
      "print('\\n')\n",
      "\n",
      "print('2d array:')\n",
      "Lab = np.tile(Lab, (5, 1))\n",
      "print(Lab_to_LCHab_vectorise(Lab))"
     ],
     "language": "python",
     "metadata": {},
     "outputs": [
      {
       "output_type": "stream",
       "stream": "stdout",
       "text": [
        "Reference:\n",
        "[  37.9856291    24.03190365  190.58415972]\n",
        "\n",
        "\n",
        "1d array:\n",
        "[  37.9856291    24.03190365  190.58415972]\n",
        "\n",
        "\n",
        "2d array:\n",
        "[[  37.9856291    24.03190365  190.58415972]\n",
        " [  37.9856291    24.03190365  190.58415972]\n",
        " [  37.9856291    24.03190365  190.58415972]\n",
        " [  37.9856291    24.03190365  190.58415972]\n",
        " [  37.9856291    24.03190365  190.58415972]]\n"
       ]
      }
     ],
     "prompt_number": 837
    },
    {
     "cell_type": "code",
     "collapsed": false,
     "input": [
      "%timeit Lab_to_LCHab_vectorise(DATA1)"
     ],
     "language": "python",
     "metadata": {},
     "outputs": [
      {
       "output_type": "stream",
       "stream": "stdout",
       "text": [
        "10 loops, best of 3: 152 ms per loop\n"
       ]
      }
     ],
     "prompt_number": 838
    },
    {
     "cell_type": "heading",
     "level": 3,
     "metadata": {},
     "source": [
      "colour.LCHab_to_Lab"
     ]
    },
    {
     "cell_type": "code",
     "collapsed": false,
     "input": [
      "def LCHab_to_Lab_2d(LCHab):\n",
      "    for i in range(len(LCHab)):\n",
      "        LCHab_to_Lab(LCHab[i])"
     ],
     "language": "python",
     "metadata": {},
     "outputs": [],
     "prompt_number": 839
    },
    {
     "cell_type": "code",
     "collapsed": false,
     "input": [
      "%timeit LCHab_to_Lab_2d(DATA1)"
     ],
     "language": "python",
     "metadata": {},
     "outputs": [
      {
       "output_type": "stream",
       "stream": "stdout",
       "text": [
        "1 loops, best of 3: 18.3 s per loop\n"
       ]
      }
     ],
     "prompt_number": 840
    },
    {
     "cell_type": "code",
     "collapsed": false,
     "input": [
      "def LCHab_to_Lab_vectorise(LCHab):\n",
      "    LCHab = as_array(LCHab, (-1, 3))\n",
      "    L, C, H = LCHab[:, 0], LCHab[:, 1], LCHab[:, 2]\n",
      "\n",
      "    return as_stack((L,\n",
      "                     C * np.cos(np.radians(H)),\n",
      "                     C * np.sin(np.radians(H))))\n",
      "\n",
      "\n",
      "print('Reference:')\n",
      "LCHab = np.array([37.9856291, 24.03190365, 190.58415972])\n",
      "print(LCHab_to_Lab(LCHab))\n",
      "\n",
      "print('\\n')\n",
      "\n",
      "print('1d array:')\n",
      "print(LCHab_to_Lab_vectorise(LCHab))\n",
      "\n",
      "print('\\n')\n",
      "\n",
      "print('2d array:')\n",
      "LCHab = np.tile(LCHab, (5, 1))\n",
      "print(LCHab_to_Lab_vectorise(LCHab))"
     ],
     "language": "python",
     "metadata": {},
     "outputs": [
      {
       "output_type": "stream",
       "stream": "stdout",
       "text": [
        "Reference:\n",
        "[ 37.9856291  -23.62302887  -4.41417036]\n",
        "\n",
        "\n",
        "1d array:\n",
        "[ 37.9856291  -23.62302887  -4.41417036]\n",
        "\n",
        "\n",
        "2d array:\n",
        "[[ 37.9856291  -23.62302887  -4.41417036]\n",
        " [ 37.9856291  -23.62302887  -4.41417036]\n",
        " [ 37.9856291  -23.62302887  -4.41417036]\n",
        " [ 37.9856291  -23.62302887  -4.41417036]\n",
        " [ 37.9856291  -23.62302887  -4.41417036]]\n"
       ]
      }
     ],
     "prompt_number": 841
    },
    {
     "cell_type": "code",
     "collapsed": false,
     "input": [
      "%timeit LCHab_to_Lab_vectorise(DATA1)"
     ],
     "language": "python",
     "metadata": {},
     "outputs": [
      {
       "output_type": "stream",
       "stream": "stdout",
       "text": [
        "10 loops, best of 3: 91 ms per loop\n"
       ]
      }
     ],
     "prompt_number": 842
    },
    {
     "cell_type": "heading",
     "level": 2,
     "metadata": {},
     "source": [
      "colour.models.cie_luv"
     ]
    },
    {
     "cell_type": "heading",
     "level": 3,
     "metadata": {},
     "source": [
      "colour.XYZ_to_Luv"
     ]
    },
    {
     "cell_type": "code",
     "collapsed": false,
     "input": [
      "from colour.models.cie_luv import *\n",
      "\n",
      "\n",
      "def XYZ_to_Luv_2d(XYZ):\n",
      "    for i in range(len(XYZ)):\n",
      "        XYZ_to_Luv(XYZ[i])"
     ],
     "language": "python",
     "metadata": {},
     "outputs": [],
     "prompt_number": 843
    },
    {
     "cell_type": "code",
     "collapsed": false,
     "input": [
      "%timeit XYZ_to_Luv_2d(DATA1)"
     ],
     "language": "python",
     "metadata": {},
     "outputs": [
      {
       "output_type": "stream",
       "stream": "stdout",
       "text": [
        "1 loops, best of 3: 59.5 s per loop\n"
       ]
      }
     ],
     "prompt_number": 844
    },
    {
     "cell_type": "code",
     "collapsed": false,
     "input": [
      "def XYZ_to_Luv_vectorise(XYZ,\n",
      "                         illuminant=ILLUMINANTS.get(\n",
      "                             'CIE 1931 2 Degree Standard Observer').get(\n",
      "                             'D50')):\n",
      "    XYZ = as_array(XYZ, (-1, 3))\n",
      "    XYZ_r = np.resize(xy_to_XYZ_vectorise(illuminant), XYZ.shape)\n",
      "\n",
      "    X, Y, Z = XYZ[:, 0], XYZ[:, 1], XYZ[:, 2]\n",
      "    X_r, Y_r, Z_r = XYZ_r[:, 0], XYZ_r[:, 1], XYZ_r[:, 2]\n",
      "\n",
      "    y_r = Y / Y_r\n",
      "\n",
      "    L = np.where(y_r > CIE_E, 116 * y_r ** (1 / 3) - 16, CIE_K * y_r)\n",
      "\n",
      "    u = (13 * L * ((4 * X / (X + 15 * Y + 3 * Z)) -\n",
      "                   (4 * X_r / (X_r + 15 * Y_r + 3 * Z_r))))\n",
      "    v = (13 * L * ((9 * Y / (X + 15 * Y + 3 * Z)) -\n",
      "                   (9 * Y_r / (X_r + 15 * Y_r + 3 * Z_r))))\n",
      "\n",
      "    Luv = as_stack((L, u, v))\n",
      "\n",
      "    return Luv\n",
      "\n",
      "\n",
      "print('Reference:')\n",
      "XYZ = np.array([0.07049534, 0.1008, 0.09558313])\n",
      "print(XYZ_to_Luv(XYZ))\n",
      "\n",
      "print('\\n')\n",
      "\n",
      "print('1d array:')\n",
      "print(XYZ_to_Luv_vectorise(XYZ))\n",
      "\n",
      "print('\\n')\n",
      "\n",
      "print('2d array:')\n",
      "XYZ = np.tile(XYZ, (5, 1))\n",
      "print(XYZ_to_Luv_vectorise(XYZ))"
     ],
     "language": "python",
     "metadata": {},
     "outputs": [
      {
       "output_type": "stream",
       "stream": "stdout",
       "text": [
        "Reference:\n",
        "[ 37.9856291  -28.79229446  -1.3558195 ]\n",
        "\n",
        "\n",
        "1d array:\n",
        "[ 37.9856291  -28.79229446  -1.3558195 ]\n",
        "\n",
        "\n",
        "2d array:\n",
        "[[ 37.9856291  -28.79229446  -1.3558195 ]\n",
        " [ 37.9856291  -28.79229446  -1.3558195 ]\n",
        " [ 37.9856291  -28.79229446  -1.3558195 ]\n",
        " [ 37.9856291  -28.79229446  -1.3558195 ]\n",
        " [ 37.9856291  -28.79229446  -1.3558195 ]]\n"
       ]
      }
     ],
     "prompt_number": 845
    },
    {
     "cell_type": "code",
     "collapsed": false,
     "input": [
      "%timeit XYZ_to_Luv_vectorise(DATA1)"
     ],
     "language": "python",
     "metadata": {},
     "outputs": [
      {
       "output_type": "stream",
       "stream": "stdout",
       "text": [
        "1 loops, best of 3: 649 ms per loop\n"
       ]
      }
     ],
     "prompt_number": 846
    },
    {
     "cell_type": "heading",
     "level": 3,
     "metadata": {},
     "source": [
      "colour.Luv_to_XYZ"
     ]
    },
    {
     "cell_type": "code",
     "collapsed": false,
     "input": [
      "def Luv_to_XYZ_2d(Luv):\n",
      "    for i in range(len(Luv)):\n",
      "        Luv_to_XYZ(Luv[i])"
     ],
     "language": "python",
     "metadata": {},
     "outputs": [],
     "prompt_number": 847
    },
    {
     "cell_type": "code",
     "collapsed": false,
     "input": [
      "%timeit Luv_to_XYZ_2d(DATA1)"
     ],
     "language": "python",
     "metadata": {},
     "outputs": [
      {
       "output_type": "stream",
       "stream": "stdout",
       "text": [
        "1 loops, best of 3: 55.8 s per loop\n"
       ]
      }
     ],
     "prompt_number": 848
    },
    {
     "cell_type": "code",
     "collapsed": false,
     "input": [
      "def Luv_to_XYZ_vectorise(Luv,\n",
      "                         illuminant=ILLUMINANTS.get(\n",
      "                             'CIE 1931 2 Degree Standard Observer').get(\n",
      "                             'D50')):\n",
      "    Luv = as_array(Luv, (-1, 3))\n",
      "    XYZ_r = np.resize(xy_to_XYZ_vectorise(illuminant), Luv.shape)\n",
      "\n",
      "    L, u, v = Luv[:, 0], Luv[:, 1], Luv[:, 2]\n",
      "    X_r, Y_r, Z_r = XYZ_r[:, 0], XYZ_r[:, 1], XYZ_r[:, 2]\n",
      "\n",
      "    Y = np.where(L > CIE_E * CIE_K, ((L + 16) / 116) ** 3, L / CIE_K)\n",
      "\n",
      "    a = 1 / 3 * ((52 * L / (u + 13 * L *\n",
      "                            (4 * X_r / (X_r + 15 * Y_r + 3 * Z_r)))) - 1)\n",
      "    b = -5 * Y\n",
      "    c = -1 / 3.0\n",
      "    d = Y * (39 * L / (v + 13 * L *\n",
      "                       (9 * Y_r / (X_r + 15 * Y_r + 3 * Z_r))) - 5)\n",
      "\n",
      "    X = (d - b) / (a - c)\n",
      "    Z = X * a + b\n",
      "\n",
      "    XYZ = as_stack((X, Y, Z))\n",
      "\n",
      "    return XYZ\n",
      "\n",
      "\n",
      "print('Reference:')\n",
      "Luv = np.array([37.9856291, -28.79229446, -1.3558195])\n",
      "print(Luv_to_XYZ(Luv))\n",
      "\n",
      "print('\\n')\n",
      "\n",
      "print('1d array:')\n",
      "print(Luv_to_XYZ_vectorise(Luv))\n",
      "\n",
      "print('\\n')\n",
      "\n",
      "print('2d array:')\n",
      "Luv = np.tile(Luv, (5, 1))\n",
      "print(Luv_to_XYZ_vectorise(Luv))"
     ],
     "language": "python",
     "metadata": {},
     "outputs": [
      {
       "output_type": "stream",
       "stream": "stdout",
       "text": [
        "Reference:\n",
        "[ 0.07049534  0.1008      0.09558313]\n",
        "\n",
        "\n",
        "1d array:\n",
        "[ 0.07049534  0.1008      0.09558313]\n",
        "\n",
        "\n",
        "2d array:\n",
        "[[ 0.07049534  0.1008      0.09558313]\n",
        " [ 0.07049534  0.1008      0.09558313]\n",
        " [ 0.07049534  0.1008      0.09558313]\n",
        " [ 0.07049534  0.1008      0.09558313]\n",
        " [ 0.07049534  0.1008      0.09558313]]\n"
       ]
      }
     ],
     "prompt_number": 849
    },
    {
     "cell_type": "code",
     "collapsed": false,
     "input": [
      "%timeit Luv_to_XYZ_vectorise(DATA1)"
     ],
     "language": "python",
     "metadata": {},
     "outputs": [
      {
       "output_type": "stream",
       "stream": "stdout",
       "text": [
        "1 loops, best of 3: 644 ms per loop\n"
       ]
      }
     ],
     "prompt_number": 850
    },
    {
     "cell_type": "heading",
     "level": 3,
     "metadata": {},
     "source": [
      "colour.Luv_to_uv"
     ]
    },
    {
     "cell_type": "code",
     "collapsed": false,
     "input": [
      "def Luv_to_uv_2d(Luv):\n",
      "    for i in range(len(Luv)):\n",
      "        Luv_to_uv(Luv[i])"
     ],
     "language": "python",
     "metadata": {},
     "outputs": [],
     "prompt_number": 851
    },
    {
     "cell_type": "code",
     "collapsed": false,
     "input": [
      "%timeit Luv_to_uv_2d(DATA1)"
     ],
     "language": "python",
     "metadata": {},
     "outputs": [
      {
       "output_type": "stream",
       "stream": "stdout",
       "text": [
        "1 loops, best of 3: 1min 13s per loop\n"
       ]
      }
     ],
     "prompt_number": 852
    },
    {
     "cell_type": "code",
     "collapsed": false,
     "input": [
      "def Luv_to_uv_vectorise(Luv,\n",
      "              illuminant=ILLUMINANTS.get(\n",
      "                  'CIE 1931 2 Degree Standard Observer').get('D50')):\n",
      "\n",
      "    XYZ = as_array(Luv_to_XYZ_vectorise(Luv, illuminant), (-1, 3))\n",
      "    X, Y, Z = XYZ[:, 0], XYZ[:, 1], XYZ[:, 2]\n",
      "\n",
      "    uv = as_stack((4 * X / (X + 15 * Y + 3 * Z),\n",
      "                   9 * Y / (X + 15 * Y + 3 * Z)))\n",
      "\n",
      "    return uv\n",
      "\n",
      "\n",
      "print('Reference:')\n",
      "Luv = np.array([37.9856291, -28.79229446, -1.3558195])\n",
      "print(Luv_to_uv(Luv))\n",
      "\n",
      "print('\\n')\n",
      "\n",
      "print('1d array:')\n",
      "print(Luv_to_uv_vectorise(Luv))\n",
      "\n",
      "print('\\n')\n",
      "\n",
      "print('2d array:')\n",
      "Luv = np.tile(Luv, (5, 1))\n",
      "print(Luv_to_uv_vectorise(Luv))"
     ],
     "language": "python",
     "metadata": {},
     "outputs": [
      {
       "output_type": "stream",
       "stream": "stdout",
       "text": [
        "Reference:\n",
        "(0.15085309882985695, 0.48532970854318019)\n",
        "\n",
        "\n",
        "1d array:\n",
        "[ 0.1508531   0.48532971]\n",
        "\n",
        "\n",
        "2d array:\n",
        "[[ 0.1508531   0.48532971]\n",
        " [ 0.1508531   0.48532971]\n",
        " [ 0.1508531   0.48532971]\n",
        " [ 0.1508531   0.48532971]\n",
        " [ 0.1508531   0.48532971]]\n"
       ]
      }
     ],
     "prompt_number": 853
    },
    {
     "cell_type": "code",
     "collapsed": false,
     "input": [
      "%timeit Luv_to_uv_vectorise(DATA1)"
     ],
     "language": "python",
     "metadata": {},
     "outputs": [
      {
       "output_type": "stream",
       "stream": "stdout",
       "text": [
        "1 loops, best of 3: 717 ms per loop\n"
       ]
      }
     ],
     "prompt_number": 854
    },
    {
     "cell_type": "heading",
     "level": 3,
     "metadata": {},
     "source": [
      "colour.Luv_uv_to_xy"
     ]
    },
    {
     "cell_type": "code",
     "collapsed": false,
     "input": [
      "def Luv_uv_to_xy_2d(uv):\n",
      "    for i in range(len(uv)):\n",
      "        Luv_uv_to_xy(uv[i])"
     ],
     "language": "python",
     "metadata": {},
     "outputs": [],
     "prompt_number": 855
    },
    {
     "cell_type": "code",
     "collapsed": false,
     "input": [
      "%timeit Luv_uv_to_xy_2d(DATA1[:, 0:2])"
     ],
     "language": "python",
     "metadata": {},
     "outputs": [
      {
       "output_type": "stream",
       "stream": "stdout",
       "text": [
        "1 loops, best of 3: 15.7 s per loop\n"
       ]
      }
     ],
     "prompt_number": 856
    },
    {
     "cell_type": "code",
     "collapsed": false,
     "input": [
      "def Luv_uv_to_xy_vectorise(uv):\n",
      "    uv = as_array(uv, (-1, 2))\n",
      "    u, v = uv[:, 0], uv[:, 1]\n",
      "\n",
      "    xy = as_stack((9 * u / (6 * u - 16 * v + 12),\n",
      "                   4 * v / (6 * u - 16 * v + 12)))\n",
      "    return xy\n",
      "\n",
      "\n",
      "print('Reference:')\n",
      "uv = np.array([0.15085309882985695, 0.48532970854318019])\n",
      "print(Luv_uv_to_xy(uv))\n",
      "\n",
      "print('\\n')\n",
      "\n",
      "print('1d array:')\n",
      "print(Luv_uv_to_xy_vectorise(uv))\n",
      "\n",
      "print('\\n')\n",
      "\n",
      "print('2d array:')\n",
      "uv = np.tile(uv, (5, 1))\n",
      "print(Luv_uv_to_xy_vectorise(uv))"
     ],
     "language": "python",
     "metadata": {},
     "outputs": [
      {
       "output_type": "stream",
       "stream": "stdout",
       "text": [
        "Reference:\n",
        "(0.26414772236637435, 0.37770000705715012)\n",
        "\n",
        "\n",
        "1d array:\n",
        "[ 0.26414772  0.37770001]\n",
        "\n",
        "\n",
        "2d array:\n",
        "[[ 0.26414772  0.37770001]\n",
        " [ 0.26414772  0.37770001]\n",
        " [ 0.26414772  0.37770001]\n",
        " [ 0.26414772  0.37770001]\n",
        " [ 0.26414772  0.37770001]]\n"
       ]
      }
     ],
     "prompt_number": 857
    },
    {
     "cell_type": "code",
     "collapsed": false,
     "input": [
      "%timeit Luv_uv_to_xy_vectorise(DATA1[:, 0:2])"
     ],
     "language": "python",
     "metadata": {},
     "outputs": [
      {
       "output_type": "stream",
       "stream": "stdout",
       "text": [
        "10 loops, best of 3: 63.6 ms per loop\n"
       ]
      }
     ],
     "prompt_number": 858
    },
    {
     "cell_type": "heading",
     "level": 3,
     "metadata": {},
     "source": [
      "colour.Luv_to_LCHuv"
     ]
    },
    {
     "cell_type": "code",
     "collapsed": false,
     "input": [
      "def Luv_to_LCHuv_2d(Luv):\n",
      "    for i in range(len(Luv)):\n",
      "        Luv_to_LCHuv(Luv[i])"
     ],
     "language": "python",
     "metadata": {},
     "outputs": [],
     "prompt_number": 859
    },
    {
     "cell_type": "code",
     "collapsed": false,
     "input": [
      "%timeit Luv_to_LCHuv_2d(DATA1)"
     ],
     "language": "python",
     "metadata": {},
     "outputs": [
      {
       "output_type": "stream",
       "stream": "stdout",
       "text": [
        "1 loops, best of 3: 21.4 s per loop\n"
       ]
      }
     ],
     "prompt_number": 860
    },
    {
     "cell_type": "code",
     "collapsed": false,
     "input": [
      "def Luv_to_LCHuv_vectorise(Luv):\n",
      "    Luv = as_array(Luv, (-1, 3))\n",
      "    L, u, v = Luv[:, 0], Luv[:, 1], Luv[:, 2]\n",
      "\n",
      "    H = 180 * np.arctan2(v, u) / np.pi\n",
      "    H[H < 0] += 360\n",
      "\n",
      "    LCHuv = np.squeeze(np.dstack((L,\n",
      "                                  np.sqrt(u ** 2 + v ** 2),\n",
      "                                  H)))\n",
      "    return LCHuv\n",
      "\n",
      "\n",
      "print('Reference:')\n",
      "Luv = np.array([37.9856291, -28.79229446, -1.3558195])\n",
      "print(Luv_to_LCHuv(Luv))\n",
      "\n",
      "print('\\n')\n",
      "\n",
      "print('1d array:')\n",
      "print(Luv_to_LCHuv_vectorise(Luv))\n",
      "\n",
      "print('\\n')\n",
      "\n",
      "print('2d array:')\n",
      "Luv = np.tile(Luv, (5, 1))\n",
      "print(Luv_to_LCHuv_vectorise(Luv))"
     ],
     "language": "python",
     "metadata": {},
     "outputs": [
      {
       "output_type": "stream",
       "stream": "stdout",
       "text": [
        "Reference:\n",
        "[  37.9856291    28.82419933  182.69604747]\n",
        "\n",
        "\n",
        "1d array:\n",
        "[  37.9856291    28.82419933  182.69604747]\n",
        "\n",
        "\n",
        "2d array:\n",
        "[[  37.9856291    28.82419933  182.69604747]\n",
        " [  37.9856291    28.82419933  182.69604747]\n",
        " [  37.9856291    28.82419933  182.69604747]\n",
        " [  37.9856291    28.82419933  182.69604747]\n",
        " [  37.9856291    28.82419933  182.69604747]]\n"
       ]
      }
     ],
     "prompt_number": 861
    },
    {
     "cell_type": "code",
     "collapsed": false,
     "input": [
      "%timeit Luv_to_LCHuv_vectorise(DATA1)"
     ],
     "language": "python",
     "metadata": {},
     "outputs": [
      {
       "output_type": "stream",
       "stream": "stdout",
       "text": [
        "10 loops, best of 3: 148 ms per loop\n"
       ]
      }
     ],
     "prompt_number": 862
    },
    {
     "cell_type": "heading",
     "level": 3,
     "metadata": {},
     "source": [
      "colour.LCHuv_to_Luv"
     ]
    },
    {
     "cell_type": "code",
     "collapsed": false,
     "input": [
      "def LCHuv_to_Luv_2d(LCHuv):\n",
      "    for i in range(len(LCHuv)):\n",
      "        LCHuv_to_Luv(LCHuv[i])"
     ],
     "language": "python",
     "metadata": {},
     "outputs": [],
     "prompt_number": 863
    },
    {
     "cell_type": "code",
     "collapsed": false,
     "input": [
      "%timeit LCHuv_to_Luv_2d(DATA1)"
     ],
     "language": "python",
     "metadata": {},
     "outputs": [
      {
       "output_type": "stream",
       "stream": "stdout",
       "text": [
        "1 loops, best of 3: 17.8 s per loop\n"
       ]
      }
     ],
     "prompt_number": 864
    },
    {
     "cell_type": "code",
     "collapsed": false,
     "input": [
      "def LCHuv_to_Luv_vectorise(LCHuv):\n",
      "    LCHuv = as_array(LCHuv, (-1, 3))\n",
      "    L, C, H = LCHuv[:, 0], LCHuv[:, 1], LCHuv[:, 2]\n",
      "\n",
      "    Luv = as_stack((L,\n",
      "                    C * np.cos(np.radians(H)),\n",
      "                    C * np.sin(np.radians(H))))\n",
      "    return Luv\n",
      "\n",
      "\n",
      "print('Reference:')\n",
      "LCHuv = np.array([37.9856291, 28.82419933, 182.69604747])\n",
      "print(LCHuv_to_Luv(LCHuv))\n",
      " \n",
      "print('\\n')\n",
      " \n",
      "print('1d array:')\n",
      "print(LCHuv_to_Luv_vectorise(LCHuv))\n",
      " \n",
      "print('\\n')\n",
      " \n",
      "print('2d array:')\n",
      "LCHuv = np.tile(LCHuv, (5, 1))\n",
      "print(LCHuv_to_Luv_vectorise(LCHuv))"
     ],
     "language": "python",
     "metadata": {},
     "outputs": [
      {
       "output_type": "stream",
       "stream": "stdout",
       "text": [
        "Reference:\n",
        "[ 37.9856291  -28.79229446  -1.3558195 ]\n",
        "\n",
        "\n",
        "1d array:\n",
        "[ 37.9856291  -28.79229446  -1.3558195 ]\n",
        "\n",
        "\n",
        "2d array:\n",
        "[[ 37.9856291  -28.79229446  -1.3558195 ]\n",
        " [ 37.9856291  -28.79229446  -1.3558195 ]\n",
        " [ 37.9856291  -28.79229446  -1.3558195 ]\n",
        " [ 37.9856291  -28.79229446  -1.3558195 ]\n",
        " [ 37.9856291  -28.79229446  -1.3558195 ]]\n"
       ]
      }
     ],
     "prompt_number": 865
    },
    {
     "cell_type": "code",
     "collapsed": false,
     "input": [
      "%timeit LCHuv_to_Luv_vectorise(DATA1)"
     ],
     "language": "python",
     "metadata": {},
     "outputs": [
      {
       "output_type": "stream",
       "stream": "stdout",
       "text": [
        "10 loops, best of 3: 87.9 ms per loop\n"
       ]
      }
     ],
     "prompt_number": 866
    },
    {
     "cell_type": "heading",
     "level": 2,
     "metadata": {},
     "source": [
      "colour.models.cie_ucs"
     ]
    },
    {
     "cell_type": "heading",
     "level": 3,
     "metadata": {},
     "source": [
      "colour.XYZ_to_UCS"
     ]
    },
    {
     "cell_type": "code",
     "collapsed": false,
     "input": [
      "from colour.models.cie_ucs import *\n",
      "\n",
      "\n",
      "def XYZ_to_UCS_2d(XYZ):\n",
      "    for i in range(len(XYZ)):\n",
      "        XYZ_to_UCS(XYZ[i])"
     ],
     "language": "python",
     "metadata": {},
     "outputs": [],
     "prompt_number": 867
    },
    {
     "cell_type": "code",
     "collapsed": false,
     "input": [
      "%timeit XYZ_to_UCS_2d(DATA1)"
     ],
     "language": "python",
     "metadata": {},
     "outputs": [
      {
       "output_type": "stream",
       "stream": "stdout",
       "text": [
        "1 loops, best of 3: 11 s per loop\n"
       ]
      }
     ],
     "prompt_number": 868
    },
    {
     "cell_type": "code",
     "collapsed": false,
     "input": [
      "def XYZ_to_UCS_vectorise(XYZ):\n",
      "    XYZ = as_array(XYZ, (-1, 3))\n",
      "    X, Y, Z = XYZ[:, 0], XYZ[:, 1], XYZ[:, 2]\n",
      "    \n",
      "    UVW = as_stack((2 / 3 * X, \n",
      "                    Y,\n",
      "                    1 / 2 * (-X + 3 * Y + Z)))\n",
      "    \n",
      "    return UVW\n",
      "\n",
      "\n",
      "print('Reference:')\n",
      "XYZ = np.array([0.07049534, 0.1008, 0.09558313])\n",
      "print(XYZ_to_UCS(XYZ))\n",
      "\n",
      "print('\\n')\n",
      "\n",
      "print('1d array:')\n",
      "print(XYZ_to_UCS_vectorise(XYZ))\n",
      "\n",
      "print('\\n')\n",
      "\n",
      "print('2d array:')\n",
      "XYZ = np.tile(XYZ, (5, 1))\n",
      "print(XYZ_to_UCS_vectorise(XYZ))"
     ],
     "language": "python",
     "metadata": {},
     "outputs": [
      {
       "output_type": "stream",
       "stream": "stdout",
       "text": [
        "Reference:\n",
        "[ 0.04699689  0.1008      0.1637439 ]\n",
        "\n",
        "\n",
        "1d array:\n",
        "[ 0.04699689  0.1008      0.1637439 ]\n",
        "\n",
        "\n",
        "2d array:\n",
        "[[ 0.04699689  0.1008      0.1637439 ]\n",
        " [ 0.04699689  0.1008      0.1637439 ]\n",
        " [ 0.04699689  0.1008      0.1637439 ]\n",
        " [ 0.04699689  0.1008      0.1637439 ]\n",
        " [ 0.04699689  0.1008      0.1637439 ]]\n"
       ]
      }
     ],
     "prompt_number": 869
    },
    {
     "cell_type": "code",
     "collapsed": false,
     "input": [
      "%timeit XYZ_to_UCS_vectorise(DATA1)"
     ],
     "language": "python",
     "metadata": {},
     "outputs": [
      {
       "output_type": "stream",
       "stream": "stdout",
       "text": [
        "10 loops, best of 3: 53.1 ms per loop\n"
       ]
      }
     ],
     "prompt_number": 870
    },
    {
     "cell_type": "heading",
     "level": 3,
     "metadata": {},
     "source": [
      "colour.UCS_to_XYZ"
     ]
    },
    {
     "cell_type": "code",
     "collapsed": false,
     "input": [
      "def UCS_to_XYZ_2d(UVW):\n",
      "    for i in range(len(UVW)):\n",
      "        UCS_to_XYZ(UVW[i])"
     ],
     "language": "python",
     "metadata": {},
     "outputs": [],
     "prompt_number": 871
    },
    {
     "cell_type": "code",
     "collapsed": false,
     "input": [
      "%timeit UCS_to_XYZ_2d(DATA1)"
     ],
     "language": "python",
     "metadata": {},
     "outputs": [
      {
       "output_type": "stream",
       "stream": "stdout",
       "text": [
        "1 loops, best of 3: 12.3 s per loop\n"
       ]
      }
     ],
     "prompt_number": 872
    },
    {
     "cell_type": "code",
     "collapsed": false,
     "input": [
      "def UCS_to_XYZ_vectorise(UVW):\n",
      "    UVW = as_array(UVW, (-1, 3))\n",
      "    U, V, W = UVW[:, 0], UVW[:, 1], UVW[:, 2]\n",
      "\n",
      "    XYZ = as_stack((3 / 2 * U,\n",
      "                    V,\n",
      "                    3 / 2 * U - (3 * V) + (2 * W)))\n",
      "    \n",
      "    return XYZ\n",
      "\n",
      "\n",
      "print('Reference:')\n",
      "UVW = np.array([0.04699689, 0.1008, 0.1637439])\n",
      "print(UCS_to_XYZ(UVW))\n",
      "\n",
      "print('\\n')\n",
      "\n",
      "print('1d array:')\n",
      "print(UCS_to_XYZ_vectorise(UVW))\n",
      "\n",
      "print('\\n')\n",
      "\n",
      "print('2d array:')\n",
      "UVW = np.tile(UVW, (5, 1))\n",
      "print(UCS_to_XYZ_vectorise(UVW))"
     ],
     "language": "python",
     "metadata": {},
     "outputs": [
      {
       "output_type": "stream",
       "stream": "stdout",
       "text": [
        "Reference:\n",
        "[ 0.07049533  0.1008      0.09558313]\n",
        "\n",
        "\n",
        "1d array:\n",
        "[ 0.07049533  0.1008      0.09558313]\n",
        "\n",
        "\n",
        "2d array:\n",
        "[[ 0.07049533  0.1008      0.09558313]\n",
        " [ 0.07049533  0.1008      0.09558313]\n",
        " [ 0.07049533  0.1008      0.09558313]\n",
        " [ 0.07049533  0.1008      0.09558313]\n",
        " [ 0.07049533  0.1008      0.09558313]]\n"
       ]
      }
     ],
     "prompt_number": 873
    },
    {
     "cell_type": "code",
     "collapsed": false,
     "input": [
      "%timeit UCS_to_XYZ_vectorise(DATA1)"
     ],
     "language": "python",
     "metadata": {},
     "outputs": [
      {
       "output_type": "stream",
       "stream": "stdout",
       "text": [
        "10 loops, best of 3: 46.7 ms per loop\n"
       ]
      }
     ],
     "prompt_number": 874
    },
    {
     "cell_type": "heading",
     "level": 3,
     "metadata": {},
     "source": [
      "colour.UCS_to_uv"
     ]
    },
    {
     "cell_type": "code",
     "collapsed": false,
     "input": [
      "def UCS_to_uv_2d(UVW):\n",
      "    for i in range(len(UVW)):\n",
      "        UCS_to_uv(UVW[i])"
     ],
     "language": "python",
     "metadata": {},
     "outputs": [],
     "prompt_number": 875
    },
    {
     "cell_type": "code",
     "collapsed": false,
     "input": [
      "%timeit UCS_to_uv_2d(DATA1)"
     ],
     "language": "python",
     "metadata": {},
     "outputs": [
      {
       "output_type": "stream",
       "stream": "stdout",
       "text": [
        "1 loops, best of 3: 7.79 s per loop\n"
       ]
      }
     ],
     "prompt_number": 876
    },
    {
     "cell_type": "code",
     "collapsed": false,
     "input": [
      "def UCS_to_uv_vectorise(UVW):\n",
      "    UVW = as_array(UVW, (-1, 3))\n",
      "    U, V, W = UVW[:, 0], UVW[:, 1], UVW[:, 2]\n",
      "\n",
      "    uv = as_stack((U / (U + V + W), V / (U + V + W)))\n",
      "\n",
      "    return uv\n",
      "\n",
      "\n",
      "print('Reference:')\n",
      "UVW = np.array([0.04699689, 0.1008, 0.1637439])\n",
      "print(UCS_to_uv(UVW))\n",
      "\n",
      "print('\\n')\n",
      "\n",
      "print('1d array:')\n",
      "print(UCS_to_uv_vectorise(UVW))\n",
      "\n",
      "print('\\n')\n",
      "\n",
      "print('2d array:')\n",
      "UVW = np.tile(UVW, (5, 1))\n",
      "print(UCS_to_uv_vectorise(UVW))"
     ],
     "language": "python",
     "metadata": {},
     "outputs": [
      {
       "output_type": "stream",
       "stream": "stdout",
       "text": [
        "Reference:\n",
        "(0.15085308732766581, 0.3235531372954405)\n",
        "\n",
        "\n",
        "1d array:\n",
        "[ 0.15085309  0.32355314]\n",
        "\n",
        "\n",
        "2d array:\n",
        "[[ 0.15085309  0.32355314]\n",
        " [ 0.15085309  0.32355314]\n",
        " [ 0.15085309  0.32355314]\n",
        " [ 0.15085309  0.32355314]\n",
        " [ 0.15085309  0.32355314]]\n"
       ]
      }
     ],
     "prompt_number": 877
    },
    {
     "cell_type": "code",
     "collapsed": false,
     "input": [
      "%timeit UCS_to_uv_vectorise(DATA1)"
     ],
     "language": "python",
     "metadata": {},
     "outputs": [
      {
       "output_type": "stream",
       "stream": "stdout",
       "text": [
        "10 loops, best of 3: 50.3 ms per loop\n"
       ]
      }
     ],
     "prompt_number": 878
    },
    {
     "cell_type": "heading",
     "level": 3,
     "metadata": {},
     "source": [
      "colour.UCS_uv_to_xy"
     ]
    },
    {
     "cell_type": "code",
     "collapsed": false,
     "input": [
      "def UCS_uv_to_xy_2d(uv):\n",
      "    for i in range(len(uv)):\n",
      "        UCS_uv_to_xy(uv[i])"
     ],
     "language": "python",
     "metadata": {},
     "outputs": [],
     "prompt_number": 879
    },
    {
     "cell_type": "code",
     "collapsed": false,
     "input": [
      "%timeit UCS_uv_to_xy_2d(DATA1[:, 0:2])"
     ],
     "language": "python",
     "metadata": {},
     "outputs": [
      {
       "output_type": "stream",
       "stream": "stdout",
       "text": [
        "1 loops, best of 3: 15.5 s per loop\n"
       ]
      }
     ],
     "prompt_number": 880
    },
    {
     "cell_type": "code",
     "collapsed": false,
     "input": [
      "def UCS_uv_to_xy_vectorise(uv):\n",
      "    uv = as_array(uv, (-1, 2))\n",
      "    u, v = uv[:, 0], uv[:, 1]\n",
      "\n",
      "    xy = as_stack((3 * u / (2 * u - 8 * v + 4),\n",
      "                   2 * v / (2 * u - 8 * v + 4)))\n",
      "    \n",
      "    return xy\n",
      "\n",
      "\n",
      "print('Reference:')\n",
      "uv = np.array([0.15085308732766581, 0.3235531372954405])\n",
      "print(UCS_uv_to_xy(uv))\n",
      "\n",
      "print('\\n')\n",
      "\n",
      "print('1d array:')\n",
      "print(UCS_uv_to_xy_vectorise(uv))\n",
      "\n",
      "print('\\n')\n",
      "\n",
      "print('2d array:')\n",
      "uv = np.tile(uv, (5, 1))\n",
      "print(UCS_uv_to_xy_vectorise(uv))"
     ],
     "language": "python",
     "metadata": {},
     "outputs": [
      {
       "output_type": "stream",
       "stream": "stdout",
       "text": [
        "Reference:\n",
        "(0.26414770363454193, 0.37770000704815182)\n",
        "\n",
        "\n",
        "1d array:\n",
        "[ 0.2641477   0.37770001]\n",
        "\n",
        "\n",
        "2d array:\n",
        "[[ 0.2641477   0.37770001]\n",
        " [ 0.2641477   0.37770001]\n",
        " [ 0.2641477   0.37770001]\n",
        " [ 0.2641477   0.37770001]\n",
        " [ 0.2641477   0.37770001]]\n"
       ]
      }
     ],
     "prompt_number": 881
    },
    {
     "cell_type": "code",
     "collapsed": false,
     "input": [
      "%timeit UCS_uv_to_xy_vectorise(DATA1[:, 0:2])"
     ],
     "language": "python",
     "metadata": {},
     "outputs": [
      {
       "output_type": "stream",
       "stream": "stdout",
       "text": [
        "10 loops, best of 3: 62.9 ms per loop\n"
       ]
      }
     ],
     "prompt_number": 882
    },
    {
     "cell_type": "heading",
     "level": 2,
     "metadata": {},
     "source": [
      "colour.models.cie_uvw"
     ]
    },
    {
     "cell_type": "heading",
     "level": 3,
     "metadata": {},
     "source": [
      "colour.XYZ_to_UVW"
     ]
    },
    {
     "cell_type": "code",
     "collapsed": false,
     "input": [
      "from colour.models.cie_uvw import *\n",
      "\n",
      "\n",
      "def XYZ_to_UVW_2d(XYZ):\n",
      "    for i in range(len(XYZ)):\n",
      "        XYZ_to_UVW(XYZ[i])"
     ],
     "language": "python",
     "metadata": {},
     "outputs": [],
     "prompt_number": 883
    },
    {
     "cell_type": "code",
     "collapsed": false,
     "input": [
      "%timeit XYZ_to_UVW_2d(DATA1)"
     ],
     "language": "python",
     "metadata": {},
     "outputs": [
      {
       "output_type": "stream",
       "stream": "stdout",
       "text": [
        "1 loops, best of 3: 1min 30s per loop\n"
       ]
      }
     ],
     "prompt_number": 884
    },
    {
     "cell_type": "code",
     "collapsed": false,
     "input": [
      "def XYZ_to_UVW_vectorise(XYZ,\n",
      "                         illuminant=ILLUMINANTS.get(\n",
      "                             'CIE 1931 2 Degree Standard Observer').get(\n",
      "                             'D50')):\n",
      "    xyY = as_array(XYZ_to_xyY_vectorise(XYZ, illuminant), (-1, 3))\n",
      "    x, y, Y = xyY[:, 0], xyY[:, 1], xyY[:, 2]\n",
      "\n",
      "    uv = as_array(UCS_to_uv_vectorise(\n",
      "        as_array(XYZ_to_UCS_vectorise(XYZ),\n",
      "                 (-1, 3))),\n",
      "                  (-1, 2))\n",
      "    u, v = uv[:, 0], uv[:, 1]\n",
      "\n",
      "    uv_0 = as_array(UCS_to_uv_vectorise(\n",
      "        as_array(XYZ_to_UCS_vectorise(\n",
      "            as_array(xy_to_XYZ_vectorise(illuminant),\n",
      "                     (-1, 3))),\n",
      "                 (-1, 3))),\n",
      "                    (-1, 2))\n",
      "    u_0, v_0 = uv_0[:, 0], uv_0[:, 1]\n",
      "\n",
      "    W = 25 * Y ** (1 / 3) - 17\n",
      "    U = 13 * W * (u - u_0)\n",
      "    V = 13 * W * (v - v_0)\n",
      "\n",
      "    UVW = as_stack((U, V, W))\n",
      "    \n",
      "    return UVW\n",
      "\n",
      "\n",
      "print('Reference:')\n",
      "XYZ = np.array([0.07049534, 0.1008, 0.09558313])\n",
      "print(XYZ_to_UVW(XYZ))\n",
      "\n",
      "print('\\n')\n",
      "\n",
      "print('1d array:')\n",
      "print(XYZ_to_UVW_vectorise(XYZ))\n",
      "\n",
      "print('\\n')\n",
      "\n",
      "print('2d array:')\n",
      "XYZ = np.tile(XYZ, (5, 1))\n",
      "print(XYZ_to_UVW_vectorise(XYZ))"
     ],
     "language": "python",
     "metadata": {},
     "outputs": [
      {
       "output_type": "stream",
       "stream": "stdout",
       "text": [
        "Reference:\n",
        "[ 4.06668119  0.12766577 -5.36516614]\n",
        "\n",
        "\n",
        "1d array:\n",
        "[ 4.06668119  0.12766577 -5.36516614]\n",
        "\n",
        "\n",
        "2d array:\n",
        "[[ 4.06668119  0.12766577 -5.36516614]\n",
        " [ 4.06668119  0.12766577 -5.36516614]\n",
        " [ 4.06668119  0.12766577 -5.36516614]\n",
        " [ 4.06668119  0.12766577 -5.36516614]\n",
        " [ 4.06668119  0.12766577 -5.36516614]]\n"
       ]
      }
     ],
     "prompt_number": 885
    },
    {
     "cell_type": "code",
     "collapsed": false,
     "input": [
      "%timeit XYZ_to_UVW_vectorise(DATA1)"
     ],
     "language": "python",
     "metadata": {},
     "outputs": [
      {
       "output_type": "stream",
       "stream": "stdout",
       "text": [
        "1 loops, best of 3: 938 ms per loop\n"
       ]
      }
     ],
     "prompt_number": 886
    },
    {
     "cell_type": "heading",
     "level": 2,
     "metadata": {},
     "source": [
      "colour.models.deprecated"
     ]
    },
    {
     "cell_type": "heading",
     "level": 3,
     "metadata": {},
     "source": [
      "colour.models.deprecated.RGB_to_HSV"
     ]
    },
    {
     "cell_type": "code",
     "collapsed": false,
     "input": [
      "from colour.models.deprecated import *\n",
      "\n",
      "def RGB_to_HSV_2d(RGB):\n",
      "    for i in range(len(RGB)):\n",
      "        RGB_to_HSV(RGB[i])"
     ],
     "language": "python",
     "metadata": {},
     "outputs": [],
     "prompt_number": 887
    },
    {
     "cell_type": "code",
     "collapsed": false,
     "input": [
      "%timeit RGB_to_HSV_2d(DATA1)"
     ],
     "language": "python",
     "metadata": {},
     "outputs": [
      {
       "output_type": "stream",
       "stream": "stdout",
       "text": [
        "1 loops, best of 3: 29 s per loop\n"
       ]
      }
     ],
     "prompt_number": 888
    },
    {
     "cell_type": "code",
     "collapsed": false,
     "input": [
      "@handle_floating_point_errors(divide='ignore', invalid='ignore')\n",
      "def RGB_to_HSV_vectorise(RGB):\n",
      "    RGB = as_array(RGB, (-1, 3))\n",
      "\n",
      "    minimum = np.amin(RGB, -1)\n",
      "    maximum = np.amax(RGB, -1)\n",
      "    delta = np.ptp(RGB, -1)\n",
      "\n",
      "    V = maximum\n",
      "\n",
      "    R, G, B = RGB[:, 0], RGB[:, 1], RGB[:, 2]\n",
      "\n",
      "    S = delta / maximum\n",
      "    S[delta == 0] = 0\n",
      "\n",
      "    delta_R = (((maximum - R) / 6) + (delta / 2)) / delta\n",
      "    delta_G = (((maximum - G) / 6) + (delta / 2)) / delta\n",
      "    delta_B = (((maximum - B) / 6) + (delta / 2)) / delta\n",
      "\n",
      "    H = delta_B - delta_G\n",
      "    H = np.where(G == maximum, (1 / 3) + delta_R - delta_B, H)\n",
      "    H = np.where(B == maximum, (2 / 3) + delta_G - delta_R, H)\n",
      "    H[H < 0] += 1\n",
      "    H[H > 1] -= 1\n",
      "    H[delta == 0] = 0\n",
      "\n",
      "    HSV = as_stack((H, S, V))\n",
      "\n",
      "    return HSV\n",
      "\n",
      "\n",
      "print('Reference:')\n",
      "RGB = np.array([0.49019608, 0.98039216, 0.25098039])\n",
      "print(RGB_to_HSV(RGB))\n",
      "\n",
      "print('\\n')\n",
      "\n",
      "print('1d array:')\n",
      "print(RGB_to_HSV_vectorise(RGB))\n",
      "\n",
      "print('\\n')\n",
      "\n",
      "print('2d array:')\n",
      "RGB = np.tile(RGB, (5, 1))\n",
      "print(RGB_to_HSV_vectorise(RGB))"
     ],
     "language": "python",
     "metadata": {},
     "outputs": [
      {
       "output_type": "stream",
       "stream": "stdout",
       "text": [
        "Reference:\n",
        "[ 0.27867383  0.744       0.98039216]\n",
        "\n",
        "\n",
        "1d array:\n",
        "[ 0.27867383  0.744       0.98039216]\n",
        "\n",
        "\n",
        "2d array:\n",
        "[[ 0.27867383  0.744       0.98039216]\n",
        " [ 0.27867383  0.744       0.98039216]\n",
        " [ 0.27867383  0.744       0.98039216]\n",
        " [ 0.27867383  0.744       0.98039216]\n",
        " [ 0.27867383  0.744       0.98039216]]\n"
       ]
      }
     ],
     "prompt_number": 889
    },
    {
     "cell_type": "code",
     "collapsed": false,
     "input": [
      "%timeit RGB_to_HSV_vectorise(DATA1)"
     ],
     "language": "python",
     "metadata": {},
     "outputs": [
      {
       "output_type": "stream",
       "stream": "stdout",
       "text": [
        "1 loops, best of 3: 462 ms per loop\n"
       ]
      }
     ],
     "prompt_number": 890
    },
    {
     "cell_type": "heading",
     "level": 3,
     "metadata": {},
     "source": [
      "colour.models.deprecated.HSV_to_RGB"
     ]
    },
    {
     "cell_type": "code",
     "collapsed": false,
     "input": [
      "def HSV_to_RGB_2d(HSV):\n",
      "    for i in range(len(HSV)):\n",
      "        HSV_to_RGB(HSV[i])"
     ],
     "language": "python",
     "metadata": {},
     "outputs": [],
     "prompt_number": 891
    },
    {
     "cell_type": "code",
     "collapsed": false,
     "input": [
      "%timeit HSV_to_RGB_2d(DATA1)"
     ],
     "language": "python",
     "metadata": {},
     "outputs": [
      {
       "output_type": "stream",
       "stream": "stdout",
       "text": [
        "1 loops, best of 3: 28 s per loop\n"
       ]
      }
     ],
     "prompt_number": 892
    },
    {
     "cell_type": "code",
     "collapsed": false,
     "input": [
      "def HSV_to_RGB_vectorise(HSV):\n",
      "    HSV = as_array(HSV, (-1, 3))\n",
      "\n",
      "    H, S, V = HSV[:, 0], HSV[:, 1], HSV[:, 2]\n",
      "\n",
      "    h = H * 6\n",
      "    h[h == 6] = 0\n",
      "\n",
      "    i = np.floor(h)\n",
      "    j = V * (1 - S)\n",
      "    k = V * (1 - S * (h - i))\n",
      "    l = V * (1 - S * (1 - (h - i)))\n",
      "\n",
      "    i = np.dstack((i, i, i)).astype(np.uint8)\n",
      "    RGB = np.squeeze(np.choose(i,\n",
      "                               (np.dstack((V, l, j)),\n",
      "                                np.dstack((k, V, j)),\n",
      "                                np.dstack((j, V, l)),\n",
      "                                np.dstack((j, k, V)),\n",
      "                                np.dstack((l, j, V)),\n",
      "                                np.dstack((V, j, k)))))\n",
      "\n",
      "    return RGB\n",
      "\n",
      "\n",
      "print('Reference:')\n",
      "HSV = np.array([0.27867383, 0.744, 0.98039216])\n",
      "print(HSV_to_RGB(HSV))\n",
      "\n",
      "print('\\n')\n",
      "\n",
      "print('1d array:')\n",
      "print(HSV_to_RGB_vectorise(HSV))\n",
      "\n",
      "print('\\n')\n",
      "\n",
      "print('2d array:')\n",
      "HSV = np.tile(HSV, (5, 1))\n",
      "print(HSV_to_RGB_vectorise(HSV))"
     ],
     "language": "python",
     "metadata": {},
     "outputs": [
      {
       "output_type": "stream",
       "stream": "stdout",
       "text": [
        "Reference:\n",
        "[ 0.4901961   0.98039216  0.25098039]\n",
        "\n",
        "\n",
        "1d array:\n",
        "[ 0.4901961   0.98039216  0.25098039]\n",
        "\n",
        "\n",
        "2d array:\n",
        "[[ 0.4901961   0.98039216  0.25098039]\n",
        " [ 0.4901961   0.98039216  0.25098039]\n",
        " [ 0.4901961   0.98039216  0.25098039]\n",
        " [ 0.4901961   0.98039216  0.25098039]\n",
        " [ 0.4901961   0.98039216  0.25098039]]\n"
       ]
      }
     ],
     "prompt_number": 893
    },
    {
     "cell_type": "code",
     "collapsed": false,
     "input": [
      "%timeit HSV_to_RGB_vectorise(DATA1)"
     ],
     "language": "python",
     "metadata": {},
     "outputs": [
      {
       "output_type": "stream",
       "stream": "stdout",
       "text": [
        "1 loops, best of 3: 525 ms per loop\n"
       ]
      }
     ],
     "prompt_number": 894
    },
    {
     "cell_type": "heading",
     "level": 3,
     "metadata": {},
     "source": [
      "colour.models.deprecated.RGB_to_HSL"
     ]
    },
    {
     "cell_type": "code",
     "collapsed": false,
     "input": [
      "def RGB_to_HSL_2d(RGB):\n",
      "    for i in range(len(RGB)):\n",
      "        RGB_to_HSL(RGB[i])"
     ],
     "language": "python",
     "metadata": {},
     "outputs": [],
     "prompt_number": 895
    },
    {
     "cell_type": "code",
     "collapsed": false,
     "input": [
      "%timeit RGB_to_HSL_2d(DATA1)"
     ],
     "language": "python",
     "metadata": {},
     "outputs": [
      {
       "output_type": "stream",
       "stream": "stdout",
       "text": [
        "1 loops, best of 3: 32.1 s per loop\n"
       ]
      }
     ],
     "prompt_number": 896
    },
    {
     "cell_type": "code",
     "collapsed": false,
     "input": [
      "@handle_floating_point_errors(divide='ignore', invalid='ignore')\n",
      "def RGB_to_HSL_vectorise(RGB):\n",
      "    RGB = as_array(RGB, (-1, 3))\n",
      "\n",
      "    minimum = np.amin(RGB, -1)\n",
      "    maximum = np.amax(RGB, -1)\n",
      "    delta = np.ptp(RGB, -1)\n",
      "\n",
      "    R, G, B = RGB[:, 0], RGB[:, 1], RGB[:, 2]\n",
      "\n",
      "    L = (maximum + minimum) / 2\n",
      "\n",
      "    S = np.where(L < 0.5,\n",
      "                 delta / (maximum + minimum),\n",
      "                 delta / (2 - maximum - minimum))\n",
      "    S[delta == 0] = 0\n",
      "\n",
      "    delta_R = (((maximum - R) / 6) + (delta / 2)) / delta\n",
      "    delta_G = (((maximum - G) / 6) + (delta / 2)) / delta\n",
      "    delta_B = (((maximum - B) / 6) + (delta / 2)) / delta\n",
      "\n",
      "    H = delta_B - delta_G\n",
      "    H = np.where(G == maximum, (1 / 3) + delta_R - delta_B, H)\n",
      "    H = np.where(B == maximum, (2 / 3) + delta_G - delta_R, H)\n",
      "    H[H < 0] += 1\n",
      "    H[H > 1] -= 1\n",
      "    H[delta == 0] = 0\n",
      "\n",
      "    HSL = as_stack((H, S, L))\n",
      "\n",
      "    return HSL\n",
      "\n",
      "\n",
      "print('Reference:')\n",
      "RGB = np.array([0.49019608, 0.98039216, 0.25098039])\n",
      "print(RGB_to_HSL(RGB))\n",
      "\n",
      "print('\\n')\n",
      "\n",
      "print('1d array:')\n",
      "print(RGB_to_HSL_vectorise(RGB))\n",
      "\n",
      "print('\\n')\n",
      "\n",
      "print('2d array:')\n",
      "RGB = np.tile(RGB, (5, 1))\n",
      "print(RGB_to_HSL_vectorise(RGB))"
     ],
     "language": "python",
     "metadata": {},
     "outputs": [
      {
       "output_type": "stream",
       "stream": "stdout",
       "text": [
        "Reference:\n",
        "[ 0.27867383  0.9489796   0.61568627]\n",
        "\n",
        "\n",
        "1d array:\n",
        "[ 0.27867383  0.9489796   0.61568627]\n",
        "\n",
        "\n",
        "2d array:\n",
        "[[ 0.27867383  0.9489796   0.61568627]\n",
        " [ 0.27867383  0.9489796   0.61568627]\n",
        " [ 0.27867383  0.9489796   0.61568627]\n",
        " [ 0.27867383  0.9489796   0.61568627]\n",
        " [ 0.27867383  0.9489796   0.61568627]]\n"
       ]
      }
     ],
     "prompt_number": 897
    },
    {
     "cell_type": "code",
     "collapsed": false,
     "input": [
      "%timeit RGB_to_HSL_vectorise(DATA1)"
     ],
     "language": "python",
     "metadata": {},
     "outputs": [
      {
       "output_type": "stream",
       "stream": "stdout",
       "text": [
        "1 loops, best of 3: 516 ms per loop\n"
       ]
      }
     ],
     "prompt_number": 898
    },
    {
     "cell_type": "heading",
     "level": 3,
     "metadata": {},
     "source": [
      "colour.models.deprecated.HSL_to_RGB"
     ]
    },
    {
     "cell_type": "code",
     "collapsed": false,
     "input": [
      "def HSL_to_RGB_2d(HSL):\n",
      "    for i in range(len(HSL)):\n",
      "        HSL_to_RGB(HSL[i])"
     ],
     "language": "python",
     "metadata": {},
     "outputs": [],
     "prompt_number": 899
    },
    {
     "cell_type": "code",
     "collapsed": false,
     "input": [
      "%timeit HSL_to_RGB_2d(DATA1)"
     ],
     "language": "python",
     "metadata": {},
     "outputs": [
      {
       "output_type": "stream",
       "stream": "stdout",
       "text": [
        "1 loops, best of 3: 43.6 s per loop\n"
       ]
      }
     ],
     "prompt_number": 900
    },
    {
     "cell_type": "code",
     "collapsed": false,
     "input": [
      "def HSL_to_RGB_vectorise(HSL):\n",
      "    HSL = as_array(HSL, (-1, 3))\n",
      "\n",
      "    H, S, L = HSL[:, 0], HSL[:, 1], HSL[:, 2]\n",
      "\n",
      "    def H_to_RGB(vi, vj, vH):\n",
      "        \"\"\"\n",
      "        Converts *hue* value to *RGB* colourspace.\n",
      "        \"\"\"\n",
      "\n",
      "        vH[vH < 0] += 1\n",
      "        vH[vH > 1] -= 1\n",
      "\n",
      "        v = np.full(vi.shape, np.nan)\n",
      "\n",
      "        v = np.where(np.logical_and(6 * vH < 1, np.isnan(v)),\n",
      "                     vi + (vj - vi) * 6 * vH,\n",
      "                     v)\n",
      "        v = np.where(np.logical_and(2 * vH < 1, np.isnan(v)),\n",
      "                     vj,\n",
      "                     v)\n",
      "        v = np.where(np.logical_and(3 * vH < 2, np.isnan(v)),\n",
      "                     vi + (vj - vi) * ((2 / 3) - vH) * 6,\n",
      "                     v)\n",
      "        v = np.where(np.isnan(v), vi, v)\n",
      "\n",
      "        return v\n",
      "\n",
      "    j = np.where(L < 0.5, L * (1 + S), (L + S) - (S * L))\n",
      "    i = 2 * L - j\n",
      "\n",
      "    R = H_to_RGB(i, j, H + (1 / 3))\n",
      "    G = H_to_RGB(i, j, H)\n",
      "    B = H_to_RGB(i, j, H - (1 / 3))\n",
      "\n",
      "    R = np.where(S == 1, L, R)\n",
      "    G = np.where(S == 1, L, G)\n",
      "    B = np.where(S == 1, L, B)\n",
      "\n",
      "    RGB = as_stack((R, G, B))\n",
      "\n",
      "    return RGB\n",
      "\n",
      "\n",
      "print('Reference:')\n",
      "HSL = np.array([0.27867383, 0.9489796, 0.61568627])\n",
      "print(HSL_to_RGB(HSL))\n",
      "\n",
      "print('\\n')\n",
      "\n",
      "print('1d array:')\n",
      "print(HSL_to_RGB_vectorise(HSL))\n",
      "\n",
      "print('\\n')\n",
      "\n",
      "print('2d array:')\n",
      "HSL = np.tile(HSL, (5, 1))\n",
      "print(HSL_to_RGB_vectorise(HSL))"
     ],
     "language": "python",
     "metadata": {},
     "outputs": [
      {
       "output_type": "stream",
       "stream": "stdout",
       "text": [
        "Reference:\n",
        "[ 0.49019609  0.98039216  0.25098038]\n",
        "\n",
        "\n",
        "1d array:\n",
        "[ 0.49019609  0.98039216  0.25098038]\n",
        "\n",
        "\n",
        "2d array:\n",
        "[[ 0.49019609  0.98039216  0.25098038]\n",
        " [ 0.49019609  0.98039216  0.25098038]\n",
        " [ 0.49019609  0.98039216  0.25098038]\n",
        " [ 0.49019609  0.98039216  0.25098038]\n",
        " [ 0.49019609  0.98039216  0.25098038]]\n"
       ]
      }
     ],
     "prompt_number": 901
    },
    {
     "cell_type": "code",
     "collapsed": false,
     "input": [
      "%timeit HSL_to_RGB_vectorise(DATA1)"
     ],
     "language": "python",
     "metadata": {},
     "outputs": [
      {
       "output_type": "stream",
       "stream": "stdout",
       "text": [
        "1 loops, best of 3: 904 ms per loop\n"
       ]
      }
     ],
     "prompt_number": 902
    },
    {
     "cell_type": "heading",
     "level": 3,
     "metadata": {},
     "source": [
      "colour.models.deprecated.RGB_to_CMY"
     ]
    },
    {
     "cell_type": "code",
     "collapsed": false,
     "input": [
      "def RGB_to_CMY_2d(RGB):\n",
      "    for i in range(len(RGB)):\n",
      "        RGB_to_CMY(RGB[i])"
     ],
     "language": "python",
     "metadata": {},
     "outputs": [],
     "prompt_number": 903
    },
    {
     "cell_type": "code",
     "collapsed": false,
     "input": [
      "%timeit RGB_to_CMY_2d(DATA1)"
     ],
     "language": "python",
     "metadata": {},
     "outputs": [
      {
       "output_type": "stream",
       "stream": "stdout",
       "text": [
        "1 loops, best of 3: 12.1 s per loop\n"
       ]
      }
     ],
     "prompt_number": 904
    },
    {
     "cell_type": "code",
     "collapsed": false,
     "input": [
      "def RGB_to_CMY_vectorise(RGB):\n",
      "    RGB = as_array(RGB, (-1, 3))\n",
      "    CMY = np.squeeze(1 - RGB)\n",
      "\n",
      "    return CMY\n",
      "\n",
      "\n",
      "print('Reference:')\n",
      "RGB = np.array([0.49019608, 0.98039216, 0.25098039])\n",
      "print(RGB_to_CMY(RGB))\n",
      "\n",
      "print('\\n')\n",
      "\n",
      "print('1d array:')\n",
      "print(RGB_to_CMY_vectorise(RGB))\n",
      "\n",
      "print('\\n')\n",
      "\n",
      "print('2d array:')\n",
      "RGB = np.tile(RGB, (5, 1))\n",
      "print(RGB_to_CMY_vectorise(RGB))"
     ],
     "language": "python",
     "metadata": {},
     "outputs": [
      {
       "output_type": "stream",
       "stream": "stdout",
       "text": [
        "Reference:\n",
        "[ 0.50980392  0.01960784  0.74901961]\n",
        "\n",
        "\n",
        "1d array:\n",
        "[ 0.50980392  0.01960784  0.74901961]\n",
        "\n",
        "\n",
        "2d array:\n",
        "[[ 0.50980392  0.01960784  0.74901961]\n",
        " [ 0.50980392  0.01960784  0.74901961]\n",
        " [ 0.50980392  0.01960784  0.74901961]\n",
        " [ 0.50980392  0.01960784  0.74901961]\n",
        " [ 0.50980392  0.01960784  0.74901961]]\n"
       ]
      }
     ],
     "prompt_number": 905
    },
    {
     "cell_type": "code",
     "collapsed": false,
     "input": [
      "%timeit RGB_to_CMY_vectorise(DATA1)"
     ],
     "language": "python",
     "metadata": {},
     "outputs": [
      {
       "output_type": "stream",
       "stream": "stdout",
       "text": [
        "100 loops, best of 3: 8.77 ms per loop\n"
       ]
      }
     ],
     "prompt_number": 906
    },
    {
     "cell_type": "heading",
     "level": 3,
     "metadata": {},
     "source": [
      "colour.models.deprecated.CMY_to_RGB"
     ]
    },
    {
     "cell_type": "code",
     "collapsed": false,
     "input": [
      "def CMY_to_RGB_2d(CMY):\n",
      "    for i in range(len(CMY)):\n",
      "        CMY_to_RGB(CMY[i])"
     ],
     "language": "python",
     "metadata": {},
     "outputs": [],
     "prompt_number": 907
    },
    {
     "cell_type": "code",
     "collapsed": false,
     "input": [
      "%timeit CMY_to_RGB_2d(DATA1)"
     ],
     "language": "python",
     "metadata": {},
     "outputs": [
      {
       "output_type": "stream",
       "stream": "stdout",
       "text": [
        "1 loops, best of 3: 11.9 s per loop\n"
       ]
      }
     ],
     "prompt_number": 908
    },
    {
     "cell_type": "code",
     "collapsed": false,
     "input": [
      "def CMY_to_RGB_vectorise(CMY):\n",
      "    CMY = as_array(CMY, (-1, 3))\n",
      "    RGB = np.squeeze(1 - CMY)\n",
      "    \n",
      "    return RGB\n",
      "\n",
      "\n",
      "print('Reference:')\n",
      "CMY = np.array([0.50980392, 0.01960784, 0.74901961])\n",
      "print(CMY_to_RGB(CMY))\n",
      "\n",
      "print('\\n')\n",
      "\n",
      "print('1d array:')\n",
      "print(CMY_to_RGB_vectorise(CMY))\n",
      "\n",
      "print('\\n')\n",
      "\n",
      "print('2d array:')\n",
      "CMY = np.tile(CMY, (5, 1))\n",
      "print(CMY_to_RGB_vectorise(CMY))"
     ],
     "language": "python",
     "metadata": {},
     "outputs": [
      {
       "output_type": "stream",
       "stream": "stdout",
       "text": [
        "Reference:\n",
        "[ 0.49019608  0.98039216  0.25098039]\n",
        "\n",
        "\n",
        "1d array:\n",
        "[ 0.49019608  0.98039216  0.25098039]\n",
        "\n",
        "\n",
        "2d array:\n",
        "[[ 0.49019608  0.98039216  0.25098039]\n",
        " [ 0.49019608  0.98039216  0.25098039]\n",
        " [ 0.49019608  0.98039216  0.25098039]\n",
        " [ 0.49019608  0.98039216  0.25098039]\n",
        " [ 0.49019608  0.98039216  0.25098039]]\n"
       ]
      }
     ],
     "prompt_number": 909
    },
    {
     "cell_type": "code",
     "collapsed": false,
     "input": [
      "%timeit CMY_to_RGB_vectorise(DATA1)"
     ],
     "language": "python",
     "metadata": {},
     "outputs": [
      {
       "output_type": "stream",
       "stream": "stdout",
       "text": [
        "100 loops, best of 3: 8.31 ms per loop\n"
       ]
      }
     ],
     "prompt_number": 910
    },
    {
     "cell_type": "heading",
     "level": 3,
     "metadata": {},
     "source": [
      "colour.models.deprecated.CMY_to_CMYK"
     ]
    },
    {
     "cell_type": "code",
     "collapsed": false,
     "input": [
      "def CMY_to_CMYK_2d(CMY):\n",
      "    for i in range(len(CMY)):\n",
      "        CMY_to_CMYK(CMY[i])"
     ],
     "language": "python",
     "metadata": {},
     "outputs": [],
     "prompt_number": 911
    },
    {
     "cell_type": "code",
     "collapsed": false,
     "input": [
      "%timeit CMY_to_CMYK_2d(DATA1)"
     ],
     "language": "python",
     "metadata": {},
     "outputs": [
      {
       "output_type": "stream",
       "stream": "stdout",
       "text": [
        "1 loops, best of 3: 17.8 s per loop\n"
       ]
      }
     ],
     "prompt_number": 912
    },
    {
     "cell_type": "code",
     "collapsed": false,
     "input": [
      "def CMY_to_CMYK_vectorise(CMY):\n",
      "    CMY = as_array(CMY, (-1, 3))\n",
      "    C, M, Y = CMY[:, 0], CMY[:, 1], CMY[:, 2]\n",
      "\n",
      "    K = np.ones(C.shape)\n",
      "    K = np.where(C < K, C, K)\n",
      "    K = np.where(M < K, M, K)\n",
      "    K = np.where(Y < K, Y, K)\n",
      "\n",
      "    C = (C - K) / (1 - K)\n",
      "    M = (M - K) / (1 - K)\n",
      "    Y = (Y - K) / (1 - K) \n",
      "\n",
      "    C[K == 1] = 0\n",
      "    M[K == 1] = 0\n",
      "    Y[K == 1] = 0\n",
      "\n",
      "    CMYK = as_stack((C, M, Y, K))\n",
      "\n",
      "    return CMYK\n",
      "\n",
      "\n",
      "print('Reference:')\n",
      "CMY = np.array([0.49019608, 0.98039216, 0.25098039])\n",
      "print(CMY_to_CMYK(CMY))\n",
      "\n",
      "print('\\n')\n",
      "\n",
      "print('1d array:')\n",
      "print(CMY_to_CMYK_vectorise(CMY))\n",
      "\n",
      "print('\\n')\n",
      "\n",
      "print('2d array:')\n",
      "CMY = np.tile(CMY, (5, 1))\n",
      "print(CMY_to_CMYK_vectorise(CMY))"
     ],
     "language": "python",
     "metadata": {},
     "outputs": [
      {
       "output_type": "stream",
       "stream": "stdout",
       "text": [
        "Reference:\n",
        "[ 0.31937173  0.97382199  0.          0.25098039]\n",
        "\n",
        "\n",
        "1d array:\n",
        "[ 0.31937173  0.97382199  0.          0.25098039]\n",
        "\n",
        "\n",
        "2d array:\n",
        "[[ 0.31937173  0.97382199  0.          0.25098039]\n",
        " [ 0.31937173  0.97382199  0.          0.25098039]\n",
        " [ 0.31937173  0.97382199  0.          0.25098039]\n",
        " [ 0.31937173  0.97382199  0.          0.25098039]\n",
        " [ 0.31937173  0.97382199  0.          0.25098039]]\n"
       ]
      }
     ],
     "prompt_number": 913
    },
    {
     "cell_type": "code",
     "collapsed": false,
     "input": [
      "%timeit CMY_to_CMYK_vectorise(DATA1)"
     ],
     "language": "python",
     "metadata": {},
     "outputs": [
      {
       "output_type": "stream",
       "stream": "stdout",
       "text": [
        "1 loops, best of 3: 199 ms per loop\n"
       ]
      }
     ],
     "prompt_number": 914
    },
    {
     "cell_type": "heading",
     "level": 3,
     "metadata": {},
     "source": [
      "colour.models.deprecated.CMYK_to_CMY"
     ]
    },
    {
     "cell_type": "code",
     "collapsed": false,
     "input": [
      "def CMYK_to_CMY_2d(CMYK):\n",
      "    for i in range(len(CMYK)):\n",
      "        CMYK_to_CMY(CMYK[i])"
     ],
     "language": "python",
     "metadata": {},
     "outputs": [],
     "prompt_number": 915
    },
    {
     "cell_type": "code",
     "collapsed": false,
     "input": [
      "%timeit CMYK_to_CMY_2d(np.resize(DATA1, (-1, 4)))"
     ],
     "language": "python",
     "metadata": {},
     "outputs": [
      {
       "output_type": "stream",
       "stream": "stdout",
       "text": [
        "1 loops, best of 3: 11.6 s per loop\n"
       ]
      }
     ],
     "prompt_number": 916
    },
    {
     "cell_type": "code",
     "collapsed": false,
     "input": [
      "def CMYK_to_CMY_vectorise(CMYK):\n",
      "    CMYK = as_array(CMYK, (-1, 4))\n",
      "    C, M, Y, K = CMYK[:, 0], CMYK[:, 1], CMYK[:, 2], CMYK[:, 3]\n",
      "\n",
      "    CMY = as_stack((C * (1 - K) + K, M * (1 - K) + K, Y * (1 - K) + K))\n",
      "\n",
      "    return CMY\n",
      "\n",
      "print('Reference:')\n",
      "CMYK = np.array([0.31937173, 0.97382199, 0., 0.25098039])\n",
      "print(CMYK_to_CMY(CMYK))\n",
      "\n",
      "print('\\n')\n",
      "\n",
      "print('1d array:')\n",
      "print(CMYK_to_CMY_vectorise(CMYK))\n",
      "\n",
      "print('\\n')\n",
      "\n",
      "print('2d array:')\n",
      "CMYK = np.tile(CMYK, (5, 1))\n",
      "print(CMYK_to_CMY_vectorise(CMYK))"
     ],
     "language": "python",
     "metadata": {},
     "outputs": [
      {
       "output_type": "stream",
       "stream": "stdout",
       "text": [
        "Reference:\n",
        "[ 0.49019608  0.98039216  0.25098039]\n",
        "\n",
        "\n",
        "1d array:\n",
        "[ 0.49019608  0.98039216  0.25098039]\n",
        "\n",
        "\n",
        "2d array:\n",
        "[[ 0.49019608  0.98039216  0.25098039]\n",
        " [ 0.49019608  0.98039216  0.25098039]\n",
        " [ 0.49019608  0.98039216  0.25098039]\n",
        " [ 0.49019608  0.98039216  0.25098039]\n",
        " [ 0.49019608  0.98039216  0.25098039]]\n"
       ]
      }
     ],
     "prompt_number": 917
    },
    {
     "cell_type": "code",
     "collapsed": false,
     "input": [
      "%timeit CMYK_to_CMY_vectorise(np.resize(DATA1, (-1, 4)))"
     ],
     "language": "python",
     "metadata": {},
     "outputs": [
      {
       "output_type": "stream",
       "stream": "stdout",
       "text": [
        "10 loops, best of 3: 66.2 ms per loop\n"
       ]
      }
     ],
     "prompt_number": 918
    },
    {
     "cell_type": "heading",
     "level": 2,
     "metadata": {},
     "source": [
      "colour.models.derivation"
     ]
    },
    {
     "cell_type": "heading",
     "level": 3,
     "metadata": {},
     "source": [
      "colour.RGB_luminance"
     ]
    },
    {
     "cell_type": "code",
     "collapsed": false,
     "input": [
      "from colour.models.derivation import *\n",
      "\n",
      "def RGB_luminance_2d(RGB):\n",
      "    for i in range(len(RGB)):\n",
      "        RGB_luminance(RGB[i],\n",
      "                      np.array([0.73470, 0.26530, 0.00000, 1.00000, 0.00010, -0.07700]),\n",
      "                      (0.32168, 0.33767))"
     ],
     "language": "python",
     "metadata": {},
     "outputs": [],
     "prompt_number": 919
    },
    {
     "cell_type": "code",
     "collapsed": false,
     "input": [
      "%timeit RGB_luminance_2d(DATA1)"
     ],
     "language": "python",
     "metadata": {},
     "outputs": [
      {
       "output_type": "stream",
       "stream": "stdout",
       "text": [
        "1 loops, best of 3: 2min 21s per loop\n"
       ]
      }
     ],
     "prompt_number": 920
    },
    {
     "cell_type": "code",
     "collapsed": false,
     "input": [
      "def RGB_luminance_vectorise(RGB, primaries, whitepoint):\n",
      "    RGB = as_array(RGB, (-1, 3))\n",
      "    X, Y, Z = np.ravel(normalised_primary_matrix(primaries,\n",
      "                                                 whitepoint))[3:6]\n",
      "\n",
      "    R, G, B = RGB[:, 0], RGB[:, 1], RGB[:, 2]\n",
      "\n",
      "    return np.squeeze(X * R + Y * G + Z * B)\n",
      "\n",
      "\n",
      "print('Reference:')\n",
      "RGB = np.array([40.6, 4.2, 67.4])\n",
      "P = np.array([0.73470, 0.26530, 0.00000, 1.00000, 0.00010, -0.07700])\n",
      "W = (0.32168, 0.33767)\n",
      "print(RGB_luminance(RGB, P, W))\n",
      "\n",
      "print('\\n')\n",
      "\n",
      "print('1d array:')\n",
      "print(RGB_luminance_vectorise(RGB, P, W))\n",
      "\n",
      "print('\\n')\n",
      "\n",
      "print('2d array:')\n",
      "RGB = np.tile(RGB, (5, 1))\n",
      "print(RGB_luminance_vectorise(RGB, P, W))"
     ],
     "language": "python",
     "metadata": {},
     "outputs": [
      {
       "output_type": "stream",
       "stream": "stdout",
       "text": [
        "Reference:\n",
        "12.1616018403\n",
        "\n",
        "\n",
        "1d array:\n",
        "12.1616018403\n",
        "\n",
        "\n",
        "2d array:\n",
        "[ 12.16160184  12.16160184  12.16160184  12.16160184  12.16160184]\n"
       ]
      }
     ],
     "prompt_number": 921
    },
    {
     "cell_type": "code",
     "collapsed": false,
     "input": [
      "%timeit RGB_luminance_vectorise(DATA1, P, W)"
     ],
     "language": "python",
     "metadata": {},
     "outputs": [
      {
       "output_type": "stream",
       "stream": "stdout",
       "text": [
        "10 loops, best of 3: 24.1 ms per loop\n"
       ]
      }
     ],
     "prompt_number": 922
    },
    {
     "cell_type": "heading",
     "level": 2,
     "metadata": {},
     "source": [
      "colour.models.ipt"
     ]
    },
    {
     "cell_type": "heading",
     "level": 3,
     "metadata": {},
     "source": [
      "colour.XYZ_to_IPT"
     ]
    },
    {
     "cell_type": "code",
     "collapsed": false,
     "input": [
      "from colour.models.ipt import *\n",
      "\n",
      "def XYZ_to_IPT_2d(XYZ):\n",
      "    for i in range(len(XYZ)):\n",
      "        XYZ_to_IPT(XYZ[i])"
     ],
     "language": "python",
     "metadata": {},
     "outputs": [],
     "prompt_number": 923
    },
    {
     "cell_type": "code",
     "collapsed": false,
     "input": [
      "%timeit XYZ_to_IPT_2d(DATA1)"
     ],
     "language": "python",
     "metadata": {},
     "outputs": [
      {
       "output_type": "stream",
       "stream": "stdout",
       "text": [
        "1 loops, best of 3: 15.1 s per loop\n"
       ]
      }
     ],
     "prompt_number": 924
    },
    {
     "cell_type": "code",
     "collapsed": false,
     "input": [
      "def XYZ_to_IPT_vectorise(XYZ):\n",
      "    XYZ = as_array(XYZ, (-1, 3))\n",
      "    \n",
      "    LMS = np.einsum('...i,...ji', XYZ, IPT_XYZ_TO_LMS_MATRIX)\n",
      "    LMS_prime = np.sign(LMS) * np.abs(LMS) ** 0.43\n",
      "    IPT = np.squeeze(np.einsum('...i,...ji', LMS_prime, IPT_LMS_TO_IPT_MATRIX))\n",
      "\n",
      "    return IPT\n",
      "\n",
      "print('Reference:')\n",
      "XYZ = np.array([0.96907232, 1, 1.12179215])\n",
      "print(XYZ_to_IPT(XYZ))\n",
      "\n",
      "print('\\n')\n",
      "\n",
      "print('1d array:')\n",
      "print(XYZ_to_IPT_vectorise(XYZ))\n",
      "\n",
      "print('\\n')\n",
      "\n",
      "print('2d array:')\n",
      "XYZ = np.tile(XYZ, (5, 1))\n",
      "print(XYZ_to_IPT_vectorise(XYZ))"
     ],
     "language": "python",
     "metadata": {},
     "outputs": [
      {
       "output_type": "stream",
       "stream": "stdout",
       "text": [
        "Reference:\n",
        "[ 1.00300825  0.01906918 -0.01369292]\n",
        "\n",
        "\n",
        "1d array:\n",
        "[ 1.00300825  0.01906918 -0.01369292]\n",
        "\n",
        "\n",
        "2d array:\n",
        "[[ 1.00300825  0.01906918 -0.01369292]\n",
        " [ 1.00300825  0.01906918 -0.01369292]\n",
        " [ 1.00300825  0.01906918 -0.01369292]\n",
        " [ 1.00300825  0.01906918 -0.01369292]\n",
        " [ 1.00300825  0.01906918 -0.01369292]]\n"
       ]
      }
     ],
     "prompt_number": 925
    },
    {
     "cell_type": "code",
     "collapsed": false,
     "input": [
      "%timeit XYZ_to_IPT_vectorise(DATA1)"
     ],
     "language": "python",
     "metadata": {},
     "outputs": [
      {
       "output_type": "stream",
       "stream": "stdout",
       "text": [
        "1 loops, best of 3: 637 ms per loop\n"
       ]
      }
     ],
     "prompt_number": 926
    },
    {
     "cell_type": "heading",
     "level": 3,
     "metadata": {},
     "source": [
      "colour.IPT_to_XYZ"
     ]
    },
    {
     "cell_type": "code",
     "collapsed": false,
     "input": [
      "def IPT_to_XYZ_2d(IPT):\n",
      "    for i in range(len(IPT)):\n",
      "        IPT_to_XYZ(IPT[i])"
     ],
     "language": "python",
     "metadata": {},
     "outputs": [],
     "prompt_number": 927
    },
    {
     "cell_type": "code",
     "collapsed": false,
     "input": [
      "%timeit IPT_to_XYZ_2d(DATA1)"
     ],
     "language": "python",
     "metadata": {},
     "outputs": [
      {
       "output_type": "stream",
       "stream": "stdout",
       "text": [
        "1 loops, best of 3: 15.1 s per loop\n"
       ]
      }
     ],
     "prompt_number": 928
    },
    {
     "cell_type": "code",
     "collapsed": false,
     "input": [
      "def IPT_to_XYZ_vectorise(IPT):\n",
      "    IPT = as_array(IPT, (-1, 3))\n",
      "    \n",
      "    LMS = np.einsum('...i,...ji', IPT, IPT_IPT_TO_LMS_MATRIX)\n",
      "    LMS_prime = np.sign(LMS) * np.abs(LMS) ** (1 / 0.43)\n",
      "    XYZ = np.squeeze(np.einsum('...i,...ji', LMS_prime, IPT_LMS_TO_XYZ_MATRIX))\n",
      "\n",
      "    return XYZ\n",
      "\n",
      "\n",
      "print('Reference:')\n",
      "IPT = np.array([1.00300825, 0.01906918, -0.01369292])\n",
      "print(IPT_to_XYZ(IPT))\n",
      "\n",
      "print('\\n')\n",
      "\n",
      "print('1d array:')\n",
      "print(IPT_to_XYZ_vectorise(IPT))\n",
      "\n",
      "print('\\n')\n",
      "\n",
      "print('2d array:')\n",
      "IPT = np.tile(IPT, (5, 1))\n",
      "print(IPT_to_XYZ_vectorise(IPT))"
     ],
     "language": "python",
     "metadata": {},
     "outputs": [
      {
       "output_type": "stream",
       "stream": "stdout",
       "text": [
        "Reference:\n",
        "[ 0.96907232  1.          1.12179215]\n",
        "\n",
        "\n",
        "1d array:\n",
        "[ 0.96907232  1.          1.12179215]\n",
        "\n",
        "\n",
        "2d array:\n",
        "[[ 0.96907232  1.          1.12179215]\n",
        " [ 0.96907232  1.          1.12179215]\n",
        " [ 0.96907232  1.          1.12179215]\n",
        " [ 0.96907232  1.          1.12179215]\n",
        " [ 0.96907232  1.          1.12179215]]\n"
       ]
      }
     ],
     "prompt_number": 929
    },
    {
     "cell_type": "code",
     "collapsed": false,
     "input": [
      "%timeit IPT_to_XYZ_vectorise(DATA1)"
     ],
     "language": "python",
     "metadata": {},
     "outputs": [
      {
       "output_type": "stream",
       "stream": "stdout",
       "text": [
        "1 loops, best of 3: 654 ms per loop\n"
       ]
      }
     ],
     "prompt_number": 930
    },
    {
     "cell_type": "heading",
     "level": 3,
     "metadata": {},
     "source": [
      "colour.IPT_hue_angle"
     ]
    },
    {
     "cell_type": "code",
     "collapsed": false,
     "input": [
      "def IPT_hue_angle_2d(IPT):\n",
      "    for i in range(len(IPT)):\n",
      "        IPT_hue_angle(IPT[i])"
     ],
     "language": "python",
     "metadata": {},
     "outputs": [],
     "prompt_number": 931
    },
    {
     "cell_type": "code",
     "collapsed": false,
     "input": [
      "%timeit IPT_hue_angle_2d(DATA1)"
     ],
     "language": "python",
     "metadata": {},
     "outputs": [
      {
       "output_type": "stream",
       "stream": "stdout",
       "text": [
        "1 loops, best of 3: 5.1 s per loop\n"
       ]
      }
     ],
     "prompt_number": 932
    },
    {
     "cell_type": "code",
     "collapsed": false,
     "input": [
      "def IPT_hue_angle_vectorise(IPT):\n",
      "    IPT = as_array(IPT, (-1, 3))\n",
      "    \n",
      "    hue = np.arctan2(IPT[:, 2], IPT[:, 1])\n",
      "\n",
      "    return hue\n",
      "\n",
      "\n",
      "print('Reference:')\n",
      "IPT = np.array([0.96907232, 1., 1.12179215])\n",
      "print(IPT_hue_angle(IPT))\n",
      "\n",
      "print('\\n')\n",
      "\n",
      "print('1d array:')\n",
      "print(IPT_hue_angle_vectorise(IPT))\n",
      "\n",
      "print('\\n')\n",
      "\n",
      "print('2d array:')\n",
      "IPT = np.tile(IPT, (5, 1))\n",
      "print(IPT_hue_angle_vectorise(IPT))"
     ],
     "language": "python",
     "metadata": {},
     "outputs": [
      {
       "output_type": "stream",
       "stream": "stdout",
       "text": [
        "Reference:\n",
        "0.842735849544\n",
        "\n",
        "\n",
        "1d array:\n",
        "[ 0.84273585]\n",
        "\n",
        "\n",
        "2d array:\n",
        "[ 0.84273585  0.84273585  0.84273585  0.84273585  0.84273585]\n"
       ]
      }
     ],
     "prompt_number": 933
    },
    {
     "cell_type": "code",
     "collapsed": false,
     "input": [
      "%timeit IPT_hue_angle_vectorise(DATA1)"
     ],
     "language": "python",
     "metadata": {},
     "outputs": [
      {
       "output_type": "stream",
       "stream": "stdout",
       "text": [
        "10 loops, best of 3: 100 ms per loop\n"
       ]
      }
     ],
     "prompt_number": 934
    },
    {
     "cell_type": "heading",
     "level": 2,
     "metadata": {},
     "source": [
      "colour.models.rgb"
     ]
    },
    {
     "cell_type": "heading",
     "level": 3,
     "metadata": {},
     "source": [
      "OECF / OECF_i"
     ]
    },
    {
     "cell_type": "code",
     "collapsed": false,
     "input": [
      "from colour.models.dataset.aces_rgb import *\n",
      "\n",
      "RGB = np.array([0.86969452, 1.00516431, 1.41715848])\n",
      "RGB_t = np.tile(RGB, (5, 1))\n",
      "\n",
      "\n",
      "def _aces_rgb_log_transfer_function(value, is_16_bit_integer=False):\n",
      "    \n",
      "    value = np.where(value < ACES_RGB_LOG_CONSTANTS.denorm_trans,\n",
      "                     ACES_RGB_LOG_CONSTANTS.denorm_fake0 + (value / 2),\n",
      "                     value)\n",
      "\n",
      "    value = (np.log2(value) *\n",
      "             ACES_RGB_LOG_CONSTANTS.log_xperstop +\n",
      "             ACES_RGB_LOG_CONSTANTS.log_unity)\n",
      "\n",
      "    if is_16_bit_integer:\n",
      "        value = np.minimum(np.floor(value) + 0.5, 65535)\n",
      "\n",
      "    value[value < 0] = 0\n",
      "\n",
      "    return value\n",
      "\n",
      "\n",
      "print(_aces_rgb_log_transfer_function(RGB))\n",
      "\n",
      "print(_aces_rgb_log_transfer_function(RGB_t))\n",
      "\n",
      "\n",
      "def _aces_rgb_log_inverse_transfer_function(value):\n",
      "    value = (np.power(2.,\n",
      "                      (value - ACES_RGB_LOG_CONSTANTS.log_unity) /\n",
      "                      ACES_RGB_LOG_CONSTANTS.log_xperstop))\n",
      "\n",
      "    value = np.where(value < ACES_RGB_LOG_CONSTANTS.denorm_trans,\n",
      "                     (value - ACES_RGB_LOG_CONSTANTS.denorm_fake0) * 2,\n",
      "                     value)\n",
      "\n",
      "    return value\n",
      "\n",
      "\n",
      "print(_aces_rgb_log_inverse_transfer_function(RGB))\n",
      "\n",
      "print(_aces_rgb_log_inverse_transfer_function(RGB_t))"
     ],
     "language": "python",
     "metadata": {},
     "outputs": [
      {
       "output_type": "stream",
       "stream": "stdout",
       "text": [
        "[ 32355.49316864  32783.21940889  33798.14625898]\n",
        "[[ 32355.49316864  32783.21940889  33798.14625898]\n",
        " [ 32355.49316864  32783.21940889  33798.14625898]\n",
        " [ 32355.49316864  32783.21940889  33798.14625898]\n",
        " [ 32355.49316864  32783.21940889  33798.14625898]\n",
        " [ 32355.49316864  32783.21940889  33798.14625898]]\n",
        "[  8.98413410e-09   1.03838046e-08   1.46409127e-08]\n",
        "[[  8.98413410e-09   1.03838046e-08   1.46409127e-08]\n",
        " [  8.98413410e-09   1.03838046e-08   1.46409127e-08]\n",
        " [  8.98413410e-09   1.03838046e-08   1.46409127e-08]\n",
        " [  8.98413410e-09   1.03838046e-08   1.46409127e-08]\n",
        " [  8.98413410e-09   1.03838046e-08   1.46409127e-08]]\n"
       ]
      }
     ],
     "prompt_number": 935
    },
    {
     "cell_type": "code",
     "collapsed": false,
     "input": [
      "def _aces_rgb_proxy_transfer_function(value, bit_depth='10 Bit'):\n",
      "    constants = ACES_RGB_PROXY_CONSTANTS.get(bit_depth)\n",
      "\n",
      "    CV_min = np.resize(constants.CV_min, value.shape)\n",
      "    CV_max = np.resize(constants.CV_max, value.shape)\n",
      "  \n",
      "    float_2_cv = lambda x: np.maximum(CV_min, np.minimum(CV_max, np.round(x)))\n",
      "\n",
      "    return np.where(value > 0,\n",
      "                    float_2_cv((np.log2(value) - constants.mid_log_offset) *\n",
      "                          constants.steps_per_stop + constants.mid_CV_offset),\n",
      "                    np.resize(CV_min, value.shape))\n",
      "\n",
      "\n",
      "print(_aces_rgb_proxy_transfer_function(RGB))\n",
      "\n",
      "print(_aces_rgb_proxy_transfer_function(RGB_t))\n",
      "\n",
      "\n",
      "def _aces_rgb_proxy_inverse_transfer_function(value, bit_depth='10 Bit'):\n",
      "    constants = ACES_RGB_PROXY_CONSTANTS.get(bit_depth)\n",
      "\n",
      "    return (2 ** (((value - constants.mid_CV_offset) /\n",
      "                   constants.steps_per_stop + constants.mid_log_offset)))\n",
      "\n",
      "\n",
      "print(_aces_rgb_proxy_inverse_transfer_function(RGB))\n",
      "\n",
      "print(_aces_rgb_proxy_inverse_transfer_function(RGB_t))"
     ],
     "language": "python",
     "metadata": {},
     "outputs": [
      {
       "output_type": "stream",
       "stream": "stdout",
       "text": [
        "[ 540.  550.  575.]\n",
        "[[ 540.  550.  575.]\n",
        " [ 540.  550.  575.]\n",
        " [ 540.  550.  575.]\n",
        " [ 540.  550.  575.]\n",
        " [ 540.  550.  575.]]\n",
        "[ 0.0004942   0.00049513  0.00049797]\n",
        "[[ 0.0004942   0.00049513  0.00049797]\n",
        " [ 0.0004942   0.00049513  0.00049797]\n",
        " [ 0.0004942   0.00049513  0.00049797]\n",
        " [ 0.0004942   0.00049513  0.00049797]\n",
        " [ 0.0004942   0.00049513  0.00049797]]\n"
       ]
      }
     ],
     "prompt_number": 936
    },
    {
     "cell_type": "code",
     "collapsed": false,
     "input": [
      "from colour.models.dataset.alexa_wide_gamut_rgb import *\n",
      "\n",
      "\n",
      "def _alexa_wide_gamut_rgb_transfer_function(\n",
      "        value,\n",
      "        firmware='SUP 3.x',\n",
      "        method='Linear Scene Exposure Factor',\n",
      "        EI=800):\n",
      "    cut, a, b, c, d, e, f, _ = ALEXA_LOG_C_CURVE_CONVERSION_DATA.get(\n",
      "        firmware).get(method).get(EI)\n",
      "\n",
      "    return np.where(value > cut, c * np.log10(a * value + b) + d, e * value + f)\n",
      "\n",
      "\n",
      "print(_alexa_wide_gamut_rgb_transfer_function(RGB))\n",
      "\n",
      "print(_alexa_wide_gamut_rgb_transfer_function(RGB_t))\n",
      "\n",
      "\n",
      "def _alexa_wide_gamut_rgb_inverse_transfer_function(\n",
      "        value,\n",
      "        firmware='SUP 3.x',\n",
      "        method='Linear Scene Exposure Factor',\n",
      "        EI=800):\n",
      "    cut, a, b, c, d, e, f, _ = (\n",
      "        ALEXA_LOG_C_CURVE_CONVERSION_DATA.get(firmware).get(method).get(EI))\n",
      "\n",
      "    return np.where(value > e * cut + f,\n",
      "                    (np.power(10., (value - d) / c) - b) / a,\n",
      "                    (value - f) / e)\n",
      "            \n",
      "\n",
      "print(_alexa_wide_gamut_rgb_inverse_transfer_function(RGB))\n",
      "\n",
      "print(_alexa_wide_gamut_rgb_inverse_transfer_function(RGB_t))"
     ],
     "language": "python",
     "metadata": {},
     "outputs": [
      {
       "output_type": "stream",
       "stream": "stdout",
       "text": [
        "[ 0.55579345  0.5711794   0.60776571]\n",
        "[[ 0.55579345  0.5711794   0.60776571]\n",
        " [ 0.55579345  0.5711794   0.60776571]\n",
        " [ 0.55579345  0.5711794   0.60776571]\n",
        " [ 0.55579345  0.5711794   0.60776571]\n",
        " [ 0.55579345  0.5711794   0.60776571]]\n",
        "[   16.3556556     57.79445133  2683.27896395]\n",
        "[[   16.3556556     57.79445133  2683.27896395]\n",
        " [   16.3556556     57.79445133  2683.27896395]\n",
        " [   16.3556556     57.79445133  2683.27896395]\n",
        " [   16.3556556     57.79445133  2683.27896395]\n",
        " [   16.3556556     57.79445133  2683.27896395]]\n"
       ]
      }
     ],
     "prompt_number": 937
    },
    {
     "cell_type": "code",
     "collapsed": false,
     "input": [
      "from colour.models.dataset.alexa_wide_gamut_rgb import *\n",
      "\n",
      "\n",
      "def _prophoto_rgb_transfer_function(value):\n",
      "\n",
      "    return np.where(value < 0.001953,\n",
      "                    value * 16,\n",
      "                    value ** (1 / 1.8))\n",
      "\n",
      "\n",
      "print(_prophoto_rgb_transfer_function(RGB))\n",
      "\n",
      "print(_prophoto_rgb_transfer_function(RGB_t))\n",
      "\n",
      "\n",
      "def _prophoto_rgb_inverse_transfer_function(value):\n",
      "\n",
      "    return np.where(value < _prophoto_rgb_transfer_function(0.001953),\n",
      "                    value / 16,\n",
      "                    value ** 1.8)\n",
      "            \n",
      "\n",
      "print(_prophoto_rgb_inverse_transfer_function(RGB))\n",
      "\n",
      "print(_prophoto_rgb_inverse_transfer_function(RGB_t))"
     ],
     "language": "python",
     "metadata": {},
     "outputs": [
      {
       "output_type": "stream",
       "stream": "stdout",
       "text": [
        "[ 0.9253688   1.00286578  1.21372793]\n",
        "[[ 0.9253688   1.00286578  1.21372793]\n",
        " [ 0.9253688   1.00286578  1.21372793]\n",
        " [ 0.9253688   1.00286578  1.21372793]\n",
        " [ 0.9253688   1.00286578  1.21372793]\n",
        " [ 0.9253688   1.00286578  1.21372793]]\n",
        "[ 0.777786    1.00931495  1.87306632]\n",
        "[[ 0.777786    1.00931495  1.87306632]\n",
        " [ 0.777786    1.00931495  1.87306632]\n",
        " [ 0.777786    1.00931495  1.87306632]\n",
        " [ 0.777786    1.00931495  1.87306632]\n",
        " [ 0.777786    1.00931495  1.87306632]]\n"
       ]
      }
     ],
     "prompt_number": 938
    },
    {
     "cell_type": "code",
     "collapsed": false,
     "input": [
      "from colour.models.dataset.rec_709 import *\n",
      "\n",
      "\n",
      "def _rec_709_transfer_function(value):\n",
      "\n",
      "    return np.where(value < 0.018,\n",
      "                    value * 4.5,\n",
      "                    1.099 * (value ** 0.45) - 0.099)\n",
      "\n",
      "\n",
      "print(_rec_709_transfer_function(RGB))\n",
      "\n",
      "print(_rec_709_transfer_function(RGB_t))\n",
      "\n",
      "\n",
      "def _rec_709_inverse_transfer_function(value):\n",
      "\n",
      "    return np.where(value < _rec_709_transfer_function(0.018),\n",
      "                    value / 4.5,\n",
      "                    ((value + 0.099) / 1.099) ** (1 / 0.45))\n",
      "            \n",
      "\n",
      "print(_rec_709_inverse_transfer_function(RGB))\n",
      "\n",
      "print(_rec_709_inverse_transfer_function(RGB_t))"
     ],
     "language": "python",
     "metadata": {},
     "outputs": [
      {
       "output_type": "stream",
       "stream": "stdout",
       "text": [
        "[ 0.93307848  1.00255039  1.18668916]\n",
        "[[ 0.93307848  1.00255039  1.18668916]\n",
        " [ 0.93307848  1.00255039  1.18668916]\n",
        " [ 0.93307848  1.00255039  1.18668916]\n",
        " [ 0.93307848  1.00255039  1.18668916]\n",
        " [ 0.93307848  1.00255039  1.18668916]]\n",
        "[ 0.75543676  1.01047244  2.04431908]\n",
        "[[ 0.75543676  1.01047244  2.04431908]\n",
        " [ 0.75543676  1.01047244  2.04431908]\n",
        " [ 0.75543676  1.01047244  2.04431908]\n",
        " [ 0.75543676  1.01047244  2.04431908]\n",
        " [ 0.75543676  1.01047244  2.04431908]]\n"
       ]
      }
     ],
     "prompt_number": 939
    },
    {
     "cell_type": "code",
     "collapsed": false,
     "input": [
      "from colour.models.dataset.rec_2020 import *\n",
      "\n",
      "\n",
      "def _rec_2020_transfer_function(value, is_10_bits_system=True):\n",
      "\n",
      "    a = REC_2020_CONSTANTS.alpha(is_10_bits_system)\n",
      "    b = REC_2020_CONSTANTS.beta(is_10_bits_system)\n",
      "    return np.where(value < b,\n",
      "                    value * 4.5,\n",
      "                    a * (value ** 0.45) - (a - 1))\n",
      "\n",
      "\n",
      "print(_rec_2020_transfer_function(RGB))\n",
      "\n",
      "print(_rec_2020_transfer_function(RGB_t))\n",
      "\n",
      "\n",
      "def _rec_2020_inverse_transfer_function(value, is_10_bits_system=True):\n",
      "\n",
      "    a = REC_2020_CONSTANTS.alpha(is_10_bits_system)\n",
      "    b = REC_2020_CONSTANTS.beta(is_10_bits_system)\n",
      "    return np.where(value < _rec_2020_transfer_function(b),\n",
      "                    value / 4.5,\n",
      "                    ((value + (a - 1)) / a) ** (1 / 0.45))\n",
      "\n",
      "\n",
      "print(_rec_2020_inverse_transfer_function(RGB))\n",
      "\n",
      "print(_rec_2020_inverse_transfer_function(RGB_t))"
     ],
     "language": "python",
     "metadata": {},
     "outputs": [
      {
       "output_type": "stream",
       "stream": "stdout",
       "text": [
        "[ 0.93307848  1.00255039  1.18668916]\n",
        "[[ 0.93307848  1.00255039  1.18668916]\n",
        " [ 0.93307848  1.00255039  1.18668916]\n",
        " [ 0.93307848  1.00255039  1.18668916]\n",
        " [ 0.93307848  1.00255039  1.18668916]\n",
        " [ 0.93307848  1.00255039  1.18668916]]\n",
        "[ 0.75543676  1.01047244  2.04431908]\n",
        "[[ 0.75543676  1.01047244  2.04431908]\n",
        " [ 0.75543676  1.01047244  2.04431908]\n",
        " [ 0.75543676  1.01047244  2.04431908]\n",
        " [ 0.75543676  1.01047244  2.04431908]\n",
        " [ 0.75543676  1.01047244  2.04431908]]\n"
       ]
      }
     ],
     "prompt_number": 940
    },
    {
     "cell_type": "code",
     "collapsed": false,
     "input": [
      "from colour.models.dataset.srgb import *\n",
      "\n",
      "\n",
      "def _srgb_transfer_function(value):\n",
      "    return np.where(value <= 0.0031308,\n",
      "                    value * 12.92,\n",
      "                    1.055 * (value ** (1 / 2.4)) - 0.055)\n",
      "\n",
      "\n",
      "print(_srgb_transfer_function(RGB))\n",
      "\n",
      "print(_srgb_transfer_function(RGB_t))\n",
      "\n",
      "\n",
      "def _srgb_inverse_transfer_function(value):\n",
      "    return np.where(value <= _srgb_transfer_function(0.0031308),\n",
      "                    value / 12.92,\n",
      "                    ((value + 0.055) / 1.055) ** 2.4)\n",
      "\n",
      "\n",
      "print(_srgb_inverse_transfer_function(RGB))\n",
      "\n",
      "print(_srgb_inverse_transfer_function(RGB_t))"
     ],
     "language": "python",
     "metadata": {},
     "outputs": [
      {
       "output_type": "stream",
       "stream": "stdout",
       "text": [
        "[ 0.94037929  1.00226673  1.16495404]\n",
        "[[ 0.94037929  1.00226673  1.16495404]\n",
        " [ 0.94037929  1.00226673  1.16495404]\n",
        " [ 0.94037929  1.00226673  1.16495404]\n",
        " [ 0.94037929  1.00226673  1.16495404]\n",
        " [ 0.94037929  1.00226673  1.16495404]]\n",
        "[ 0.72876915  1.01178848  2.22476966]\n",
        "[[ 0.72876915  1.01178848  2.22476966]\n",
        " [ 0.72876915  1.01178848  2.22476966]\n",
        " [ 0.72876915  1.01178848  2.22476966]\n",
        " [ 0.72876915  1.01178848  2.22476966]\n",
        " [ 0.72876915  1.01178848  2.22476966]]\n"
       ]
      }
     ],
     "prompt_number": 941
    },
    {
     "cell_type": "heading",
     "level": 3,
     "metadata": {},
     "source": [
      "colour.XYZ_to_RGB"
     ]
    },
    {
     "cell_type": "code",
     "collapsed": false,
     "input": [
      "from colour.models.rgb import *\n",
      "\n",
      "XYZ = np.array([0.07049534, 0.1008, 0.09558313])\n",
      "W_R = (0.34567, 0.35850)\n",
      "W_T = (0.31271, 0.32902)\n",
      "CAT = 'Bradford'\n",
      "M = np.array([\n",
      "    [3.24100326, -1.53739899, -0.49861587],\n",
      "    [-0.96922426, 1.87592999, 0.04155422],\n",
      "    [0.05563942, -0.2040112, 1.05714897]])\n",
      "\n",
      "\n",
      "def XYZ_to_RGB_2d(XYZ):\n",
      "    for i in range(len(XYZ)):\n",
      "        XYZ_to_RGB(XYZ[i], W_R, W_T, M, CAT)\n"
     ],
     "language": "python",
     "metadata": {},
     "outputs": [],
     "prompt_number": 942
    },
    {
     "cell_type": "code",
     "collapsed": false,
     "input": [
      "%timeit XYZ_to_RGB_2d(DATA1)"
     ],
     "language": "python",
     "metadata": {},
     "outputs": [
      {
       "output_type": "stream",
       "stream": "stdout",
       "text": [
        "1 loops, best of 3: 2min 45s per loop\n"
       ]
      }
     ],
     "prompt_number": 943
    },
    {
     "cell_type": "code",
     "collapsed": false,
     "input": [
      "def XYZ_to_RGB_vectorise(XYZ,\n",
      "               illuminant_XYZ,\n",
      "               illuminant_RGB,\n",
      "               XYZ_to_RGB_matrix,\n",
      "               chromatic_adaptation_transform='CAT02',\n",
      "               transfer_function=None):\n",
      "    XYZ = as_array(XYZ, (-1, 3))\n",
      "    \n",
      "    M = chromatic_adaptation_matrix_VonKries_vectorise(\n",
      "        xy_to_XYZ_vectorise(illuminant_XYZ),\n",
      "        xy_to_XYZ_vectorise(illuminant_RGB),\n",
      "        transform=chromatic_adaptation_transform)\n",
      "\n",
      "    XYZ_a = np.einsum('...i,...ji', XYZ, M)\n",
      "\n",
      "    RGB = np.einsum('...i,...ji', XYZ_a, XYZ_to_RGB_matrix)\n",
      "\n",
      "    if transfer_function is not None:\n",
      "        RGB = transfer_function(RGB)\n",
      "\n",
      "    RGB = np.squeeze(RGB)\n",
      "\n",
      "    return RGB\n",
      "\n",
      "\n",
      "print('Reference:')\n",
      "XYZ = np.array([0.96907232, 1, 1.12179215])\n",
      "print(XYZ_to_RGB(XYZ, W_R, W_T, M, CAT))\n",
      "\n",
      "print('\\n')\n",
      "\n",
      "print('1d array:')\n",
      "print(XYZ_to_RGB_vectorise(XYZ, W_R, W_T, M, CAT))\n",
      "\n",
      "print('\\n')\n",
      "\n",
      "print('2d array:')\n",
      "XYZ = np.tile(XYZ, (5, 1))\n",
      "print(XYZ_to_RGB_vectorise(XYZ, W_R, W_T, M, CAT))"
     ],
     "language": "python",
     "metadata": {},
     "outputs": [
      {
       "output_type": "stream",
       "stream": "stdout",
       "text": [
        "Reference:\n",
        "[ 0.86969452  1.00516431  1.41715848]\n",
        "\n",
        "\n",
        "1d array:\n",
        "[ 0.86969452  1.00516431  1.41715848]\n",
        "\n",
        "\n",
        "2d array:\n",
        "[[ 0.86969452  1.00516431  1.41715848]\n",
        " [ 0.86969452  1.00516431  1.41715848]\n",
        " [ 0.86969452  1.00516431  1.41715848]\n",
        " [ 0.86969452  1.00516431  1.41715848]\n",
        " [ 0.86969452  1.00516431  1.41715848]]\n"
       ]
      }
     ],
     "prompt_number": 944
    },
    {
     "cell_type": "code",
     "collapsed": false,
     "input": [
      "%timeit XYZ_to_RGB_vectorise(DATA1, W_R, W_T, M, CAT)"
     ],
     "language": "python",
     "metadata": {},
     "outputs": [
      {
       "output_type": "stream",
       "stream": "stdout",
       "text": [
        "10 loops, best of 3: 91.1 ms per loop\n"
       ]
      }
     ],
     "prompt_number": 945
    },
    {
     "cell_type": "heading",
     "level": 3,
     "metadata": {},
     "source": [
      "colour.RGB_to_XYZ"
     ]
    },
    {
     "cell_type": "code",
     "collapsed": false,
     "input": [
      "RGB = np.array([0.86969452, 1.00516431, 1.41715848])\n",
      "W_R = (0.31271, 0.32902)\n",
      "W_T = (0.34567, 0.35850)\n",
      "CAT = 'Bradford'\n",
      "M = np.array([\n",
      "    [0.41238656, 0.35759149, 0.18045049],\n",
      "    [0.21263682, 0.71518298, 0.0721802],\n",
      "    [0.01933062, 0.11919716, 0.95037259]])\n",
      "\n",
      "\n",
      "def RGB_to_XYZ_2d(RGB):\n",
      "    for i in range(len(RGB)):\n",
      "        RGB_to_XYZ(RGB[i], W_R, W_T, M, CAT)"
     ],
     "language": "python",
     "metadata": {},
     "outputs": [],
     "prompt_number": 946
    },
    {
     "cell_type": "code",
     "collapsed": false,
     "input": [
      "%timeit RGB_to_XYZ_2d(DATA1)"
     ],
     "language": "python",
     "metadata": {},
     "outputs": [
      {
       "output_type": "stream",
       "stream": "stdout",
       "text": [
        "1 loops, best of 3: 2min 48s per loop\n"
       ]
      }
     ],
     "prompt_number": 947
    },
    {
     "cell_type": "code",
     "collapsed": false,
     "input": [
      "def RGB_to_XYZ_vectorise(RGB,\n",
      "               illuminant_RGB,\n",
      "               illuminant_XYZ,\n",
      "               RGB_to_XYZ_matrix,\n",
      "               chromatic_adaptation_transform='CAT02',\n",
      "               inverse_transfer_function=None):\n",
      "\n",
      "    RGB = as_array(RGB, (-1, 3))\n",
      "\n",
      "    if inverse_transfer_function is not None:\n",
      "        RGB = inverse_transfer_function(RGB)\n",
      "\n",
      "    XYZ = np.einsum('...i,...ji', RGB, RGB_to_XYZ_matrix)\n",
      "    \n",
      "    M = chromatic_adaptation_matrix_VonKries_vectorise(\n",
      "        xy_to_XYZ_vectorise(illuminant_RGB),\n",
      "        xy_to_XYZ_vectorise(illuminant_XYZ),\n",
      "        transform=chromatic_adaptation_transform)\n",
      "\n",
      "    XYZ_a = np.einsum('...i,...ji', XYZ, M)\n",
      "\n",
      "    XYZ_a = np.squeeze(XYZ_a)\n",
      "\n",
      "    return XYZ_a\n",
      "\n",
      "\n",
      "print('Reference:')\n",
      "RGB = np.array([0.86969452, 1.00516431, 1.41715848])\n",
      "print(RGB_to_XYZ(RGB, W_R, W_T, M, CAT))\n",
      "\n",
      "print('\\n')\n",
      "\n",
      "print('1d array:')\n",
      "print(RGB_to_XYZ_vectorise(RGB, W_R, W_T, M, CAT))\n",
      "\n",
      "print('\\n')\n",
      "\n",
      "print('2d array:')\n",
      "RGB = np.tile(RGB, (5, 1))\n",
      "print(RGB_to_XYZ_vectorise(RGB, W_R, W_T, M, CAT))"
     ],
     "language": "python",
     "metadata": {},
     "outputs": [
      {
       "output_type": "stream",
       "stream": "stdout",
       "text": [
        "Reference:\n",
        "[ 0.96907232  1.          1.12179214]\n",
        "\n",
        "\n",
        "1d array:\n",
        "[ 0.96907232  1.          1.12179214]\n",
        "\n",
        "\n",
        "2d array:\n",
        "[[ 0.96907232  1.          1.12179214]\n",
        " [ 0.96907232  1.          1.12179214]\n",
        " [ 0.96907232  1.          1.12179214]\n",
        " [ 0.96907232  1.          1.12179214]\n",
        " [ 0.96907232  1.          1.12179214]]\n"
       ]
      }
     ],
     "prompt_number": 948
    },
    {
     "cell_type": "code",
     "collapsed": false,
     "input": [
      "%timeit RGB_to_XYZ_vectorise(DATA1, W_R, W_T, M, CAT)"
     ],
     "language": "python",
     "metadata": {},
     "outputs": [
      {
       "output_type": "stream",
       "stream": "stdout",
       "text": [
        "10 loops, best of 3: 92.5 ms per loop\n"
       ]
      }
     ],
     "prompt_number": 949
    },
    {
     "cell_type": "heading",
     "level": 3,
     "metadata": {},
     "source": [
      "colour.RGB_to_RGB"
     ]
    },
    {
     "cell_type": "code",
     "collapsed": false,
     "input": [
      "from colour import sRGB_COLOURSPACE\n",
      "RGB = np.array([0.86969452, 1.00516431, 1.41715848])\n",
      "C = sRGB_COLOURSPACE\n",
      "CAT = 'Bradford'\n",
      "\n",
      "\n",
      "def RGB_to_RGB_2d(RGB):\n",
      "    for i in range(len(RGB)):\n",
      "        RGB_to_RGB(RGB[i], C, C, CAT)"
     ],
     "language": "python",
     "metadata": {},
     "outputs": [],
     "prompt_number": 950
    },
    {
     "cell_type": "code",
     "collapsed": false,
     "input": [
      "%timeit RGB_to_RGB_2d(DATA1)"
     ],
     "language": "python",
     "metadata": {},
     "outputs": [
      {
       "output_type": "stream",
       "stream": "stdout",
       "text": [
        "1 loops, best of 3: 1min 23s per loop\n"
       ]
      }
     ],
     "prompt_number": 951
    },
    {
     "cell_type": "code",
     "collapsed": false,
     "input": [
      "def RGB_to_RGB_vectorise(RGB,\n",
      "               input_colourspace,\n",
      "               output_colourspace,\n",
      "               chromatic_adaptation_transform='CAT02'):\n",
      "    RGB = as_array(RGB, (-1, 3))\n",
      "\n",
      "    cat = chromatic_adaptation_matrix_VonKries_vectorise(\n",
      "        xy_to_XYZ_vectorise(input_colourspace.whitepoint),\n",
      "        xy_to_XYZ_vectorise(output_colourspace.whitepoint),\n",
      "        chromatic_adaptation_transform)\n",
      "\n",
      "    M = np.einsum('...ij,...jk->...ik',\n",
      "                  input_colourspace.RGB_to_XYZ_matrix,\n",
      "                  cat)\n",
      "    M = np.einsum('...ij,...jk->...ik',\n",
      "                  M,\n",
      "                  output_colourspace.XYZ_to_RGB_matrix)\n",
      "    \n",
      "    RGB = np.squeeze(np.einsum('...i,...ji', RGB, M))\n",
      "\n",
      "    return RGB\n",
      "\n",
      "\n",
      "print('Reference:')\n",
      "RGB = np.array([0.86969452, 1.00516431, 1.41715848])\n",
      "print(RGB_to_RGB(RGB, C, C, CAT))\n",
      "\n",
      "print('\\n')\n",
      "\n",
      "print('1d array:')\n",
      "print(RGB_to_RGB_vectorise(RGB, C, C, CAT))\n",
      "\n",
      "print('\\n')\n",
      "\n",
      "print('2d array:')\n",
      "RGB = np.tile(RGB, (5, 1))\n",
      "print(RGB_to_RGB_vectorise(RGB, C, C, CAT))"
     ],
     "language": "python",
     "metadata": {},
     "outputs": [
      {
       "output_type": "stream",
       "stream": "stdout",
       "text": [
        "Reference:\n",
        "[ 0.86969452  1.00516431  1.41715848]\n",
        "\n",
        "\n",
        "1d array:\n",
        "[ 0.86969452  1.00516431  1.41715848]\n",
        "\n",
        "\n",
        "2d array:\n",
        "[[ 0.86969452  1.00516431  1.41715848]\n",
        " [ 0.86969452  1.00516431  1.41715848]\n",
        " [ 0.86969452  1.00516431  1.41715848]\n",
        " [ 0.86969452  1.00516431  1.41715848]\n",
        " [ 0.86969452  1.00516431  1.41715848]]\n"
       ]
      }
     ],
     "prompt_number": 952
    },
    {
     "cell_type": "code",
     "collapsed": false,
     "input": [
      "%timeit RGB_to_RGB_vectorise(DATA1, C, C, CAT)"
     ],
     "language": "python",
     "metadata": {},
     "outputs": [
      {
       "output_type": "stream",
       "stream": "stdout",
       "text": [
        "10 loops, best of 3: 45.2 ms per loop\n"
       ]
      }
     ],
     "prompt_number": 953
    },
    {
     "cell_type": "heading",
     "level": 2,
     "metadata": {},
     "source": [
      "colour.notation.triplet"
     ]
    },
    {
     "cell_type": "heading",
     "level": 3,
     "metadata": {},
     "source": [
      "colour.notation.triplet.RGB_to_HEX"
     ]
    },
    {
     "cell_type": "code",
     "collapsed": false,
     "input": [
      "from colour.notation.triplet import *\n",
      "RGB = np.array([0.86969452, 1.00516431, 1.41715848])\n",
      "\n",
      "def RGB_to_HEX_2d(RGB):\n",
      "    for i in range(len(RGB)):\n",
      "        RGB_to_HEX(RGB[i])"
     ],
     "language": "python",
     "metadata": {},
     "outputs": [],
     "prompt_number": 954
    },
    {
     "cell_type": "code",
     "collapsed": false,
     "input": [
      "%timeit RGB_to_HEX_2d(DATA1)"
     ],
     "language": "python",
     "metadata": {},
     "outputs": [
      {
       "output_type": "stream",
       "stream": "stdout",
       "text": [
        "1 loops, best of 3: 17.2 s per loop\n"
       ]
      }
     ],
     "prompt_number": 955
    },
    {
     "cell_type": "code",
     "collapsed": false,
     "input": [
      "def RGB_to_HEX_vectorise(RGB):\n",
      "    RGB = as_array(RGB, (-1, 3))\n",
      "\n",
      "    to_HEX = np.vectorize('{0:02x}'.format)\n",
      "\n",
      "    HEX = to_HEX((RGB * 255).astype(np.uint8)).astype(object)\n",
      "    HEX = as_stack(np.array('#') + HEX[:, 0] + HEX[:, 1] + HEX[:, 2])\n",
      "    \n",
      "    return HEX\n",
      "\n",
      "print('Reference:')\n",
      "RGB = np.array([0.66666667, 0.86666667, 1])\n",
      "print(RGB_to_HEX(RGB))\n",
      "\n",
      "print('\\n')\n",
      "\n",
      "print('1d array:')\n",
      "print(RGB_to_HEX_vectorise(RGB))\n",
      "\n",
      "print('\\n')\n",
      "\n",
      "print('2d array:')\n",
      "RGB = np.tile(RGB, (5, 1))\n",
      "print(RGB_to_HEX_vectorise(RGB))"
     ],
     "language": "python",
     "metadata": {},
     "outputs": [
      {
       "output_type": "stream",
       "stream": "stdout",
       "text": [
        "Reference:\n",
        "#aaddff\n",
        "\n",
        "\n",
        "1d array:\n",
        "#aaddff\n",
        "\n",
        "\n",
        "2d array:\n",
        "[u'#aaddff' u'#aaddff' u'#aaddff' u'#aaddff' u'#aaddff']\n"
       ]
      }
     ],
     "prompt_number": 956
    },
    {
     "cell_type": "code",
     "collapsed": false,
     "input": [
      "%timeit RGB_to_HEX_vectorise(DATA1)"
     ],
     "language": "python",
     "metadata": {},
     "outputs": [
      {
       "output_type": "stream",
       "stream": "stdout",
       "text": [
        "1 loops, best of 3: 15 s per loop\n"
       ]
      }
     ],
     "prompt_number": 957
    },
    {
     "cell_type": "heading",
     "level": 3,
     "metadata": {},
     "source": [
      "colour.notation.triplet.HEX_to_RGB"
     ]
    },
    {
     "cell_type": "code",
     "collapsed": false,
     "input": [
      "from colour.notation.triplet import *\n",
      "HEX1 = ['#aaddff'] * (1920 * 1080)\n",
      "\n",
      "def HEX_to_RGB_2d(HEX):\n",
      "    for i in range(len(HEX)):\n",
      "        HEX_to_RGB(HEX[i])"
     ],
     "language": "python",
     "metadata": {},
     "outputs": [],
     "prompt_number": 958
    },
    {
     "cell_type": "code",
     "collapsed": false,
     "input": [
      "%timeit HEX_to_RGB_2d(HEX1)"
     ],
     "language": "python",
     "metadata": {},
     "outputs": [
      {
       "output_type": "stream",
       "stream": "stdout",
       "text": [
        "1 loops, best of 3: 11.2 s per loop\n"
       ]
      }
     ],
     "prompt_number": 959
    },
    {
     "cell_type": "code",
     "collapsed": false,
     "input": [
      "def HEX_to_RGB_vectorise(HEX):\n",
      "    HEX = as_array(HEX, (-1, 1), str)\n",
      "    HEX = np.core.defchararray.lstrip(HEX, '#')\n",
      "\n",
      "    def to_RGB(x):\n",
      "        length = len(x)\n",
      "        return [int(x[i:i + length // 3], 16)\n",
      "                for i in\n",
      "                range(0, length, length // 3)]\n",
      "    \n",
      "    RGB = np.squeeze(np.array([to_RGB(x[0]) for x in HEX]) / 255)\n",
      "\n",
      "    return RGB\n",
      "\n",
      "\n",
      "print('Reference:')\n",
      "RGB = '#aaddff'\n",
      "print(HEX_to_RGB(RGB))\n",
      "\n",
      "print('\\n')\n",
      "\n",
      "print('1d array:')\n",
      "print(HEX_to_RGB_vectorise(RGB))\n",
      "\n",
      "print('\\n')\n",
      "\n",
      "print('2d array:')\n",
      "RGB = np.tile(RGB, (5, 1))\n",
      "print(HEX_to_RGB_vectorise(RGB))"
     ],
     "language": "python",
     "metadata": {},
     "outputs": [
      {
       "output_type": "stream",
       "stream": "stdout",
       "text": [
        "Reference:\n",
        "[ 0.66666667  0.86666667  1.        ]\n",
        "\n",
        "\n",
        "1d array:\n",
        "[ 0.66666667  0.86666667  1.        ]\n",
        "\n",
        "\n",
        "2d array:\n",
        "[[ 0.66666667  0.86666667  1.        ]\n",
        " [ 0.66666667  0.86666667  1.        ]\n",
        " [ 0.66666667  0.86666667  1.        ]\n",
        " [ 0.66666667  0.86666667  1.        ]\n",
        " [ 0.66666667  0.86666667  1.        ]]\n"
       ]
      }
     ],
     "prompt_number": 960
    },
    {
     "cell_type": "code",
     "collapsed": false,
     "input": [
      "%timeit HEX_to_RGB_vectorise(HEX1)"
     ],
     "language": "python",
     "metadata": {},
     "outputs": [
      {
       "output_type": "stream",
       "stream": "stdout",
       "text": [
        "1 loops, best of 3: 6.15 s per loop\n"
       ]
      }
     ],
     "prompt_number": 961
    }
   ],
   "metadata": {}
  }
 ]
}