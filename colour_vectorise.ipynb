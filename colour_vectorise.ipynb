{
 "metadata": {
  "name": "",
  "signature": "sha256:9810c2b0772deb7393ce7dc6a1c4077fef3fb06a70c9a3def94beca9293108b5"
 },
 "nbformat": 3,
 "nbformat_minor": 0,
 "worksheets": [
  {
   "cells": [
    {
     "cell_type": "heading",
     "level": 1,
     "metadata": {},
     "source": [
      "Colour - Vectorise"
     ]
    },
    {
     "cell_type": "heading",
     "level": 2,
     "metadata": {},
     "source": [
      "Data"
     ]
    },
    {
     "cell_type": "code",
     "collapsed": false,
     "input": [
      "from __future__ import division, unicode_literals\n",
      "\n",
      "import numpy as np\n",
      "\n",
      "DATA_HD1 = np.random.rand(1920 * 1080, 3)\n",
      "DATA_HD2 = np.random.rand(1920 * 1080, 3)\n",
      "DATA_HD3 = np.random.rand(1920 * 1080, 3)\n",
      "\n",
      "DATA_PAL1 = np.random.rand(640 * 480, 3)\n",
      "DATA_PAL2 = np.random.rand(640 * 480, 3)\n",
      "DATA_PAL3 = np.random.rand(640 * 480, 3)\n",
      "\n",
      "DATA1, DATA2, DATA3 = DATA_PAL1, DATA_PAL2, DATA_PAL3"
     ],
     "language": "python",
     "metadata": {},
     "outputs": [],
     "prompt_number": 1
    },
    {
     "cell_type": "heading",
     "level": 2,
     "metadata": {},
     "source": [
      "Utilities"
     ]
    },
    {
     "cell_type": "code",
     "collapsed": false,
     "input": [
      "from colour.algebra import as_array, is_numeric\n",
      "\n",
      "def as_numeric(x):\n",
      "    try:\n",
      "        return float(x)\n",
      "    except TypeError as error:\n",
      "        return x"
     ],
     "language": "python",
     "metadata": {},
     "outputs": [],
     "prompt_number": 2
    },
    {
     "cell_type": "heading",
     "level": 2,
     "metadata": {},
     "source": [
      "colour.adaptation.cat"
     ]
    },
    {
     "cell_type": "heading",
     "level": 3,
     "metadata": {},
     "source": [
      "colour.chromatic_adaptation_matrix"
     ]
    },
    {
     "cell_type": "code",
     "collapsed": false,
     "input": [
      "from colour.adaptation.cat import *\n",
      "\n",
      "def chromatic_adaptation_matrix_2d(data1, data2):\n",
      "    for i in range(len(data1)):\n",
      "        chromatic_adaptation_matrix(data1[i], data2[i])"
     ],
     "language": "python",
     "metadata": {},
     "outputs": [],
     "prompt_number": 3
    },
    {
     "cell_type": "code",
     "collapsed": false,
     "input": [
      "%timeit -n 1 chromatic_adaptation_matrix_2d(DATA1, DATA2)"
     ],
     "language": "python",
     "metadata": {},
     "outputs": [
      {
       "output_type": "stream",
       "stream": "stdout",
       "text": [
        "1 loops, best of 3: 17.4 s per loop\n"
       ]
      }
     ],
     "prompt_number": 4
    },
    {
     "cell_type": "code",
     "collapsed": false,
     "input": [
      "from numpy.core.umath_tests import matrix_multiply\n",
      "\n",
      "\n",
      "def chromatic_adaptation_matrix2(XYZ_w, XYZ_wr, method='CAT02'):\n",
      "    M = CHROMATIC_ADAPTATION_METHODS.get(method)\n",
      "\n",
      "    if M is None:\n",
      "        raise KeyError(\n",
      "            '\"{0}\" chromatic adaptation method is not defined! Supported '\n",
      "            'methods: \"{1}\".'.format(method,\n",
      "                                     CHROMATIC_ADAPTATION_METHODS.keys()))\n",
      "    M = as_array(M, (3, 3))\n",
      "\n",
      "    XYZ_w = as_array(XYZ_w, (-1, 3))\n",
      "    XYZ_wr = as_array(XYZ_wr, (-1, 3))\n",
      "\n",
      "    rgb_w = np.dot(XYZ_w, np.transpose(M))\n",
      "    rgb_wr = np.dot(XYZ_wr, np.transpose(M))\n",
      "\n",
      "    D = rgb_wr / rgb_w\n",
      "    \n",
      "    D = np.eye(3) * D[:, np.newaxis, :]\n",
      "\n",
      "    cat = np.einsum('...ij,...jk->...ik', np.linalg.inv(M), D)\n",
      "    cat = np.einsum('...ij,...jk->...ik', cat, M)\n",
      "\n",
      "    cat = np.squeeze(cat)\n",
      "\n",
      "    return cat\n",
      "\n",
      "\n",
      "print('Reference:')\n",
      "print(np.array([[0.86876537, -0.14165393, 0.38719611],\n",
      "                [-0.10300724, 1.05840142, 0.15386462],\n",
      "                [0.00781674, 0.0267875, 2.96081771]]))\n",
      "\n",
      "print('\\n')\n",
      "\n",
      "print('1d array:')\n",
      "XYZ_w = np.array([1.09846607, 1., 0.3558228])\n",
      "XYZ_wr = np.array([0.95042855, 1., 1.08890037])\n",
      "print(chromatic_adaptation_matrix2(XYZ_w, XYZ_wr))\n",
      "\n",
      "print('\\n')\n",
      "\n",
      "print('2d array:')\n",
      "XYZ_w = np.tile(XYZ_w, (5, 1))\n",
      "XYZ_wr = np.tile(XYZ_wr, (5, 1))\n",
      "print(chromatic_adaptation_matrix2(XYZ_w, XYZ_wr))"
     ],
     "language": "python",
     "metadata": {},
     "outputs": [
      {
       "output_type": "stream",
       "stream": "stdout",
       "text": [
        "Reference:\n",
        "[[ 0.86876537 -0.14165393  0.38719611]\n",
        " [-0.10300724  1.05840142  0.15386462]\n",
        " [ 0.00781674  0.0267875   2.96081771]]\n",
        "\n",
        "\n",
        "1d array:\n",
        "[[ 0.86876537 -0.14165393  0.38719611]\n",
        " [-0.10300724  1.05840142  0.15386462]\n",
        " [ 0.00781674  0.0267875   2.96081771]]\n",
        "\n",
        "\n",
        "2d array:\n",
        "[[[ 0.86876537 -0.14165393  0.38719611]\n",
        "  [-0.10300724  1.05840142  0.15386462]\n",
        "  [ 0.00781674  0.0267875   2.96081771]]\n",
        "\n",
        " [[ 0.86876537 -0.14165393  0.38719611]\n",
        "  [-0.10300724  1.05840142  0.15386462]\n",
        "  [ 0.00781674  0.0267875   2.96081771]]\n",
        "\n",
        " [[ 0.86876537 -0.14165393  0.38719611]\n",
        "  [-0.10300724  1.05840142  0.15386462]\n",
        "  [ 0.00781674  0.0267875   2.96081771]]\n",
        "\n",
        " [[ 0.86876537 -0.14165393  0.38719611]\n",
        "  [-0.10300724  1.05840142  0.15386462]\n",
        "  [ 0.00781674  0.0267875   2.96081771]]\n",
        "\n",
        " [[ 0.86876537 -0.14165393  0.38719611]\n",
        "  [-0.10300724  1.05840142  0.15386462]\n",
        "  [ 0.00781674  0.0267875   2.96081771]]]\n"
       ]
      }
     ],
     "prompt_number": 5
    },
    {
     "cell_type": "code",
     "collapsed": false,
     "input": [
      "%timeit -n 1 chromatic_adaptation_matrix2(DATA1, DATA2)"
     ],
     "language": "python",
     "metadata": {},
     "outputs": [
      {
       "output_type": "stream",
       "stream": "stdout",
       "text": [
        "1 loops, best of 3: 275 ms per loop\n"
       ]
      }
     ],
     "prompt_number": 6
    },
    {
     "cell_type": "heading",
     "level": 3,
     "metadata": {},
     "source": [
      "colour.chromatic_adaptation"
     ]
    },
    {
     "cell_type": "code",
     "collapsed": false,
     "input": [
      "def chromatic_adaptation_2d(data1, data2, data3):\n",
      "    for i in range(len(data1)):\n",
      "        chromatic_adaptation(data1[i], data2[i], data3[i])"
     ],
     "language": "python",
     "metadata": {},
     "outputs": [],
     "prompt_number": 7
    },
    {
     "cell_type": "code",
     "collapsed": false,
     "input": [
      "%timeit -n 1 chromatic_adaptation_2d(DATA1, DATA2, DATA3)"
     ],
     "language": "python",
     "metadata": {},
     "outputs": [
      {
       "output_type": "stream",
       "stream": "stdout",
       "text": [
        "1 loops, best of 3: 15.8 s per loop\n"
       ]
      }
     ],
     "prompt_number": 8
    },
    {
     "cell_type": "code",
     "collapsed": false,
     "input": [
      "def chromatic_adaptation2(XYZ, XYZ_w, XYZ_wr, method='CAT02'):\n",
      "    XYZ = as_array(XYZ, (-1, 3))\n",
      "\n",
      "    cat = chromatic_adaptation_matrix2(XYZ_w, XYZ_wr, method)\n",
      "    XYZ_a = np.squeeze(np.einsum('...i,...ji', XYZ, cat))\n",
      "\n",
      "    return XYZ_a\n",
      "\n",
      "\n",
      "print('Reference:')\n",
      "print(np.array([0.08397461, 0.11413219, 0.28625545]))\n",
      "\n",
      "print('\\n')\n",
      "\n",
      "print('1d array:')\n",
      "XYZ = np.array([0.07049534, 0.1008, 0.09558313])\n",
      "XYZ_w = np.array([1.09846607, 1., 0.3558228])\n",
      "XYZ_wr = np.array([0.95042855, 1., 1.08890037])\n",
      "print(chromatic_adaptation2(XYZ, XYZ_w, XYZ_wr))\n",
      "\n",
      "print('\\n')\n",
      "\n",
      "print('2d array:')\n",
      "XYZ = np.tile(XYZ, (5, 1))\n",
      "XYZ_w = np.tile(XYZ_w, (5, 1))\n",
      "XYZ_wr = np.tile(XYZ_wr, (5, 1))\n",
      "print(chromatic_adaptation2(XYZ, XYZ_w, XYZ_wr))"
     ],
     "language": "python",
     "metadata": {},
     "outputs": [
      {
       "output_type": "stream",
       "stream": "stdout",
       "text": [
        "Reference:\n",
        "[ 0.08397461  0.11413219  0.28625545]\n",
        "\n",
        "\n",
        "1d array:\n",
        "[ 0.08397461  0.11413219  0.28625545]\n",
        "\n",
        "\n",
        "2d array:\n",
        "[[ 0.08397461  0.11413219  0.28625545]\n",
        " [ 0.08397461  0.11413219  0.28625545]\n",
        " [ 0.08397461  0.11413219  0.28625545]\n",
        " [ 0.08397461  0.11413219  0.28625545]\n",
        " [ 0.08397461  0.11413219  0.28625545]]\n"
       ]
      }
     ],
     "prompt_number": 9
    },
    {
     "cell_type": "code",
     "collapsed": false,
     "input": [
      "%timeit -n 1 chromatic_adaptation2(DATA1, DATA2, DATA3)"
     ],
     "language": "python",
     "metadata": {},
     "outputs": [
      {
       "output_type": "stream",
       "stream": "stdout",
       "text": [
        "1 loops, best of 3: 251 ms per loop\n"
       ]
      }
     ],
     "prompt_number": 10
    },
    {
     "cell_type": "heading",
     "level": 2,
     "metadata": {},
     "source": [
      "colour.algebra.coordinates.transformations"
     ]
    },
    {
     "cell_type": "heading",
     "level": 3,
     "metadata": {},
     "source": [
      "colour.cartesian_to_spherical"
     ]
    },
    {
     "cell_type": "code",
     "collapsed": false,
     "input": [
      "import math\n",
      "\n",
      "from colour.algebra.coordinates.transformations import *\n",
      "\n",
      "def cartesian_to_spherical_2d(vectors):\n",
      "    for vector in vectors:\n",
      "        cartesian_to_spherical(vector)"
     ],
     "language": "python",
     "metadata": {},
     "outputs": [],
     "prompt_number": 11
    },
    {
     "cell_type": "code",
     "collapsed": false,
     "input": [
      "%timeit -n 1 cartesian_to_spherical_2d(DATA1)"
     ],
     "language": "python",
     "metadata": {},
     "outputs": [
      {
       "output_type": "stream",
       "stream": "stdout",
       "text": [
        "1 loops, best of 3: 6.18 s per loop\n"
       ]
      }
     ],
     "prompt_number": 12
    },
    {
     "cell_type": "code",
     "collapsed": false,
     "input": [
      "def cartesian_to_spherical2(vector):\n",
      "    vector = as_array(vector, (-1, 3))\n",
      "\n",
      "    r = np.linalg.norm(vector, axis=1)\n",
      "    x, y, z = vector[:, 0], vector[:, 1], vector[:, 2]\n",
      "\n",
      "    theta = np.arctan2(z, np.linalg.norm(\n",
      "        np.dstack((x, y)).reshape((-1, 2)), axis=1))\n",
      "    phi = np.arctan2(y, x)\n",
      "\n",
      "    return np.squeeze(np.dstack((r, theta, phi)))\n",
      "\n",
      "\n",
      "print('Reference:')\n",
      "print(np.array([6.78232998, 1.08574654, 0.32175055]))\n",
      "\n",
      "print('\\n')\n",
      "\n",
      "print('1d array:')\n",
      "vector = np.array([3, 1, 6])\n",
      "print(cartesian_to_spherical2(vector))\n",
      "\n",
      "print('\\n')\n",
      "\n",
      "print('2d array:')\n",
      "vector = np.tile(vector, (5, 1))\n",
      "print(cartesian_to_spherical2(vector))"
     ],
     "language": "python",
     "metadata": {},
     "outputs": [
      {
       "output_type": "stream",
       "stream": "stdout",
       "text": [
        "Reference:\n",
        "[ 6.78232998  1.08574654  0.32175055]\n",
        "\n",
        "\n",
        "1d array:\n",
        "[ 6.78232998  1.08574654  0.32175055]\n",
        "\n",
        "\n",
        "2d array:\n",
        "[[ 6.78232998  1.08574654  0.32175055]\n",
        " [ 6.78232998  1.08574654  0.32175055]\n",
        " [ 6.78232998  1.08574654  0.32175055]\n",
        " [ 6.78232998  1.08574654  0.32175055]\n",
        " [ 6.78232998  1.08574654  0.32175055]]\n"
       ]
      }
     ],
     "prompt_number": 13
    },
    {
     "cell_type": "code",
     "collapsed": false,
     "input": [
      "%timeit -n 1 cartesian_to_spherical2(DATA1)"
     ],
     "language": "python",
     "metadata": {},
     "outputs": [
      {
       "output_type": "stream",
       "stream": "stdout",
       "text": [
        "1 loops, best of 3: 42.4 ms per loop\n"
       ]
      }
     ],
     "prompt_number": 14
    },
    {
     "cell_type": "heading",
     "level": 3,
     "metadata": {},
     "source": [
      "colour.spherical_to_cartesian"
     ]
    },
    {
     "cell_type": "code",
     "collapsed": false,
     "input": [
      "def spherical_to_cartesian_2d(vectors):\n",
      "    for vector in vectors:\n",
      "        spherical_to_cartesian(vector)"
     ],
     "language": "python",
     "metadata": {},
     "outputs": [],
     "prompt_number": 15
    },
    {
     "cell_type": "code",
     "collapsed": false,
     "input": [
      "%timeit -n 1 spherical_to_cartesian_2d(DATA1)"
     ],
     "language": "python",
     "metadata": {},
     "outputs": [
      {
       "output_type": "stream",
       "stream": "stdout",
       "text": [
        "1 loops, best of 3: 3.23 s per loop\n"
       ]
      }
     ],
     "prompt_number": 16
    },
    {
     "cell_type": "code",
     "collapsed": false,
     "input": [
      "def spherical_to_cartesian2(vector):\n",
      "    vector = as_array(vector, (-1, 3))\n",
      "\n",
      "    r, theta, phi = vector[:, 0], vector[:, 1], vector[:, 2]\n",
      "\n",
      "    x = r * np.cos(theta) * np.cos(phi)\n",
      "    y = r * np.cos(theta) * np.sin(phi)\n",
      "    z = r * np.sin(theta)\n",
      "\n",
      "    return np.squeeze(np.dstack((x, y, z)))\n",
      "\n",
      "\n",
      "print('Reference:')\n",
      "print(np.array([3., 0.99999999, 6.]))\n",
      "\n",
      "print('\\n')\n",
      "\n",
      "print('1d array:')\n",
      "vector = np.array([6.78232998, 1.08574654, 0.32175055])\n",
      "print(spherical_to_cartesian2(vector))\n",
      "\n",
      "print('\\n')\n",
      "\n",
      "print('2d array:')\n",
      "vector = np.tile(vector, (5, 1))\n",
      "print(spherical_to_cartesian2(vector))"
     ],
     "language": "python",
     "metadata": {},
     "outputs": [
      {
       "output_type": "stream",
       "stream": "stdout",
       "text": [
        "Reference:\n",
        "[ 3.          0.99999999  6.        ]\n",
        "\n",
        "\n",
        "1d array:\n",
        "[ 3.          0.99999999  6.        ]\n",
        "\n",
        "\n",
        "2d array:\n",
        "[[ 3.          0.99999999  6.        ]\n",
        " [ 3.          0.99999999  6.        ]\n",
        " [ 3.          0.99999999  6.        ]\n",
        " [ 3.          0.99999999  6.        ]\n",
        " [ 3.          0.99999999  6.        ]]\n"
       ]
      }
     ],
     "prompt_number": 17
    },
    {
     "cell_type": "code",
     "collapsed": false,
     "input": [
      "%timeit -n 1 spherical_to_cartesian2(DATA1)"
     ],
     "language": "python",
     "metadata": {},
     "outputs": [
      {
       "output_type": "stream",
       "stream": "stdout",
       "text": [
        "1 loops, best of 3: 29.9 ms per loop\n"
       ]
      }
     ],
     "prompt_number": 18
    },
    {
     "cell_type": "heading",
     "level": 3,
     "metadata": {},
     "source": [
      "colour.cartesian_to_cylindrical"
     ]
    },
    {
     "cell_type": "code",
     "collapsed": false,
     "input": [
      "def cartesian_to_cylindrical_2d(vectors):\n",
      "    for vector in vectors:\n",
      "        cartesian_to_cylindrical(vector)"
     ],
     "language": "python",
     "metadata": {},
     "outputs": [],
     "prompt_number": 19
    },
    {
     "cell_type": "code",
     "collapsed": false,
     "input": [
      "%timeit -n 1 cartesian_to_cylindrical_2d(DATA1)"
     ],
     "language": "python",
     "metadata": {},
     "outputs": [
      {
       "output_type": "stream",
       "stream": "stdout",
       "text": [
        "1 loops, best of 3: 3.87 s per loop\n"
       ]
      }
     ],
     "prompt_number": 20
    },
    {
     "cell_type": "code",
     "collapsed": false,
     "input": [
      "def cartesian_to_cylindrical2(vector):\n",
      "    vector = as_array(vector, (-1, 3))\n",
      "\n",
      "    x, y, z = vector[:, 0], vector[:, 1], vector[:, 2]\n",
      "\n",
      "    theta = np.arctan2(y, x)\n",
      "    rho = np.linalg.norm(\n",
      "        np.dstack((x, y)).reshape((-1, 2)), axis=1)\n",
      "\n",
      "    return np.squeeze(np.dstack((z, theta, rho)))\n",
      "\n",
      "\n",
      "print('Reference:')\n",
      "print(np.array([6., 0.32175055, 3.16227766]))\n",
      "\n",
      "print('\\n')\n",
      "\n",
      "print('1d array:')\n",
      "vector = np.array([3, 1, 6])\n",
      "print(cartesian_to_cylindrical2(vector))\n",
      "\n",
      "print('\\n')\n",
      "\n",
      "print('2d array:')\n",
      "vector = np.tile(vector, (5, 1))\n",
      "print(cartesian_to_cylindrical2(vector))"
     ],
     "language": "python",
     "metadata": {},
     "outputs": [
      {
       "output_type": "stream",
       "stream": "stdout",
       "text": [
        "Reference:\n",
        "[ 6.          0.32175055  3.16227766]\n",
        "\n",
        "\n",
        "1d array:\n",
        "[ 6.          0.32175055  3.16227766]\n",
        "\n",
        "\n",
        "2d array:\n",
        "[[ 6.          0.32175055  3.16227766]\n",
        " [ 6.          0.32175055  3.16227766]\n",
        " [ 6.          0.32175055  3.16227766]\n",
        " [ 6.          0.32175055  3.16227766]\n",
        " [ 6.          0.32175055  3.16227766]]\n"
       ]
      }
     ],
     "prompt_number": 21
    },
    {
     "cell_type": "code",
     "collapsed": false,
     "input": [
      "%timeit -n 1 cartesian_to_cylindrical2(DATA1)"
     ],
     "language": "python",
     "metadata": {},
     "outputs": [
      {
       "output_type": "stream",
       "stream": "stdout",
       "text": [
        "1 loops, best of 3: 24.8 ms per loop\n"
       ]
      }
     ],
     "prompt_number": 22
    },
    {
     "cell_type": "heading",
     "level": 3,
     "metadata": {},
     "source": [
      "colour.cylindrical_to_cartesian"
     ]
    },
    {
     "cell_type": "code",
     "collapsed": false,
     "input": [
      "def cylindrical_to_cartesian_2d(vectors):\n",
      "    for vector in vectors:\n",
      "        cylindrical_to_cartesian(vector)"
     ],
     "language": "python",
     "metadata": {},
     "outputs": [],
     "prompt_number": 23
    },
    {
     "cell_type": "code",
     "collapsed": false,
     "input": [
      "%timeit -n 1 cylindrical_to_cartesian_2d(DATA1)"
     ],
     "language": "python",
     "metadata": {},
     "outputs": [
      {
       "output_type": "stream",
       "stream": "stdout",
       "text": [
        "1 loops, best of 3: 2.15 s per loop\n"
       ]
      }
     ],
     "prompt_number": 24
    },
    {
     "cell_type": "code",
     "collapsed": false,
     "input": [
      "def cylindrical_to_cartesian2(vector):\n",
      "    vector = as_array(vector, (-1, 3))\n",
      "\n",
      "    z, theta, rho = vector[:, 0], vector[:, 1], vector[:, 2]\n",
      "\n",
      "    x = rho * np.cos(theta)\n",
      "    y = rho * np.sin(theta)\n",
      "\n",
      "    return np.squeeze(np.dstack((x, y, z)))\n",
      "\n",
      "\n",
      "print('Reference:')\n",
      "print(np.array([3., 0.99999999, 6.]))\n",
      "\n",
      "print('\\n')\n",
      "\n",
      "print('1d array:')\n",
      "vector = np.array([6, 0.32175055, 3.16227766])\n",
      "print(cylindrical_to_cartesian2(vector))\n",
      "\n",
      "print('\\n')\n",
      "\n",
      "print('2d array:')\n",
      "vector = np.tile(vector, (5, 1))\n",
      "print(cylindrical_to_cartesian2(vector))"
     ],
     "language": "python",
     "metadata": {},
     "outputs": [
      {
       "output_type": "stream",
       "stream": "stdout",
       "text": [
        "Reference:\n",
        "[ 3.          0.99999999  6.        ]\n",
        "\n",
        "\n",
        "1d array:\n",
        "[ 3.          0.99999999  6.        ]\n",
        "\n",
        "\n",
        "2d array:\n",
        "[[ 3.          0.99999999  6.        ]\n",
        " [ 3.          0.99999999  6.        ]\n",
        " [ 3.          0.99999999  6.        ]\n",
        " [ 3.          0.99999999  6.        ]\n",
        " [ 3.          0.99999999  6.        ]]\n"
       ]
      }
     ],
     "prompt_number": 25
    },
    {
     "cell_type": "code",
     "collapsed": false,
     "input": [
      "%timeit -n 1 cylindrical_to_cartesian2(DATA1)"
     ],
     "language": "python",
     "metadata": {},
     "outputs": [
      {
       "output_type": "stream",
       "stream": "stdout",
       "text": [
        "1 loops, best of 3: 13.5 ms per loop\n"
       ]
      }
     ],
     "prompt_number": 26
    },
    {
     "cell_type": "heading",
     "level": 2,
     "metadata": {},
     "source": [
      "colour.colorimetry.blackbody"
     ]
    },
    {
     "cell_type": "heading",
     "level": 3,
     "metadata": {},
     "source": [
      "colour.planck_law"
     ]
    },
    {
     "cell_type": "code",
     "collapsed": false,
     "input": [
      "from colour.colorimetry.blackbody import *\n",
      "\n",
      "WAVELENGTHS = np.linspace(1, 15000, 100000) * 1e-9\n",
      "\n",
      "def planck_law_2d(wavelengths):\n",
      "    for wavelength in wavelengths:\n",
      "        planck_law(wavelength, 5500)"
     ],
     "language": "python",
     "metadata": {},
     "outputs": [],
     "prompt_number": 27
    },
    {
     "cell_type": "code",
     "collapsed": false,
     "input": [
      "%timeit -n 1 planck_law_2d(WAVELENGTHS)"
     ],
     "language": "python",
     "metadata": {},
     "outputs": [
      {
       "output_type": "stream",
       "stream": "stdout",
       "text": [
        "1 loops, best of 3: 1.78 s per loop\n"
       ]
      }
     ],
     "prompt_number": 28
    },
    {
     "cell_type": "code",
     "collapsed": false,
     "input": [
      "def planck_law2(wavelength, temperature, c1=C1, c2=C2, n=N):\n",
      "    t = temperature\n",
      "    l = as_array(wavelength)\n",
      "\n",
      "    error_settings = np.seterr()\n",
      "    np.seterr(over='ignore')\n",
      "\n",
      "    p = (((c1 * n ** -2 * l ** -5) / np.pi) *\n",
      "            (np.exp(c2 / (n * l * t)) - 1) ** -1)\n",
      "\n",
      "    np.seterr(**error_settings)\n",
      "\n",
      "    return as_numeric(p)\n",
      "\n",
      "print('Reference:')\n",
      "print(2.04727019098e+13)\n",
      "\n",
      "print('\\n')\n",
      "\n",
      "print('1d array:')\n",
      "print(planck_law2(500 * 1e-9, 5500))\n",
      "\n",
      "print('\\n')\n",
      "\n",
      "print('2d array:')\n",
      "print(planck_law2([500 * 1e-9] * 5, 5500))"
     ],
     "language": "python",
     "metadata": {},
     "outputs": [
      {
       "output_type": "stream",
       "stream": "stdout",
       "text": [
        "Reference:\n",
        "2.04727019098e+13\n",
        "\n",
        "\n",
        "1d array:\n",
        "2.04727019098e+13\n",
        "\n",
        "\n",
        "2d array:\n",
        "[  2.04727019e+13   2.04727019e+13   2.04727019e+13   2.04727019e+13\n",
        "   2.04727019e+13]\n"
       ]
      }
     ],
     "prompt_number": 29
    },
    {
     "cell_type": "code",
     "collapsed": false,
     "input": [
      "%timeit -n 1 planck_law2(WAVELENGTHS, 5500)"
     ],
     "language": "python",
     "metadata": {},
     "outputs": [
      {
       "output_type": "stream",
       "stream": "stdout",
       "text": [
        "1 loops, best of 3: 10.2 ms per loop\n"
       ]
      }
     ],
     "prompt_number": 30
    },
    {
     "cell_type": "heading",
     "level": 2,
     "metadata": {},
     "source": [
      "colour.colorimetry.lightness\u00b6"
     ]
    },
    {
     "cell_type": "heading",
     "level": 3,
     "metadata": {},
     "source": [
      "colour.lightness_glasser1958"
     ]
    },
    {
     "cell_type": "code",
     "collapsed": false,
     "input": [
      "def lightness_glasser1958(Y, **kwargs):\n",
      "    Y = as_array(Y)\n",
      "\n",
      "    L = 25.29 * (Y ** (1 / 3)) - 18.38\n",
      "\n",
      "    return as_numeric(L)\n",
      "\n",
      "print('Reference:')\n",
      "print(36.250562645752595)\n",
      "\n",
      "print('\\n')\n",
      "\n",
      "print('1d array:')\n",
      "print(lightness_glasser1958(10.08))\n",
      "\n",
      "print('\\n')\n",
      "\n",
      "print('2d array:')\n",
      "print(lightness_glasser1958([10.08, 10.08, 10.08, 10.08, 10.08]))"
     ],
     "language": "python",
     "metadata": {},
     "outputs": [
      {
       "output_type": "stream",
       "stream": "stdout",
       "text": [
        "Reference:\n",
        "36.2505626458\n",
        "\n",
        "\n",
        "1d array:\n",
        "36.2505626458\n",
        "\n",
        "\n",
        "2d array:\n",
        "[ 36.25056265  36.25056265  36.25056265  36.25056265  36.25056265]\n"
       ]
      }
     ],
     "prompt_number": 31
    },
    {
     "cell_type": "heading",
     "level": 3,
     "metadata": {},
     "source": [
      "colour.lightness_wyszecki1963"
     ]
    },
    {
     "cell_type": "code",
     "collapsed": false,
     "input": [
      "def lightness_wyszecki1963(Y, **kwargs):\n",
      "    Y = as_array(Y)\n",
      "\n",
      "    if (Y < 1).any() or (Y > 98).any():\n",
      "        warning(('\"W*\" Lightness computation is only applicable for '\n",
      "                 '1% < \"Y\" < 98%, unpredictable results may occur!'))\n",
      "\n",
      "    W = 25 * (Y ** (1 / 3)) - 17\n",
      "\n",
      "    return as_numeric(W)\n",
      "\n",
      "print('Reference:')\n",
      "print(37.004114912764535)\n",
      "\n",
      "print('\\n')\n",
      "\n",
      "print('1d array:')\n",
      "print(lightness_wyszecki1963(10.08))\n",
      "\n",
      "print('\\n')\n",
      "\n",
      "print('2d array:')\n",
      "print(lightness_wyszecki1963([10.08, 10.08, 10.08, 10.08, 10.08]))"
     ],
     "language": "python",
     "metadata": {},
     "outputs": [
      {
       "output_type": "stream",
       "stream": "stdout",
       "text": [
        "Reference:\n",
        "37.0041149128\n",
        "\n",
        "\n",
        "1d array:\n",
        "37.0041149128\n",
        "\n",
        "\n",
        "2d array:\n",
        "[ 37.00411491  37.00411491  37.00411491  37.00411491  37.00411491]\n"
       ]
      }
     ],
     "prompt_number": 32
    },
    {
     "cell_type": "heading",
     "level": 3,
     "metadata": {},
     "source": [
      "colour.lightness_1976"
     ]
    },
    {
     "cell_type": "code",
     "collapsed": false,
     "input": [
      "from colour.constants import CIE_E, CIE_K\n",
      "\n",
      "\n",
      "def lightness_1976(Y, Y_n=100):\n",
      "    Y = as_array(Y)\n",
      "    Y_n = as_array(Y_n)\n",
      "    \n",
      "    Lstar = Y / Y_n\n",
      "    \n",
      "    Y_m = Lstar <= CIE_E\n",
      "\n",
      "    Lstar[Y_m] = CIE_K * Lstar[Y_m]\n",
      "    Lstar[~Y_m] = 116 * Lstar[~Y_m] ** (1 / 3) - 16\n",
      "\n",
      "    return as_numeric(Lstar)\n",
      "\n",
      "\n",
      "print('Reference:')\n",
      "print(37.98562909765304)\n",
      "\n",
      "print('\\n')\n",
      "\n",
      "print('1d array:')\n",
      "print(lightness_1976(10.08, 100))\n",
      "\n",
      "print('\\n')\n",
      "\n",
      "print('2d array:')\n",
      "print(lightness_1976([10.08, 10.08, 10.08, 10.08, 10.08]))"
     ],
     "language": "python",
     "metadata": {},
     "outputs": [
      {
       "output_type": "stream",
       "stream": "stdout",
       "text": [
        "Reference:\n",
        "37.9856290977\n",
        "\n",
        "\n",
        "1d array:\n",
        "37.9856290977\n",
        "\n",
        "\n",
        "2d array:\n",
        "[ 37.9856291  37.9856291  37.9856291  37.9856291  37.9856291]\n"
       ]
      }
     ],
     "prompt_number": 33
    }
   ],
   "metadata": {}
  }
 ]
}