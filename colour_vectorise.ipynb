{
 "metadata": {
  "name": "",
  "signature": "sha256:8754664f682183cd494cfe31b8cfbf43950781af4102c0c52530a94027b474fa"
 },
 "nbformat": 3,
 "nbformat_minor": 0,
 "worksheets": [
  {
   "cells": [
    {
     "cell_type": "heading",
     "level": 1,
     "metadata": {},
     "source": [
      "Colour - Vectorise"
     ]
    },
    {
     "cell_type": "heading",
     "level": 2,
     "metadata": {},
     "source": [
      "Data"
     ]
    },
    {
     "cell_type": "code",
     "collapsed": false,
     "input": [
      "from __future__ import division, unicode_literals\n",
      "\n",
      "import numpy as np\n",
      "\n",
      "DATA_HD1 = np.random.rand(1920 * 1080, 3)\n",
      "DATA_HD2 = np.random.rand(1920 * 1080, 3)\n",
      "DATA_HD3 = np.random.rand(1920 * 1080, 3)\n",
      "\n",
      "DATA_PAL1 = np.random.rand(640 * 480, 3)\n",
      "DATA_PAL2 = np.random.rand(640 * 480, 3)\n",
      "DATA_PAL3 = np.random.rand(640 * 480, 3)\n",
      "\n",
      "DATA1, DATA2, DATA3 = DATA_HD1, DATA_HD2, DATA_HD3"
     ],
     "language": "python",
     "metadata": {},
     "outputs": [],
     "prompt_number": 1
    },
    {
     "cell_type": "heading",
     "level": 2,
     "metadata": {},
     "source": [
      "Utilities"
     ]
    },
    {
     "cell_type": "code",
     "collapsed": false,
     "input": [
      "from __future__ import with_statement\n",
      "import functools\n",
      "\n",
      "from colour.algebra import as_array, is_numeric, is_iterable\n",
      "from colour.utilities import CaseInsensitiveMapping, warning\n",
      "\n",
      "\n",
      "def as_numeric(x):\n",
      "    try:\n",
      "        return float(x)\n",
      "    except TypeError as error:\n",
      "        return x\n",
      "\n",
      "\n",
      "def as_stack(x, direction='Depth', squeeze=True):\n",
      "    methods = CaseInsensitiveMapping(\n",
      "        {'Depth': np.dstack,\n",
      "         'D': np.dstack,\n",
      "         'Horizontal': np.hstack,\n",
      "         'H': np.hstack,\n",
      "         'Vertical': np.vstack,\n",
      "         'V': np.vstack})\n",
      "\n",
      "    x = methods.get(direction)(x)\n",
      "    if squeeze:\n",
      "        x = np.squeeze(x)\n",
      "    return x\n",
      "\n",
      "\n",
      "def row_as_diagonal(a):\n",
      "    # http://stackoverflow.com/a/26517247/931625\n",
      "    rd = np.zeros((a.shape[0], a.shape[1], a.shape[1]))\n",
      "    diagonal = np.arange(a.shape[1])\n",
      "    rd[:, diagonal, diagonal] = a\n",
      "    return rd\n",
      "\n",
      "\n",
      "def handle_floating_point_errors(**kwargs):\n",
      "    # http://www.reflectometry.org/danse/docs/refl1d/_modules/refl1d/numpyerrors.html\n",
      "    context = np.errstate(**kwargs)\n",
      "\n",
      "    def wrapper(object):\n",
      "        @functools.wraps(object)\n",
      "        def wrapped(*args, **kwargs):\n",
      "            with context:\n",
      "                return object(*args, **kwargs)\n",
      "\n",
      "        return wrapped\n",
      "\n",
      "    return wrapper\n",
      "\n",
      "\n",
      "ignore_floating_point_errors = handle_floating_point_errors(all='ignore')\n",
      "raise_floating_point_errors = handle_floating_point_errors(all='raise')\n",
      "print_floating_point_errors = handle_floating_point_errors(all='print')\n",
      "warn_floating_point_errors = handle_floating_point_errors(all='warn')"
     ],
     "language": "python",
     "metadata": {},
     "outputs": [],
     "prompt_number": 2
    },
    {
     "cell_type": "heading",
     "level": 2,
     "metadata": {},
     "source": [
      "colour.adaptation.cat"
     ]
    },
    {
     "cell_type": "heading",
     "level": 3,
     "metadata": {},
     "source": [
      "colour.chromatic_adaptation_matrix_VonKries"
     ]
    },
    {
     "cell_type": "code",
     "collapsed": false,
     "input": [
      "from colour.adaptation import *\n",
      "from colour.adaptation.vonkries import *\n",
      "\n",
      "def chromatic_adaptation_matrix_VonKries_2d(data1, data2):\n",
      "    for i in range(len(data1)):\n",
      "        chromatic_adaptation_matrix_VonKries(data1[i], data2[i])"
     ],
     "language": "python",
     "metadata": {},
     "outputs": [],
     "prompt_number": 3
    },
    {
     "cell_type": "code",
     "collapsed": false,
     "input": [
      "%timeit chromatic_adaptation_matrix_VonKries_2d(DATA1, DATA2)"
     ],
     "language": "python",
     "metadata": {},
     "outputs": [
      {
       "output_type": "stream",
       "stream": "stdout",
       "text": [
        "1 loops, best of 3: 1min 46s per loop\n"
       ]
      }
     ],
     "prompt_number": 4
    },
    {
     "cell_type": "code",
     "collapsed": false,
     "input": [
      "def chromatic_adaptation_matrix_VonKries_vectorise(XYZ_w, XYZ_wr, transform='CAT02'):\n",
      "    M = CHROMATIC_ADAPTATION_TRANSFORMS.get(transform)\n",
      "\n",
      "    if M is None:\n",
      "        raise KeyError(\n",
      "            '\"{0}\" chromatic adaptation transform is not defined! Supported '\n",
      "            'methods: \"{1}\".'.format(transform,\n",
      "                                     CHROMATIC_ADAPTATION_TRANSFORMS.keys()))\n",
      "    M = as_array(M, (3, 3))\n",
      "\n",
      "    XYZ_w = as_array(XYZ_w, (-1, 3))\n",
      "    XYZ_wr = as_array(XYZ_wr, (-1, 3))\n",
      "\n",
      "    rgb_w = np.dot(XYZ_w, np.transpose(M))\n",
      "    rgb_wr = np.dot(XYZ_wr, np.transpose(M))\n",
      "\n",
      "    D = rgb_wr / rgb_w\n",
      "    \n",
      "    D = row_as_diagonal(D)\n",
      "\n",
      "    cat = np.einsum('...ij,...jk->...ik', np.linalg.inv(M), D)\n",
      "    cat = np.einsum('...ij,...jk->...ik', cat, M)\n",
      "\n",
      "    cat = np.squeeze(cat)\n",
      "\n",
      "    return cat\n",
      "\n",
      "\n",
      "print('Reference:')\n",
      "XYZ_w = np.array([1.09846607, 1., 0.3558228])\n",
      "XYZ_wr = np.array([0.95042855, 1., 1.08890037])\n",
      "print(chromatic_adaptation_matrix_VonKries(XYZ_w, XYZ_wr))\n",
      "\n",
      "print('\\n')\n",
      "\n",
      "print('1d array:')\n",
      "print(chromatic_adaptation_matrix_VonKries_vectorise(XYZ_w, XYZ_wr))\n",
      "\n",
      "print('\\n')\n",
      "\n",
      "print('2d array:')\n",
      "XYZ_w = np.tile(XYZ_w, (5, 1))\n",
      "XYZ_wr = np.tile(XYZ_wr, (5, 1))\n",
      "print(chromatic_adaptation_matrix_VonKries_vectorise(XYZ_w, XYZ_wr))"
     ],
     "language": "python",
     "metadata": {},
     "outputs": [
      {
       "output_type": "stream",
       "stream": "stdout",
       "text": [
        "Reference:\n",
        "[[ 0.86876537 -0.14165393  0.38719611]\n",
        " [-0.10300724  1.05840142  0.15386462]\n",
        " [ 0.00781674  0.0267875   2.96081771]]\n",
        "\n",
        "\n",
        "1d array:\n",
        "[[ 0.86876537 -0.14165393  0.38719611]\n",
        " [-0.10300724  1.05840142  0.15386462]\n",
        " [ 0.00781674  0.0267875   2.96081771]]\n",
        "\n",
        "\n",
        "2d array:\n",
        "[[[ 0.86876537 -0.14165393  0.38719611]\n",
        "  [-0.10300724  1.05840142  0.15386462]\n",
        "  [ 0.00781674  0.0267875   2.96081771]]\n",
        "\n",
        " [[ 0.86876537 -0.14165393  0.38719611]\n",
        "  [-0.10300724  1.05840142  0.15386462]\n",
        "  [ 0.00781674  0.0267875   2.96081771]]\n",
        "\n",
        " [[ 0.86876537 -0.14165393  0.38719611]\n",
        "  [-0.10300724  1.05840142  0.15386462]\n",
        "  [ 0.00781674  0.0267875   2.96081771]]\n",
        "\n",
        " [[ 0.86876537 -0.14165393  0.38719611]\n",
        "  [-0.10300724  1.05840142  0.15386462]\n",
        "  [ 0.00781674  0.0267875   2.96081771]]\n",
        "\n",
        " [[ 0.86876537 -0.14165393  0.38719611]\n",
        "  [-0.10300724  1.05840142  0.15386462]\n",
        "  [ 0.00781674  0.0267875   2.96081771]]]\n"
       ]
      }
     ],
     "prompt_number": 5
    },
    {
     "cell_type": "code",
     "collapsed": false,
     "input": [
      "%timeit chromatic_adaptation_matrix_VonKries_vectorise(DATA1, DATA2)"
     ],
     "language": "python",
     "metadata": {},
     "outputs": [
      {
       "output_type": "stream",
       "stream": "stdout",
       "text": [
        "1 loops, best of 3: 1.73 s per loop\n"
       ]
      }
     ],
     "prompt_number": 6
    },
    {
     "cell_type": "heading",
     "level": 3,
     "metadata": {},
     "source": [
      "colour.chromatic_adaptation_VonKries"
     ]
    },
    {
     "cell_type": "code",
     "collapsed": false,
     "input": [
      "def chromatic_adaptation_VonKries_2d(data1, data2, data3):\n",
      "    for i in range(len(data1)):\n",
      "        chromatic_adaptation_VonKries(data1[i], data2[i], data3[i])"
     ],
     "language": "python",
     "metadata": {},
     "outputs": [],
     "prompt_number": 7
    },
    {
     "cell_type": "code",
     "collapsed": false,
     "input": [
      "%timeit chromatic_adaptation_VonKries_2d(DATA1, DATA2, DATA3)"
     ],
     "language": "python",
     "metadata": {},
     "outputs": [
      {
       "output_type": "stream",
       "stream": "stdout",
       "text": [
        "1 loops, best of 3: 1min 50s per loop\n"
       ]
      }
     ],
     "prompt_number": 8
    },
    {
     "cell_type": "code",
     "collapsed": false,
     "input": [
      "def chromatic_adaptation_VonKries_vectorise(XYZ, XYZ_w, XYZ_wr, transform='CAT02'):\n",
      "    XYZ = as_array(XYZ, (-1, 3))\n",
      "\n",
      "    cat = chromatic_adaptation_matrix_VonKries_vectorise(XYZ_w, XYZ_wr, transform)\n",
      "    XYZ_a = np.squeeze(np.einsum('...i,...ji', XYZ, cat))\n",
      "\n",
      "    return XYZ_a\n",
      "\n",
      "\n",
      "print('Reference:')\n",
      "XYZ = np.array([0.07049534, 0.1008, 0.09558313])\n",
      "XYZ_w = np.array([1.09846607, 1., 0.3558228])\n",
      "XYZ_wr = np.array([0.95042855, 1., 1.08890037])\n",
      "print(chromatic_adaptation_VonKries(XYZ, XYZ_w, XYZ_wr))\n",
      "\n",
      "print('\\n')\n",
      "\n",
      "print('1d array:')\n",
      "print(chromatic_adaptation_VonKries_vectorise(XYZ, XYZ_w, XYZ_wr))\n",
      "\n",
      "print('\\n')\n",
      "\n",
      "print('2d array:')\n",
      "XYZ = np.tile(XYZ, (5, 1))\n",
      "XYZ_w = np.tile(XYZ_w, (5, 1))\n",
      "XYZ_wr = np.tile(XYZ_wr, (5, 1))\n",
      "print(chromatic_adaptation_VonKries_vectorise(XYZ, XYZ_w, XYZ_wr))"
     ],
     "language": "python",
     "metadata": {},
     "outputs": [
      {
       "output_type": "stream",
       "stream": "stdout",
       "text": [
        "Reference:\n",
        "[ 0.08397461  0.11413219  0.28625545]\n",
        "\n",
        "\n",
        "1d array:\n",
        "[ 0.08397461  0.11413219  0.28625545]\n",
        "\n",
        "\n",
        "2d array:\n",
        "[[ 0.08397461  0.11413219  0.28625545]\n",
        " [ 0.08397461  0.11413219  0.28625545]\n",
        " [ 0.08397461  0.11413219  0.28625545]\n",
        " [ 0.08397461  0.11413219  0.28625545]\n",
        " [ 0.08397461  0.11413219  0.28625545]]\n"
       ]
      }
     ],
     "prompt_number": 9
    },
    {
     "cell_type": "code",
     "collapsed": false,
     "input": [
      "%timeit chromatic_adaptation_VonKries_vectorise(DATA1, DATA2, DATA3)"
     ],
     "language": "python",
     "metadata": {},
     "outputs": [
      {
       "output_type": "stream",
       "stream": "stdout",
       "text": [
        "1 loops, best of 3: 1.77 s per loop\n"
       ]
      }
     ],
     "prompt_number": 10
    },
    {
     "cell_type": "heading",
     "level": 2,
     "metadata": {},
     "source": [
      "colour.algebra.coordinates.transformations"
     ]
    },
    {
     "cell_type": "heading",
     "level": 3,
     "metadata": {},
     "source": [
      "colour.cartesian_to_spherical"
     ]
    },
    {
     "cell_type": "code",
     "collapsed": false,
     "input": [
      "import math\n",
      "\n",
      "from colour.algebra.coordinates.transformations import *\n",
      "\n",
      "def cartesian_to_spherical_2d(vectors):\n",
      "    for vector in vectors:\n",
      "        cartesian_to_spherical(vector)"
     ],
     "language": "python",
     "metadata": {},
     "outputs": [],
     "prompt_number": 11
    },
    {
     "cell_type": "code",
     "collapsed": false,
     "input": [
      "%timeit cartesian_to_spherical_2d(DATA1)"
     ],
     "language": "python",
     "metadata": {},
     "outputs": [
      {
       "output_type": "stream",
       "stream": "stdout",
       "text": [
        "1 loops, best of 3: 49.8 s per loop\n"
       ]
      }
     ],
     "prompt_number": 12
    },
    {
     "cell_type": "code",
     "collapsed": false,
     "input": [
      "def cartesian_to_spherical_vectorise(vector):\n",
      "    vector = as_array(vector, (-1, 3))\n",
      "\n",
      "    r = np.linalg.norm(vector, axis=1)\n",
      "    x, y, z = vector[:, 0], vector[:, 1], vector[:, 2]\n",
      "\n",
      "    theta = np.arctan2(z, np.linalg.norm(\n",
      "        np.dstack((x, y)).reshape((-1, 2)), axis=1))\n",
      "    phi = np.arctan2(y, x)\n",
      "\n",
      "    return as_stack((r, theta, phi))\n",
      "\n",
      "\n",
      "print('Reference:')\n",
      "vector = np.array([3, 1, 6])\n",
      "print(cartesian_to_spherical(vector))\n",
      "\n",
      "print('\\n')\n",
      "\n",
      "print('1d array:')\n",
      "print(cartesian_to_spherical_vectorise(vector))\n",
      "\n",
      "print('\\n')\n",
      "\n",
      "print('2d array:')\n",
      "vector = np.tile(vector, (5, 1))\n",
      "print(cartesian_to_spherical_vectorise(vector))"
     ],
     "language": "python",
     "metadata": {},
     "outputs": [
      {
       "output_type": "stream",
       "stream": "stdout",
       "text": [
        "Reference:\n",
        "[ 6.78232998  1.08574654  0.32175055]\n",
        "\n",
        "\n",
        "1d array:\n",
        "[ 6.78232998  1.08574654  0.32175055]\n",
        "\n",
        "\n",
        "2d array:\n",
        "[[ 6.78232998  1.08574654  0.32175055]\n",
        " [ 6.78232998  1.08574654  0.32175055]\n",
        " [ 6.78232998  1.08574654  0.32175055]\n",
        " [ 6.78232998  1.08574654  0.32175055]\n",
        " [ 6.78232998  1.08574654  0.32175055]]\n"
       ]
      }
     ],
     "prompt_number": 13
    },
    {
     "cell_type": "code",
     "collapsed": false,
     "input": [
      "%timeit cartesian_to_spherical_vectorise(DATA1)"
     ],
     "language": "python",
     "metadata": {},
     "outputs": [
      {
       "output_type": "stream",
       "stream": "stdout",
       "text": [
        "1 loops, best of 3: 372 ms per loop\n"
       ]
      }
     ],
     "prompt_number": 14
    },
    {
     "cell_type": "heading",
     "level": 3,
     "metadata": {},
     "source": [
      "colour.spherical_to_cartesian"
     ]
    },
    {
     "cell_type": "code",
     "collapsed": false,
     "input": [
      "def spherical_to_cartesian_2d(vectors):\n",
      "    for vector in vectors:\n",
      "        spherical_to_cartesian(vector)"
     ],
     "language": "python",
     "metadata": {},
     "outputs": [],
     "prompt_number": 15
    },
    {
     "cell_type": "code",
     "collapsed": false,
     "input": [
      "%timeit spherical_to_cartesian_2d(DATA1)"
     ],
     "language": "python",
     "metadata": {},
     "outputs": [
      {
       "output_type": "stream",
       "stream": "stdout",
       "text": [
        "1 loops, best of 3: 24.8 s per loop\n"
       ]
      }
     ],
     "prompt_number": 16
    },
    {
     "cell_type": "code",
     "collapsed": false,
     "input": [
      "def spherical_to_cartesian_vectorise(vector):\n",
      "    vector = as_array(vector, (-1, 3))\n",
      "\n",
      "    r, theta, phi = vector[:, 0], vector[:, 1], vector[:, 2]\n",
      "\n",
      "    x = r * np.cos(theta) * np.cos(phi)\n",
      "    y = r * np.cos(theta) * np.sin(phi)\n",
      "    z = r * np.sin(theta)\n",
      "\n",
      "    return as_stack((x, y, z))\n",
      "\n",
      "\n",
      "print('Reference:')\n",
      "vector = np.array([6.78232998, 1.08574654, 0.32175055])\n",
      "print(spherical_to_cartesian(vector))\n",
      "\n",
      "print('\\n')\n",
      "\n",
      "print('1d array:')\n",
      "print(spherical_to_cartesian_vectorise(vector))\n",
      "\n",
      "print('\\n')\n",
      "\n",
      "print('2d array:')\n",
      "vector = np.tile(vector, (5, 1))\n",
      "print(spherical_to_cartesian_vectorise(vector))"
     ],
     "language": "python",
     "metadata": {},
     "outputs": [
      {
       "output_type": "stream",
       "stream": "stdout",
       "text": [
        "Reference:\n",
        "[ 3.          0.99999999  6.        ]\n",
        "\n",
        "\n",
        "1d array:\n",
        "[ 3.          0.99999999  6.        ]\n",
        "\n",
        "\n",
        "2d array:\n",
        "[[ 3.          0.99999999  6.        ]\n",
        " [ 3.          0.99999999  6.        ]\n",
        " [ 3.          0.99999999  6.        ]\n",
        " [ 3.          0.99999999  6.        ]\n",
        " [ 3.          0.99999999  6.        ]]\n"
       ]
      }
     ],
     "prompt_number": 17
    },
    {
     "cell_type": "code",
     "collapsed": false,
     "input": [
      "%timeit spherical_to_cartesian_vectorise(DATA1)"
     ],
     "language": "python",
     "metadata": {},
     "outputs": [
      {
       "output_type": "stream",
       "stream": "stdout",
       "text": [
        "1 loops, best of 3: 238 ms per loop\n"
       ]
      }
     ],
     "prompt_number": 18
    },
    {
     "cell_type": "heading",
     "level": 3,
     "metadata": {},
     "source": [
      "colour.cartesian_to_cylindrical"
     ]
    },
    {
     "cell_type": "code",
     "collapsed": false,
     "input": [
      "def cartesian_to_cylindrical_2d(vectors):\n",
      "    for vector in vectors:\n",
      "        cartesian_to_cylindrical(vector)"
     ],
     "language": "python",
     "metadata": {},
     "outputs": [],
     "prompt_number": 19
    },
    {
     "cell_type": "code",
     "collapsed": false,
     "input": [
      "%timeit cartesian_to_cylindrical_2d(DATA1)"
     ],
     "language": "python",
     "metadata": {},
     "outputs": [
      {
       "output_type": "stream",
       "stream": "stdout",
       "text": [
        "1 loops, best of 3: 31.8 s per loop\n"
       ]
      }
     ],
     "prompt_number": 20
    },
    {
     "cell_type": "code",
     "collapsed": false,
     "input": [
      "def cartesian_to_cylindrical_vectorise(vector):\n",
      "    vector = as_array(vector, (-1, 3))\n",
      "\n",
      "    x, y, z = vector[:, 0], vector[:, 1], vector[:, 2]\n",
      "\n",
      "    theta = np.arctan2(y, x)\n",
      "    rho = np.linalg.norm(\n",
      "        np.dstack((x, y)).reshape((-1, 2)), axis=1)\n",
      "\n",
      "    return as_stack((z, theta, rho))\n",
      "\n",
      "\n",
      "print('Reference:')\n",
      "vector = np.array([3, 1, 6])\n",
      "print(cartesian_to_cylindrical(vector))\n",
      "\n",
      "print('\\n')\n",
      "\n",
      "print('1d array:')\n",
      "print(cartesian_to_cylindrical_vectorise(vector))\n",
      "\n",
      "print('\\n')\n",
      "\n",
      "print('2d array:')\n",
      "vector = np.tile(vector, (5, 1))\n",
      "print(cartesian_to_cylindrical_vectorise(vector))"
     ],
     "language": "python",
     "metadata": {},
     "outputs": [
      {
       "output_type": "stream",
       "stream": "stdout",
       "text": [
        "Reference:\n",
        "[ 6.          0.32175055  3.16227766]\n",
        "\n",
        "\n",
        "1d array:\n",
        "[ 6.          0.32175055  3.16227766]\n",
        "\n",
        "\n",
        "2d array:\n",
        "[[ 6.          0.32175055  3.16227766]\n",
        " [ 6.          0.32175055  3.16227766]\n",
        " [ 6.          0.32175055  3.16227766]\n",
        " [ 6.          0.32175055  3.16227766]\n",
        " [ 6.          0.32175055  3.16227766]]\n"
       ]
      }
     ],
     "prompt_number": 21
    },
    {
     "cell_type": "code",
     "collapsed": false,
     "input": [
      "%timeit cartesian_to_cylindrical_vectorise(DATA1)"
     ],
     "language": "python",
     "metadata": {},
     "outputs": [
      {
       "output_type": "stream",
       "stream": "stdout",
       "text": [
        "10 loops, best of 3: 203 ms per loop\n"
       ]
      }
     ],
     "prompt_number": 22
    },
    {
     "cell_type": "heading",
     "level": 3,
     "metadata": {},
     "source": [
      "colour.cylindrical_to_cartesian"
     ]
    },
    {
     "cell_type": "code",
     "collapsed": false,
     "input": [
      "def cylindrical_to_cartesian_2d(vectors):\n",
      "    for vector in vectors:\n",
      "        cylindrical_to_cartesian(vector)"
     ],
     "language": "python",
     "metadata": {},
     "outputs": [],
     "prompt_number": 23
    },
    {
     "cell_type": "code",
     "collapsed": false,
     "input": [
      "%timeit cylindrical_to_cartesian_2d(DATA1)"
     ],
     "language": "python",
     "metadata": {},
     "outputs": [
      {
       "output_type": "stream",
       "stream": "stdout",
       "text": [
        "1 loops, best of 3: 15.2 s per loop\n"
       ]
      }
     ],
     "prompt_number": 24
    },
    {
     "cell_type": "code",
     "collapsed": false,
     "input": [
      "def cylindrical_to_cartesian_vectorise(vector):\n",
      "    vector = as_array(vector, (-1, 3))\n",
      "\n",
      "    z, theta, rho = vector[:, 0], vector[:, 1], vector[:, 2]\n",
      "\n",
      "    x = rho * np.cos(theta)\n",
      "    y = rho * np.sin(theta)\n",
      "\n",
      "    return as_stack((x, y, z))\n",
      "\n",
      "\n",
      "print('Reference:')\n",
      "vector = np.array([6, 0.32175055, 3.16227766])\n",
      "print(cylindrical_to_cartesian(vector))\n",
      "\n",
      "print('\\n')\n",
      "\n",
      "print('1d array:')\n",
      "print(cylindrical_to_cartesian_vectorise(vector))\n",
      "\n",
      "print('\\n')\n",
      "\n",
      "print('2d array:')\n",
      "vector = np.tile(vector, (5, 1))\n",
      "print(cylindrical_to_cartesian_vectorise(vector))"
     ],
     "language": "python",
     "metadata": {},
     "outputs": [
      {
       "output_type": "stream",
       "stream": "stdout",
       "text": [
        "Reference:\n",
        "[ 3.          0.99999999  6.        ]\n",
        "\n",
        "\n",
        "1d array:\n",
        "[ 3.          0.99999999  6.        ]\n",
        "\n",
        "\n",
        "2d array:\n",
        "[[ 3.          0.99999999  6.        ]\n",
        " [ 3.          0.99999999  6.        ]\n",
        " [ 3.          0.99999999  6.        ]\n",
        " [ 3.          0.99999999  6.        ]\n",
        " [ 3.          0.99999999  6.        ]]\n"
       ]
      }
     ],
     "prompt_number": 25
    },
    {
     "cell_type": "code",
     "collapsed": false,
     "input": [
      "%timeit cylindrical_to_cartesian_vectorise(DATA1)"
     ],
     "language": "python",
     "metadata": {},
     "outputs": [
      {
       "output_type": "stream",
       "stream": "stdout",
       "text": [
        "10 loops, best of 3: 109 ms per loop\n"
       ]
      }
     ],
     "prompt_number": 26
    },
    {
     "cell_type": "heading",
     "level": 2,
     "metadata": {},
     "source": [
      "colour.colorimetry.blackbody"
     ]
    },
    {
     "cell_type": "heading",
     "level": 3,
     "metadata": {},
     "source": [
      "colour.planck_law"
     ]
    },
    {
     "cell_type": "code",
     "collapsed": false,
     "input": [
      "from colour.colorimetry.blackbody import *\n",
      "\n",
      "WAVELENGTHS = np.linspace(1, 15000, 100000) * 1e-9\n",
      "\n",
      "def planck_law_2d(wavelengths):\n",
      "    for wavelength in wavelengths:\n",
      "        planck_law(wavelength, 5500)"
     ],
     "language": "python",
     "metadata": {},
     "outputs": [],
     "prompt_number": 27
    },
    {
     "cell_type": "code",
     "collapsed": false,
     "input": [
      "%timeit planck_law_2d(WAVELENGTHS)"
     ],
     "language": "python",
     "metadata": {},
     "outputs": [
      {
       "output_type": "stream",
       "stream": "stdout",
       "text": [
        "1 loops, best of 3: 1.83 s per loop\n"
       ]
      }
     ],
     "prompt_number": 28
    },
    {
     "cell_type": "code",
     "collapsed": false,
     "input": [
      "@handle_floating_point_errors(over='ignore')\n",
      "def planck_law_vectorise(wavelength, temperature, c1=C1, c2=C2, n=N):\n",
      "    t = temperature\n",
      "    l = as_array(wavelength)\n",
      "\n",
      "    p = (((c1 * n ** -2 * l ** -5) / np.pi) *\n",
      "            (np.exp(c2 / (n * l * t)) - 1) ** -1)\n",
      "\n",
      "    return as_numeric(p)\n",
      "\n",
      "\n",
      "print('Reference:')\n",
      "print(planck_law(500 * 1e-9, 5500))\n",
      "\n",
      "print('\\n')\n",
      "\n",
      "print('1d array:')\n",
      "print(planck_law_vectorise(500 * 1e-9, 5500))\n",
      "\n",
      "print('\\n')\n",
      "\n",
      "print('2d array:')\n",
      "print(planck_law_vectorise([500 * 1e-9] * 5, 5500))"
     ],
     "language": "python",
     "metadata": {},
     "outputs": [
      {
       "output_type": "stream",
       "stream": "stdout",
       "text": [
        "Reference:\n",
        "2.04727019098e+13\n",
        "\n",
        "\n",
        "1d array:\n",
        "2.04727019098e+13\n",
        "\n",
        "\n",
        "2d array:\n",
        "[  2.04727019e+13   2.04727019e+13   2.04727019e+13   2.04727019e+13\n",
        "   2.04727019e+13]\n"
       ]
      }
     ],
     "prompt_number": 29
    },
    {
     "cell_type": "code",
     "collapsed": false,
     "input": [
      "%timeit planck_law_vectorise(WAVELENGTHS, 5500)"
     ],
     "language": "python",
     "metadata": {},
     "outputs": [
      {
       "output_type": "stream",
       "stream": "stdout",
       "text": [
        "100 loops, best of 3: 11.1 ms per loop\n"
       ]
      }
     ],
     "prompt_number": 30
    },
    {
     "cell_type": "heading",
     "level": 2,
     "metadata": {},
     "source": [
      "colour.colorimetry.lightness\u00b6"
     ]
    },
    {
     "cell_type": "heading",
     "level": 3,
     "metadata": {},
     "source": [
      "colour.lightness_Glasser1958"
     ]
    },
    {
     "cell_type": "code",
     "collapsed": false,
     "input": [
      "from colour.colorimetry.lightness import *\n",
      "\n",
      "def lightness_Glasser1958_2d(Y):\n",
      "    for Y_ in Y:\n",
      "        lightness_Glasser1958(Y_)\n",
      "        \n",
      "\n",
      "Y = np.linspace(0, 100, 1000000)"
     ],
     "language": "python",
     "metadata": {},
     "outputs": [],
     "prompt_number": 31
    },
    {
     "cell_type": "code",
     "collapsed": false,
     "input": [
      "%timeit lightness_Glasser1958_2d(Y)"
     ],
     "language": "python",
     "metadata": {},
     "outputs": [
      {
       "output_type": "stream",
       "stream": "stdout",
       "text": [
        "1 loops, best of 3: 1.28 s per loop\n"
       ]
      }
     ],
     "prompt_number": 32
    },
    {
     "cell_type": "code",
     "collapsed": false,
     "input": [
      "def lightness_Glasser1958_vectorise(Y, **kwargs):\n",
      "    Y = as_array(Y)\n",
      "\n",
      "    L = 25.29 * (Y ** (1 / 3)) - 18.38\n",
      "\n",
      "    return as_numeric(L)\n",
      "\n",
      "\n",
      "print('Reference:')\n",
      "print(lightness_Glasser1958(10.08))\n",
      "\n",
      "print('\\n')\n",
      "\n",
      "print('1d array:')\n",
      "print(lightness_Glasser1958_vectorise(10.08))\n",
      "\n",
      "print('\\n')\n",
      "\n",
      "print('2d array:')\n",
      "print(lightness_Glasser1958_vectorise([10.08, 10.08, 10.08, 10.08, 10.08]))"
     ],
     "language": "python",
     "metadata": {},
     "outputs": [
      {
       "output_type": "stream",
       "stream": "stdout",
       "text": [
        "Reference:\n",
        "36.2505626458\n",
        "\n",
        "\n",
        "1d array:\n",
        "36.2505626458\n",
        "\n",
        "\n",
        "2d array:\n",
        "[ 36.25056265  36.25056265  36.25056265  36.25056265  36.25056265]\n"
       ]
      }
     ],
     "prompt_number": 33
    },
    {
     "cell_type": "code",
     "collapsed": false,
     "input": [
      "%timeit lightness_Glasser1958_vectorise(Y)"
     ],
     "language": "python",
     "metadata": {},
     "outputs": [
      {
       "output_type": "stream",
       "stream": "stdout",
       "text": [
        "10 loops, best of 3: 77.9 ms per loop\n"
       ]
      }
     ],
     "prompt_number": 34
    },
    {
     "cell_type": "heading",
     "level": 3,
     "metadata": {},
     "source": [
      "colour.lightness_Wyszecki1963"
     ]
    },
    {
     "cell_type": "code",
     "collapsed": false,
     "input": [
      "def lightness_Wyszecki1963_2d(Y):\n",
      "    for Y_ in Y:\n",
      "        lightness_Wyszecki1963(Y_)"
     ],
     "language": "python",
     "metadata": {},
     "outputs": [],
     "prompt_number": 35
    },
    {
     "cell_type": "code",
     "collapsed": false,
     "input": [
      "%timeit lightness_Wyszecki1963_2d(Y)"
     ],
     "language": "python",
     "metadata": {},
     "outputs": [
      {
       "output_type": "stream",
       "stream": "stdout",
       "text": [
        "1 loops, best of 3: 3.3 s per loop\n"
       ]
      },
      {
       "output_type": "stream",
       "stream": "stderr",
       "text": [
        "/colour-science/colour/colour/utilities/verbose.py:125: UserWarning: \"W*\" Lightness computation is only applicable for 1% < \"Y\" < 98%, unpredictable results may occur!\n",
        "  warn(*args, **kwargs)\n"
       ]
      }
     ],
     "prompt_number": 36
    },
    {
     "cell_type": "code",
     "collapsed": false,
     "input": [
      "def lightness_Wyszecki1963_vectorise(Y, **kwargs):\n",
      "    Y = as_array(Y)\n",
      "\n",
      "    if np.any(Y < 1) or np.any(Y > 98):\n",
      "        warning(('\"W*\" Lightness computation is only applicable for '\n",
      "                 '1% < \"Y\" < 98%, unpredictable results may occur!'))\n",
      "\n",
      "    W = 25 * (Y ** (1 / 3)) - 17\n",
      "\n",
      "    return as_numeric(W)\n",
      "\n",
      "\n",
      "print('Reference:')\n",
      "print(lightness_Wyszecki1963(10.08))\n",
      "\n",
      "print('\\n')\n",
      "\n",
      "print('1d array:')\n",
      "print(lightness_Wyszecki1963_vectorise(10.08))\n",
      "\n",
      "print('\\n')\n",
      "\n",
      "print('2d array:')\n",
      "print(lightness_Wyszecki1963_vectorise([10.08, 10.08, 10.08, 10.08, 10.08]))"
     ],
     "language": "python",
     "metadata": {},
     "outputs": [
      {
       "output_type": "stream",
       "stream": "stdout",
       "text": [
        "Reference:\n",
        "37.0041149128\n",
        "\n",
        "\n",
        "1d array:\n",
        "37.0041149128\n",
        "\n",
        "\n",
        "2d array:\n",
        "[ 37.00411491  37.00411491  37.00411491  37.00411491  37.00411491]\n"
       ]
      }
     ],
     "prompt_number": 37
    },
    {
     "cell_type": "code",
     "collapsed": false,
     "input": [
      "%timeit lightness_Wyszecki1963_vectorise(Y)"
     ],
     "language": "python",
     "metadata": {},
     "outputs": [
      {
       "output_type": "stream",
       "stream": "stdout",
       "text": [
        "10 loops, best of 3: 78.9 ms per loop\n"
       ]
      }
     ],
     "prompt_number": 38
    },
    {
     "cell_type": "heading",
     "level": 3,
     "metadata": {},
     "source": [
      "colour.lightness_1976"
     ]
    },
    {
     "cell_type": "code",
     "collapsed": false,
     "input": [
      "def lightness_1976_2d(Y):\n",
      "    for Y_ in Y:\n",
      "        lightness_1976(Y_)"
     ],
     "language": "python",
     "metadata": {},
     "outputs": [],
     "prompt_number": 39
    },
    {
     "cell_type": "code",
     "collapsed": false,
     "input": [
      "%timeit lightness_1976_2d(Y)"
     ],
     "language": "python",
     "metadata": {},
     "outputs": [
      {
       "output_type": "stream",
       "stream": "stdout",
       "text": [
        "1 loops, best of 3: 3 s per loop\n"
       ]
      }
     ],
     "prompt_number": 40
    },
    {
     "cell_type": "code",
     "collapsed": false,
     "input": [
      "from colour.constants import CIE_E, CIE_K\n",
      "\n",
      "\n",
      "def lightness_1976_vectorise(Y, Y_n=100):\n",
      "    Y = as_array(Y)\n",
      "    Y_n = np.resize(as_array(Y_n), Y.shape)\n",
      "\n",
      "    Lstar = Y / Y_n\n",
      "\n",
      "    Lstar = np.where(Lstar <= CIE_E,\n",
      "                     CIE_K * Lstar,\n",
      "                     116 * Lstar ** (1 / 3) - 16)\n",
      "\n",
      "    return as_numeric(Lstar)\n",
      "\n",
      "\n",
      "print('Reference:')\n",
      "print(lightness_1976(10.08, 100))\n",
      "\n",
      "print('\\n')\n",
      "\n",
      "print('1d array:')\n",
      "print(lightness_1976_vectorise(10.08, 100))\n",
      "\n",
      "print('\\n')\n",
      "\n",
      "print('2d array:')\n",
      "print(lightness_1976_vectorise([10.08, 10.08, 10.08, 10.08, 10.08]))"
     ],
     "language": "python",
     "metadata": {},
     "outputs": [
      {
       "output_type": "stream",
       "stream": "stdout",
       "text": [
        "Reference:\n",
        "37.9856290977\n",
        "\n",
        "\n",
        "1d array:\n",
        "37.9856290977\n",
        "\n",
        "\n",
        "2d array:\n",
        "[ 37.9856291  37.9856291  37.9856291  37.9856291  37.9856291]\n"
       ]
      }
     ],
     "prompt_number": 41
    },
    {
     "cell_type": "code",
     "collapsed": false,
     "input": [
      "%timeit lightness_1976_vectorise(Y)"
     ],
     "language": "python",
     "metadata": {},
     "outputs": [
      {
       "output_type": "stream",
       "stream": "stdout",
       "text": [
        "1 loops, best of 3: 238 ms per loop\n"
       ]
      }
     ],
     "prompt_number": 42
    },
    {
     "cell_type": "heading",
     "level": 2,
     "metadata": {},
     "source": [
      "colour.colorimetry.luminance"
     ]
    },
    {
     "cell_type": "heading",
     "level": 3,
     "metadata": {},
     "source": [
      "colour.luminance_Newhall1943"
     ]
    },
    {
     "cell_type": "code",
     "collapsed": false,
     "input": [
      "from colour.colorimetry.luminance import *\n",
      "\n",
      "def luminance_Newhall1943_2d(L):\n",
      "    for L_ in L:\n",
      "        luminance_Newhall1943(L_)\n",
      "\n",
      "        \n",
      "L = np.linspace(0, 100, 1000000)"
     ],
     "language": "python",
     "metadata": {},
     "outputs": [],
     "prompt_number": 43
    },
    {
     "cell_type": "code",
     "collapsed": false,
     "input": [
      "%timeit luminance_Newhall1943_2d(L)"
     ],
     "language": "python",
     "metadata": {},
     "outputs": [
      {
       "output_type": "stream",
       "stream": "stdout",
       "text": [
        "1 loops, best of 3: 5.53 s per loop\n"
       ]
      }
     ],
     "prompt_number": 44
    },
    {
     "cell_type": "code",
     "collapsed": false,
     "input": [
      "def luminance_Newhall1943_vectorise(V, **kwargs):\n",
      "    V = as_array(V)\n",
      "\n",
      "    R_Y = (1.2219 * V - 0.23111 * (V * V) + 0.23951 * (V ** 3) - 0.021009 *\n",
      "           (V ** 4) + 0.0008404 * (V ** 5))\n",
      "\n",
      "    return as_numeric(R_Y)\n",
      "\n",
      "\n",
      "print('Reference:')\n",
      "print(luminance_Newhall1943(3.74629715382))\n",
      "\n",
      "print('\\n')\n",
      "\n",
      "print('1d array:')\n",
      "print(luminance_Newhall1943_vectorise(3.74629715382))\n",
      "\n",
      "print('\\n')\n",
      "\n",
      "print('2d array:')\n",
      "print(luminance_Newhall1943_vectorise([3.74629715382, 3.74629715382, 3.74629715382, 3.74629715382, 3.74629715382]))"
     ],
     "language": "python",
     "metadata": {},
     "outputs": [
      {
       "output_type": "stream",
       "stream": "stdout",
       "text": [
        "Reference:\n",
        "10.4089874577\n",
        "\n",
        "\n",
        "1d array:\n",
        "10.4089874577\n",
        "\n",
        "\n",
        "2d array:\n",
        "[ 10.40898746  10.40898746  10.40898746  10.40898746  10.40898746]\n"
       ]
      }
     ],
     "prompt_number": 45
    },
    {
     "cell_type": "code",
     "collapsed": false,
     "input": [
      "%timeit luminance_Newhall1943_vectorise(L)"
     ],
     "language": "python",
     "metadata": {},
     "outputs": [
      {
       "output_type": "stream",
       "stream": "stdout",
       "text": [
        "1 loops, best of 3: 235 ms per loop\n"
       ]
      }
     ],
     "prompt_number": 46
    },
    {
     "cell_type": "heading",
     "level": 3,
     "metadata": {},
     "source": [
      "colour.luminance_ASTMD153508"
     ]
    },
    {
     "cell_type": "code",
     "collapsed": false,
     "input": [
      "def luminance_ASTMD153508_2d(L):\n",
      "    for L_ in L:\n",
      "        luminance_ASTMD153508(L_)"
     ],
     "language": "python",
     "metadata": {},
     "outputs": [],
     "prompt_number": 47
    },
    {
     "cell_type": "code",
     "collapsed": false,
     "input": [
      "%timeit luminance_ASTMD153508_2d(L)"
     ],
     "language": "python",
     "metadata": {},
     "outputs": [
      {
       "output_type": "stream",
       "stream": "stdout",
       "text": [
        "1 loops, best of 3: 6.07 s per loop\n"
       ]
      }
     ],
     "prompt_number": 48
    },
    {
     "cell_type": "code",
     "collapsed": false,
     "input": [
      "def luminance_ASTMD153508_vectorise(V, **kwargs):\n",
      "    V = as_array(V)\n",
      "\n",
      "    Y = (1.1914 * V - 0.22533 * (V ** 2) + 0.23352 * (V ** 3) - 0.020484 *\n",
      "         (V ** 4) + 0.00081939 * (V ** 5))\n",
      "\n",
      "    return as_numeric(Y)\n",
      "\n",
      "\n",
      "print('Reference:')\n",
      "print(luminance_ASTMD153508(3.74629715382))\n",
      "\n",
      "print('\\n')\n",
      "\n",
      "print('1d array:')\n",
      "print(luminance_ASTMD153508_vectorise(3.74629715382))\n",
      "\n",
      "print('\\n')\n",
      "\n",
      "print('2d array:')\n",
      "print(luminance_ASTMD153508_vectorise([3.74629715382, 3.74629715382, 3.74629715382, 3.74629715382, 3.74629715382]))"
     ],
     "language": "python",
     "metadata": {},
     "outputs": [
      {
       "output_type": "stream",
       "stream": "stdout",
       "text": [
        "Reference:\n",
        "10.1488096782\n",
        "\n",
        "\n",
        "1d array:\n",
        "10.1488096782\n",
        "\n",
        "\n",
        "2d array:\n",
        "[ 10.14880968  10.14880968  10.14880968  10.14880968  10.14880968]\n"
       ]
      }
     ],
     "prompt_number": 49
    },
    {
     "cell_type": "code",
     "collapsed": false,
     "input": [
      "%timeit luminance_ASTMD153508_vectorise(L)"
     ],
     "language": "python",
     "metadata": {},
     "outputs": [
      {
       "output_type": "stream",
       "stream": "stdout",
       "text": [
        "1 loops, best of 3: 248 ms per loop\n"
       ]
      }
     ],
     "prompt_number": 50
    },
    {
     "cell_type": "heading",
     "level": 3,
     "metadata": {},
     "source": [
      "colour.luminance_1976"
     ]
    },
    {
     "cell_type": "code",
     "collapsed": false,
     "input": [
      "def luminance_1976_2d(L):\n",
      "    for L_ in L:\n",
      "        luminance_1976(L_)"
     ],
     "language": "python",
     "metadata": {},
     "outputs": [],
     "prompt_number": 51
    },
    {
     "cell_type": "code",
     "collapsed": false,
     "input": [
      "%timeit luminance_1976_2d(L)"
     ],
     "language": "python",
     "metadata": {},
     "outputs": [
      {
       "output_type": "stream",
       "stream": "stdout",
       "text": [
        "1 loops, best of 3: 3.28 s per loop\n"
       ]
      }
     ],
     "prompt_number": 52
    },
    {
     "cell_type": "code",
     "collapsed": false,
     "input": [
      "def luminance_1976_vectorise(Lstar, Y_n=100):\n",
      "    Lstar = as_array(Lstar)\n",
      "    Y_n = np.resize(as_array(Y_n), Lstar.shape)\n",
      "\n",
      "    Y = np.where(Lstar > CIE_K * CIE_E,\n",
      "                 Y_n * ((Lstar + 16) / 116) ** 3,\n",
      "                 Y_n * (Lstar / CIE_K))\n",
      "\n",
      "    return as_numeric(Y)\n",
      "\n",
      "\n",
      "print('Reference:')\n",
      "print(luminance_1976(37.9856290977))\n",
      "\n",
      "print('\\n')\n",
      "\n",
      "print('1d array:')\n",
      "print(luminance_1976_vectorise(37.9856290977))\n",
      "\n",
      "print('\\n')\n",
      "\n",
      "print('2d array:')\n",
      "print(luminance_1976_vectorise(\n",
      "    [37.9856290977, 37.9856290977, 37.9856290977, 37.9856290977, 37.9856290977]))"
     ],
     "language": "python",
     "metadata": {},
     "outputs": [
      {
       "output_type": "stream",
       "stream": "stdout",
       "text": [
        "Reference:\n",
        "10.08\n",
        "\n",
        "\n",
        "1d array:\n",
        "10.08\n",
        "\n",
        "\n",
        "2d array:\n",
        "[ 10.08  10.08  10.08  10.08  10.08]\n"
       ]
      }
     ],
     "prompt_number": 53
    },
    {
     "cell_type": "code",
     "collapsed": false,
     "input": [
      "%timeit luminance_1976_vectorise(L)"
     ],
     "language": "python",
     "metadata": {},
     "outputs": [
      {
       "output_type": "stream",
       "stream": "stdout",
       "text": [
        "1 loops, best of 3: 241 ms per loop\n"
       ]
      }
     ],
     "prompt_number": 54
    },
    {
     "cell_type": "heading",
     "level": 2,
     "metadata": {},
     "source": [
      "colour.colorimetry.spectrum"
     ]
    },
    {
     "cell_type": "heading",
     "level": 3,
     "metadata": {},
     "source": [
      "colour.SpectralShape"
     ]
    },
    {
     "cell_type": "code",
     "collapsed": false,
     "input": [
      "from pprint import pprint\n",
      "\n",
      "from colour.colorimetry.spectrum import *\n",
      "\n",
      "\n",
      "def SpectralShape__contains__(self, wavelength):\n",
      "    wavelengths = self.range()\n",
      "    return all(wavelength in wavelengths \n",
      "               for wavelength in as_array(wavelength))\n",
      "\n",
      "\n",
      "SpectralShape.__contains__ = SpectralShape__contains__\n",
      "\n",
      "print(380 in SpectralShape(360, 830, 1))\n",
      "\n",
      "print((380, 480) in SpectralShape(360, 830, 1))\n",
      "\n",
      "print((380, 480.5) in SpectralShape(360, 830, 1))"
     ],
     "language": "python",
     "metadata": {},
     "outputs": [
      {
       "output_type": "stream",
       "stream": "stdout",
       "text": [
        "True\n",
        "True\n",
        "False\n"
       ]
      }
     ],
     "prompt_number": 55
    },
    {
     "cell_type": "heading",
     "level": 3,
     "metadata": {},
     "source": [
      "colour.SpectralPowerDistribution"
     ]
    },
    {
     "cell_type": "code",
     "collapsed": false,
     "input": [
      "def SpectralPowerDistribution__getitem__(self, wavelength):\n",
      "    if is_numeric(wavelength):\n",
      "        # self.data ===> self.__data\n",
      "        return self.data.__getitem__(wavelength)\n",
      "    elif is_iterable(wavelength):\n",
      "        # self.data ===> self.__data\n",
      "        return np.array([self.data.__getitem__(x) for x in wavelength])\n",
      "    elif type(wavelength) is slice:\n",
      "        return self.values[wavelength]\n",
      "    else:\n",
      "        raise NotImplementedError(\n",
      "            '\"{0}\" type is not supported for indexing!'.format(\n",
      "                type(wavelength)))\n",
      "\n",
      "\n",
      "SpectralPowerDistribution.__getitem__ = SpectralPowerDistribution__getitem__\n",
      "\n",
      "data = {510: 49.67, 520: 69.59, 530: 81.73, 540: 88.19}\n",
      "spd = SpectralPowerDistribution('Spd', data)\n",
      "\n",
      "print(spd[510])\n",
      "\n",
      "print('\\n')\n",
      "\n",
      "print(spd[(510, 520)])\n",
      "\n",
      "print('\\n')\n",
      "\n",
      "print(spd[0:-1])"
     ],
     "language": "python",
     "metadata": {},
     "outputs": [
      {
       "output_type": "stream",
       "stream": "stdout",
       "text": [
        "49.67\n",
        "\n",
        "\n",
        "[ 49.67  69.59]\n",
        "\n",
        "\n",
        "[ 49.67  69.59  81.73]\n"
       ]
      }
     ],
     "prompt_number": 56
    },
    {
     "cell_type": "code",
     "collapsed": false,
     "input": [
      "def SpectralPowerDistribution__setitem__(self, wavelength, value):\n",
      "    if is_numeric(wavelength) or is_iterable(wavelength):\n",
      "        wavelengths = as_array(wavelength)\n",
      "    elif type(wavelength) is slice:\n",
      "        wavelengths = self.wavelengths[wavelength]\n",
      "    else:\n",
      "        raise NotImplementedError(\n",
      "            '\"{0}\" type is not supported for indexing!'.format(\n",
      "                type(wavelength)))\n",
      "\n",
      "    values = np.resize(as_array(value), wavelengths.shape)\n",
      "    for i in range(len(wavelengths)):\n",
      "        # self.data ===> self.__data\n",
      "        self.data.__setitem__(wavelengths[i], values[i])\n",
      "\n",
      "\n",
      "SpectralPowerDistribution.__setitem__ = SpectralPowerDistribution__setitem__\n",
      "\n",
      "spd = SpectralPowerDistribution('Spd', {})\n",
      "\n",
      "spd[510] = 49.67\n",
      "pprint(list(spd.items))\n",
      "\n",
      "print('\\n')\n",
      "\n",
      "spd[(520, 530)] = (69.59, 81.73)\n",
      "pprint(list(spd.items))\n",
      "\n",
      "print('\\n')\n",
      "\n",
      "spd[(540, 550)] = 88.19\n",
      "pprint(list(spd.items))\n",
      "\n",
      "print('\\n')\n",
      "\n",
      "spd[:] = 49.67\n",
      "pprint(list(spd.items))\n",
      "\n",
      "print('\\n')\n",
      "\n",
      "spd[0:3] = 69.59\n",
      "pprint(list(spd.items))"
     ],
     "language": "python",
     "metadata": {},
     "outputs": [
      {
       "output_type": "stream",
       "stream": "stdout",
       "text": [
        "[(510.0, 49.670000000000002)]\n",
        "\n",
        "\n",
        "[(510.0, 49.670000000000002),\n",
        " (520.0, 69.590000000000003),\n",
        " (530.0, 81.730000000000004)]\n",
        "\n",
        "\n",
        "[(510.0, 49.670000000000002),\n",
        " (520.0, 69.590000000000003),\n",
        " (530.0, 81.730000000000004),\n",
        " (540.0, 88.189999999999998),\n",
        " (550.0, 88.189999999999998)]\n",
        "\n",
        "\n",
        "[(510.0, 49.670000000000002),\n",
        " (520.0, 49.670000000000002),\n",
        " (530.0, 49.670000000000002),\n",
        " (540.0, 49.670000000000002),\n",
        " (550.0, 49.670000000000002)]\n",
        "\n",
        "\n",
        "[(510.0, 69.590000000000003),\n",
        " (520.0, 69.590000000000003),\n",
        " (530.0, 69.590000000000003),\n",
        " (540.0, 49.670000000000002),\n",
        " (550.0, 49.670000000000002)]\n"
       ]
      }
     ],
     "prompt_number": 57
    },
    {
     "cell_type": "code",
     "collapsed": false,
     "input": [
      "def SpectralPowerDistribution_get(self, wavelength, default=None):\n",
      "    wavelength = as_array(wavelength)\n",
      "\n",
      "    return as_numeric(np.array([self.data.get(x, default)\n",
      "                                for x in wavelength]))\n",
      "\n",
      "\n",
      "SpectralPowerDistribution.get = SpectralPowerDistribution_get\n",
      "\n",
      "data = {510: 49.67, 520: 69.59, 530: 81.73, 540: 88.19}\n",
      "spd = SpectralPowerDistribution('Spd', data)\n",
      "\n",
      "print(spd.get(510))\n",
      "\n",
      "print('\\n')\n",
      "\n",
      "print(spd.get((510, 520)))\n",
      "\n",
      "print('\\n')\n",
      "\n",
      "print(spd.get((510, 520, 521)))"
     ],
     "language": "python",
     "metadata": {},
     "outputs": [
      {
       "output_type": "stream",
       "stream": "stdout",
       "text": [
        "49.67\n",
        "\n",
        "\n",
        "[ 49.67  69.59]\n",
        "\n",
        "\n",
        "[49.67 69.59 None]\n"
       ]
      }
     ],
     "prompt_number": 58
    },
    {
     "cell_type": "code",
     "collapsed": false,
     "input": [
      "def SpectralPowerDistribution__contains__(self, wavelength):\n",
      "    wavelengths = self.wavelengths\n",
      "    return all(wavelength in wavelengths \n",
      "               for wavelength in as_array(wavelength))\n",
      "\n",
      "\n",
      "SpectralPowerDistribution.__contains__ = SpectralPowerDistribution__contains__\n",
      "\n",
      "data = {510: 49.67, 520: 69.59, 530: 81.73, 540: 88.19}\n",
      "spd = SpectralPowerDistribution('Spd', data)\n",
      "\n",
      "print(510 in spd)\n",
      "\n",
      "print('\\n')\n",
      "\n",
      "print((510, 520) in spd)\n",
      "\n",
      "print('\\n')\n",
      "\n",
      "print((510, 520, 521) in spd)"
     ],
     "language": "python",
     "metadata": {},
     "outputs": [
      {
       "output_type": "stream",
       "stream": "stdout",
       "text": [
        "True\n",
        "\n",
        "\n",
        "True\n",
        "\n",
        "\n",
        "False\n"
       ]
      }
     ],
     "prompt_number": 59
    },
    {
     "cell_type": "heading",
     "level": 3,
     "metadata": {},
     "source": [
      "colour.TriSpectralPowerDistribution"
     ]
    },
    {
     "cell_type": "code",
     "collapsed": false,
     "input": [
      "def TriSpectralPowerDistribution__getitem__(self, wavelength):\n",
      "    return np.swapaxes(np.array((self.x[wavelength],\n",
      "                                 self.y[wavelength],\n",
      "                                 self.z[wavelength])), 0, 1)\n",
      "\n",
      "\n",
      "TriSpectralPowerDistribution.__getitem__ = TriSpectralPowerDistribution__getitem__\n",
      "\n",
      "x_bar = {510: 49.67, 520: 69.59, 530: 81.73, 540: 88.19}\n",
      "y_bar = {510: 90.56, 520: 87.34, 530: 45.76, 540: 23.45}\n",
      "z_bar = {510: 12.43, 520: 23.15, 530: 67.98, 540: 90.28}\n",
      "data = {'x_bar': x_bar, 'y_bar': y_bar, 'z_bar': z_bar}\n",
      "mpg = {'x': 'x_bar', 'y': 'y_bar', 'z': 'z_bar'}\n",
      "tri_spd = TriSpectralPowerDistribution('Tri Spd', data, mpg)\n",
      "\n",
      "print(tri_spd[510])\n",
      "\n",
      "print('\\n')\n",
      "\n",
      "print(tri_spd[(510, 520)])\n",
      "\n",
      "print('\\n')\n",
      "\n",
      "print(tri_spd[0:-1])"
     ],
     "language": "python",
     "metadata": {},
     "outputs": [
      {
       "output_type": "stream",
       "stream": "stdout",
       "text": [
        "[ 49.67  90.56  12.43]\n",
        "\n",
        "\n",
        "[[ 49.67  90.56  12.43]\n",
        " [ 69.59  87.34  23.15]]\n",
        "\n",
        "\n",
        "[[ 49.67  90.56  12.43]\n",
        " [ 69.59  87.34  23.15]\n",
        " [ 81.73  45.76  67.98]]\n"
       ]
      }
     ],
     "prompt_number": 60
    },
    {
     "cell_type": "code",
     "collapsed": false,
     "input": [
      "def TriSpectralPowerDistribution__setitem__(self, wavelength, value):\n",
      "    if is_numeric(wavelength) or is_iterable(wavelength):\n",
      "        wavelengths = as_array(wavelength)\n",
      "    elif type(wavelength) is slice:\n",
      "        wavelengths = self.wavelengths[wavelength]\n",
      "    else:\n",
      "        raise NotImplementedError(\n",
      "            '\"{0}\" type is not supported for indexing!'.format(\n",
      "                type(wavelength)))\n",
      "\n",
      "    value = np.resize(as_array(value), (wavelengths.shape[0], 3))\n",
      "    x, y, z = value[:, 0], value[:, 1], value[:, 2]\n",
      "\n",
      "    self.x.__setitem__(wavelengths, x)\n",
      "    self.y.__setitem__(wavelengths, y)\n",
      "    self.z.__setitem__(wavelengths, z)\n",
      "\n",
      "\n",
      "TriSpectralPowerDistribution.__setitem__ = TriSpectralPowerDistribution__setitem__\n",
      "\n",
      "data = {'x_bar': {}, 'y_bar': {}, 'z_bar': {}}\n",
      "mpg = {'x': 'x_bar', 'y': 'y_bar', 'z': 'z_bar'}\n",
      "tri_spd = TriSpectralPowerDistribution('Tri Spd', data, mpg)\n",
      "\n",
      "tri_spd[510] = 49.67\n",
      "pprint(list(tri_spd.items))\n",
      "\n",
      "print('\\n')\n",
      "\n",
      "tri_spd[(520, 530)] = (69.59, 81.73)\n",
      "pprint(list(tri_spd.items))\n",
      "\n",
      "print('\\n')\n",
      "\n",
      "tri_spd[(540, 550)] = ((49.67, 69.59, 81.73), (81.73, 69.59, 49.67))\n",
      "pprint(list(tri_spd.items))\n",
      "\n",
      "print('\\n')\n",
      "\n",
      "tri_spd[:] = 49.67\n",
      "pprint(list(tri_spd.items))\n",
      "\n",
      "print('\\n')\n",
      "\n",
      "tri_spd[0:3] = ((81.73, 69.59, 49.67), (49.67, 69.59, 81.73))\n",
      "pprint(list(tri_spd.items))"
     ],
     "language": "python",
     "metadata": {},
     "outputs": [
      {
       "output_type": "stream",
       "stream": "stdout",
       "text": [
        "[(510.0, array([ 49.67,  49.67,  49.67]))]\n",
        "\n",
        "\n",
        "[(510.0, array([ 49.67,  49.67,  49.67])),\n",
        " (520.0, array([ 69.59,  81.73,  69.59])),\n",
        " (530.0, array([ 81.73,  69.59,  81.73]))]\n",
        "\n",
        "\n",
        "[(510.0, array([ 49.67,  49.67,  49.67])),\n",
        " (520.0, array([ 69.59,  81.73,  69.59])),\n",
        " (530.0, array([ 81.73,  69.59,  81.73])),\n",
        " (540.0, array([ 49.67,  69.59,  81.73])),\n",
        " (550.0, array([ 81.73,  69.59,  49.67]))]\n",
        "\n",
        "\n",
        "[(510.0, array([ 49.67,  49.67,  49.67])),\n",
        " (520.0, array([ 49.67,  49.67,  49.67])),\n",
        " (530.0, array([ 49.67,  49.67,  49.67])),\n",
        " (540.0, array([ 49.67,  49.67,  49.67])),\n",
        " (550.0, array([ 49.67,  49.67,  49.67]))]\n",
        "\n",
        "\n",
        "[(510.0, array([ 81.73,  69.59,  49.67])),\n",
        " (520.0, array([ 49.67,  69.59,  81.73])),\n",
        " (530.0, array([ 81.73,  69.59,  49.67])),\n",
        " (540.0, array([ 49.67,  49.67,  49.67])),\n",
        " (550.0, array([ 49.67,  49.67,  49.67]))]\n"
       ]
      }
     ],
     "prompt_number": 61
    },
    {
     "cell_type": "code",
     "collapsed": false,
     "input": [
      "def TriSpectralPowerDistribution_get(self, wavelength, default=None):\n",
      "    wavelength = as_array(wavelength)\n",
      "\n",
      "    return np.squeeze(np.array([(self.x.get(x, default),\n",
      "                                 self.y.get(x, default),\n",
      "                                 self.z.get(x, default)) for x in wavelength]))\n",
      "\n",
      "\n",
      "TriSpectralPowerDistribution.get = TriSpectralPowerDistribution_get\n",
      "\n",
      "x_bar = {510: 49.67, 520: 69.59, 530: 81.73, 540: 88.19}\n",
      "y_bar = {510: 90.56, 520: 87.34, 530: 45.76, 540: 23.45}\n",
      "z_bar = {510: 12.43, 520: 23.15, 530: 67.98, 540: 90.28}\n",
      "data = {'x_bar': x_bar, 'y_bar': y_bar, 'z_bar': z_bar}\n",
      "mpg = {'x': 'x_bar', 'y': 'y_bar', 'z': 'z_bar'}\n",
      "tri_spd = TriSpectralPowerDistribution('Tri Spd', data, mpg)\n",
      "\n",
      "print(tri_spd.get(510))\n",
      "\n",
      "print('\\n')\n",
      "\n",
      "print(tri_spd.get((510, 520)))\n",
      "\n",
      "print('\\n')\n",
      "\n",
      "print(tri_spd.get((510, 520, 521)))"
     ],
     "language": "python",
     "metadata": {},
     "outputs": [
      {
       "output_type": "stream",
       "stream": "stdout",
       "text": [
        "[ 49.67  90.56  12.43]\n",
        "\n",
        "\n",
        "[[ 49.67  90.56  12.43]\n",
        " [ 69.59  87.34  23.15]]\n",
        "\n",
        "\n",
        "[[49.67 90.56 12.43]\n",
        " [69.59 87.34 23.15]\n",
        " [array([None], dtype=object) array([None], dtype=object)\n",
        "  array([None], dtype=object)]]\n"
       ]
      }
     ],
     "prompt_number": 62
    },
    {
     "cell_type": "heading",
     "level": 2,
     "metadata": {},
     "source": [
      "colour.colorimetry.transformations"
     ]
    },
    {
     "cell_type": "heading",
     "level": 3,
     "metadata": {},
     "source": [
      "colour.RGB_2_degree_cmfs_to_XYZ_2_degree_cmfs"
     ]
    },
    {
     "cell_type": "code",
     "collapsed": false,
     "input": [
      "from colour import PHOTOPIC_LEFS, RGB_CMFS\n",
      "from colour.colorimetry.transformations import *\n",
      "\n",
      "def RGB_2_degree_cmfs_to_XYZ_2_degree_cmfs_vectorise(wavelength):\n",
      "    wavelength = as_array(wavelength)\n",
      "\n",
      "    cmfs = RGB_CMFS.get('Wright & Guild 1931 2 Degree RGB CMFs')\n",
      "\n",
      "    try:\n",
      "        rgb_bar = cmfs[wavelength]\n",
      "    except KeyError as error:\n",
      "        raise KeyError(('\"{0} nm\" wavelength not available in \"{1}\" colour '\n",
      "                        'matching functions with \"{2}\" shape!').format(\n",
      "            error.args[0], cmfs.name, cmfs.shape))\n",
      "\n",
      "    rgb = rgb_bar / np.sum(rgb_bar)\n",
      "\n",
      "    M1 = np.array([[0.49000, 0.31000, 0.20000],\n",
      "                   [0.17697, 0.81240, 0.01063],\n",
      "                   [0.00000, 0.01000, 0.99000]])\n",
      "\n",
      "    M2 = np.array([[0.66697, 1.13240, 1.20063],\n",
      "                   [0.66697, 1.13240, 1.20063],\n",
      "                   [0.66697, 1.13240, 1.20063]])\n",
      "\n",
      "    xyz = np.einsum('...i,...ji', rgb, M1)\n",
      "    xyz /= np.einsum('...i,...ji', rgb, M2)\n",
      "\n",
      "    x, y, z = xyz[:, 0], xyz[:, 1], xyz[:, 2]\n",
      "\n",
      "    V = PHOTOPIC_LEFS.get('CIE 1924 Photopic Standard Observer').clone()\n",
      "    V.align(cmfs.shape)\n",
      "    L = V.get(wavelength)\n",
      "\n",
      "    x_bar = x / y * L\n",
      "    y_bar = L\n",
      "    z_bar = z / y * L\n",
      "\n",
      "    return as_stack((x_bar, y_bar, z_bar))\n",
      "\n",
      "\n",
      "print('Reference:')\n",
      "print(RGB_2_degree_cmfs_to_XYZ_2_degree_cmfs(700))\n",
      "\n",
      "print('\\n')\n",
      "\n",
      "print('1d array:')\n",
      "print(RGB_2_degree_cmfs_to_XYZ_2_degree_cmfs_vectorise(700))\n",
      "\n",
      "print('\\n')\n",
      "\n",
      "print('2d array:')\n",
      "print(RGB_2_degree_cmfs_to_XYZ_2_degree_cmfs_vectorise([700, 700, 700, 700, 700]))"
     ],
     "language": "python",
     "metadata": {},
     "outputs": [
      {
       "output_type": "stream",
       "stream": "stdout",
       "text": [
        "Reference:\n",
        "[ 0.01135774  0.004102    0.        ]\n",
        "\n",
        "\n",
        "1d array:\n",
        "[ 0.01135774  0.004102    0.        ]\n",
        "\n",
        "\n",
        "2d array:\n",
        "[[ 0.01135774  0.004102    0.        ]\n",
        " [ 0.01135774  0.004102    0.        ]\n",
        " [ 0.01135774  0.004102    0.        ]\n",
        " [ 0.01135774  0.004102    0.        ]\n",
        " [ 0.01135774  0.004102    0.        ]]"
       ]
      },
      {
       "output_type": "stream",
       "stream": "stdout",
       "text": [
        "\n"
       ]
      }
     ],
     "prompt_number": 63
    },
    {
     "cell_type": "heading",
     "level": 3,
     "metadata": {},
     "source": [
      "colour.RGB_10_degree_cmfs_to_XYZ_10_degree_cmfs"
     ]
    },
    {
     "cell_type": "code",
     "collapsed": false,
     "input": [
      "def RGB_10_degree_cmfs_to_XYZ_10_degree_cmfs_vectorise(wavelength):\n",
      "    wavelength = as_array(wavelength)\n",
      "\n",
      "    cmfs = RGB_CMFS.get('Stiles & Burch 1959 10 Degree RGB CMFs')\n",
      "\n",
      "    try:\n",
      "        rgb_bar = cmfs[wavelength]\n",
      "    except KeyError as error:\n",
      "        raise KeyError(('\"{0} nm\" wavelength not available in \"{1}\" colour '\n",
      "                        'matching functions with \"{2}\" shape!').format(\n",
      "            error.args[0], cmfs.name, cmfs.shape))\n",
      "\n",
      "    M = np.array([[0.341080, 0.189145, 0.387529],\n",
      "                  [0.139058, 0.837460, 0.073316],\n",
      "                  [0.000000, 0.039553, 2.026200]])\n",
      "\n",
      "    xyz_bar = np.squeeze(np.einsum('...i,...ji', rgb_bar, M))\n",
      "\n",
      "    return xyz_bar\n",
      "\n",
      "\n",
      "print('Reference:')\n",
      "print(RGB_10_degree_cmfs_to_XYZ_10_degree_cmfs(700))\n",
      "\n",
      "print('\\n')\n",
      "\n",
      "print('1d array:')\n",
      "print(RGB_10_degree_cmfs_to_XYZ_10_degree_cmfs_vectorise(700))\n",
      "\n",
      "print('\\n')\n",
      "\n",
      "print('2d array:')\n",
      "print(RGB_10_degree_cmfs_to_XYZ_10_degree_cmfs_vectorise([700, 700, 700, 700, 700]))"
     ],
     "language": "python",
     "metadata": {},
     "outputs": [
      {
       "output_type": "stream",
       "stream": "stdout",
       "text": [
        "Reference:\n",
        "[  9.64321500e-03   3.75263179e-03  -4.10788300e-06]\n",
        "\n",
        "\n",
        "1d array:\n",
        "[  9.64321500e-03   3.75263179e-03  -4.10788300e-06]\n",
        "\n",
        "\n",
        "2d array:\n",
        "[[  9.64321500e-03   3.75263179e-03  -4.10788300e-06]\n",
        " [  9.64321500e-03   3.75263179e-03  -4.10788300e-06]\n",
        " [  9.64321500e-03   3.75263179e-03  -4.10788300e-06]\n",
        " [  9.64321500e-03   3.75263179e-03  -4.10788300e-06]\n",
        " [  9.64321500e-03   3.75263179e-03  -4.10788300e-06]]\n"
       ]
      }
     ],
     "prompt_number": 64
    },
    {
     "cell_type": "heading",
     "level": 3,
     "metadata": {},
     "source": [
      "colour.RGB_10_degree_cmfs_to_LMS_10_degree_cmfs"
     ]
    },
    {
     "cell_type": "code",
     "collapsed": false,
     "input": [
      "def RGB_10_degree_cmfs_to_LMS_10_degree_cmfs_vectorise(wavelength):\n",
      "    wavelength = as_array(wavelength)\n",
      "\n",
      "    cmfs = RGB_CMFS.get('Stiles & Burch 1959 10 Degree RGB CMFs')\n",
      "\n",
      "    try:\n",
      "        rgb_bar = cmfs[wavelength]\n",
      "    except KeyError as error:\n",
      "        raise KeyError(('\"{0} nm\" wavelength not available in \"{1}\" colour '\n",
      "                        'matching functions with \"{2}\" shape!').format(\n",
      "            error.args[0], cmfs.name, cmfs.shape))\n",
      "\n",
      "    M = np.array([[0.1923252690, 0.749548882, 0.0675726702],\n",
      "                  [0.0192290085, 0.940908496, 0.113830196],\n",
      "                  [0.0000000000, 0.0105107859, 0.991427669]])\n",
      "\n",
      "    lms_bar = np.einsum('...i,...ji', rgb_bar, M)\n",
      "\n",
      "    lms_bar[wavelength > 505, 2] = 0\n",
      "\n",
      "    lms_bar = np.squeeze(lms_bar)\n",
      "\n",
      "    return lms_bar\n",
      "\n",
      "\n",
      "print('Reference:')\n",
      "print(RGB_10_degree_cmfs_to_LMS_10_degree_cmfs(700))\n",
      "\n",
      "print('\\n')\n",
      "\n",
      "print('1d array:')\n",
      "print(RGB_10_degree_cmfs_to_LMS_10_degree_cmfs_vectorise(700))\n",
      "\n",
      "print('\\n')\n",
      "\n",
      "print('2d array:')\n",
      "print(RGB_10_degree_cmfs_to_LMS_10_degree_cmfs_vectorise([700, 700, 700, 700, 700]))"
     ],
     "language": "python",
     "metadata": {},
     "outputs": [
      {
       "output_type": "stream",
       "stream": "stdout",
       "text": [
        "Reference:\n",
        "[ 0.00528607  0.00032528  0.        ]\n",
        "\n",
        "\n",
        "1d array:\n",
        "[ 0.00528607  0.00032528  0.        ]\n",
        "\n",
        "\n",
        "2d array:\n",
        "[[ 0.00528607  0.00032528  0.        ]\n",
        " [ 0.00528607  0.00032528  0.        ]\n",
        " [ 0.00528607  0.00032528  0.        ]\n",
        " [ 0.00528607  0.00032528  0.        ]\n",
        " [ 0.00528607  0.00032528  0.        ]]\n"
       ]
      }
     ],
     "prompt_number": 65
    },
    {
     "cell_type": "heading",
     "level": 3,
     "metadata": {},
     "source": [
      "colour.LMS_2_degree_cmfs_to_XYZ_2_degree_cmfs"
     ]
    },
    {
     "cell_type": "code",
     "collapsed": false,
     "input": [
      "from colour import LMS_CMFS\n",
      "\n",
      "def LMS_2_degree_cmfs_to_XYZ_2_degree_cmfs_vectorise(wavelength):\n",
      "    wavelength = as_array(wavelength)\n",
      "\n",
      "    cmfs = LMS_CMFS.get('Stockman & Sharpe 2 Degree Cone Fundamentals')\n",
      "    \n",
      "    try:\n",
      "        lms_bar = cmfs[wavelength]\n",
      "    except KeyError as error:\n",
      "        raise KeyError(('\"{0} nm\" wavelength not available in \"{1}\" colour '\n",
      "                        'matching functions with \"{2}\" shape!').format(\n",
      "            error.args[0], cmfs.name, cmfs.shape))\n",
      "\n",
      "    M = np.array([[1.94735469, -1.41445123, 0.36476327],\n",
      "                  [0.68990272, 0.34832189, 0.00000000],\n",
      "                  [0.00000000, 0.00000000, 1.93485343]])\n",
      "\n",
      "    xyz_bar = np.squeeze(np.einsum('...i,...ji', lms_bar, M))\n",
      "\n",
      "    return xyz_bar\n",
      "\n",
      "\n",
      "print('Reference:')\n",
      "print(LMS_2_degree_cmfs_to_XYZ_2_degree_cmfs(700))\n",
      "\n",
      "print('\\n')\n",
      "\n",
      "print('1d array:')\n",
      "print(LMS_2_degree_cmfs_to_XYZ_2_degree_cmfs_vectorise(700))\n",
      "\n",
      "print('\\n')\n",
      "\n",
      "print('2d array:')\n",
      "print(LMS_2_degree_cmfs_to_XYZ_2_degree_cmfs_vectorise([700, 700, 700, 700, 700]))"
     ],
     "language": "python",
     "metadata": {},
     "outputs": [
      {
       "output_type": "stream",
       "stream": "stdout",
       "text": [
        "Reference:\n",
        "[ 0.01096778  0.00419594  0.        ]\n",
        "\n",
        "\n",
        "1d array:\n",
        "[ 0.01096778  0.00419594  0.        ]\n",
        "\n",
        "\n",
        "2d array:\n",
        "[[ 0.01096778  0.00419594  0.        ]\n",
        " [ 0.01096778  0.00419594  0.        ]\n",
        " [ 0.01096778  0.00419594  0.        ]\n",
        " [ 0.01096778  0.00419594  0.        ]\n",
        " [ 0.01096778  0.00419594  0.        ]]\n"
       ]
      }
     ],
     "prompt_number": 66
    },
    {
     "cell_type": "heading",
     "level": 3,
     "metadata": {},
     "source": [
      "colour.LMS_10_degree_cmfs_to_XYZ_10_degree_cmfs"
     ]
    },
    {
     "cell_type": "code",
     "collapsed": false,
     "input": [
      "from colour import LMS_CMFS\n",
      "\n",
      "def LMS_10_degree_cmfs_to_XYZ_10_degree_cmfs_vectorise(wavelength):\n",
      "    wavelength = as_array(wavelength)\n",
      "\n",
      "    cmfs = LMS_CMFS.get('Stockman & Sharpe 10 Degree Cone Fundamentals')\n",
      "    \n",
      "    try:\n",
      "        lms_bar = cmfs[wavelength]\n",
      "    except KeyError as error:\n",
      "        raise KeyError(('\"{0} nm\" wavelength not available in \"{1}\" colour '\n",
      "                        'matching functions with \"{2}\" shape!').format(\n",
      "            error.args[0], cmfs.name, cmfs.shape))\n",
      "\n",
      "    M = np.array([[1.93986443, -1.34664359, 0.43044935],\n",
      "                  [0.69283932, 0.34967567, 0.00000000],\n",
      "                  [0.00000000, 0.00000000, 2.14687945]])\n",
      "\n",
      "    xyz_bar = np.squeeze(np.einsum('...i,...ji', lms_bar, M))\n",
      "\n",
      "    return xyz_bar\n",
      "\n",
      "\n",
      "print('Reference:')\n",
      "print(LMS_10_degree_cmfs_to_XYZ_10_degree_cmfs(700))\n",
      "\n",
      "print('\\n')\n",
      "\n",
      "print('1d array:')\n",
      "print(LMS_10_degree_cmfs_to_XYZ_10_degree_cmfs_vectorise(700))\n",
      "\n",
      "print('\\n')\n",
      "\n",
      "print('2d array:')\n",
      "print(LMS_10_degree_cmfs_to_XYZ_10_degree_cmfs_vectorise([700, 700, 700, 700, 700]))"
     ],
     "language": "python",
     "metadata": {},
     "outputs": [
      {
       "output_type": "stream",
       "stream": "stdout",
       "text": [
        "Reference:\n",
        "[ 0.00981623  0.00377614  0.        ]\n",
        "\n",
        "\n",
        "1d array:\n",
        "[ 0.00981623  0.00377614  0.        ]\n",
        "\n",
        "\n",
        "2d array:\n",
        "[[ 0.00981623  0.00377614  0.        ]\n",
        " [ 0.00981623  0.00377614  0.        ]\n",
        " [ 0.00981623  0.00377614  0.        ]\n",
        " [ 0.00981623  0.00377614  0.        ]\n",
        " [ 0.00981623  0.00377614  0.        ]]\n"
       ]
      }
     ],
     "prompt_number": 67
    },
    {
     "cell_type": "heading",
     "level": 2,
     "metadata": {},
     "source": [
      "colour.colorimetry.tristimulus"
     ]
    },
    {
     "cell_type": "heading",
     "level": 3,
     "metadata": {},
     "source": [
      "colour.wavelength_to_XYZ"
     ]
    },
    {
     "cell_type": "code",
     "collapsed": false,
     "input": [
      "from colour.colorimetry.tristimulus import *\n",
      "\n",
      "def wavelength_to_XYZ_2d(wavelengths):\n",
      "    for wavelength in wavelengths:\n",
      "        wavelength_to_XYZ(wavelength)\n",
      "        \n",
      "WAVELENGTHS = np.linspace(400, 700, 1000)"
     ],
     "language": "python",
     "metadata": {},
     "outputs": [],
     "prompt_number": 68
    },
    {
     "cell_type": "code",
     "collapsed": false,
     "input": [
      "%timeit wavelength_to_XYZ_2d(WAVELENGTHS)"
     ],
     "language": "python",
     "metadata": {},
     "outputs": [
      {
       "output_type": "stream",
       "stream": "stdout",
       "text": [
        "1 loops, best of 3: 2.95 ms per loop\n"
       ]
      }
     ],
     "prompt_number": 69
    },
    {
     "cell_type": "code",
     "collapsed": false,
     "input": [
      "from colour import STANDARD_OBSERVERS_CMFS, SpragueInterpolator, \\\n",
      "    SplineInterpolator\n",
      "\n",
      "\n",
      "def wavelength_to_XYZ_vectorise(wavelength,\n",
      "                                cmfs=STANDARD_OBSERVERS_CMFS.get(\n",
      "                                    'CIE 1931 2 Degree Standard Observer')):\n",
      "    wavelength = as_array(wavelength)\n",
      "\n",
      "    shape = cmfs.shape\n",
      "    if np.min(wavelength) < shape.start or np.max(wavelength) > shape.end:\n",
      "        raise ValueError(\n",
      "            '\"{0} nm\" wavelength is not in \"[{1}, {2}]\" domain!'.format(\n",
      "                wavelength, shape.start, shape.end))\n",
      "\n",
      "    if wavelength not in cmfs:\n",
      "        wavelengths, values, = cmfs.wavelengths, cmfs.values\n",
      "        interpolator = (SpragueInterpolator\n",
      "                        if cmfs.is_uniform() else\n",
      "                        SplineInterpolator)\n",
      "\n",
      "        interpolators = [interpolator(wavelengths, values[:, i])\n",
      "                         for i in range(values.shape[-1])]\n",
      "\n",
      "        return np.squeeze(np.swapaxes(np.array([interpolator(wavelength)\n",
      "                                                for interpolator in\n",
      "                                                interpolators]), 0, 1))\n",
      "    else:\n",
      "        return np.array(cmfs.get(wavelength))\n",
      "\n",
      "\n",
      "print('Reference:')\n",
      "print(wavelength_to_XYZ(480))\n",
      "\n",
      "print('\\n')\n",
      "\n",
      "print('1d array:')\n",
      "print(wavelength_to_XYZ_vectorise(480))\n",
      "\n",
      "print('\\n')\n",
      "\n",
      "print('2d array:')\n",
      "print(wavelength_to_XYZ_vectorise([480, 480, 480, 480, 480]))\n",
      "\n",
      "print('\\n')\n",
      "\n",
      "print('2d array:')\n",
      "print(wavelength_to_XYZ_vectorise([480, 480, 480, 480, 480.5]))"
     ],
     "language": "python",
     "metadata": {},
     "outputs": [
      {
       "output_type": "stream",
       "stream": "stdout",
       "text": [
        "Reference:\n",
        "[ 0.09564    0.13902    0.8129501]\n",
        "\n",
        "\n",
        "1d array:\n",
        "[ 0.09564    0.13902    0.8129501]\n",
        "\n",
        "\n",
        "2d array:\n",
        "[[ 0.09564    0.13902    0.8129501]\n",
        " [ 0.09564    0.13902    0.8129501]\n",
        " [ 0.09564    0.13902    0.8129501]\n",
        " [ 0.09564    0.13902    0.8129501]\n",
        " [ 0.09564    0.13902    0.8129501]]\n",
        "\n",
        "\n",
        "2d array:\n",
        "[[ 0.09564     0.13902     0.8129501 ]\n",
        " [ 0.09564     0.13902     0.8129501 ]\n",
        " [ 0.09564     0.13902     0.8129501 ]\n",
        " [ 0.09564     0.13902     0.8129501 ]\n",
        " [ 0.09142876  0.14183505  0.79157269]]"
       ]
      },
      {
       "output_type": "stream",
       "stream": "stdout",
       "text": [
        "\n"
       ]
      }
     ],
     "prompt_number": 70
    },
    {
     "cell_type": "code",
     "collapsed": false,
     "input": [
      "%timeit wavelength_to_XYZ_vectorise(WAVELENGTHS)"
     ],
     "language": "python",
     "metadata": {},
     "outputs": [
      {
       "output_type": "stream",
       "stream": "stdout",
       "text": [
        "1 loops, best of 3: 183 ms per loop\n"
       ]
      }
     ],
     "prompt_number": 71
    },
    {
     "cell_type": "heading",
     "level": 2,
     "metadata": {},
     "source": [
      "colour.colorimetry.whiteness"
     ]
    },
    {
     "cell_type": "heading",
     "level": 3,
     "metadata": {},
     "source": [
      "colour.whiteness_Berger1959"
     ]
    },
    {
     "cell_type": "code",
     "collapsed": false,
     "input": [
      "from colour.colorimetry.whiteness import *\n",
      "\n",
      "def whiteness_Berger1959_2d(XYZ, XYZ_0):\n",
      "    for i in range(len(XYZ)):\n",
      "        whiteness_Berger1959(XYZ[i], XYZ_0[i])"
     ],
     "language": "python",
     "metadata": {},
     "outputs": [],
     "prompt_number": 72
    },
    {
     "cell_type": "code",
     "collapsed": false,
     "input": [
      "%timeit whiteness_Berger1959_2d(DATA1, DATA2)"
     ],
     "language": "python",
     "metadata": {},
     "outputs": [
      {
       "output_type": "stream",
       "stream": "stdout",
       "text": [
        "1 loops, best of 3: 14.8 s per loop\n"
       ]
      }
     ],
     "prompt_number": 73
    },
    {
     "cell_type": "code",
     "collapsed": false,
     "input": [
      "def whiteness_Berger1959_vectorise(XYZ, XYZ_0):\n",
      "    XYZ = as_array(XYZ, (-1, 3))\n",
      "    XYZ_0 = np.resize(as_array(XYZ_0), XYZ.shape)\n",
      "\n",
      "    X, Y, Z = XYZ[:, 0], XYZ[:, 1], XYZ[:, 2]\n",
      "    X_0, Y_0, Z_0 = XYZ_0[:, 0], XYZ_0[:, 1], XYZ_0[:, 2]\n",
      "\n",
      "    WI = np.squeeze(0.333 * Y + 125 * (Z / Z_0) - 125 * (X / X_0))\n",
      "\n",
      "    return WI\n",
      "\n",
      "\n",
      "print('Reference:')\n",
      "XYZ = np.array([95., 100., 105.])\n",
      "XYZ_0 = np.array([94.80966767, 100., 107.30513595])\n",
      "print(whiteness_Berger1959(XYZ, XYZ_0))\n",
      "\n",
      "print('\\n')\n",
      "\n",
      "print('1d array:')\n",
      "print(whiteness_Berger1959_vectorise(XYZ, XYZ_0))\n",
      "\n",
      "print('\\n')\n",
      "\n",
      "print('2d array:')\n",
      "XYZ = np.tile(XYZ, (5, 1))\n",
      "XYZ_0 = np.tile(XYZ_0, (5, 1))\n",
      "print(whiteness_Berger1959_vectorise(XYZ, XYZ_0))"
     ],
     "language": "python",
     "metadata": {},
     "outputs": [
      {
       "output_type": "stream",
       "stream": "stdout",
       "text": [
        "Reference:\n",
        "30.3638017887\n",
        "\n",
        "\n",
        "1d array:\n",
        "30.3638017887\n",
        "\n",
        "\n",
        "2d array:\n",
        "[ 30.36380179  30.36380179  30.36380179  30.36380179  30.36380179]\n"
       ]
      }
     ],
     "prompt_number": 74
    },
    {
     "cell_type": "code",
     "collapsed": false,
     "input": [
      "%timeit whiteness_Berger1959_vectorise(DATA1, DATA2)"
     ],
     "language": "python",
     "metadata": {},
     "outputs": [
      {
       "output_type": "stream",
       "stream": "stdout",
       "text": [
        "10 loops, best of 3: 70.7 ms per loop\n"
       ]
      }
     ],
     "prompt_number": 75
    },
    {
     "cell_type": "heading",
     "level": 3,
     "metadata": {},
     "source": [
      "colour.whiteness_Taube1960"
     ]
    },
    {
     "cell_type": "code",
     "collapsed": false,
     "input": [
      "def whiteness_Taube1960_2d(XYZ, XYZ_0):\n",
      "    for i in range(len(XYZ)):\n",
      "        whiteness_Taube1960(XYZ[i], XYZ_0[i])"
     ],
     "language": "python",
     "metadata": {},
     "outputs": [],
     "prompt_number": 76
    },
    {
     "cell_type": "code",
     "collapsed": false,
     "input": [
      "%timeit whiteness_Taube1960_2d(DATA1, DATA2)"
     ],
     "language": "python",
     "metadata": {},
     "outputs": [
      {
       "output_type": "stream",
       "stream": "stdout",
       "text": [
        "1 loops, best of 3: 13.3 s per loop\n"
       ]
      }
     ],
     "prompt_number": 77
    },
    {
     "cell_type": "code",
     "collapsed": false,
     "input": [
      "def whiteness_Taube1960_vectorise(XYZ, XYZ_0):\n",
      "    XYZ = as_array(XYZ, (-1, 3))\n",
      "    XYZ_0 = np.resize(as_array(XYZ_0), XYZ.shape)\n",
      "    X, Y, Z = XYZ[:, 0], XYZ[:, 1], XYZ[:, 2]\n",
      "    X_0, Y_0, Z_0 = XYZ_0[:, 0], XYZ_0[:, 1], XYZ_0[:, 2]\n",
      "\n",
      "    WI = np.squeeze(400 * (Z / Z_0) - 3 * Y)\n",
      "\n",
      "    return WI\n",
      "\n",
      "\n",
      "print('Reference:')\n",
      "XYZ = np.array([95., 100., 105.])\n",
      "XYZ_0 = np.array([94.80966767, 100., 107.30513595])\n",
      "print(whiteness_Taube1960(XYZ, XYZ_0))\n",
      "\n",
      "print('\\n')\n",
      "\n",
      "print('1d array:')\n",
      "print(whiteness_Taube1960_vectorise(XYZ, XYZ_0))\n",
      "\n",
      "print('\\n')\n",
      "\n",
      "print('2d array:')\n",
      "XYZ = np.tile(XYZ, (5, 1))\n",
      "XYZ_0 = np.tile(XYZ_0, (5, 1))\n",
      "print(whiteness_Taube1960_vectorise(XYZ, XYZ_0))"
     ],
     "language": "python",
     "metadata": {},
     "outputs": [
      {
       "output_type": "stream",
       "stream": "stdout",
       "text": [
        "Reference:\n",
        "91.4071738334\n",
        "\n",
        "\n",
        "1d array:\n",
        "91.4071738334\n",
        "\n",
        "\n",
        "2d array:\n",
        "[ 91.40717383  91.40717383  91.40717383  91.40717383  91.40717383]\n"
       ]
      }
     ],
     "prompt_number": 78
    },
    {
     "cell_type": "code",
     "collapsed": false,
     "input": [
      "%timeit whiteness_Taube1960_vectorise(DATA1, DATA2)"
     ],
     "language": "python",
     "metadata": {},
     "outputs": [
      {
       "output_type": "stream",
       "stream": "stdout",
       "text": [
        "10 loops, best of 3: 51.1 ms per loop\n"
       ]
      }
     ],
     "prompt_number": 79
    },
    {
     "cell_type": "heading",
     "level": 3,
     "metadata": {},
     "source": [
      "colour.whiteness_Stensby1968"
     ]
    },
    {
     "cell_type": "code",
     "collapsed": false,
     "input": [
      "def whiteness_Stensby1968_2d(Lab):\n",
      "    for i in range(len(Lab)):\n",
      "        whiteness_Stensby1968(Lab[i])"
     ],
     "language": "python",
     "metadata": {},
     "outputs": [],
     "prompt_number": 80
    },
    {
     "cell_type": "code",
     "collapsed": false,
     "input": [
      "%timeit whiteness_Stensby1968_2d(DATA1)"
     ],
     "language": "python",
     "metadata": {},
     "outputs": [
      {
       "output_type": "stream",
       "stream": "stdout",
       "text": [
        "1 loops, best of 3: 9.05 s per loop\n"
       ]
      }
     ],
     "prompt_number": 81
    },
    {
     "cell_type": "code",
     "collapsed": false,
     "input": [
      "def whiteness_Stensby1968_vectorise(Lab):\n",
      "    Lab = as_array(Lab, (-1, 3))\n",
      "    L, a, b = Lab[:, 0], Lab[:, 1], Lab[:, 2]\n",
      "\n",
      "    WI = np.squeeze(L - 3 * b + 3 * a)\n",
      "\n",
      "    return WI\n",
      "\n",
      "\n",
      "print('Reference:')\n",
      "Lab = np.array([100., -2.46875131, -16.72486654])\n",
      "print(whiteness_Stensby1968(Lab))\n",
      "\n",
      "print('\\n')\n",
      "\n",
      "print('1d array:')\n",
      "print(whiteness_Stensby1968_vectorise(Lab))\n",
      "\n",
      "print('\\n')\n",
      "\n",
      "print('2d array:')\n",
      "Lab = np.tile(Lab, (5, 1))\n",
      "print(whiteness_Stensby1968_vectorise(Lab))"
     ],
     "language": "python",
     "metadata": {},
     "outputs": [
      {
       "output_type": "stream",
       "stream": "stdout",
       "text": [
        "Reference:\n",
        "142.76834569\n",
        "\n",
        "\n",
        "1d array:\n",
        "142.76834569\n",
        "\n",
        "\n",
        "2d array:\n",
        "[ 142.76834569  142.76834569  142.76834569  142.76834569  142.76834569]\n"
       ]
      }
     ],
     "prompt_number": 82
    },
    {
     "cell_type": "code",
     "collapsed": false,
     "input": [
      "%timeit whiteness_Stensby1968_vectorise(DATA1)"
     ],
     "language": "python",
     "metadata": {},
     "outputs": [
      {
       "output_type": "stream",
       "stream": "stdout",
       "text": [
        "10 loops, best of 3: 22.6 ms per loop\n"
       ]
      }
     ],
     "prompt_number": 83
    },
    {
     "cell_type": "heading",
     "level": 3,
     "metadata": {},
     "source": [
      "colour.whiteness_ASTM313"
     ]
    },
    {
     "cell_type": "code",
     "collapsed": false,
     "input": [
      "def whiteness_ASTM313_2d(XYZ):\n",
      "    for i in range(len(XYZ)):\n",
      "        whiteness_ASTM313(XYZ[i])"
     ],
     "language": "python",
     "metadata": {},
     "outputs": [],
     "prompt_number": 84
    },
    {
     "cell_type": "code",
     "collapsed": false,
     "input": [
      "%timeit whiteness_ASTM313_2d(DATA1)"
     ],
     "language": "python",
     "metadata": {},
     "outputs": [
      {
       "output_type": "stream",
       "stream": "stdout",
       "text": [
        "1 loops, best of 3: 7.58 s per loop\n"
       ]
      }
     ],
     "prompt_number": 85
    },
    {
     "cell_type": "code",
     "collapsed": false,
     "input": [
      "def whiteness_ASTM313_vectorise(XYZ):\n",
      "    XYZ = as_array(XYZ, (-1, 3))\n",
      "    X, Y, Z = XYZ[:, 0], XYZ[:, 1], XYZ[:, 2]\n",
      "\n",
      "    WI = np.squeeze(3.388 * Z - 3 * Y)\n",
      "\n",
      "    return WI\n",
      "\n",
      "\n",
      "print('Reference:')\n",
      "XYZ = np.array([95., 100., 105.])\n",
      "print(whiteness_ASTM313(XYZ))\n",
      "\n",
      "print('\\n')\n",
      "\n",
      "print('1d array:')\n",
      "print(whiteness_ASTM313_vectorise(XYZ))\n",
      "\n",
      "print('\\n')\n",
      "\n",
      "print('2d array:')\n",
      "XYZ = np.tile(XYZ, (5, 1))\n",
      "print(whiteness_ASTM313_vectorise(XYZ))"
     ],
     "language": "python",
     "metadata": {},
     "outputs": [
      {
       "output_type": "stream",
       "stream": "stdout",
       "text": [
        "Reference:\n",
        "55.74\n",
        "\n",
        "\n",
        "1d array:\n",
        "55.74\n",
        "\n",
        "\n",
        "2d array:\n",
        "[ 55.74  55.74  55.74  55.74  55.74]\n"
       ]
      }
     ],
     "prompt_number": 86
    },
    {
     "cell_type": "code",
     "collapsed": false,
     "input": [
      "%timeit whiteness_ASTM313_vectorise(DATA1)"
     ],
     "language": "python",
     "metadata": {},
     "outputs": [
      {
       "output_type": "stream",
       "stream": "stdout",
       "text": [
        "100 loops, best of 3: 14.6 ms per loop\n"
       ]
      }
     ],
     "prompt_number": 87
    },
    {
     "cell_type": "heading",
     "level": 3,
     "metadata": {},
     "source": [
      "colour.whiteness_Ganz1979"
     ]
    },
    {
     "cell_type": "code",
     "collapsed": false,
     "input": [
      "def whiteness_Ganz1979_2d(xy, Y):\n",
      "    for i in range(len(xy)):\n",
      "        whiteness_Ganz1979(xy[i], Y[i])"
     ],
     "language": "python",
     "metadata": {},
     "outputs": [],
     "prompt_number": 88
    },
    {
     "cell_type": "code",
     "collapsed": false,
     "input": [
      "%timeit whiteness_Ganz1979_2d(DATA1[:,0:2], DATA2[:,0])"
     ],
     "language": "python",
     "metadata": {},
     "outputs": [
      {
       "output_type": "stream",
       "stream": "stdout",
       "text": [
        "1 loops, best of 3: 9.85 s per loop\n"
       ]
      }
     ],
     "prompt_number": 89
    },
    {
     "cell_type": "code",
     "collapsed": false,
     "input": [
      "def whiteness_Ganz1979_vectorise(xy, Y):\n",
      "    xy = as_array(xy, (-1, 2))\n",
      "    x, y = xy[:, 0], xy[:, 1]\n",
      "\n",
      "    Y = np.resize(as_array(Y), x.shape)\n",
      "\n",
      "    W = Y - 1868.322 * x - 3695.690 * y + 1809.441\n",
      "    T = -1001.223 * x + 748.366 * y + 68.261\n",
      "\n",
      "    WT = as_stack((W, T))\n",
      "\n",
      "    return WT\n",
      "\n",
      "\n",
      "print('Reference:')\n",
      "xy = (0.3167, 0.3334)\n",
      "Y = 100.\n",
      "print(whiteness_Ganz1979(xy, Y))\n",
      "\n",
      "print('\\n')\n",
      "\n",
      "print('1d array:')\n",
      "print(whiteness_Ganz1979_vectorise(xy, Y))\n",
      "\n",
      "print('\\n')\n",
      "\n",
      "print('2d array:')\n",
      "xy = np.tile(xy, (5, 1))\n",
      "Y = np.tile(Y, (5, 1))\n",
      "print(whiteness_Ganz1979_vectorise(xy, Y))"
     ],
     "language": "python",
     "metadata": {},
     "outputs": [
      {
       "output_type": "stream",
       "stream": "stdout",
       "text": [
        "Reference:\n",
        "(85.600376600000118, 0.67890029999998092)\n",
        "\n",
        "\n",
        "1d array:\n",
        "[ 85.6003766   0.6789003]\n",
        "\n",
        "\n",
        "2d array:\n",
        "[[ 85.6003766   0.6789003]\n",
        " [ 85.6003766   0.6789003]\n",
        " [ 85.6003766   0.6789003]\n",
        " [ 85.6003766   0.6789003]\n",
        " [ 85.6003766   0.6789003]]\n"
       ]
      }
     ],
     "prompt_number": 90
    },
    {
     "cell_type": "code",
     "collapsed": false,
     "input": [
      "%timeit whiteness_Ganz1979_vectorise(DATA1[:,0:2], DATA2[:,0])"
     ],
     "language": "python",
     "metadata": {},
     "outputs": [
      {
       "output_type": "stream",
       "stream": "stdout",
       "text": [
        "10 loops, best of 3: 77.6 ms per loop\n"
       ]
      }
     ],
     "prompt_number": 91
    },
    {
     "cell_type": "heading",
     "level": 3,
     "metadata": {},
     "source": [
      "colour.whiteness_CIE2004"
     ]
    },
    {
     "cell_type": "code",
     "collapsed": false,
     "input": [
      "def whiteness_CIE2004_2d(xy, Y, xy_n):\n",
      "    for i in range(len(xy)):\n",
      "        whiteness_CIE2004(xy[i], Y[i], xy_n[i])"
     ],
     "language": "python",
     "metadata": {},
     "outputs": [],
     "prompt_number": 92
    },
    {
     "cell_type": "code",
     "collapsed": false,
     "input": [
      "%timeit whiteness_CIE2004_2d(DATA1[:,0:2], DATA2[:,0], DATA1[:,0:2])"
     ],
     "language": "python",
     "metadata": {},
     "outputs": [
      {
       "output_type": "stream",
       "stream": "stdout",
       "text": [
        "1 loops, best of 3: 19 s per loop\n"
       ]
      }
     ],
     "prompt_number": 93
    },
    {
     "cell_type": "code",
     "collapsed": false,
     "input": [
      "def whiteness_CIE2004_vectorise(xy,\n",
      "                              Y,\n",
      "                              xy_n,\n",
      "                              observer='CIE 1931 2 Degree Standard Observer'):\n",
      "    xy = as_array(xy, (-1, 2))\n",
      "    x, y = xy[:, 0], xy[:, 1]\n",
      "\n",
      "    Y = np.resize(as_array(Y), x.shape)\n",
      "\n",
      "    xy_n = as_array(xy_n, (-1, 2))\n",
      "    xy_n = np.resize(as_array(xy_n), xy.shape)\n",
      "    x_n, y_n = xy_n[:, 0], xy_n[:, 1]\n",
      "\n",
      "    W = Y + 800 * (x_n - x) + 1700 * (y_n - y)\n",
      "    T = (1000 if '1931' in observer else 900) * (x_n - x) - 650 * (y_n - y)\n",
      "\n",
      "    WT = as_stack((W, T))\n",
      "\n",
      "    return WT\n",
      "\n",
      "\n",
      "print('Reference:')\n",
      "xy = (0.3167, 0.3334)\n",
      "Y = 100.\n",
      "xy_n = (0.3139, 0.3311)\n",
      "print(whiteness_CIE2004(xy, Y, xy_n))\n",
      "\n",
      "print('\\n')\n",
      "\n",
      "print('1d array:')\n",
      "print(whiteness_CIE2004_vectorise(xy, Y, xy_n))\n",
      "\n",
      "print('\\n')\n",
      "\n",
      "print('2d array:')\n",
      "xy = np.tile(xy, (5, 1))\n",
      "Y = np.tile(Y, (5, 1))\n",
      "xy_n = np.tile(xy_n, (5, 1))\n",
      "print(whiteness_CIE2004_vectorise(xy, Y, xy_n))"
     ],
     "language": "python",
     "metadata": {},
     "outputs": [
      {
       "output_type": "stream",
       "stream": "stdout",
       "text": [
        "Reference:\n",
        "(93.85000000000008, -1.3049999999999895)\n",
        "\n",
        "\n",
        "1d array:\n",
        "[ 93.85   -1.305]\n",
        "\n",
        "\n",
        "2d array:\n",
        "[[ 93.85   -1.305]\n",
        " [ 93.85   -1.305]\n",
        " [ 93.85   -1.305]\n",
        " [ 93.85   -1.305]\n",
        " [ 93.85   -1.305]]\n"
       ]
      }
     ],
     "prompt_number": 94
    },
    {
     "cell_type": "code",
     "collapsed": false,
     "input": [
      "%timeit whiteness_CIE2004_vectorise(DATA1[:,0:2], DATA2[:,0], DATA1[:,0:2])"
     ],
     "language": "python",
     "metadata": {},
     "outputs": [
      {
       "output_type": "stream",
       "stream": "stdout",
       "text": [
        "10 loops, best of 3: 133 ms per loop\n"
       ]
      }
     ],
     "prompt_number": 95
    },
    {
     "cell_type": "heading",
     "level": 2,
     "metadata": {},
     "source": [
      "colour.difference.delta_e"
     ]
    },
    {
     "cell_type": "heading",
     "level": 3,
     "metadata": {},
     "source": [
      "colour.delta_E_CIE1976"
     ]
    },
    {
     "cell_type": "code",
     "collapsed": false,
     "input": [
      "from colour.difference.delta_e import *\n",
      "\n",
      "def delta_E_CIE1976_2d(Lab1, Lab2):\n",
      "    for i in range(len(Lab1)):\n",
      "        delta_E_CIE1976(Lab1[i], Lab2[i])"
     ],
     "language": "python",
     "metadata": {},
     "outputs": [],
     "prompt_number": 96
    },
    {
     "cell_type": "code",
     "collapsed": false,
     "input": [
      "%timeit delta_E_CIE1976_2d(DATA1, DATA2)"
     ],
     "language": "python",
     "metadata": {},
     "outputs": [
      {
       "output_type": "stream",
       "stream": "stdout",
       "text": [
        "1 loops, best of 3: 20.1 s per loop\n"
       ]
      }
     ],
     "prompt_number": 97
    },
    {
     "cell_type": "code",
     "collapsed": false,
     "input": [
      "def delta_E_CIE1976_vectorise(Lab1, Lab2, **kwargs):\n",
      "    Lab1 = as_array(Lab1, (-1, 3))\n",
      "    Lab2 = as_array(Lab2, (-1, 3))\n",
      "\n",
      "    return as_numeric(np.linalg.norm(np.array(Lab1) - np.array(Lab2), axis=1))\n",
      "\n",
      "\n",
      "print('Reference:')\n",
      "Lab1 = np.array([100, 21.57210357, 272.2281935])\n",
      "Lab2 = np.array([100, 426.67945353, 72.39590835])\n",
      "print(delta_E_CIE1976(Lab1, Lab2))\n",
      "\n",
      "print('\\n')\n",
      "\n",
      "print('1d array:')\n",
      "print(delta_E_CIE1976_vectorise(Lab1, Lab2))\n",
      "\n",
      "print('\\n')\n",
      "\n",
      "print('2d array:')\n",
      "Lab1 = np.tile(Lab1, (5, 1))\n",
      "Lab2 = np.tile(Lab2, (5, 1))\n",
      "print(delta_E_CIE1976_vectorise(Lab1, Lab2))"
     ],
     "language": "python",
     "metadata": {},
     "outputs": [
      {
       "output_type": "stream",
       "stream": "stdout",
       "text": [
        "Reference:\n",
        "451.713301974\n",
        "\n",
        "\n",
        "1d array:\n",
        "451.713301974\n",
        "\n",
        "\n",
        "2d array:\n",
        "[ 451.71330197  451.71330197  451.71330197  451.71330197  451.71330197]\n"
       ]
      }
     ],
     "prompt_number": 98
    },
    {
     "cell_type": "code",
     "collapsed": false,
     "input": [
      "%timeit delta_E_CIE1976_vectorise(DATA1, DATA2)"
     ],
     "language": "python",
     "metadata": {},
     "outputs": [
      {
       "output_type": "stream",
       "stream": "stdout",
       "text": [
        "10 loops, best of 3: 127 ms per loop\n"
       ]
      }
     ],
     "prompt_number": 99
    },
    {
     "cell_type": "heading",
     "level": 3,
     "metadata": {},
     "source": [
      "colour.delta_E_CIE1994"
     ]
    },
    {
     "cell_type": "code",
     "collapsed": false,
     "input": [
      "def delta_E_CIE1994_2d(Lab1, Lab2):\n",
      "    for i in range(len(Lab1)):\n",
      "        delta_E_CIE1994(Lab1[i], Lab2[i])"
     ],
     "language": "python",
     "metadata": {},
     "outputs": [],
     "prompt_number": 100
    },
    {
     "cell_type": "code",
     "collapsed": false,
     "input": [
      "%timeit delta_E_CIE1994_2d(DATA1, DATA2)"
     ],
     "language": "python",
     "metadata": {},
     "outputs": [
      {
       "output_type": "stream",
       "stream": "stdout",
       "text": [
        "1 loops, best of 3: 53.8 s per loop\n"
       ]
      }
     ],
     "prompt_number": 101
    },
    {
     "cell_type": "code",
     "collapsed": false,
     "input": [
      "def delta_E_CIE1994_vectorise(Lab1, Lab2, textiles=True, **kwargs):\n",
      "\n",
      "    k1 = 0.048 if textiles else 0.045\n",
      "    k2 = 0.014 if textiles else 0.015\n",
      "    kL = 2 if textiles else 1\n",
      "    kC = 1\n",
      "    kH = 1\n",
      "\n",
      "    Lab1 = as_array(Lab1, (-1, 3))\n",
      "    Lab2 = as_array(Lab2, (-1, 3))\n",
      "    \n",
      "    L1, a1, b1 = Lab1[:, 0], Lab1[:, 1], Lab1[:, 2]\n",
      "    L2, a2, b2 = Lab2[:, 0], Lab2[:, 1], Lab2[:, 2]\n",
      "\n",
      "    C1 = np.sqrt(a1 ** 2 + b1 ** 2)\n",
      "    C2 = np.sqrt(a2 ** 2 + b2 ** 2)\n",
      "\n",
      "    sL = 1\n",
      "    sC = 1 + k1 * C1\n",
      "    sH = 1 + k2 * C1\n",
      "\n",
      "    delta_L = L1 - L2\n",
      "    delta_C = C1 - C2\n",
      "    delta_A = a1 - a2\n",
      "    delta_B = b1 - b2\n",
      "\n",
      "    delta_H = np.sqrt(delta_A ** 2 + delta_B ** 2 - delta_C ** 2)\n",
      "\n",
      "    L = (delta_L / (kL * sL)) ** 2\n",
      "    C = (delta_C / (kC * sC)) ** 2\n",
      "    H = (delta_H / (kH * sH)) ** 2\n",
      "\n",
      "    return as_numeric(np.sqrt(L + C + H))\n",
      "\n",
      "\n",
      "print('Reference:')\n",
      "Lab1 = np.array([100, 21.57210357, 272.2281935])\n",
      "Lab2 = np.array([100, 426.67945353, 72.39590835])\n",
      "print(delta_E_CIE1994(Lab1, Lab2))\n",
      "\n",
      "print('\\n')\n",
      "\n",
      "print('1d array:')\n",
      "print(delta_E_CIE1994_vectorise(Lab1, Lab2))\n",
      "\n",
      "print('\\n')\n",
      "\n",
      "print('2d array:')\n",
      "Lab1 = np.tile(Lab1, (5, 1))\n",
      "Lab2 = np.tile(Lab2, (5, 1))\n",
      "print(delta_E_CIE1994_vectorise(Lab1, Lab2))"
     ],
     "language": "python",
     "metadata": {},
     "outputs": [
      {
       "output_type": "stream",
       "stream": "stdout",
       "text": [
        "Reference:\n",
        "88.3355530575\n",
        "\n",
        "\n",
        "1d array:\n",
        "88.3355530575\n",
        "\n",
        "\n",
        "2d array:\n",
        "[ 88.33555306  88.33555306  88.33555306  88.33555306  88.33555306]\n"
       ]
      }
     ],
     "prompt_number": 102
    },
    {
     "cell_type": "code",
     "collapsed": false,
     "input": [
      "%timeit delta_E_CIE1994_vectorise(DATA1, DATA2)"
     ],
     "language": "python",
     "metadata": {},
     "outputs": [
      {
       "output_type": "stream",
       "stream": "stdout",
       "text": [
        "1 loops, best of 3: 207 ms per loop\n"
       ]
      }
     ],
     "prompt_number": 103
    },
    {
     "cell_type": "heading",
     "level": 3,
     "metadata": {},
     "source": [
      "colour.delta_E_CIE2000"
     ]
    },
    {
     "cell_type": "code",
     "collapsed": false,
     "input": [
      "def delta_E_CIE2000_2d(Lab1, Lab2):\n",
      "    for i in range(len(Lab1)):\n",
      "        delta_E_CIE2000(Lab1[i], Lab2[i])"
     ],
     "language": "python",
     "metadata": {},
     "outputs": [],
     "prompt_number": 104
    },
    {
     "cell_type": "code",
     "collapsed": false,
     "input": [
      "%timeit delta_E_CIE2000_2d(DATA1, DATA2)"
     ],
     "language": "python",
     "metadata": {},
     "outputs": [
      {
       "output_type": "stream",
       "stream": "stdout",
       "text": [
        "1 loops, best of 3: 3min 9s per loop\n"
       ]
      }
     ],
     "prompt_number": 105
    },
    {
     "cell_type": "code",
     "collapsed": false,
     "input": [
      "def delta_E_CIE2000_vectorise(Lab1, Lab2, **kwargs):\n",
      "    kL = 1\n",
      "    kC = 1\n",
      "    kH = 1\n",
      "\n",
      "    Lab1 = as_array(Lab1, (-1, 3))\n",
      "    Lab2 = as_array(Lab2, (-1, 3))\n",
      "\n",
      "    L1, a1, b1 = Lab1[:, 0], Lab1[:, 1], Lab1[:, 2]\n",
      "    L2, a2, b2 = Lab2[:, 0], Lab2[:, 1], Lab2[:, 2]\n",
      "\n",
      "    l_bar_prime = 0.5 * (L1 + L2)\n",
      "\n",
      "    c1 = np.sqrt(a1 * a1 + b1 * b1)\n",
      "    c2 = np.sqrt(a2 * a2 + b2 * b2)\n",
      "\n",
      "    c_bar = 0.5 * (c1 + c2)\n",
      "    c_bar7 = np.power(c_bar, 7)\n",
      "\n",
      "    g = 0.5 * (1 - np.sqrt(c_bar7 / (c_bar7 + 25 ** 7)))\n",
      "\n",
      "    a1_prime = a1 * (1 + g)\n",
      "    a2_prime = a2 * (1 + g)\n",
      "    c1_prime = np.sqrt(a1_prime * a1_prime + b1 * b1)\n",
      "    c2_prime = np.sqrt(a2_prime * a2_prime + b2 * b2)\n",
      "    c_bar_prime = 0.5 * (c1_prime + c2_prime)\n",
      "\n",
      "    h1_prime = np.rad2deg(np.arctan2(b1, a1_prime))\n",
      "    h1_prime[h1_prime < 0.0] += 360\n",
      "\n",
      "    h2_prime = np.rad2deg(np.arctan2(b2, a2_prime))\n",
      "    h2_prime[h2_prime < 0.0] += 360\n",
      "    \n",
      "    h_bar_prime = np.where(np.fabs(h1_prime - h2_prime) <= 180,\n",
      "                           0.5 * (h1_prime + h2_prime),\n",
      "                           (0.5 * (h1_prime + h2_prime + 360)))\n",
      "\n",
      "    t = (1 - 0.17 * np.cos(np.deg2rad(h_bar_prime - 30)) +\n",
      "         0.24 * np.cos(np.deg2rad(2 * h_bar_prime)) +\n",
      "         0.32 * np.cos(np.deg2rad(3 * h_bar_prime + 6)) -\n",
      "         0.20 * np.cos(np.deg2rad(4 * h_bar_prime - 63)))\n",
      "\n",
      "    h = h2_prime - h1_prime\n",
      "    delta_h_prime = np.where(h2_prime <= h1_prime, h - 360, h + 360)\n",
      "    delta_h_prime = np.where(np.fabs(h) <= 180, h, delta_h_prime)\n",
      "    \n",
      "    delta_L_prime = L2 - L1\n",
      "    delta_C_prime = c2_prime - c1_prime\n",
      "    delta_H_prime = (2 * np.sqrt(c1_prime * c2_prime) *\n",
      "                     np.sin(np.deg2rad(0.5 * delta_h_prime)))\n",
      "\n",
      "    sL = 1 + ((0.015 * (l_bar_prime - 50) * (l_bar_prime - 50)) /\n",
      "              np.sqrt(20 + (l_bar_prime - 50) * (l_bar_prime - 50)))\n",
      "    sC = 1 + 0.045 * c_bar_prime\n",
      "    sH = 1 + 0.015 * c_bar_prime * t\n",
      "\n",
      "    delta_theta = (30 * np.exp(-((h_bar_prime - 275) / 25) *\n",
      "                               ((h_bar_prime - 275) / 25)))\n",
      "\n",
      "    c_bar_prime7 = c_bar_prime ** 7\n",
      "\n",
      "    rC = np.sqrt(c_bar_prime7 / (c_bar_prime7 + 25 ** 7))\n",
      "    rT = -2 * rC * np.sin(np.deg2rad(2 * delta_theta))\n",
      "\n",
      "    return as_numeric(np.sqrt(\n",
      "        (delta_L_prime / (kL * sL)) * (delta_L_prime / (kL * sL)) +\n",
      "        (delta_C_prime / (kC * sC)) * (delta_C_prime / (kC * sC)) +\n",
      "        (delta_H_prime / (kH * sH)) * (delta_H_prime / (kH * sH)) +\n",
      "        (delta_C_prime / (kC * sC)) * (delta_H_prime / (kH * sH)) * rT))\n",
      "\n",
      "\n",
      "print('Reference:')\n",
      "Lab1 = np.array([100, 21.57210357, 272.2281935])\n",
      "Lab2 = np.array([100, 426.67945353, 72.39590835])\n",
      "print(delta_E_CIE2000(Lab1, Lab2))\n",
      "\n",
      "print('\\n')\n",
      "\n",
      "print('1d array:')\n",
      "print(delta_E_CIE2000_vectorise(Lab1, Lab2))\n",
      "\n",
      "print('\\n')\n",
      "\n",
      "print('2d array:')\n",
      "Lab1 = np.tile(Lab1, (5, 1))\n",
      "Lab2 = np.tile(Lab2, (5, 1))\n",
      "print(delta_E_CIE2000_vectorise(Lab1, Lab2))"
     ],
     "language": "python",
     "metadata": {},
     "outputs": [
      {
       "output_type": "stream",
       "stream": "stdout",
       "text": [
        "Reference:\n",
        "94.0356490267\n",
        "\n",
        "\n",
        "1d array:\n",
        "94.0356490267\n",
        "\n",
        "\n",
        "2d array:\n",
        "[ 94.03564903  94.03564903  94.03564903  94.03564903  94.03564903]\n"
       ]
      }
     ],
     "prompt_number": 106
    },
    {
     "cell_type": "code",
     "collapsed": false,
     "input": [
      "%timeit delta_E_CIE2000_vectorise(DATA1, DATA2)"
     ],
     "language": "python",
     "metadata": {},
     "outputs": [
      {
       "output_type": "stream",
       "stream": "stdout",
       "text": [
        "1 loops, best of 3: 1.72 s per loop\n"
       ]
      }
     ],
     "prompt_number": 107
    },
    {
     "cell_type": "heading",
     "level": 3,
     "metadata": {},
     "source": [
      "colour.delta_E_CMC"
     ]
    },
    {
     "cell_type": "code",
     "collapsed": false,
     "input": [
      "def delta_E_CMC_2d(Lab1, Lab2):\n",
      "    for i in range(len(Lab1)):\n",
      "        delta_E_CMC(Lab1[i], Lab2[i])"
     ],
     "language": "python",
     "metadata": {},
     "outputs": [],
     "prompt_number": 108
    },
    {
     "cell_type": "code",
     "collapsed": false,
     "input": [
      "%timeit delta_E_CMC_2d(DATA1, DATA2)"
     ],
     "language": "python",
     "metadata": {},
     "outputs": [
      {
       "output_type": "stream",
       "stream": "stdout",
       "text": [
        "1 loops, best of 3: 1min 13s per loop\n"
       ]
      }
     ],
     "prompt_number": 109
    },
    {
     "cell_type": "code",
     "collapsed": false,
     "input": [
      "def delta_E_CMC_vectorise(Lab1, Lab2, l=2, c=1):\n",
      "    Lab1 = as_array(Lab1, (-1, 3))\n",
      "    Lab2 = as_array(Lab2, (-1, 3))\n",
      "\n",
      "    L1, a1, b1 = Lab1[:, 0], Lab1[:, 1], Lab1[:, 2]\n",
      "    L2, a2, b2 = Lab2[:, 0], Lab2[:, 1], Lab2[:, 2]\n",
      "\n",
      "    c1 = np.sqrt(a1 * a1 + b1 * b1)\n",
      "    c2 = np.sqrt(a2 * a2 + b2 * b2)\n",
      "    sl = np.where(L1 < 16, 0.511, (0.040975 * L1) / (1 + 0.01765 * L1))\n",
      "    sc = 0.0638 * c1 / (1 + 0.0131 * c1) + 0.638\n",
      "    h1 = np.where(c1 < 0.000001, 0, np.rad2deg(np.arctan2(b1, a1)))\n",
      "\n",
      "    while np.any(h1 < 0):\n",
      "        h1[h1 < 0] += 360\n",
      "\n",
      "    while np.any(h1 >= 360):\n",
      "        h1[h1 >= 360] -= 360\n",
      "\n",
      "    t = np.where(np.logical_and(h1 >= 164, h1 <= 345),\n",
      "                 0.56 + np.fabs(0.2 * np.cos(np.deg2rad(h1 + 168))),\n",
      "                 0.36 + np.fabs(0.4 * np.cos(np.deg2rad(h1 + 35))))\n",
      "\n",
      "    c4 = c1 * c1 * c1 * c1\n",
      "    f = np.sqrt(c4 / (c4 + 1900))\n",
      "    sh = sc * (f * t + 1 - f)\n",
      "\n",
      "    delta_L = L1 - L2\n",
      "    delta_C = c1 - c2\n",
      "    delta_A = a1 - a2\n",
      "    delta_B = b1 - b2\n",
      "    delta_H2 = delta_A * delta_A + delta_B * delta_B - delta_C * delta_C\n",
      "\n",
      "    v1 = delta_L / (l * sl)\n",
      "    v2 = delta_C / (c * sc)\n",
      "    v3 = sh\n",
      "\n",
      "    return as_numeric(np.sqrt(v1 * v1 + v2 * v2 + (delta_H2 / (v3 * v3))))\n",
      "\n",
      "\n",
      "print('Reference:')\n",
      "Lab1 = np.array([100, 21.57210357, 272.2281935])\n",
      "Lab2 = np.array([100, 426.67945353, 72.39590835])\n",
      "print(delta_E_CMC(Lab1, Lab2))\n",
      "\n",
      "print('\\n')\n",
      "\n",
      "print('1d array:')\n",
      "print(delta_E_CMC_vectorise(Lab1, Lab2))\n",
      "\n",
      "print('\\n')\n",
      "\n",
      "print('2d array:')\n",
      "Lab1 = np.tile(Lab1, (5, 1))\n",
      "Lab2 = np.tile(Lab2, (5, 1))\n",
      "print(delta_E_CMC_vectorise(Lab1, Lab2))"
     ],
     "language": "python",
     "metadata": {},
     "outputs": [
      {
       "output_type": "stream",
       "stream": "stdout",
       "text": [
        "Reference:\n",
        "172.704771287\n",
        "\n",
        "\n",
        "1d array:\n",
        "172.704771287\n",
        "\n",
        "\n",
        "2d array:\n",
        "[ 172.70477129  172.70477129  172.70477129  172.70477129  172.70477129]\n"
       ]
      }
     ],
     "prompt_number": 110
    },
    {
     "cell_type": "code",
     "collapsed": false,
     "input": [
      "%timeit delta_E_CMC_vectorise(DATA1, DATA2)"
     ],
     "language": "python",
     "metadata": {},
     "outputs": [
      {
       "output_type": "stream",
       "stream": "stdout",
       "text": [
        "1 loops, best of 3: 686 ms per loop\n"
       ]
      }
     ],
     "prompt_number": 111
    },
    {
     "cell_type": "heading",
     "level": 2,
     "metadata": {},
     "source": [
      "colour.models.cie_xyy"
     ]
    },
    {
     "cell_type": "heading",
     "level": 3,
     "metadata": {},
     "source": [
      "colour.XYZ_to_xyY"
     ]
    },
    {
     "cell_type": "code",
     "collapsed": false,
     "input": [
      "from colour.models.cie_xyy import *\n",
      "\n",
      "\n",
      "def XYZ_to_xyY_2d(XYZ):\n",
      "    for i in range(len(XYZ)):\n",
      "        XYZ_to_xyY(XYZ[i])"
     ],
     "language": "python",
     "metadata": {},
     "outputs": [],
     "prompt_number": 112
    },
    {
     "cell_type": "code",
     "collapsed": false,
     "input": [
      "%timeit XYZ_to_xyY_2d(DATA1)"
     ],
     "language": "python",
     "metadata": {},
     "outputs": [
      {
       "output_type": "stream",
       "stream": "stdout",
       "text": [
        "1 loops, best of 3: 12.5 s per loop\n"
       ]
      }
     ],
     "prompt_number": 113
    },
    {
     "cell_type": "code",
     "collapsed": false,
     "input": [
      "from colour import ILLUMINANTS\n",
      "\n",
      "\n",
      "@handle_floating_point_errors(divide='ignore', invalid='ignore')\n",
      "def XYZ_to_xyY_vectorise(XYZ,\n",
      "                         illuminant=ILLUMINANTS.get(\n",
      "                             'CIE 1931 2 Degree Standard Observer').get(\n",
      "                             'D50')):\n",
      "    XYZ = as_array(XYZ, (-1, 3))\n",
      "    illuminant = np.resize(as_array(illuminant, (-1, 2)), XYZ.shape)\n",
      "\n",
      "    X, Y, Z = XYZ[:, 0], XYZ[:, 1], XYZ[:, 2]\n",
      "\n",
      "    xyY = np.squeeze(\n",
      "        np.where(XYZ == 0,\n",
      "                 np.dstack((illuminant[:, 0], illuminant[:, 1], Y)),\n",
      "                 np.dstack((X / (X + Y + Z), Y / (X + Y + Z), Y))))\n",
      "\n",
      "    return xyY\n",
      "\n",
      "\n",
      "print('Reference:')\n",
      "XYZ = np.array([0.07049534, 0.1008, 0.09558313])\n",
      "print(XYZ_to_xyY(XYZ))\n",
      "\n",
      "print('\\n')\n",
      "\n",
      "print('1d array:')\n",
      "print(XYZ_to_xyY_vectorise(XYZ))\n",
      "\n",
      "print('\\n')\n",
      "\n",
      "print('2d array:')\n",
      "XYZ = np.tile(XYZ, (5, 1))\n",
      "print(XYZ_to_xyY_vectorise(XYZ))\n",
      "\n",
      "XYZ = np.tile((0, 0, 0), (5, 1))\n",
      "print(XYZ_to_xyY_vectorise(XYZ))"
     ],
     "language": "python",
     "metadata": {},
     "outputs": [
      {
       "output_type": "stream",
       "stream": "stdout",
       "text": [
        "Reference:\n",
        "[ 0.26414772  0.37770001  0.1008    ]\n",
        "\n",
        "\n",
        "1d array:\n",
        "[ 0.26414772  0.37770001  0.1008    ]\n",
        "\n",
        "\n",
        "2d array:\n",
        "[[ 0.26414772  0.37770001  0.1008    ]\n",
        " [ 0.26414772  0.37770001  0.1008    ]\n",
        " [ 0.26414772  0.37770001  0.1008    ]\n",
        " [ 0.26414772  0.37770001  0.1008    ]\n",
        " [ 0.26414772  0.37770001  0.1008    ]]\n",
        "[[ 0.34567  0.3585   0.     ]\n",
        " [ 0.3585   0.34567  0.     ]\n",
        " [ 0.34567  0.3585   0.     ]\n",
        " [ 0.3585   0.34567  0.     ]\n",
        " [ 0.34567  0.3585   0.     ]]\n"
       ]
      }
     ],
     "prompt_number": 114
    },
    {
     "cell_type": "code",
     "collapsed": false,
     "input": [
      "%timeit XYZ_to_xyY_vectorise(DATA1)"
     ],
     "language": "python",
     "metadata": {},
     "outputs": [
      {
       "output_type": "stream",
       "stream": "stdout",
       "text": [
        "1 loops, best of 3: 733 ms per loop\n"
       ]
      }
     ],
     "prompt_number": 115
    },
    {
     "cell_type": "heading",
     "level": 3,
     "metadata": {},
     "source": [
      "colour.xyY_to_XYZ"
     ]
    },
    {
     "cell_type": "code",
     "collapsed": false,
     "input": [
      "def xyY_to_XYZ_2d(xyY):\n",
      "    for i in range(len(xyY)):\n",
      "        xyY_to_XYZ(xyY[i])"
     ],
     "language": "python",
     "metadata": {},
     "outputs": [],
     "prompt_number": 116
    },
    {
     "cell_type": "code",
     "collapsed": false,
     "input": [
      "%timeit xyY_to_XYZ_2d(DATA1)"
     ],
     "language": "python",
     "metadata": {},
     "outputs": [
      {
       "output_type": "stream",
       "stream": "stdout",
       "text": [
        "1 loops, best of 3: 13.2 s per loop\n"
       ]
      }
     ],
     "prompt_number": 117
    },
    {
     "cell_type": "code",
     "collapsed": false,
     "input": [
      "from colour import ILLUMINANTS\n",
      "\n",
      "\n",
      "@handle_floating_point_errors(divide='ignore')\n",
      "def xyY_to_XYZ_vectorise(xyY):\n",
      "    xyY = as_array(xyY, (-1, 3))\n",
      "\n",
      "    x, y, Y = xyY[:, 0], xyY[:, 1], xyY[:, 2]    \n",
      "    \n",
      "    XYZ = np.squeeze(\n",
      "        np.where((y == 0)[:, np.newaxis],\n",
      "                 np.dstack((y, y, y)),\n",
      "                 np.dstack((x * Y / y, Y, (1 - x - y) * Y / y))))\n",
      "\n",
      "    return XYZ\n",
      "\n",
      "\n",
      "print('Reference:')\n",
      "xyY = np.array([0.26414772, 0.37770001, 0.1008])\n",
      "print(xyY_to_XYZ(xyY))\n",
      "\n",
      "print('\\n')\n",
      "\n",
      "print('1d array:')\n",
      "print(xyY_to_XYZ_vectorise(xyY))\n",
      "\n",
      "print('\\n')\n",
      "\n",
      "print('2d array:')\n",
      "xyY = np.tile(xyY, (5, 1))\n",
      "print(xyY_to_XYZ_vectorise(xyY))"
     ],
     "language": "python",
     "metadata": {},
     "outputs": [
      {
       "output_type": "stream",
       "stream": "stdout",
       "text": [
        "Reference:\n",
        "[ 0.07049534  0.1008      0.09558313]\n",
        "\n",
        "\n",
        "1d array:\n",
        "[ 0.07049534  0.1008      0.09558313]\n",
        "\n",
        "\n",
        "2d array:\n",
        "[[ 0.07049534  0.1008      0.09558313]\n",
        " [ 0.07049534  0.1008      0.09558313]\n",
        " [ 0.07049534  0.1008      0.09558313]\n",
        " [ 0.07049534  0.1008      0.09558313]\n",
        " [ 0.07049534  0.1008      0.09558313]]\n"
       ]
      }
     ],
     "prompt_number": 118
    },
    {
     "cell_type": "code",
     "collapsed": false,
     "input": [
      "%timeit xyY_to_XYZ_vectorise(DATA1)"
     ],
     "language": "python",
     "metadata": {},
     "outputs": [
      {
       "output_type": "stream",
       "stream": "stdout",
       "text": [
        "1 loops, best of 3: 248 ms per loop\n"
       ]
      }
     ],
     "prompt_number": 119
    },
    {
     "cell_type": "heading",
     "level": 3,
     "metadata": {},
     "source": [
      "colour.xy_to_XYZ"
     ]
    },
    {
     "cell_type": "code",
     "collapsed": false,
     "input": [
      "def xy_to_XYZ_2d(xy):\n",
      "    for i in range(len(xy)):\n",
      "        xy_to_XYZ(xy[i])"
     ],
     "language": "python",
     "metadata": {},
     "outputs": [],
     "prompt_number": 120
    },
    {
     "cell_type": "code",
     "collapsed": false,
     "input": [
      "%timeit xy_to_XYZ_2d(DATA1[:, 0:2])"
     ],
     "language": "python",
     "metadata": {},
     "outputs": [
      {
       "output_type": "stream",
       "stream": "stdout",
       "text": [
        "1 loops, best of 3: 16.2 s per loop\n"
       ]
      }
     ],
     "prompt_number": 121
    },
    {
     "cell_type": "code",
     "collapsed": false,
     "input": [
      "def xy_to_XYZ_vectorise(xy):\n",
      "    xy = as_array(xy, (-1, 2))\n",
      "    return xyY_to_XYZ_vectorise(np.dstack((xy[:, 0],\n",
      "                                           xy[:, 1],\n",
      "                                           np.ones(xy.shape[0]))))\n",
      "\n",
      "\n",
      "print('Reference:')\n",
      "xy = (0.26414772236966133, 0.37770000704815188)\n",
      "print(xy_to_XYZ(xy))\n",
      "\n",
      "print('\\n')\n",
      "\n",
      "print('1d array:')\n",
      "print(xy_to_XYZ_vectorise(xy))\n",
      "\n",
      "print('\\n')\n",
      "\n",
      "print('2d array:')\n",
      "xy = np.tile(xy, (5, 1))\n",
      "print(xy_to_XYZ_vectorise(xy))"
     ],
     "language": "python",
     "metadata": {},
     "outputs": [
      {
       "output_type": "stream",
       "stream": "stdout",
       "text": [
        "Reference:\n",
        "[ 0.69935853  1.          0.94824534]\n",
        "\n",
        "\n",
        "1d array:\n",
        "[ 0.69935853  1.          0.94824534]\n",
        "\n",
        "\n",
        "2d array:\n",
        "[[ 0.69935853  1.          0.94824534]\n",
        " [ 0.69935853  1.          0.94824534]\n",
        " [ 0.69935853  1.          0.94824534]\n",
        " [ 0.69935853  1.          0.94824534]\n",
        " [ 0.69935853  1.          0.94824534]]\n"
       ]
      }
     ],
     "prompt_number": 122
    },
    {
     "cell_type": "code",
     "collapsed": false,
     "input": [
      "%timeit xy_to_XYZ_vectorise(DATA1[:, 0:2])"
     ],
     "language": "python",
     "metadata": {},
     "outputs": [
      {
       "output_type": "stream",
       "stream": "stdout",
       "text": [
        "1 loops, best of 3: 268 ms per loop\n"
       ]
      }
     ],
     "prompt_number": 123
    },
    {
     "cell_type": "heading",
     "level": 3,
     "metadata": {},
     "source": [
      "colour.XYZ_to_xy"
     ]
    },
    {
     "cell_type": "code",
     "collapsed": false,
     "input": [
      "def XYZ_to_xy_2d(XYZ):\n",
      "    for i in range(len(XYZ)):\n",
      "        XYZ_to_xy(XYZ[i])"
     ],
     "language": "python",
     "metadata": {},
     "outputs": [],
     "prompt_number": 124
    },
    {
     "cell_type": "code",
     "collapsed": false,
     "input": [
      "%timeit XYZ_to_xy_2d(DATA1)"
     ],
     "language": "python",
     "metadata": {},
     "outputs": [
      {
       "output_type": "stream",
       "stream": "stdout",
       "text": [
        "1 loops, best of 3: 16 s per loop\n"
       ]
      }
     ],
     "prompt_number": 125
    },
    {
     "cell_type": "code",
     "collapsed": false,
     "input": [
      "def XYZ_to_xy_vectorise(XYZ,\n",
      "              illuminant=ILLUMINANTS.get(\n",
      "                  'CIE 1931 2 Degree Standard Observer').get('D50')):\n",
      "\n",
      "    xyY = as_array(XYZ_to_xyY_vectorise(XYZ, illuminant), (-1, 3))\n",
      "    xy = np.squeeze(xyY[:, 0:2])\n",
      "\n",
      "    return xy\n",
      "\n",
      "\n",
      "print('Reference:')\n",
      "XYZ = np.array([0.07049534, 0.1008, 0.09558313])\n",
      "print(XYZ_to_xy(XYZ))\n",
      "\n",
      "print('\\n')\n",
      "\n",
      "print('1d array:')\n",
      "print(XYZ_to_xy_vectorise(XYZ))\n",
      "\n",
      "print('\\n')\n",
      "\n",
      "print('2d array:')\n",
      "XYZ = np.tile(XYZ, (5, 1))\n",
      "print(XYZ_to_xy_vectorise(XYZ))"
     ],
     "language": "python",
     "metadata": {},
     "outputs": [
      {
       "output_type": "stream",
       "stream": "stdout",
       "text": [
        "Reference:\n",
        "(0.26414772236966133, 0.37770000704815188)\n",
        "\n",
        "\n",
        "1d array:\n",
        "[ 0.26414772  0.37770001]\n",
        "\n",
        "\n",
        "2d array:\n",
        "[[ 0.26414772  0.37770001]\n",
        " [ 0.26414772  0.37770001]\n",
        " [ 0.26414772  0.37770001]\n",
        " [ 0.26414772  0.37770001]\n",
        " [ 0.26414772  0.37770001]]\n"
       ]
      }
     ],
     "prompt_number": 126
    },
    {
     "cell_type": "code",
     "collapsed": false,
     "input": [
      "%timeit XYZ_to_xy_vectorise(DATA1)"
     ],
     "language": "python",
     "metadata": {},
     "outputs": [
      {
       "output_type": "stream",
       "stream": "stdout",
       "text": [
        "1 loops, best of 3: 702 ms per loop\n"
       ]
      }
     ],
     "prompt_number": 127
    },
    {
     "cell_type": "heading",
     "level": 2,
     "metadata": {},
     "source": [
      "colour.models.cie_lab"
     ]
    },
    {
     "cell_type": "heading",
     "level": 3,
     "metadata": {},
     "source": [
      "colour.XYZ_to_Lab"
     ]
    },
    {
     "cell_type": "code",
     "collapsed": false,
     "input": [
      "from colour.models.cie_lab import *\n",
      "\n",
      "\n",
      "def XYZ_to_Lab_2d(XYZ):\n",
      "    for i in range(len(XYZ)):\n",
      "        XYZ_to_Lab(XYZ[i])"
     ],
     "language": "python",
     "metadata": {},
     "outputs": [],
     "prompt_number": 128
    },
    {
     "cell_type": "code",
     "collapsed": false,
     "input": [
      "%timeit XYZ_to_Lab_2d(DATA1)"
     ],
     "language": "python",
     "metadata": {},
     "outputs": [
      {
       "output_type": "stream",
       "stream": "stdout",
       "text": [
        "1 loops, best of 3: 39.9 s per loop\n"
       ]
      }
     ],
     "prompt_number": 129
    },
    {
     "cell_type": "code",
     "collapsed": false,
     "input": [
      "def XYZ_to_Lab_vectorise(XYZ,\n",
      "                         illuminant=ILLUMINANTS.get(\n",
      "                             'CIE 1931 2 Degree Standard Observer').get(\n",
      "                             'D50')):\n",
      "    XYZ = as_array(XYZ, (-1, 3))\n",
      "    XYZ_r = np.resize(xy_to_XYZ_vectorise(illuminant), XYZ.shape)\n",
      "\n",
      "    XYZ_f = XYZ / XYZ_r\n",
      "\n",
      "    XYZ_f = np.where(XYZ_f > CIE_E,\n",
      "                     np.power(XYZ_f, 1 / 3),\n",
      "                     (CIE_K * XYZ_f + 16) / 116)\n",
      "\n",
      "    X_f, Y_f, Z_f = XYZ_f[:, 0], XYZ_f[:, 1], XYZ_f[:, 2]\n",
      "\n",
      "    L = 116 * Y_f - 16\n",
      "    a = 500 * (X_f - Y_f)\n",
      "    b = 200 * (Y_f - Z_f)\n",
      "\n",
      "    Lab = as_stack((L, a, b))\n",
      "\n",
      "    return Lab\n",
      "\n",
      "\n",
      "print('Reference:')\n",
      "XYZ = np.array([0.07049534, 0.1008, 0.09558313])\n",
      "print(XYZ_to_Lab(XYZ))\n",
      "\n",
      "print('\\n')\n",
      "\n",
      "print('1d array:')\n",
      "print(XYZ_to_Lab_vectorise(XYZ))\n",
      "\n",
      "print('\\n')\n",
      "\n",
      "print('2d array:')\n",
      "XYZ = np.tile(XYZ, (5, 1))\n",
      "print(XYZ_to_Lab_vectorise(XYZ))"
     ],
     "language": "python",
     "metadata": {},
     "outputs": [
      {
       "output_type": "stream",
       "stream": "stdout",
       "text": [
        "Reference:\n",
        "[ 37.9856291  -23.62302887  -4.41417036]\n",
        "\n",
        "\n",
        "1d array:\n",
        "[ 37.9856291  -23.62302887  -4.41417036]\n",
        "\n",
        "\n",
        "2d array:\n",
        "[[ 37.9856291  -23.62302887  -4.41417036]\n",
        " [ 37.9856291  -23.62302887  -4.41417036]\n",
        " [ 37.9856291  -23.62302887  -4.41417036]\n",
        " [ 37.9856291  -23.62302887  -4.41417036]\n",
        " [ 37.9856291  -23.62302887  -4.41417036]]\n"
       ]
      }
     ],
     "prompt_number": 130
    },
    {
     "cell_type": "code",
     "collapsed": false,
     "input": [
      "%timeit XYZ_to_Lab_vectorise(DATA1)"
     ],
     "language": "python",
     "metadata": {},
     "outputs": [
      {
       "output_type": "stream",
       "stream": "stdout",
       "text": [
        "1 loops, best of 3: 1.2 s per loop\n"
       ]
      }
     ],
     "prompt_number": 131
    },
    {
     "cell_type": "heading",
     "level": 3,
     "metadata": {},
     "source": [
      "colour.Lab_to_XYZ"
     ]
    },
    {
     "cell_type": "code",
     "collapsed": false,
     "input": [
      "def Lab_to_XYZ_2d(Lab):\n",
      "    for i in range(len(Lab)):\n",
      "        Lab_to_XYZ(Lab[i])"
     ],
     "language": "python",
     "metadata": {},
     "outputs": [],
     "prompt_number": 132
    },
    {
     "cell_type": "code",
     "collapsed": false,
     "input": [
      "%timeit Lab_to_XYZ_2d(DATA1)"
     ],
     "language": "python",
     "metadata": {},
     "outputs": [
      {
       "output_type": "stream",
       "stream": "stdout",
       "text": [
        "1 loops, best of 3: 53.2 s per loop\n"
       ]
      }
     ],
     "prompt_number": 133
    },
    {
     "cell_type": "code",
     "collapsed": false,
     "input": [
      "def Lab_to_XYZ_vectorise(Lab,\n",
      "                         illuminant=ILLUMINANTS.get(\n",
      "                             'CIE 1931 2 Degree Standard Observer').get(\n",
      "                             'D50')):\n",
      "    Lab = as_array(Lab, (-1, 3))\n",
      "    XYZ_r = np.resize(xy_to_XYZ_vectorise(illuminant), Lab.shape)\n",
      "\n",
      "    L, a, b = Lab[:, 0], Lab[:, 1], Lab[:, 2]\n",
      "\n",
      "    f_y = (L + 16) / 116\n",
      "    f_x = a / 500 + f_y\n",
      "    f_z = f_y - b / 200\n",
      "\n",
      "    x_r = np.where(f_x ** 3 > CIE_E, f_x ** 3, (116 * f_x - 16) / CIE_K)\n",
      "    y_r = np.where(L > CIE_K * CIE_E, ((L + 16) / 116) ** 3, L / CIE_K)\n",
      "    z_r = np.where(f_z ** 3 > CIE_E, f_z ** 3, (116 * f_z - 16) / CIE_K)\n",
      "\n",
      "    XYZ = as_stack((x_r, y_r, z_r)) * np.squeeze(XYZ_r)\n",
      "\n",
      "    return XYZ\n",
      "\n",
      "\n",
      "print('Reference:')\n",
      "Lab = np.array([37.9856291, -23.62302887, -4.41417036])\n",
      "print(Lab_to_XYZ(Lab))\n",
      "\n",
      "print('\\n')\n",
      "\n",
      "print('1d array:')\n",
      "print(Lab_to_XYZ_vectorise(Lab))\n",
      "\n",
      "print('\\n')\n",
      "\n",
      "print('2d array:')\n",
      "Lab = np.tile(Lab, (5, 1))\n",
      "print(Lab_to_XYZ_vectorise(Lab))"
     ],
     "language": "python",
     "metadata": {},
     "outputs": [
      {
       "output_type": "stream",
       "stream": "stdout",
       "text": [
        "Reference:\n",
        "[ 0.07049534  0.1008      0.09558313]\n",
        "\n",
        "\n",
        "1d array:\n",
        "[ 0.07049534  0.1008      0.09558313]\n",
        "\n",
        "\n",
        "2d array:\n",
        "[[ 0.07049534  0.1008      0.09558313]\n",
        " [ 0.07049534  0.1008      0.09558313]\n",
        " [ 0.07049534  0.1008      0.09558313]\n",
        " [ 0.07049534  0.1008      0.09558313]\n",
        " [ 0.07049534  0.1008      0.09558313]]\n"
       ]
      }
     ],
     "prompt_number": 134
    },
    {
     "cell_type": "code",
     "collapsed": false,
     "input": [
      "%timeit Lab_to_XYZ_vectorise(DATA1)"
     ],
     "language": "python",
     "metadata": {},
     "outputs": [
      {
       "output_type": "stream",
       "stream": "stdout",
       "text": [
        "1 loops, best of 3: 1.36 s per loop\n"
       ]
      }
     ],
     "prompt_number": 135
    },
    {
     "cell_type": "heading",
     "level": 3,
     "metadata": {},
     "source": [
      "colour.Lab_to_LCHab"
     ]
    },
    {
     "cell_type": "code",
     "collapsed": false,
     "input": [
      "def Lab_to_LCHab_2d(Lab):\n",
      "    for i in range(len(Lab)):\n",
      "        Lab_to_LCHab(Lab[i])"
     ],
     "language": "python",
     "metadata": {},
     "outputs": [],
     "prompt_number": 136
    },
    {
     "cell_type": "code",
     "collapsed": false,
     "input": [
      "%timeit Lab_to_LCHab_2d(DATA1)"
     ],
     "language": "python",
     "metadata": {},
     "outputs": [
      {
       "output_type": "stream",
       "stream": "stdout",
       "text": [
        "1 loops, best of 3: 25.9 s per loop\n"
       ]
      }
     ],
     "prompt_number": 137
    },
    {
     "cell_type": "code",
     "collapsed": false,
     "input": [
      "def Lab_to_LCHab_vectorise(Lab):\n",
      "    Lab = as_array(Lab, (-1, 3))\n",
      "    L, a, b = Lab[:, 0], Lab[:, 1], Lab[:, 2]\n",
      "\n",
      "    H = 180 * np.arctan2(b, a) / np.pi\n",
      "    H[H <0] += 360\n",
      "\n",
      "    LCHab = as_stack((L, np.sqrt(a ** 2 + b ** 2), H))\n",
      "\n",
      "    return LCHab\n",
      "\n",
      "\n",
      "print('Reference:')\n",
      "Lab = np.array([37.9856291, -23.62302887, -4.41417036])\n",
      "print(Lab_to_LCHab(Lab))\n",
      "\n",
      "print('\\n')\n",
      "\n",
      "print('1d array:')\n",
      "print(Lab_to_LCHab_vectorise(Lab))\n",
      "\n",
      "print('\\n')\n",
      "\n",
      "print('2d array:')\n",
      "Lab = np.tile(Lab, (5, 1))\n",
      "print(Lab_to_LCHab_vectorise(Lab))"
     ],
     "language": "python",
     "metadata": {},
     "outputs": [
      {
       "output_type": "stream",
       "stream": "stdout",
       "text": [
        "Reference:\n",
        "[  37.9856291    24.03190365  190.58415972]\n",
        "\n",
        "\n",
        "1d array:\n",
        "[  37.9856291    24.03190365  190.58415972]\n",
        "\n",
        "\n",
        "2d array:\n",
        "[[  37.9856291    24.03190365  190.58415972]\n",
        " [  37.9856291    24.03190365  190.58415972]\n",
        " [  37.9856291    24.03190365  190.58415972]\n",
        " [  37.9856291    24.03190365  190.58415972]\n",
        " [  37.9856291    24.03190365  190.58415972]]\n"
       ]
      }
     ],
     "prompt_number": 138
    },
    {
     "cell_type": "code",
     "collapsed": false,
     "input": [
      "%timeit Lab_to_LCHab_vectorise(DATA1)"
     ],
     "language": "python",
     "metadata": {},
     "outputs": [
      {
       "output_type": "stream",
       "stream": "stdout",
       "text": [
        "1 loops, best of 3: 194 ms per loop\n"
       ]
      }
     ],
     "prompt_number": 139
    },
    {
     "cell_type": "heading",
     "level": 3,
     "metadata": {},
     "source": [
      "colour.LCHab_to_Lab"
     ]
    },
    {
     "cell_type": "code",
     "collapsed": false,
     "input": [
      "def LCHab_to_Lab_2d(LCHab):\n",
      "    for i in range(len(LCHab)):\n",
      "        LCHab_to_Lab(LCHab[i])"
     ],
     "language": "python",
     "metadata": {},
     "outputs": [],
     "prompt_number": 140
    },
    {
     "cell_type": "code",
     "collapsed": false,
     "input": [
      "%timeit LCHab_to_Lab_2d(DATA1)"
     ],
     "language": "python",
     "metadata": {},
     "outputs": [
      {
       "output_type": "stream",
       "stream": "stdout",
       "text": [
        "1 loops, best of 3: 22.3 s per loop\n"
       ]
      }
     ],
     "prompt_number": 141
    },
    {
     "cell_type": "code",
     "collapsed": false,
     "input": [
      "def LCHab_to_Lab_vectorise(LCHab):\n",
      "    LCHab = as_array(LCHab, (-1, 3))\n",
      "    L, C, H = LCHab[:, 0], LCHab[:, 1], LCHab[:, 2]\n",
      "\n",
      "    return as_stack((L,\n",
      "                     C * np.cos(np.radians(H)),\n",
      "                     C * np.sin(np.radians(H))))\n",
      "\n",
      "\n",
      "print('Reference:')\n",
      "LCHab = np.array([37.9856291, 24.03190365, 190.58415972])\n",
      "print(LCHab_to_Lab(LCHab))\n",
      "\n",
      "print('\\n')\n",
      "\n",
      "print('1d array:')\n",
      "print(LCHab_to_Lab_vectorise(LCHab))\n",
      "\n",
      "print('\\n')\n",
      "\n",
      "print('2d array:')\n",
      "LCHab = np.tile(LCHab, (5, 1))\n",
      "print(LCHab_to_Lab_vectorise(LCHab))"
     ],
     "language": "python",
     "metadata": {},
     "outputs": [
      {
       "output_type": "stream",
       "stream": "stdout",
       "text": [
        "Reference:\n",
        "[ 37.9856291  -23.62302887  -4.41417036]\n",
        "\n",
        "\n",
        "1d array:\n",
        "[ 37.9856291  -23.62302887  -4.41417036]\n",
        "\n",
        "\n",
        "2d array:\n",
        "[[ 37.9856291  -23.62302887  -4.41417036]\n",
        " [ 37.9856291  -23.62302887  -4.41417036]\n",
        " [ 37.9856291  -23.62302887  -4.41417036]\n",
        " [ 37.9856291  -23.62302887  -4.41417036]\n",
        " [ 37.9856291  -23.62302887  -4.41417036]]\n"
       ]
      }
     ],
     "prompt_number": 142
    },
    {
     "cell_type": "code",
     "collapsed": false,
     "input": [
      "%timeit LCHab_to_Lab_vectorise(DATA1)"
     ],
     "language": "python",
     "metadata": {},
     "outputs": [
      {
       "output_type": "stream",
       "stream": "stdout",
       "text": [
        "10 loops, best of 3: 110 ms per loop\n"
       ]
      }
     ],
     "prompt_number": 143
    },
    {
     "cell_type": "heading",
     "level": 2,
     "metadata": {},
     "source": [
      "colour.models.cie_luv"
     ]
    },
    {
     "cell_type": "heading",
     "level": 3,
     "metadata": {},
     "source": [
      "colour.XYZ_to_Luv"
     ]
    },
    {
     "cell_type": "code",
     "collapsed": false,
     "input": [
      "from colour.models.cie_luv import *\n",
      "\n",
      "\n",
      "def XYZ_to_Luv_2d(XYZ):\n",
      "    for i in range(len(XYZ)):\n",
      "        XYZ_to_Luv(XYZ[i])"
     ],
     "language": "python",
     "metadata": {},
     "outputs": [],
     "prompt_number": 144
    },
    {
     "cell_type": "code",
     "collapsed": false,
     "input": [
      "%timeit XYZ_to_Luv_2d(DATA1)"
     ],
     "language": "python",
     "metadata": {},
     "outputs": [
      {
       "output_type": "stream",
       "stream": "stdout",
       "text": [
        "1 loops, best of 3: 1min 5s per loop\n"
       ]
      }
     ],
     "prompt_number": 145
    },
    {
     "cell_type": "code",
     "collapsed": false,
     "input": [
      "def XYZ_to_Luv_vectorise(XYZ,\n",
      "                         illuminant=ILLUMINANTS.get(\n",
      "                             'CIE 1931 2 Degree Standard Observer').get(\n",
      "                             'D50')):\n",
      "    XYZ = as_array(XYZ, (-1, 3))\n",
      "    XYZ_r = np.resize(xy_to_XYZ_vectorise(illuminant), XYZ.shape)\n",
      "\n",
      "    X, Y, Z = XYZ[:, 0], XYZ[:, 1], XYZ[:, 2]\n",
      "    X_r, Y_r, Z_r = XYZ_r[:, 0], XYZ_r[:, 1], XYZ_r[:, 2]\n",
      "\n",
      "    y_r = Y / Y_r\n",
      "\n",
      "    L = np.where(y_r > CIE_E, 116 * y_r ** (1 / 3) - 16, CIE_K * y_r)\n",
      "\n",
      "    u = (13 * L * ((4 * X / (X + 15 * Y + 3 * Z)) -\n",
      "                   (4 * X_r / (X_r + 15 * Y_r + 3 * Z_r))))\n",
      "    v = (13 * L * ((9 * Y / (X + 15 * Y + 3 * Z)) -\n",
      "                   (9 * Y_r / (X_r + 15 * Y_r + 3 * Z_r))))\n",
      "\n",
      "    Luv = as_stack((L, u, v))\n",
      "\n",
      "    return Luv\n",
      "\n",
      "\n",
      "print('Reference:')\n",
      "XYZ = np.array([0.07049534, 0.1008, 0.09558313])\n",
      "print(XYZ_to_Luv(XYZ))\n",
      "\n",
      "print('\\n')\n",
      "\n",
      "print('1d array:')\n",
      "print(XYZ_to_Luv_vectorise(XYZ))\n",
      "\n",
      "print('\\n')\n",
      "\n",
      "print('2d array:')\n",
      "XYZ = np.tile(XYZ, (5, 1))\n",
      "print(XYZ_to_Luv_vectorise(XYZ))"
     ],
     "language": "python",
     "metadata": {},
     "outputs": [
      {
       "output_type": "stream",
       "stream": "stdout",
       "text": [
        "Reference:\n",
        "[ 37.9856291  -28.79229446  -1.3558195 ]\n",
        "\n",
        "\n",
        "1d array:\n",
        "[ 37.9856291  -28.79229446  -1.3558195 ]\n",
        "\n",
        "\n",
        "2d array:\n",
        "[[ 37.9856291  -28.79229446  -1.3558195 ]\n",
        " [ 37.9856291  -28.79229446  -1.3558195 ]\n",
        " [ 37.9856291  -28.79229446  -1.3558195 ]\n",
        " [ 37.9856291  -28.79229446  -1.3558195 ]\n",
        " [ 37.9856291  -28.79229446  -1.3558195 ]]\n"
       ]
      }
     ],
     "prompt_number": 146
    },
    {
     "cell_type": "code",
     "collapsed": false,
     "input": [
      "%timeit XYZ_to_Luv_vectorise(DATA1)"
     ],
     "language": "python",
     "metadata": {},
     "outputs": [
      {
       "output_type": "stream",
       "stream": "stdout",
       "text": [
        "1 loops, best of 3: 727 ms per loop\n"
       ]
      }
     ],
     "prompt_number": 147
    },
    {
     "cell_type": "heading",
     "level": 3,
     "metadata": {},
     "source": [
      "colour.Luv_to_XYZ"
     ]
    },
    {
     "cell_type": "code",
     "collapsed": false,
     "input": [
      "def Luv_to_XYZ_2d(Luv):\n",
      "    for i in range(len(Luv)):\n",
      "        Luv_to_XYZ(Luv[i])"
     ],
     "language": "python",
     "metadata": {},
     "outputs": [],
     "prompt_number": 148
    },
    {
     "cell_type": "code",
     "collapsed": false,
     "input": [
      "%timeit Luv_to_XYZ_2d(DATA1)"
     ],
     "language": "python",
     "metadata": {},
     "outputs": [
      {
       "output_type": "stream",
       "stream": "stdout",
       "text": [
        "1 loops, best of 3: 59 s per loop\n"
       ]
      }
     ],
     "prompt_number": 149
    },
    {
     "cell_type": "code",
     "collapsed": false,
     "input": [
      "def Luv_to_XYZ_vectorise(Luv,\n",
      "                         illuminant=ILLUMINANTS.get(\n",
      "                             'CIE 1931 2 Degree Standard Observer').get(\n",
      "                             'D50')):\n",
      "    Luv = as_array(Luv, (-1, 3))\n",
      "    XYZ_r = np.resize(xy_to_XYZ_vectorise(illuminant), Luv.shape)\n",
      "\n",
      "    L, u, v = Luv[:, 0], Luv[:, 1], Luv[:, 2]\n",
      "    X_r, Y_r, Z_r = XYZ_r[:, 0], XYZ_r[:, 1], XYZ_r[:, 2]\n",
      "\n",
      "    Y = np.where(L > CIE_E * CIE_K, ((L + 16) / 116) ** 3, L / CIE_K)\n",
      "\n",
      "    a = 1 / 3 * ((52 * L / (u + 13 * L *\n",
      "                            (4 * X_r / (X_r + 15 * Y_r + 3 * Z_r)))) - 1)\n",
      "    b = -5 * Y\n",
      "    c = -1 / 3.0\n",
      "    d = Y * (39 * L / (v + 13 * L *\n",
      "                       (9 * Y_r / (X_r + 15 * Y_r + 3 * Z_r))) - 5)\n",
      "\n",
      "    X = (d - b) / (a - c)\n",
      "    Z = X * a + b\n",
      "\n",
      "    XYZ = as_stack((X, Y, Z))\n",
      "\n",
      "    return XYZ\n",
      "\n",
      "\n",
      "print('Reference:')\n",
      "Luv = np.array([37.9856291, -28.79229446, -1.3558195])\n",
      "print(Luv_to_XYZ(Luv))\n",
      "\n",
      "print('\\n')\n",
      "\n",
      "print('1d array:')\n",
      "print(Luv_to_XYZ_vectorise(Luv))\n",
      "\n",
      "print('\\n')\n",
      "\n",
      "print('2d array:')\n",
      "Luv = np.tile(Luv, (5, 1))\n",
      "print(Luv_to_XYZ_vectorise(Luv))"
     ],
     "language": "python",
     "metadata": {},
     "outputs": [
      {
       "output_type": "stream",
       "stream": "stdout",
       "text": [
        "Reference:\n",
        "[ 0.07049534  0.1008      0.09558313]\n",
        "\n",
        "\n",
        "1d array:\n",
        "[ 0.07049534  0.1008      0.09558313]\n",
        "\n",
        "\n",
        "2d array:\n",
        "[[ 0.07049534  0.1008      0.09558313]\n",
        " [ 0.07049534  0.1008      0.09558313]\n",
        " [ 0.07049534  0.1008      0.09558313]\n",
        " [ 0.07049534  0.1008      0.09558313]\n",
        " [ 0.07049534  0.1008      0.09558313]]\n"
       ]
      }
     ],
     "prompt_number": 150
    },
    {
     "cell_type": "code",
     "collapsed": false,
     "input": [
      "%timeit Luv_to_XYZ_vectorise(DATA1)"
     ],
     "language": "python",
     "metadata": {},
     "outputs": [
      {
       "output_type": "stream",
       "stream": "stdout",
       "text": [
        "1 loops, best of 3: 738 ms per loop\n"
       ]
      }
     ],
     "prompt_number": 151
    },
    {
     "cell_type": "heading",
     "level": 3,
     "metadata": {},
     "source": [
      "colour.Luv_to_uv"
     ]
    },
    {
     "cell_type": "code",
     "collapsed": false,
     "input": [
      "def Luv_to_uv_2d(Luv):\n",
      "    for i in range(len(Luv)):\n",
      "        Luv_to_uv(Luv[i])"
     ],
     "language": "python",
     "metadata": {},
     "outputs": [],
     "prompt_number": 152
    },
    {
     "cell_type": "code",
     "collapsed": false,
     "input": [
      "%timeit Luv_to_uv_2d(DATA1)"
     ],
     "language": "python",
     "metadata": {},
     "outputs": [
      {
       "output_type": "stream",
       "stream": "stdout",
       "text": [
        "1 loops, best of 3: 1min 14s per loop\n"
       ]
      }
     ],
     "prompt_number": 153
    },
    {
     "cell_type": "code",
     "collapsed": false,
     "input": [
      "def Luv_to_uv_vectorise(Luv,\n",
      "              illuminant=ILLUMINANTS.get(\n",
      "                  'CIE 1931 2 Degree Standard Observer').get('D50')):\n",
      "\n",
      "    XYZ = as_array(Luv_to_XYZ_vectorise(Luv, illuminant), (-1, 3))\n",
      "    X, Y, Z = XYZ[:, 0], XYZ[:, 1], XYZ[:, 2]\n",
      "\n",
      "    uv = as_stack((4 * X / (X + 15 * Y + 3 * Z),\n",
      "                   9 * Y / (X + 15 * Y + 3 * Z)))\n",
      "\n",
      "    return uv\n",
      "\n",
      "\n",
      "print('Reference:')\n",
      "Luv = np.array([37.9856291, -28.79229446, -1.3558195])\n",
      "print(Luv_to_uv(Luv))\n",
      "\n",
      "print('\\n')\n",
      "\n",
      "print('1d array:')\n",
      "print(Luv_to_uv_vectorise(Luv))\n",
      "\n",
      "print('\\n')\n",
      "\n",
      "print('2d array:')\n",
      "Luv = np.tile(Luv, (5, 1))\n",
      "print(Luv_to_uv_vectorise(Luv))"
     ],
     "language": "python",
     "metadata": {},
     "outputs": [
      {
       "output_type": "stream",
       "stream": "stdout",
       "text": [
        "Reference:\n",
        "(0.15085309882985695, 0.48532970854318019)\n",
        "\n",
        "\n",
        "1d array:\n",
        "[ 0.1508531   0.48532971]\n",
        "\n",
        "\n",
        "2d array:\n",
        "[[ 0.1508531   0.48532971]\n",
        " [ 0.1508531   0.48532971]\n",
        " [ 0.1508531   0.48532971]\n",
        " [ 0.1508531   0.48532971]\n",
        " [ 0.1508531   0.48532971]]\n"
       ]
      }
     ],
     "prompt_number": 154
    },
    {
     "cell_type": "code",
     "collapsed": false,
     "input": [
      "%timeit Luv_to_uv_vectorise(DATA1)"
     ],
     "language": "python",
     "metadata": {},
     "outputs": [
      {
       "output_type": "stream",
       "stream": "stdout",
       "text": [
        "1 loops, best of 3: 818 ms per loop\n"
       ]
      }
     ],
     "prompt_number": 155
    },
    {
     "cell_type": "heading",
     "level": 3,
     "metadata": {},
     "source": [
      "colour.Luv_uv_to_xy"
     ]
    },
    {
     "cell_type": "code",
     "collapsed": false,
     "input": [
      "def Luv_uv_to_xy_2d(uv):\n",
      "    for i in range(len(uv)):\n",
      "        Luv_uv_to_xy(uv[i])"
     ],
     "language": "python",
     "metadata": {},
     "outputs": [],
     "prompt_number": 156
    },
    {
     "cell_type": "code",
     "collapsed": false,
     "input": [
      "%timeit Luv_uv_to_xy_2d(DATA1[:, 0:2])"
     ],
     "language": "python",
     "metadata": {},
     "outputs": [
      {
       "output_type": "stream",
       "stream": "stdout",
       "text": [
        "1 loops, best of 3: 17 s per loop\n"
       ]
      }
     ],
     "prompt_number": 157
    },
    {
     "cell_type": "code",
     "collapsed": false,
     "input": [
      "def Luv_uv_to_xy_vectorise(uv):\n",
      "    uv = as_array(uv, (-1, 2))\n",
      "    u, v = uv[:, 0], uv[:, 1]\n",
      "\n",
      "    xy = as_stack((9 * u / (6 * u - 16 * v + 12),\n",
      "                   4 * v / (6 * u - 16 * v + 12)))\n",
      "    return xy\n",
      "\n",
      "\n",
      "print('Reference:')\n",
      "uv = np.array([0.15085309882985695, 0.48532970854318019])\n",
      "print(Luv_uv_to_xy(uv))\n",
      "\n",
      "print('\\n')\n",
      "\n",
      "print('1d array:')\n",
      "print(Luv_uv_to_xy_vectorise(uv))\n",
      "\n",
      "print('\\n')\n",
      "\n",
      "print('2d array:')\n",
      "uv = np.tile(uv, (5, 1))\n",
      "print(Luv_uv_to_xy_vectorise(uv))"
     ],
     "language": "python",
     "metadata": {},
     "outputs": [
      {
       "output_type": "stream",
       "stream": "stdout",
       "text": [
        "Reference:\n",
        "(0.26414772236637435, 0.37770000705715012)\n",
        "\n",
        "\n",
        "1d array:\n",
        "[ 0.26414772  0.37770001]\n",
        "\n",
        "\n",
        "2d array:\n",
        "[[ 0.26414772  0.37770001]\n",
        " [ 0.26414772  0.37770001]\n",
        " [ 0.26414772  0.37770001]\n",
        " [ 0.26414772  0.37770001]\n",
        " [ 0.26414772  0.37770001]]\n"
       ]
      }
     ],
     "prompt_number": 158
    },
    {
     "cell_type": "code",
     "collapsed": false,
     "input": [
      "%timeit Luv_uv_to_xy_vectorise(DATA1[:, 0:2])"
     ],
     "language": "python",
     "metadata": {},
     "outputs": [
      {
       "output_type": "stream",
       "stream": "stdout",
       "text": [
        "10 loops, best of 3: 94.4 ms per loop\n"
       ]
      }
     ],
     "prompt_number": 159
    },
    {
     "cell_type": "heading",
     "level": 3,
     "metadata": {},
     "source": [
      "colour.Luv_to_LCHuv"
     ]
    },
    {
     "cell_type": "code",
     "collapsed": false,
     "input": [
      "def Luv_to_LCHuv_2d(Luv):\n",
      "    for i in range(len(Luv)):\n",
      "        Luv_to_LCHuv(Luv[i])"
     ],
     "language": "python",
     "metadata": {},
     "outputs": [],
     "prompt_number": 160
    },
    {
     "cell_type": "code",
     "collapsed": false,
     "input": [
      "%timeit Luv_to_LCHuv_2d(DATA1)"
     ],
     "language": "python",
     "metadata": {},
     "outputs": [
      {
       "output_type": "stream",
       "stream": "stdout",
       "text": [
        "1 loops, best of 3: 24.4 s per loop\n"
       ]
      }
     ],
     "prompt_number": 161
    },
    {
     "cell_type": "code",
     "collapsed": false,
     "input": [
      "def Luv_to_LCHuv_vectorise(Luv):\n",
      "    Luv = as_array(Luv, (-1, 3))\n",
      "    L, u, v = Luv[:, 0], Luv[:, 1], Luv[:, 2]\n",
      "\n",
      "    H = 180 * np.arctan2(v, u) / np.pi\n",
      "    H[H < 0] += 360\n",
      "\n",
      "    LCHuv = np.squeeze(np.dstack((L,\n",
      "                                  np.sqrt(u ** 2 + v ** 2),\n",
      "                                  H)))\n",
      "    return LCHuv\n",
      "\n",
      "\n",
      "print('Reference:')\n",
      "Luv = np.array([37.9856291, -28.79229446, -1.3558195])\n",
      "print(Luv_to_LCHuv(Luv))\n",
      "\n",
      "print('\\n')\n",
      "\n",
      "print('1d array:')\n",
      "print(Luv_to_LCHuv_vectorise(Luv))\n",
      "\n",
      "print('\\n')\n",
      "\n",
      "print('2d array:')\n",
      "Luv = np.tile(Luv, (5, 1))\n",
      "print(Luv_to_LCHuv_vectorise(Luv))"
     ],
     "language": "python",
     "metadata": {},
     "outputs": [
      {
       "output_type": "stream",
       "stream": "stdout",
       "text": [
        "Reference:\n",
        "[  37.9856291    28.82419933  182.69604747]\n",
        "\n",
        "\n",
        "1d array:\n",
        "[  37.9856291    28.82419933  182.69604747]\n",
        "\n",
        "\n",
        "2d array:\n",
        "[[  37.9856291    28.82419933  182.69604747]\n",
        " [  37.9856291    28.82419933  182.69604747]\n",
        " [  37.9856291    28.82419933  182.69604747]\n",
        " [  37.9856291    28.82419933  182.69604747]\n",
        " [  37.9856291    28.82419933  182.69604747]]\n"
       ]
      }
     ],
     "prompt_number": 162
    },
    {
     "cell_type": "code",
     "collapsed": false,
     "input": [
      "%timeit Luv_to_LCHuv_vectorise(DATA1)"
     ],
     "language": "python",
     "metadata": {},
     "outputs": [
      {
       "output_type": "stream",
       "stream": "stdout",
       "text": [
        "10 loops, best of 3: 184 ms per loop\n"
       ]
      }
     ],
     "prompt_number": 163
    },
    {
     "cell_type": "heading",
     "level": 3,
     "metadata": {},
     "source": [
      "colour.LCHuv_to_Luv"
     ]
    },
    {
     "cell_type": "code",
     "collapsed": false,
     "input": [
      "def LCHuv_to_Luv_2d(LCHuv):\n",
      "    for i in range(len(LCHuv)):\n",
      "        LCHuv_to_Luv(LCHuv[i])"
     ],
     "language": "python",
     "metadata": {},
     "outputs": [],
     "prompt_number": 164
    },
    {
     "cell_type": "code",
     "collapsed": false,
     "input": [
      "%timeit LCHuv_to_Luv_2d(DATA1)"
     ],
     "language": "python",
     "metadata": {},
     "outputs": [
      {
       "output_type": "stream",
       "stream": "stdout",
       "text": [
        "1 loops, best of 3: 21.9 s per loop\n"
       ]
      }
     ],
     "prompt_number": 165
    },
    {
     "cell_type": "code",
     "collapsed": false,
     "input": [
      "def LCHuv_to_Luv_vectorise(LCHuv):\n",
      "    LCHuv = as_array(LCHuv, (-1, 3))\n",
      "    L, C, H = LCHuv[:, 0], LCHuv[:, 1], LCHuv[:, 2]\n",
      "\n",
      "    Luv = as_stack((L,\n",
      "                    C * np.cos(np.radians(H)),\n",
      "                    C * np.sin(np.radians(H))))\n",
      "    return Luv\n",
      "\n",
      "\n",
      "print('Reference:')\n",
      "LCHuv = np.array([37.9856291, 28.82419933, 182.69604747])\n",
      "print(LCHuv_to_Luv(LCHuv))\n",
      " \n",
      "print('\\n')\n",
      " \n",
      "print('1d array:')\n",
      "print(LCHuv_to_Luv_vectorise(LCHuv))\n",
      " \n",
      "print('\\n')\n",
      " \n",
      "print('2d array:')\n",
      "LCHuv = np.tile(LCHuv, (5, 1))\n",
      "print(LCHuv_to_Luv_vectorise(LCHuv))"
     ],
     "language": "python",
     "metadata": {},
     "outputs": [
      {
       "output_type": "stream",
       "stream": "stdout",
       "text": [
        "Reference:\n",
        "[ 37.9856291  -28.79229446  -1.3558195 ]\n",
        "\n",
        "\n",
        "1d array:\n",
        "[ 37.9856291  -28.79229446  -1.3558195 ]\n",
        "\n",
        "\n",
        "2d array:\n",
        "[[ 37.9856291  -28.79229446  -1.3558195 ]\n",
        " [ 37.9856291  -28.79229446  -1.3558195 ]\n",
        " [ 37.9856291  -28.79229446  -1.3558195 ]\n",
        " [ 37.9856291  -28.79229446  -1.3558195 ]\n",
        " [ 37.9856291  -28.79229446  -1.3558195 ]]\n"
       ]
      }
     ],
     "prompt_number": 166
    },
    {
     "cell_type": "code",
     "collapsed": false,
     "input": [
      "%timeit LCHuv_to_Luv_vectorise(DATA1)"
     ],
     "language": "python",
     "metadata": {},
     "outputs": [
      {
       "output_type": "stream",
       "stream": "stdout",
       "text": [
        "10 loops, best of 3: 107 ms per loop\n"
       ]
      }
     ],
     "prompt_number": 167
    },
    {
     "cell_type": "heading",
     "level": 2,
     "metadata": {},
     "source": [
      "colour.models.cie_ucs"
     ]
    },
    {
     "cell_type": "heading",
     "level": 3,
     "metadata": {},
     "source": [
      "colour.XYZ_to_UCS"
     ]
    },
    {
     "cell_type": "code",
     "collapsed": false,
     "input": [
      "from colour.models.cie_ucs import *\n",
      "\n",
      "\n",
      "def XYZ_to_UCS_2d(XYZ):\n",
      "    for i in range(len(XYZ)):\n",
      "        XYZ_to_UCS(XYZ[i])"
     ],
     "language": "python",
     "metadata": {},
     "outputs": [],
     "prompt_number": 168
    },
    {
     "cell_type": "code",
     "collapsed": false,
     "input": [
      "%timeit XYZ_to_UCS_2d(DATA1)"
     ],
     "language": "python",
     "metadata": {},
     "outputs": [
      {
       "output_type": "stream",
       "stream": "stdout",
       "text": [
        "1 loops, best of 3: 11.2 s per loop\n"
       ]
      }
     ],
     "prompt_number": 169
    },
    {
     "cell_type": "code",
     "collapsed": false,
     "input": [
      "def XYZ_to_UCS_vectorise(XYZ):\n",
      "    XYZ = as_array(XYZ, (-1, 3))\n",
      "    X, Y, Z = XYZ[:, 0], XYZ[:, 1], XYZ[:, 2]\n",
      "    \n",
      "    UVW = as_stack((2 / 3 * X, \n",
      "                    Y,\n",
      "                    1 / 2 * (-X + 3 * Y + Z)))\n",
      "    \n",
      "    return UVW\n",
      "\n",
      "\n",
      "print('Reference:')\n",
      "XYZ = np.array([0.07049534, 0.1008, 0.09558313])\n",
      "print(XYZ_to_UCS(XYZ))\n",
      "\n",
      "print('\\n')\n",
      "\n",
      "print('1d array:')\n",
      "print(XYZ_to_UCS_vectorise(XYZ))\n",
      "\n",
      "print('\\n')\n",
      "\n",
      "print('2d array:')\n",
      "XYZ = np.tile(XYZ, (5, 1))\n",
      "print(XYZ_to_UCS_vectorise(XYZ))"
     ],
     "language": "python",
     "metadata": {},
     "outputs": [
      {
       "output_type": "stream",
       "stream": "stdout",
       "text": [
        "Reference:\n",
        "[ 0.04699689  0.1008      0.1637439 ]\n",
        "\n",
        "\n",
        "1d array:\n",
        "[ 0.04699689  0.1008      0.1637439 ]\n",
        "\n",
        "\n",
        "2d array:\n",
        "[[ 0.04699689  0.1008      0.1637439 ]\n",
        " [ 0.04699689  0.1008      0.1637439 ]\n",
        " [ 0.04699689  0.1008      0.1637439 ]\n",
        " [ 0.04699689  0.1008      0.1637439 ]\n",
        " [ 0.04699689  0.1008      0.1637439 ]]\n"
       ]
      }
     ],
     "prompt_number": 170
    },
    {
     "cell_type": "code",
     "collapsed": false,
     "input": [
      "%timeit XYZ_to_UCS_vectorise(DATA1)"
     ],
     "language": "python",
     "metadata": {},
     "outputs": [
      {
       "output_type": "stream",
       "stream": "stdout",
       "text": [
        "10 loops, best of 3: 80.4 ms per loop\n"
       ]
      }
     ],
     "prompt_number": 171
    },
    {
     "cell_type": "heading",
     "level": 3,
     "metadata": {},
     "source": [
      "colour.UCS_to_XYZ"
     ]
    },
    {
     "cell_type": "code",
     "collapsed": false,
     "input": [
      "def UCS_to_XYZ_2d(UVW):\n",
      "    for i in range(len(UVW)):\n",
      "        UCS_to_XYZ(UVW[i])"
     ],
     "language": "python",
     "metadata": {},
     "outputs": [],
     "prompt_number": 172
    },
    {
     "cell_type": "code",
     "collapsed": false,
     "input": [
      "%timeit UCS_to_XYZ_2d(DATA1)"
     ],
     "language": "python",
     "metadata": {},
     "outputs": [
      {
       "output_type": "stream",
       "stream": "stdout",
       "text": [
        "1 loops, best of 3: 14 s per loop\n"
       ]
      }
     ],
     "prompt_number": 173
    },
    {
     "cell_type": "code",
     "collapsed": false,
     "input": [
      "def UCS_to_XYZ_vectorise(UVW):\n",
      "    UVW = as_array(UVW, (-1, 3))\n",
      "    U, V, W = UVW[:, 0], UVW[:, 1], UVW[:, 2]\n",
      "\n",
      "    XYZ = as_stack((3 / 2 * U,\n",
      "                    V,\n",
      "                    3 / 2 * U - (3 * V) + (2 * W)))\n",
      "    \n",
      "    return XYZ\n",
      "\n",
      "\n",
      "print('Reference:')\n",
      "UVW = np.array([0.04699689, 0.1008, 0.1637439])\n",
      "print(UCS_to_XYZ(UVW))\n",
      "\n",
      "print('\\n')\n",
      "\n",
      "print('1d array:')\n",
      "print(UCS_to_XYZ_vectorise(UVW))\n",
      "\n",
      "print('\\n')\n",
      "\n",
      "print('2d array:')\n",
      "UVW = np.tile(UVW, (5, 1))\n",
      "print(UCS_to_XYZ_vectorise(UVW))"
     ],
     "language": "python",
     "metadata": {},
     "outputs": [
      {
       "output_type": "stream",
       "stream": "stdout",
       "text": [
        "Reference:\n",
        "[ 0.07049533  0.1008      0.09558313]\n",
        "\n",
        "\n",
        "1d array:\n",
        "[ 0.07049533  0.1008      0.09558313]\n",
        "\n",
        "\n",
        "2d array:\n",
        "[[ 0.07049533  0.1008      0.09558313]\n",
        " [ 0.07049533  0.1008      0.09558313]\n",
        " [ 0.07049533  0.1008      0.09558313]\n",
        " [ 0.07049533  0.1008      0.09558313]\n",
        " [ 0.07049533  0.1008      0.09558313]]\n"
       ]
      }
     ],
     "prompt_number": 174
    },
    {
     "cell_type": "code",
     "collapsed": false,
     "input": [
      "%timeit UCS_to_XYZ_vectorise(DATA1)"
     ],
     "language": "python",
     "metadata": {},
     "outputs": [
      {
       "output_type": "stream",
       "stream": "stdout",
       "text": [
        "10 loops, best of 3: 77.7 ms per loop\n"
       ]
      }
     ],
     "prompt_number": 175
    },
    {
     "cell_type": "heading",
     "level": 3,
     "metadata": {},
     "source": [
      "colour.UCS_to_uv"
     ]
    },
    {
     "cell_type": "code",
     "collapsed": false,
     "input": [
      "def UCS_to_uv_2d(UVW):\n",
      "    for i in range(len(UVW)):\n",
      "        UCS_to_uv(UVW[i])"
     ],
     "language": "python",
     "metadata": {},
     "outputs": [],
     "prompt_number": 176
    },
    {
     "cell_type": "code",
     "collapsed": false,
     "input": [
      "%timeit UCS_to_uv_2d(DATA1)"
     ],
     "language": "python",
     "metadata": {},
     "outputs": [
      {
       "output_type": "stream",
       "stream": "stdout",
       "text": [
        "1 loops, best of 3: 7.69 s per loop\n"
       ]
      }
     ],
     "prompt_number": 177
    },
    {
     "cell_type": "code",
     "collapsed": false,
     "input": [
      "def UCS_to_uv_vectorise(UVW):\n",
      "    UVW = as_array(UVW, (-1, 3))\n",
      "    U, V, W = UVW[:, 0], UVW[:, 1], UVW[:, 2]\n",
      "\n",
      "    uv = as_stack((U / (U + V + W), V / (U + V + W)))\n",
      "\n",
      "    return uv\n",
      "\n",
      "\n",
      "print('Reference:')\n",
      "UVW = np.array([0.04699689, 0.1008, 0.1637439])\n",
      "print(UCS_to_uv(UVW))\n",
      "\n",
      "print('\\n')\n",
      "\n",
      "print('1d array:')\n",
      "print(UCS_to_uv_vectorise(UVW))\n",
      "\n",
      "print('\\n')\n",
      "\n",
      "print('2d array:')\n",
      "UVW = np.tile(UVW, (5, 1))\n",
      "print(UCS_to_uv_vectorise(UVW))"
     ],
     "language": "python",
     "metadata": {},
     "outputs": [
      {
       "output_type": "stream",
       "stream": "stdout",
       "text": [
        "Reference:\n",
        "(0.15085308732766581, 0.3235531372954405)\n",
        "\n",
        "\n",
        "1d array:\n",
        "[ 0.15085309  0.32355314]\n",
        "\n",
        "\n",
        "2d array:\n",
        "[[ 0.15085309  0.32355314]\n",
        " [ 0.15085309  0.32355314]\n",
        " [ 0.15085309  0.32355314]\n",
        " [ 0.15085309  0.32355314]\n",
        " [ 0.15085309  0.32355314]]\n"
       ]
      }
     ],
     "prompt_number": 178
    },
    {
     "cell_type": "code",
     "collapsed": false,
     "input": [
      "%timeit UCS_to_uv_vectorise(DATA1)"
     ],
     "language": "python",
     "metadata": {},
     "outputs": [
      {
       "output_type": "stream",
       "stream": "stdout",
       "text": [
        "10 loops, best of 3: 70.1 ms per loop\n"
       ]
      }
     ],
     "prompt_number": 179
    },
    {
     "cell_type": "heading",
     "level": 3,
     "metadata": {},
     "source": [
      "colour.UCS_uv_to_xy"
     ]
    },
    {
     "cell_type": "code",
     "collapsed": false,
     "input": [
      "def UCS_uv_to_xy_2d(uv):\n",
      "    for i in range(len(uv)):\n",
      "        UCS_uv_to_xy(uv[i])"
     ],
     "language": "python",
     "metadata": {},
     "outputs": [],
     "prompt_number": 180
    },
    {
     "cell_type": "code",
     "collapsed": false,
     "input": [
      "%timeit UCS_uv_to_xy_2d(DATA1[:, 0:2])"
     ],
     "language": "python",
     "metadata": {},
     "outputs": [
      {
       "output_type": "stream",
       "stream": "stdout",
       "text": [
        "1 loops, best of 3: 17.8 s per loop\n"
       ]
      }
     ],
     "prompt_number": 181
    },
    {
     "cell_type": "code",
     "collapsed": false,
     "input": [
      "def UCS_uv_to_xy_vectorise(uv):\n",
      "    uv = as_array(uv, (-1, 2))\n",
      "    u, v = uv[:, 0], uv[:, 1]\n",
      "\n",
      "    xy = as_stack((3 * u / (2 * u - 8 * v + 4),\n",
      "                   2 * v / (2 * u - 8 * v + 4)))\n",
      "    \n",
      "    return xy\n",
      "\n",
      "\n",
      "print('Reference:')\n",
      "uv = np.array([0.15085308732766581, 0.3235531372954405])\n",
      "print(UCS_uv_to_xy(uv))\n",
      "\n",
      "print('\\n')\n",
      "\n",
      "print('1d array:')\n",
      "print(UCS_uv_to_xy_vectorise(uv))\n",
      "\n",
      "print('\\n')\n",
      "\n",
      "print('2d array:')\n",
      "uv = np.tile(uv, (5, 1))\n",
      "print(UCS_uv_to_xy_vectorise(uv))"
     ],
     "language": "python",
     "metadata": {},
     "outputs": [
      {
       "output_type": "stream",
       "stream": "stdout",
       "text": [
        "Reference:\n",
        "(0.26414770363454193, 0.37770000704815182)\n",
        "\n",
        "\n",
        "1d array:\n",
        "[ 0.2641477   0.37770001]\n",
        "\n",
        "\n",
        "2d array:\n",
        "[[ 0.2641477   0.37770001]\n",
        " [ 0.2641477   0.37770001]\n",
        " [ 0.2641477   0.37770001]\n",
        " [ 0.2641477   0.37770001]\n",
        " [ 0.2641477   0.37770001]]\n"
       ]
      }
     ],
     "prompt_number": 182
    },
    {
     "cell_type": "code",
     "collapsed": false,
     "input": [
      "%timeit UCS_uv_to_xy_vectorise(DATA1[:, 0:2])"
     ],
     "language": "python",
     "metadata": {},
     "outputs": [
      {
       "output_type": "stream",
       "stream": "stdout",
       "text": [
        "10 loops, best of 3: 131 ms per loop\n"
       ]
      }
     ],
     "prompt_number": 183
    },
    {
     "cell_type": "heading",
     "level": 2,
     "metadata": {},
     "source": [
      "colour.models.cie_uvw"
     ]
    },
    {
     "cell_type": "heading",
     "level": 3,
     "metadata": {},
     "source": [
      "colour.XYZ_to_UVW"
     ]
    },
    {
     "cell_type": "code",
     "collapsed": false,
     "input": [
      "from colour.models.cie_uvw import *\n",
      "\n",
      "\n",
      "def XYZ_to_UVW_2d(XYZ):\n",
      "    for i in range(len(XYZ)):\n",
      "        XYZ_to_UVW(XYZ[i])"
     ],
     "language": "python",
     "metadata": {},
     "outputs": [],
     "prompt_number": 184
    },
    {
     "cell_type": "code",
     "collapsed": false,
     "input": [
      "%timeit XYZ_to_UVW_2d(DATA1)"
     ],
     "language": "python",
     "metadata": {},
     "outputs": [
      {
       "output_type": "stream",
       "stream": "stdout",
       "text": [
        "1 loops, best of 3: 1min 45s per loop\n"
       ]
      }
     ],
     "prompt_number": 185
    },
    {
     "cell_type": "code",
     "collapsed": false,
     "input": [
      "def XYZ_to_UVW_vectorise(XYZ,\n",
      "                         illuminant=ILLUMINANTS.get(\n",
      "                             'CIE 1931 2 Degree Standard Observer').get(\n",
      "                             'D50')):\n",
      "    xyY = as_array(XYZ_to_xyY_vectorise(XYZ, illuminant), (-1, 3))\n",
      "    x, y, Y = xyY[:, 0], xyY[:, 1], xyY[:, 2]\n",
      "\n",
      "    uv = as_array(UCS_to_uv_vectorise(\n",
      "        as_array(XYZ_to_UCS_vectorise(XYZ),\n",
      "                 (-1, 3))),\n",
      "                  (-1, 2))\n",
      "    u, v = uv[:, 0], uv[:, 1]\n",
      "\n",
      "    uv_0 = as_array(UCS_to_uv_vectorise(\n",
      "        as_array(XYZ_to_UCS_vectorise(\n",
      "            as_array(xy_to_XYZ_vectorise(illuminant),\n",
      "                     (-1, 3))),\n",
      "                 (-1, 3))),\n",
      "                    (-1, 2))\n",
      "    u_0, v_0 = uv_0[:, 0], uv_0[:, 1]\n",
      "\n",
      "    W = 25 * Y ** (1 / 3) - 17\n",
      "    U = 13 * W * (u - u_0)\n",
      "    V = 13 * W * (v - v_0)\n",
      "\n",
      "    UVW = as_stack((U, V, W))\n",
      "    \n",
      "    return UVW\n",
      "\n",
      "\n",
      "print('Reference:')\n",
      "XYZ = np.array([0.07049534, 0.1008, 0.09558313])\n",
      "print(XYZ_to_UVW(XYZ))\n",
      "\n",
      "print('\\n')\n",
      "\n",
      "print('1d array:')\n",
      "print(XYZ_to_UVW_vectorise(XYZ))\n",
      "\n",
      "print('\\n')\n",
      "\n",
      "print('2d array:')\n",
      "XYZ = np.tile(XYZ, (5, 1))\n",
      "print(XYZ_to_UVW_vectorise(XYZ))"
     ],
     "language": "python",
     "metadata": {},
     "outputs": [
      {
       "output_type": "stream",
       "stream": "stdout",
       "text": [
        "Reference:\n",
        "[ 4.06668119  0.12766577 -5.36516614]\n",
        "\n",
        "\n",
        "1d array:\n",
        "[ 4.06668119  0.12766577 -5.36516614]\n",
        "\n",
        "\n",
        "2d array:\n",
        "[[ 4.06668119  0.12766577 -5.36516614]\n",
        " [ 4.06668119  0.12766577 -5.36516614]\n",
        " [ 4.06668119  0.12766577 -5.36516614]\n",
        " [ 4.06668119  0.12766577 -5.36516614]\n",
        " [ 4.06668119  0.12766577 -5.36516614]]\n"
       ]
      }
     ],
     "prompt_number": 186
    },
    {
     "cell_type": "code",
     "collapsed": false,
     "input": [
      "%timeit XYZ_to_UVW_vectorise(DATA1)"
     ],
     "language": "python",
     "metadata": {},
     "outputs": [
      {
       "output_type": "stream",
       "stream": "stdout",
       "text": [
        "1 loops, best of 3: 1.21 s per loop\n"
       ]
      }
     ],
     "prompt_number": 187
    },
    {
     "cell_type": "heading",
     "level": 2,
     "metadata": {},
     "source": [
      "colour.models.deprecated"
     ]
    },
    {
     "cell_type": "heading",
     "level": 3,
     "metadata": {},
     "source": [
      "colour.models.deprecated.RGB_to_HSV"
     ]
    },
    {
     "cell_type": "code",
     "collapsed": false,
     "input": [
      "from colour.models.deprecated import *\n",
      "\n",
      "def RGB_to_HSV_2d(RGB):\n",
      "    for i in range(len(RGB)):\n",
      "        RGB_to_HSV(RGB[i])"
     ],
     "language": "python",
     "metadata": {},
     "outputs": [],
     "prompt_number": 188
    },
    {
     "cell_type": "code",
     "collapsed": false,
     "input": [
      "%timeit RGB_to_HSV_2d(DATA1)"
     ],
     "language": "python",
     "metadata": {},
     "outputs": [
      {
       "output_type": "stream",
       "stream": "stdout",
       "text": [
        "1 loops, best of 3: 28.6 s per loop\n"
       ]
      }
     ],
     "prompt_number": 189
    },
    {
     "cell_type": "code",
     "collapsed": false,
     "input": [
      "@handle_floating_point_errors(divide='ignore', invalid='ignore')\n",
      "def RGB_to_HSV_vectorise(RGB):\n",
      "    RGB = as_array(RGB, (-1, 3))\n",
      "\n",
      "    minimum = np.amin(RGB, -1)\n",
      "    maximum = np.amax(RGB, -1)\n",
      "    delta = np.ptp(RGB, -1)\n",
      "\n",
      "    V = maximum\n",
      "\n",
      "    R, G, B = RGB[:, 0], RGB[:, 1], RGB[:, 2]\n",
      "\n",
      "    S = delta / maximum\n",
      "    S[delta == 0] = 0\n",
      "\n",
      "    delta_R = (((maximum - R) / 6) + (delta / 2)) / delta\n",
      "    delta_G = (((maximum - G) / 6) + (delta / 2)) / delta\n",
      "    delta_B = (((maximum - B) / 6) + (delta / 2)) / delta\n",
      "\n",
      "    H = delta_B - delta_G\n",
      "    H = np.where(G == maximum, (1 / 3) + delta_R - delta_B, H)\n",
      "    H = np.where(B == maximum, (2 / 3) + delta_G - delta_R, H)\n",
      "    H[H < 0] += 1\n",
      "    H[H > 1] -= 1\n",
      "    H[delta == 0] = 0\n",
      "\n",
      "    HSV = as_stack((H, S, V))\n",
      "\n",
      "    return HSV\n",
      "\n",
      "\n",
      "print('Reference:')\n",
      "RGB = np.array([0.49019608, 0.98039216, 0.25098039])\n",
      "print(RGB_to_HSV(RGB))\n",
      "\n",
      "print('\\n')\n",
      "\n",
      "print('1d array:')\n",
      "print(RGB_to_HSV_vectorise(RGB))\n",
      "\n",
      "print('\\n')\n",
      "\n",
      "print('2d array:')\n",
      "RGB = np.tile(RGB, (5, 1))\n",
      "print(RGB_to_HSV_vectorise(RGB))"
     ],
     "language": "python",
     "metadata": {},
     "outputs": [
      {
       "output_type": "stream",
       "stream": "stdout",
       "text": [
        "Reference:\n",
        "[ 0.27867383  0.744       0.98039216]\n",
        "\n",
        "\n",
        "1d array:\n",
        "[ 0.27867383  0.744       0.98039216]\n",
        "\n",
        "\n",
        "2d array:\n",
        "[[ 0.27867383  0.744       0.98039216]\n",
        " [ 0.27867383  0.744       0.98039216]\n",
        " [ 0.27867383  0.744       0.98039216]\n",
        " [ 0.27867383  0.744       0.98039216]\n",
        " [ 0.27867383  0.744       0.98039216]]\n"
       ]
      }
     ],
     "prompt_number": 190
    },
    {
     "cell_type": "code",
     "collapsed": false,
     "input": [
      "%timeit RGB_to_HSV_vectorise(DATA1)"
     ],
     "language": "python",
     "metadata": {},
     "outputs": [
      {
       "output_type": "stream",
       "stream": "stdout",
       "text": [
        "1 loops, best of 3: 576 ms per loop\n"
       ]
      }
     ],
     "prompt_number": 191
    },
    {
     "cell_type": "heading",
     "level": 3,
     "metadata": {},
     "source": [
      "colour.models.deprecated.HSV_to_RGB"
     ]
    },
    {
     "cell_type": "code",
     "collapsed": false,
     "input": [
      "def HSV_to_RGB_2d(HSV):\n",
      "    for i in range(len(HSV)):\n",
      "        HSV_to_RGB(HSV[i])"
     ],
     "language": "python",
     "metadata": {},
     "outputs": [],
     "prompt_number": 192
    },
    {
     "cell_type": "code",
     "collapsed": false,
     "input": [
      "%timeit HSV_to_RGB_2d(DATA1)"
     ],
     "language": "python",
     "metadata": {},
     "outputs": [
      {
       "output_type": "stream",
       "stream": "stdout",
       "text": [
        "1 loops, best of 3: 31.2 s per loop\n"
       ]
      }
     ],
     "prompt_number": 193
    },
    {
     "cell_type": "code",
     "collapsed": false,
     "input": [
      "def HSV_to_RGB_vectorise(HSV):\n",
      "    HSV = as_array(HSV, (-1, 3))\n",
      "\n",
      "    H, S, V = HSV[:, 0], HSV[:, 1], HSV[:, 2]\n",
      "\n",
      "    h = H * 6\n",
      "    h[h == 6] = 0\n",
      "\n",
      "    i = np.floor(h)\n",
      "    j = V * (1 - S)\n",
      "    k = V * (1 - S * (h - i))\n",
      "    l = V * (1 - S * (1 - (h - i)))\n",
      "\n",
      "    i = np.dstack((i, i, i)).astype(np.uint8)\n",
      "    RGB = np.squeeze(np.choose(i,\n",
      "                               (np.dstack((V, l, j)),\n",
      "                                np.dstack((k, V, j)),\n",
      "                                np.dstack((j, V, l)),\n",
      "                                np.dstack((j, k, V)),\n",
      "                                np.dstack((l, j, V)),\n",
      "                                np.dstack((V, j, k)))))\n",
      "\n",
      "    return RGB\n",
      "\n",
      "\n",
      "print('Reference:')\n",
      "HSV = np.array([0.27867383, 0.744, 0.98039216])\n",
      "print(HSV_to_RGB(HSV))\n",
      "\n",
      "print('\\n')\n",
      "\n",
      "print('1d array:')\n",
      "print(HSV_to_RGB_vectorise(HSV))\n",
      "\n",
      "print('\\n')\n",
      "\n",
      "print('2d array:')\n",
      "HSV = np.tile(HSV, (5, 1))\n",
      "print(HSV_to_RGB_vectorise(HSV))"
     ],
     "language": "python",
     "metadata": {},
     "outputs": [
      {
       "output_type": "stream",
       "stream": "stdout",
       "text": [
        "Reference:\n",
        "[ 0.4901961   0.98039216  0.25098039]\n",
        "\n",
        "\n",
        "1d array:\n",
        "[ 0.4901961   0.98039216  0.25098039]\n",
        "\n",
        "\n",
        "2d array:\n",
        "[[ 0.4901961   0.98039216  0.25098039]\n",
        " [ 0.4901961   0.98039216  0.25098039]\n",
        " [ 0.4901961   0.98039216  0.25098039]\n",
        " [ 0.4901961   0.98039216  0.25098039]\n",
        " [ 0.4901961   0.98039216  0.25098039]]\n"
       ]
      }
     ],
     "prompt_number": 194
    },
    {
     "cell_type": "code",
     "collapsed": false,
     "input": [
      "%timeit HSV_to_RGB_vectorise(DATA1)"
     ],
     "language": "python",
     "metadata": {},
     "outputs": [
      {
       "output_type": "stream",
       "stream": "stdout",
       "text": [
        "1 loops, best of 3: 577 ms per loop\n"
       ]
      }
     ],
     "prompt_number": 195
    },
    {
     "cell_type": "heading",
     "level": 3,
     "metadata": {},
     "source": [
      "colour.models.deprecated.RGB_to_HSL"
     ]
    },
    {
     "cell_type": "code",
     "collapsed": false,
     "input": [
      "def RGB_to_HSL_2d(RGB):\n",
      "    for i in range(len(RGB)):\n",
      "        RGB_to_HSL(RGB[i])"
     ],
     "language": "python",
     "metadata": {},
     "outputs": [],
     "prompt_number": 196
    },
    {
     "cell_type": "code",
     "collapsed": false,
     "input": [
      "%timeit RGB_to_HSL_2d(DATA1)"
     ],
     "language": "python",
     "metadata": {},
     "outputs": [
      {
       "output_type": "stream",
       "stream": "stdout",
       "text": [
        "1 loops, best of 3: 32.3 s per loop\n"
       ]
      }
     ],
     "prompt_number": 197
    },
    {
     "cell_type": "code",
     "collapsed": false,
     "input": [
      "@handle_floating_point_errors(divide='ignore', invalid='ignore')\n",
      "def RGB_to_HSL_vectorise(RGB):\n",
      "    RGB = as_array(RGB, (-1, 3))\n",
      "\n",
      "    minimum = np.amin(RGB, -1)\n",
      "    maximum = np.amax(RGB, -1)\n",
      "    delta = np.ptp(RGB, -1)\n",
      "\n",
      "    R, G, B = RGB[:, 0], RGB[:, 1], RGB[:, 2]\n",
      "\n",
      "    L = (maximum + minimum) / 2\n",
      "\n",
      "    S = np.where(L < 0.5,\n",
      "                 delta / (maximum + minimum),\n",
      "                 delta / (2 - maximum - minimum))\n",
      "    S[delta == 0] = 0\n",
      "\n",
      "    delta_R = (((maximum - R) / 6) + (delta / 2)) / delta\n",
      "    delta_G = (((maximum - G) / 6) + (delta / 2)) / delta\n",
      "    delta_B = (((maximum - B) / 6) + (delta / 2)) / delta\n",
      "\n",
      "    H = delta_B - delta_G\n",
      "    H = np.where(G == maximum, (1 / 3) + delta_R - delta_B, H)\n",
      "    H = np.where(B == maximum, (2 / 3) + delta_G - delta_R, H)\n",
      "    H[H < 0] += 1\n",
      "    H[H > 1] -= 1\n",
      "    H[delta == 0] = 0\n",
      "\n",
      "    HSL = as_stack((H, S, L))\n",
      "\n",
      "    return HSL\n",
      "\n",
      "\n",
      "print('Reference:')\n",
      "RGB = np.array([0.49019608, 0.98039216, 0.25098039])\n",
      "print(RGB_to_HSL(RGB))\n",
      "\n",
      "print('\\n')\n",
      "\n",
      "print('1d array:')\n",
      "print(RGB_to_HSL_vectorise(RGB))\n",
      "\n",
      "print('\\n')\n",
      "\n",
      "print('2d array:')\n",
      "RGB = np.tile(RGB, (5, 1))\n",
      "print(RGB_to_HSL_vectorise(RGB))"
     ],
     "language": "python",
     "metadata": {},
     "outputs": [
      {
       "output_type": "stream",
       "stream": "stdout",
       "text": [
        "Reference:\n",
        "[ 0.27867383  0.9489796   0.61568627]\n",
        "\n",
        "\n",
        "1d array:\n",
        "[ 0.27867383  0.9489796   0.61568627]\n",
        "\n",
        "\n",
        "2d array:\n",
        "[[ 0.27867383  0.9489796   0.61568627]\n",
        " [ 0.27867383  0.9489796   0.61568627]\n",
        " [ 0.27867383  0.9489796   0.61568627]\n",
        " [ 0.27867383  0.9489796   0.61568627]\n",
        " [ 0.27867383  0.9489796   0.61568627]]\n"
       ]
      }
     ],
     "prompt_number": 198
    },
    {
     "cell_type": "code",
     "collapsed": false,
     "input": [
      "%timeit RGB_to_HSL_vectorise(DATA1)"
     ],
     "language": "python",
     "metadata": {},
     "outputs": [
      {
       "output_type": "stream",
       "stream": "stdout",
       "text": [
        "1 loops, best of 3: 644 ms per loop\n"
       ]
      }
     ],
     "prompt_number": 199
    },
    {
     "cell_type": "heading",
     "level": 3,
     "metadata": {},
     "source": [
      "colour.models.deprecated.HSL_to_RGB"
     ]
    },
    {
     "cell_type": "code",
     "collapsed": false,
     "input": [
      "def HSL_to_RGB_2d(HSL):\n",
      "    for i in range(len(HSL)):\n",
      "        HSL_to_RGB(HSL[i])"
     ],
     "language": "python",
     "metadata": {},
     "outputs": [],
     "prompt_number": 200
    },
    {
     "cell_type": "code",
     "collapsed": false,
     "input": [
      "%timeit HSL_to_RGB_2d(DATA1)"
     ],
     "language": "python",
     "metadata": {},
     "outputs": [
      {
       "output_type": "stream",
       "stream": "stdout",
       "text": [
        "1 loops, best of 3: 42.2 s per loop\n"
       ]
      }
     ],
     "prompt_number": 201
    },
    {
     "cell_type": "code",
     "collapsed": false,
     "input": [
      "def HSL_to_RGB_vectorise(HSL):\n",
      "    HSL = as_array(HSL, (-1, 3))\n",
      "\n",
      "    H, S, L = HSL[:, 0], HSL[:, 1], HSL[:, 2]\n",
      "\n",
      "    def H_to_RGB(vi, vj, vH):\n",
      "        \"\"\"\n",
      "        Converts *hue* value to *RGB* colourspace.\n",
      "        \"\"\"\n",
      "\n",
      "        vH[vH < 0] += 1\n",
      "        vH[vH > 1] -= 1\n",
      "\n",
      "        v = np.full(vi.shape, np.nan)\n",
      "\n",
      "        v = np.where(np.logical_and(6 * vH < 1, np.isnan(v)),\n",
      "                     vi + (vj - vi) * 6 * vH,\n",
      "                     v)\n",
      "        v = np.where(np.logical_and(2 * vH < 1, np.isnan(v)),\n",
      "                     vj,\n",
      "                     v)\n",
      "        v = np.where(np.logical_and(3 * vH < 2, np.isnan(v)),\n",
      "                     vi + (vj - vi) * ((2 / 3) - vH) * 6,\n",
      "                     v)\n",
      "        v = np.where(np.isnan(v), vi, v)\n",
      "\n",
      "        return v\n",
      "\n",
      "    j = np.where(L < 0.5, L * (1 + S), (L + S) - (S * L))\n",
      "    i = 2 * L - j\n",
      "\n",
      "    R = H_to_RGB(i, j, H + (1 / 3))\n",
      "    G = H_to_RGB(i, j, H)\n",
      "    B = H_to_RGB(i, j, H - (1 / 3))\n",
      "\n",
      "    R = np.where(S == 1, L, R)\n",
      "    G = np.where(S == 1, L, G)\n",
      "    B = np.where(S == 1, L, B)\n",
      "\n",
      "    RGB = as_stack((R, G, B))\n",
      "\n",
      "    return RGB\n",
      "\n",
      "\n",
      "print('Reference:')\n",
      "HSL = np.array([0.27867383, 0.9489796, 0.61568627])\n",
      "print(HSL_to_RGB(HSL))\n",
      "\n",
      "print('\\n')\n",
      "\n",
      "print('1d array:')\n",
      "print(HSL_to_RGB_vectorise(HSL))\n",
      "\n",
      "print('\\n')\n",
      "\n",
      "print('2d array:')\n",
      "HSL = np.tile(HSL, (5, 1))\n",
      "print(HSL_to_RGB_vectorise(HSL))"
     ],
     "language": "python",
     "metadata": {},
     "outputs": [
      {
       "output_type": "stream",
       "stream": "stdout",
       "text": [
        "Reference:\n",
        "[ 0.49019609  0.98039216  0.25098038]\n",
        "\n",
        "\n",
        "1d array:\n",
        "[ 0.49019609  0.98039216  0.25098038]\n",
        "\n",
        "\n",
        "2d array:\n",
        "[[ 0.49019609  0.98039216  0.25098038]\n",
        " [ 0.49019609  0.98039216  0.25098038]\n",
        " [ 0.49019609  0.98039216  0.25098038]\n",
        " [ 0.49019609  0.98039216  0.25098038]\n",
        " [ 0.49019609  0.98039216  0.25098038]]\n"
       ]
      }
     ],
     "prompt_number": 202
    },
    {
     "cell_type": "code",
     "collapsed": false,
     "input": [
      "%timeit HSL_to_RGB_vectorise(DATA1)"
     ],
     "language": "python",
     "metadata": {},
     "outputs": [
      {
       "output_type": "stream",
       "stream": "stdout",
       "text": [
        "1 loops, best of 3: 971 ms per loop\n"
       ]
      }
     ],
     "prompt_number": 203
    },
    {
     "cell_type": "heading",
     "level": 3,
     "metadata": {},
     "source": [
      "colour.models.deprecated.RGB_to_CMY"
     ]
    },
    {
     "cell_type": "code",
     "collapsed": false,
     "input": [
      "def RGB_to_CMY_2d(RGB):\n",
      "    for i in range(len(RGB)):\n",
      "        RGB_to_CMY(RGB[i])"
     ],
     "language": "python",
     "metadata": {},
     "outputs": [],
     "prompt_number": 204
    },
    {
     "cell_type": "code",
     "collapsed": false,
     "input": [
      "%timeit RGB_to_CMY_2d(DATA1)"
     ],
     "language": "python",
     "metadata": {},
     "outputs": [
      {
       "output_type": "stream",
       "stream": "stdout",
       "text": [
        "1 loops, best of 3: 13.1 s per loop\n"
       ]
      }
     ],
     "prompt_number": 205
    },
    {
     "cell_type": "code",
     "collapsed": false,
     "input": [
      "def RGB_to_CMY_vectorise(RGB):\n",
      "    RGB = as_array(RGB, (-1, 3))\n",
      "    CMY = np.squeeze(1 - RGB)\n",
      "\n",
      "    return CMY\n",
      "\n",
      "\n",
      "print('Reference:')\n",
      "RGB = np.array([0.49019608, 0.98039216, 0.25098039])\n",
      "print(RGB_to_CMY(RGB))\n",
      "\n",
      "print('\\n')\n",
      "\n",
      "print('1d array:')\n",
      "print(RGB_to_CMY_vectorise(RGB))\n",
      "\n",
      "print('\\n')\n",
      "\n",
      "print('2d array:')\n",
      "RGB = np.tile(RGB, (5, 1))\n",
      "print(RGB_to_CMY_vectorise(RGB))"
     ],
     "language": "python",
     "metadata": {},
     "outputs": [
      {
       "output_type": "stream",
       "stream": "stdout",
       "text": [
        "Reference:\n",
        "[ 0.50980392  0.01960784  0.74901961]\n",
        "\n",
        "\n",
        "1d array:\n",
        "[ 0.50980392  0.01960784  0.74901961]\n",
        "\n",
        "\n",
        "2d array:\n",
        "[[ 0.50980392  0.01960784  0.74901961]\n",
        " [ 0.50980392  0.01960784  0.74901961]\n",
        " [ 0.50980392  0.01960784  0.74901961]\n",
        " [ 0.50980392  0.01960784  0.74901961]\n",
        " [ 0.50980392  0.01960784  0.74901961]]\n"
       ]
      }
     ],
     "prompt_number": 206
    },
    {
     "cell_type": "code",
     "collapsed": false,
     "input": [
      "%timeit RGB_to_CMY_vectorise(DATA1)"
     ],
     "language": "python",
     "metadata": {},
     "outputs": [
      {
       "output_type": "stream",
       "stream": "stdout",
       "text": [
        "10 loops, best of 3: 21.7 ms per loop\n"
       ]
      }
     ],
     "prompt_number": 207
    },
    {
     "cell_type": "heading",
     "level": 3,
     "metadata": {},
     "source": [
      "colour.models.deprecated.CMY_to_RGB"
     ]
    },
    {
     "cell_type": "code",
     "collapsed": false,
     "input": [
      "def CMY_to_RGB_2d(CMY):\n",
      "    for i in range(len(CMY)):\n",
      "        CMY_to_RGB(CMY[i])"
     ],
     "language": "python",
     "metadata": {},
     "outputs": [],
     "prompt_number": 208
    },
    {
     "cell_type": "code",
     "collapsed": false,
     "input": [
      "%timeit CMY_to_RGB_2d(DATA1)"
     ],
     "language": "python",
     "metadata": {},
     "outputs": [
      {
       "output_type": "stream",
       "stream": "stdout",
       "text": [
        "1 loops, best of 3: 12.5 s per loop\n"
       ]
      }
     ],
     "prompt_number": 209
    },
    {
     "cell_type": "code",
     "collapsed": false,
     "input": [
      "def CMY_to_RGB_vectorise(CMY):\n",
      "    CMY = as_array(CMY, (-1, 3))\n",
      "    RGB = np.squeeze(1 - CMY)\n",
      "    \n",
      "    return RGB\n",
      "\n",
      "\n",
      "print('Reference:')\n",
      "CMY = np.array([0.50980392, 0.01960784, 0.74901961])\n",
      "print(CMY_to_RGB(CMY))\n",
      "\n",
      "print('\\n')\n",
      "\n",
      "print('1d array:')\n",
      "print(CMY_to_RGB_vectorise(CMY))\n",
      "\n",
      "print('\\n')\n",
      "\n",
      "print('2d array:')\n",
      "CMY = np.tile(CMY, (5, 1))\n",
      "print(CMY_to_RGB_vectorise(CMY))"
     ],
     "language": "python",
     "metadata": {},
     "outputs": [
      {
       "output_type": "stream",
       "stream": "stdout",
       "text": [
        "Reference:\n",
        "[ 0.49019608  0.98039216  0.25098039]\n",
        "\n",
        "\n",
        "1d array:\n",
        "[ 0.49019608  0.98039216  0.25098039]\n",
        "\n",
        "\n",
        "2d array:\n",
        "[[ 0.49019608  0.98039216  0.25098039]\n",
        " [ 0.49019608  0.98039216  0.25098039]\n",
        " [ 0.49019608  0.98039216  0.25098039]\n",
        " [ 0.49019608  0.98039216  0.25098039]\n",
        " [ 0.49019608  0.98039216  0.25098039]]\n"
       ]
      }
     ],
     "prompt_number": 210
    },
    {
     "cell_type": "code",
     "collapsed": false,
     "input": [
      "%timeit CMY_to_RGB_vectorise(DATA1)"
     ],
     "language": "python",
     "metadata": {},
     "outputs": [
      {
       "output_type": "stream",
       "stream": "stdout",
       "text": [
        "10 loops, best of 3: 21.3 ms per loop\n"
       ]
      }
     ],
     "prompt_number": 211
    },
    {
     "cell_type": "heading",
     "level": 3,
     "metadata": {},
     "source": [
      "colour.models.deprecated.CMY_to_CMYK"
     ]
    },
    {
     "cell_type": "code",
     "collapsed": false,
     "input": [
      "def CMY_to_CMYK_2d(CMY):\n",
      "    for i in range(len(CMY)):\n",
      "        CMY_to_CMYK(CMY[i])"
     ],
     "language": "python",
     "metadata": {},
     "outputs": [],
     "prompt_number": 212
    },
    {
     "cell_type": "code",
     "collapsed": false,
     "input": [
      "%timeit CMY_to_CMYK_2d(DATA1)"
     ],
     "language": "python",
     "metadata": {},
     "outputs": [
      {
       "output_type": "stream",
       "stream": "stdout",
       "text": [
        "1 loops, best of 3: 20.1 s per loop\n"
       ]
      }
     ],
     "prompt_number": 213
    },
    {
     "cell_type": "code",
     "collapsed": false,
     "input": [
      "def CMY_to_CMYK_vectorise(CMY):\n",
      "    CMY = as_array(CMY, (-1, 3))\n",
      "    C, M, Y = CMY[:, 0], CMY[:, 1], CMY[:, 2]\n",
      "\n",
      "    K = np.ones(C.shape)\n",
      "    K = np.where(C < K, C, K)\n",
      "    K = np.where(M < K, M, K)\n",
      "    K = np.where(Y < K, Y, K)\n",
      "\n",
      "    C = (C - K) / (1 - K)\n",
      "    M = (M - K) / (1 - K)\n",
      "    Y = (Y - K) / (1 - K) \n",
      "\n",
      "    C[K == 1] = 0\n",
      "    M[K == 1] = 0\n",
      "    Y[K == 1] = 0\n",
      "\n",
      "    CMYK = as_stack((C, M, Y, K))\n",
      "\n",
      "    return CMYK\n",
      "\n",
      "\n",
      "print('Reference:')\n",
      "CMY = np.array([0.49019608, 0.98039216, 0.25098039])\n",
      "print(CMY_to_CMYK(CMY))\n",
      "\n",
      "print('\\n')\n",
      "\n",
      "print('1d array:')\n",
      "print(CMY_to_CMYK_vectorise(CMY))\n",
      "\n",
      "print('\\n')\n",
      "\n",
      "print('2d array:')\n",
      "CMY = np.tile(CMY, (5, 1))\n",
      "print(CMY_to_CMYK_vectorise(CMY))"
     ],
     "language": "python",
     "metadata": {},
     "outputs": [
      {
       "output_type": "stream",
       "stream": "stdout",
       "text": [
        "Reference:\n",
        "[ 0.31937173  0.97382199  0.          0.25098039]\n",
        "\n",
        "\n",
        "1d array:\n",
        "[ 0.31937173  0.97382199  0.          0.25098039]\n",
        "\n",
        "\n",
        "2d array:\n",
        "[[ 0.31937173  0.97382199  0.          0.25098039]\n",
        " [ 0.31937173  0.97382199  0.          0.25098039]\n",
        " [ 0.31937173  0.97382199  0.          0.25098039]\n",
        " [ 0.31937173  0.97382199  0.          0.25098039]\n",
        " [ 0.31937173  0.97382199  0.          0.25098039]]\n"
       ]
      }
     ],
     "prompt_number": 214
    },
    {
     "cell_type": "code",
     "collapsed": false,
     "input": [
      "%timeit CMY_to_CMYK_vectorise(DATA1)"
     ],
     "language": "python",
     "metadata": {},
     "outputs": [
      {
       "output_type": "stream",
       "stream": "stdout",
       "text": [
        "1 loops, best of 3: 289 ms per loop\n"
       ]
      }
     ],
     "prompt_number": 215
    },
    {
     "cell_type": "heading",
     "level": 3,
     "metadata": {},
     "source": [
      "colour.models.deprecated.CMYK_to_CMY"
     ]
    },
    {
     "cell_type": "code",
     "collapsed": false,
     "input": [
      "def CMYK_to_CMY_2d(CMYK):\n",
      "    for i in range(len(CMYK)):\n",
      "        CMYK_to_CMY(CMYK[i])"
     ],
     "language": "python",
     "metadata": {},
     "outputs": [],
     "prompt_number": 216
    },
    {
     "cell_type": "code",
     "collapsed": false,
     "input": [
      "%timeit CMYK_to_CMY_2d(np.resize(DATA1, (-1, 4)))"
     ],
     "language": "python",
     "metadata": {},
     "outputs": [
      {
       "output_type": "stream",
       "stream": "stdout",
       "text": [
        "1 loops, best of 3: 13.7 s per loop\n"
       ]
      }
     ],
     "prompt_number": 217
    },
    {
     "cell_type": "code",
     "collapsed": false,
     "input": [
      "def CMYK_to_CMY_vectorise(CMYK):\n",
      "    CMYK = as_array(CMYK, (-1, 4))\n",
      "    C, M, Y, K = CMYK[:, 0], CMYK[:, 1], CMYK[:, 2], CMYK[:, 3]\n",
      "\n",
      "    CMY = as_stack((C * (1 - K) + K, M * (1 - K) + K, Y * (1 - K) + K))\n",
      "\n",
      "    return CMY\n",
      "\n",
      "print('Reference:')\n",
      "CMYK = np.array([0.31937173, 0.97382199, 0., 0.25098039])\n",
      "print(CMYK_to_CMY(CMYK))\n",
      "\n",
      "print('\\n')\n",
      "\n",
      "print('1d array:')\n",
      "print(CMYK_to_CMY_vectorise(CMYK))\n",
      "\n",
      "print('\\n')\n",
      "\n",
      "print('2d array:')\n",
      "CMYK = np.tile(CMYK, (5, 1))\n",
      "print(CMYK_to_CMY_vectorise(CMYK))"
     ],
     "language": "python",
     "metadata": {},
     "outputs": [
      {
       "output_type": "stream",
       "stream": "stdout",
       "text": [
        "Reference:\n",
        "[ 0.49019608  0.98039216  0.25098039]\n",
        "\n",
        "\n",
        "1d array:\n",
        "[ 0.49019608  0.98039216  0.25098039]\n",
        "\n",
        "\n",
        "2d array:\n",
        "[[ 0.49019608  0.98039216  0.25098039]\n",
        " [ 0.49019608  0.98039216  0.25098039]\n",
        " [ 0.49019608  0.98039216  0.25098039]\n",
        " [ 0.49019608  0.98039216  0.25098039]\n",
        " [ 0.49019608  0.98039216  0.25098039]]\n"
       ]
      }
     ],
     "prompt_number": 218
    },
    {
     "cell_type": "code",
     "collapsed": false,
     "input": [
      "%timeit CMYK_to_CMY_vectorise(np.resize(DATA1, (-1, 4)))"
     ],
     "language": "python",
     "metadata": {},
     "outputs": [
      {
       "output_type": "stream",
       "stream": "stdout",
       "text": [
        "10 loops, best of 3: 109 ms per loop\n"
       ]
      }
     ],
     "prompt_number": 219
    },
    {
     "cell_type": "heading",
     "level": 2,
     "metadata": {},
     "source": [
      "colour.models.derivation"
     ]
    },
    {
     "cell_type": "heading",
     "level": 3,
     "metadata": {},
     "source": [
      "colour.RGB_luminance"
     ]
    },
    {
     "cell_type": "code",
     "collapsed": false,
     "input": [
      "from colour.models.derivation import *\n",
      "\n",
      "def RGB_luminance_2d(RGB):\n",
      "    for i in range(len(RGB)):\n",
      "        RGB_luminance(RGB[i],\n",
      "                      np.array([0.73470, 0.26530, 0.00000, 1.00000, 0.00010, -0.07700]),\n",
      "                      (0.32168, 0.33767))"
     ],
     "language": "python",
     "metadata": {},
     "outputs": [],
     "prompt_number": 220
    },
    {
     "cell_type": "code",
     "collapsed": false,
     "input": [
      "%timeit RGB_luminance_2d(DATA1)"
     ],
     "language": "python",
     "metadata": {},
     "outputs": [
      {
       "output_type": "stream",
       "stream": "stdout",
       "text": [
        "1 loops, best of 3: 2min 42s per loop\n"
       ]
      }
     ],
     "prompt_number": 221
    },
    {
     "cell_type": "code",
     "collapsed": false,
     "input": [
      "def RGB_luminance_vectorise(RGB, primaries, whitepoint):\n",
      "    RGB = as_array(RGB, (-1, 3))\n",
      "    X, Y, Z = np.ravel(normalised_primary_matrix(primaries,\n",
      "                                                 whitepoint))[3:6]\n",
      "\n",
      "    R, G, B = RGB[:, 0], RGB[:, 1], RGB[:, 2]\n",
      "\n",
      "    return np.squeeze(X * R + Y * G + Z * B)\n",
      "\n",
      "\n",
      "print('Reference:')\n",
      "RGB = np.array([40.6, 4.2, 67.4])\n",
      "P = np.array([0.73470, 0.26530, 0.00000, 1.00000, 0.00010, -0.07700])\n",
      "W = (0.32168, 0.33767)\n",
      "print(RGB_luminance(RGB, P, W))\n",
      "\n",
      "print('\\n')\n",
      "\n",
      "print('1d array:')\n",
      "print(RGB_luminance_vectorise(RGB, P, W))\n",
      "\n",
      "print('\\n')\n",
      "\n",
      "print('2d array:')\n",
      "RGB = np.tile(RGB, (5, 1))\n",
      "print(RGB_luminance_vectorise(RGB, P, W))"
     ],
     "language": "python",
     "metadata": {},
     "outputs": [
      {
       "output_type": "stream",
       "stream": "stdout",
       "text": [
        "Reference:\n",
        "12.1616018403\n",
        "\n",
        "\n",
        "1d array:\n",
        "12.1616018403\n",
        "\n",
        "\n",
        "2d array:\n",
        "[ 12.16160184  12.16160184  12.16160184  12.16160184  12.16160184]\n"
       ]
      }
     ],
     "prompt_number": 222
    },
    {
     "cell_type": "code",
     "collapsed": false,
     "input": [
      "%timeit RGB_luminance_vectorise(DATA1, P, W)"
     ],
     "language": "python",
     "metadata": {},
     "outputs": [
      {
       "output_type": "stream",
       "stream": "stdout",
       "text": [
        "10 loops, best of 3: 25.7 ms per loop\n"
       ]
      }
     ],
     "prompt_number": 223
    },
    {
     "cell_type": "heading",
     "level": 2,
     "metadata": {},
     "source": [
      "colour.models.ipt"
     ]
    },
    {
     "cell_type": "heading",
     "level": 3,
     "metadata": {},
     "source": [
      "colour.XYZ_to_IPT"
     ]
    },
    {
     "cell_type": "code",
     "collapsed": false,
     "input": [
      "from colour.models.ipt import *\n",
      "\n",
      "def XYZ_to_IPT_2d(XYZ):\n",
      "    for i in range(len(XYZ)):\n",
      "        XYZ_to_IPT(XYZ[i])"
     ],
     "language": "python",
     "metadata": {},
     "outputs": [],
     "prompt_number": 224
    },
    {
     "cell_type": "code",
     "collapsed": false,
     "input": [
      "%timeit XYZ_to_IPT_2d(DATA1)"
     ],
     "language": "python",
     "metadata": {},
     "outputs": [
      {
       "output_type": "stream",
       "stream": "stdout",
       "text": [
        "1 loops, best of 3: 17.4 s per loop\n"
       ]
      }
     ],
     "prompt_number": 225
    },
    {
     "cell_type": "code",
     "collapsed": false,
     "input": [
      "def XYZ_to_IPT_vectorise(XYZ):\n",
      "    XYZ = as_array(XYZ, (-1, 3))\n",
      "    \n",
      "    LMS = np.einsum('...i,...ji', XYZ, IPT_XYZ_TO_LMS_MATRIX)\n",
      "    LMS_prime = np.sign(LMS) * np.abs(LMS) ** 0.43\n",
      "    IPT = np.squeeze(np.einsum('...i,...ji', LMS_prime, IPT_LMS_TO_IPT_MATRIX))\n",
      "\n",
      "    return IPT\n",
      "\n",
      "print('Reference:')\n",
      "XYZ = np.array([0.96907232, 1, 1.12179215])\n",
      "print(XYZ_to_IPT(XYZ))\n",
      "\n",
      "print('\\n')\n",
      "\n",
      "print('1d array:')\n",
      "print(XYZ_to_IPT_vectorise(XYZ))\n",
      "\n",
      "print('\\n')\n",
      "\n",
      "print('2d array:')\n",
      "XYZ = np.tile(XYZ, (5, 1))\n",
      "print(XYZ_to_IPT_vectorise(XYZ))"
     ],
     "language": "python",
     "metadata": {},
     "outputs": [
      {
       "output_type": "stream",
       "stream": "stdout",
       "text": [
        "Reference:\n",
        "[ 1.00300825  0.01906918 -0.01369292]\n",
        "\n",
        "\n",
        "1d array:\n",
        "[ 1.00300825  0.01906918 -0.01369292]\n",
        "\n",
        "\n",
        "2d array:\n",
        "[[ 1.00300825  0.01906918 -0.01369292]\n",
        " [ 1.00300825  0.01906918 -0.01369292]\n",
        " [ 1.00300825  0.01906918 -0.01369292]\n",
        " [ 1.00300825  0.01906918 -0.01369292]\n",
        " [ 1.00300825  0.01906918 -0.01369292]]\n"
       ]
      }
     ],
     "prompt_number": 226
    },
    {
     "cell_type": "code",
     "collapsed": false,
     "input": [
      "%timeit XYZ_to_IPT_vectorise(DATA1)"
     ],
     "language": "python",
     "metadata": {},
     "outputs": [
      {
       "output_type": "stream",
       "stream": "stdout",
       "text": [
        "1 loops, best of 3: 720 ms per loop\n"
       ]
      }
     ],
     "prompt_number": 227
    },
    {
     "cell_type": "heading",
     "level": 3,
     "metadata": {},
     "source": [
      "colour.IPT_to_XYZ"
     ]
    },
    {
     "cell_type": "code",
     "collapsed": false,
     "input": [
      "def IPT_to_XYZ_2d(IPT):\n",
      "    for i in range(len(IPT)):\n",
      "        IPT_to_XYZ(IPT[i])"
     ],
     "language": "python",
     "metadata": {},
     "outputs": [],
     "prompt_number": 228
    },
    {
     "cell_type": "code",
     "collapsed": false,
     "input": [
      "%timeit IPT_to_XYZ_2d(DATA1)"
     ],
     "language": "python",
     "metadata": {},
     "outputs": [
      {
       "output_type": "stream",
       "stream": "stdout",
       "text": [
        "1 loops, best of 3: 17.8 s per loop\n"
       ]
      }
     ],
     "prompt_number": 229
    },
    {
     "cell_type": "code",
     "collapsed": false,
     "input": [
      "def IPT_to_XYZ_vectorise(IPT):\n",
      "    IPT = as_array(IPT, (-1, 3))\n",
      "    \n",
      "    LMS = np.einsum('...i,...ji', IPT, IPT_IPT_TO_LMS_MATRIX)\n",
      "    LMS_prime = np.sign(LMS) * np.abs(LMS) ** (1 / 0.43)\n",
      "    XYZ = np.squeeze(np.einsum('...i,...ji', LMS_prime, IPT_LMS_TO_XYZ_MATRIX))\n",
      "\n",
      "    return XYZ\n",
      "\n",
      "\n",
      "print('Reference:')\n",
      "IPT = np.array([1.00300825, 0.01906918, -0.01369292])\n",
      "print(IPT_to_XYZ(IPT))\n",
      "\n",
      "print('\\n')\n",
      "\n",
      "print('1d array:')\n",
      "print(IPT_to_XYZ_vectorise(IPT))\n",
      "\n",
      "print('\\n')\n",
      "\n",
      "print('2d array:')\n",
      "IPT = np.tile(IPT, (5, 1))\n",
      "print(IPT_to_XYZ_vectorise(IPT))"
     ],
     "language": "python",
     "metadata": {},
     "outputs": [
      {
       "output_type": "stream",
       "stream": "stdout",
       "text": [
        "Reference:\n",
        "[ 0.96907232  1.          1.12179215]\n",
        "\n",
        "\n",
        "1d array:\n",
        "[ 0.96907232  1.          1.12179215]\n",
        "\n",
        "\n",
        "2d array:\n",
        "[[ 0.96907232  1.          1.12179215]\n",
        " [ 0.96907232  1.          1.12179215]\n",
        " [ 0.96907232  1.          1.12179215]\n",
        " [ 0.96907232  1.          1.12179215]\n",
        " [ 0.96907232  1.          1.12179215]]\n"
       ]
      }
     ],
     "prompt_number": 230
    },
    {
     "cell_type": "code",
     "collapsed": false,
     "input": [
      "%timeit IPT_to_XYZ_vectorise(DATA1)"
     ],
     "language": "python",
     "metadata": {},
     "outputs": [
      {
       "output_type": "stream",
       "stream": "stdout",
       "text": [
        "1 loops, best of 3: 717 ms per loop\n"
       ]
      }
     ],
     "prompt_number": 231
    },
    {
     "cell_type": "heading",
     "level": 3,
     "metadata": {},
     "source": [
      "colour.IPT_hue_angle"
     ]
    },
    {
     "cell_type": "code",
     "collapsed": false,
     "input": [
      "def IPT_hue_angle_2d(IPT):\n",
      "    for i in range(len(IPT)):\n",
      "        IPT_hue_angle(IPT[i])"
     ],
     "language": "python",
     "metadata": {},
     "outputs": [],
     "prompt_number": 232
    },
    {
     "cell_type": "code",
     "collapsed": false,
     "input": [
      "%timeit IPT_hue_angle_2d(DATA1)"
     ],
     "language": "python",
     "metadata": {},
     "outputs": [
      {
       "output_type": "stream",
       "stream": "stdout",
       "text": [
        "1 loops, best of 3: 6.11 s per loop\n"
       ]
      }
     ],
     "prompt_number": 233
    },
    {
     "cell_type": "code",
     "collapsed": false,
     "input": [
      "def IPT_hue_angle_vectorise(IPT):\n",
      "    IPT = as_array(IPT, (-1, 3))\n",
      "    \n",
      "    hue = np.arctan2(IPT[:, 2], IPT[:, 1])\n",
      "\n",
      "    return hue\n",
      "\n",
      "\n",
      "print('Reference:')\n",
      "IPT = np.array([0.96907232, 1., 1.12179215])\n",
      "print(IPT_hue_angle(IPT))\n",
      "\n",
      "print('\\n')\n",
      "\n",
      "print('1d array:')\n",
      "print(IPT_hue_angle_vectorise(IPT))\n",
      "\n",
      "print('\\n')\n",
      "\n",
      "print('2d array:')\n",
      "IPT = np.tile(IPT, (5, 1))\n",
      "print(IPT_hue_angle_vectorise(IPT))"
     ],
     "language": "python",
     "metadata": {},
     "outputs": [
      {
       "output_type": "stream",
       "stream": "stdout",
       "text": [
        "Reference:\n",
        "0.842735849544\n",
        "\n",
        "\n",
        "1d array:\n",
        "[ 0.84273585]\n",
        "\n",
        "\n",
        "2d array:\n",
        "[ 0.84273585  0.84273585  0.84273585  0.84273585  0.84273585]\n"
       ]
      }
     ],
     "prompt_number": 234
    },
    {
     "cell_type": "code",
     "collapsed": false,
     "input": [
      "%timeit IPT_hue_angle_vectorise(DATA1)"
     ],
     "language": "python",
     "metadata": {},
     "outputs": [
      {
       "output_type": "stream",
       "stream": "stdout",
       "text": [
        "10 loops, best of 3: 124 ms per loop\n"
       ]
      }
     ],
     "prompt_number": 235
    },
    {
     "cell_type": "heading",
     "level": 2,
     "metadata": {},
     "source": [
      "colour.models.log"
     ]
    },
    {
     "cell_type": "heading",
     "level": 3,
     "metadata": {},
     "source": [
      "colour.linear_to_cineon"
     ]
    },
    {
     "cell_type": "code",
     "collapsed": false,
     "input": [
      "from colour.models.log import *\n",
      "\n",
      "def linear_to_cineon_2d(value):\n",
      "    for i in range(len(value)):\n",
      "        linear_to_cineon(value[i])\n",
      "        \n",
      "DATA = np.linspace(0, 1, 1000000)"
     ],
     "language": "python",
     "metadata": {},
     "outputs": [],
     "prompt_number": 236
    },
    {
     "cell_type": "code",
     "collapsed": false,
     "input": [
      "%timeit linear_to_cineon_2d(DATA)"
     ],
     "language": "python",
     "metadata": {},
     "outputs": [
      {
       "output_type": "stream",
       "stream": "stdout",
       "text": [
        "1 loops, best of 3: 5.36 s per loop\n"
       ]
      }
     ],
     "prompt_number": 237
    },
    {
     "cell_type": "code",
     "collapsed": false,
     "input": [
      "def linear_to_cineon_vectorise(value, black_offset=10 ** ((95 - 685) / 300), **kwargs):\n",
      "    value = as_array(value)\n",
      "\n",
      "    return as_numeric(((685 +\n",
      "             300 * np.log10(value * (1 - black_offset) + black_offset)) / 1023))\n",
      "\n",
      "print('Reference:')\n",
      "print(linear_to_cineon(0.18))\n",
      "\n",
      "print('\\n')\n",
      "\n",
      "print('1d array:')\n",
      "print(linear_to_cineon_vectorise(0.18))\n",
      "\n",
      "print('\\n')\n",
      "\n",
      "print('2d array:')\n",
      "print(linear_to_cineon_vectorise(\n",
      "    [0.18, 0.18, 0.18, 0.18, 0.18]))"
     ],
     "language": "python",
     "metadata": {},
     "outputs": [
      {
       "output_type": "stream",
       "stream": "stdout",
       "text": [
        "Reference:\n",
        "0.457319613085\n",
        "\n",
        "\n",
        "1d array:\n",
        "0.457319613085\n",
        "\n",
        "\n",
        "2d array:\n",
        "[ 0.45731961  0.45731961  0.45731961  0.45731961  0.45731961]\n"
       ]
      }
     ],
     "prompt_number": 238
    },
    {
     "cell_type": "code",
     "collapsed": false,
     "input": [
      "%timeit linear_to_cineon_vectorise(DATA)"
     ],
     "language": "python",
     "metadata": {},
     "outputs": [
      {
       "output_type": "stream",
       "stream": "stdout",
       "text": [
        "10 loops, best of 3: 86.7 ms per loop\n"
       ]
      }
     ],
     "prompt_number": 239
    },
    {
     "cell_type": "heading",
     "level": 3,
     "metadata": {},
     "source": [
      "colour.cineon_to_linear"
     ]
    },
    {
     "cell_type": "code",
     "collapsed": false,
     "input": [
      "def cineon_to_linear_2d(value):\n",
      "    for i in range(len(value)):\n",
      "        cineon_to_linear(value[i])"
     ],
     "language": "python",
     "metadata": {},
     "outputs": [],
     "prompt_number": 240
    },
    {
     "cell_type": "code",
     "collapsed": false,
     "input": [
      "%timeit cineon_to_linear_2d(DATA)"
     ],
     "language": "python",
     "metadata": {},
     "outputs": [
      {
       "output_type": "stream",
       "stream": "stdout",
       "text": [
        "1 loops, best of 3: 4.48 s per loop\n"
       ]
      }
     ],
     "prompt_number": 241
    },
    {
     "cell_type": "code",
     "collapsed": false,
     "input": [
      "def cineon_to_linear_vectorise(value, black_offset=10 ** ((95 - 685) / 300), **kwargs):\n",
      "    value = as_array(value)\n",
      "\n",
      "    return as_numeric(((10 ** ((1023 * value - 685) / 300) - black_offset) /\n",
      "            (1 - black_offset)))\n",
      "\n",
      "print('Reference:')\n",
      "print(cineon_to_linear(0.5))\n",
      "\n",
      "print('\\n')\n",
      "\n",
      "print('1d array:')\n",
      "print(cineon_to_linear_vectorise(0.5))\n",
      "\n",
      "print('\\n')\n",
      "\n",
      "print('2d array:')\n",
      "print(cineon_to_linear_vectorise(\n",
      "    [0.5, 0.5, 0.5, 0.5, 0.5]))"
     ],
     "language": "python",
     "metadata": {},
     "outputs": [
      {
       "output_type": "stream",
       "stream": "stdout",
       "text": [
        "Reference:\n",
        "0.256004664334\n",
        "\n",
        "\n",
        "1d array:\n",
        "0.256004664334\n",
        "\n",
        "\n",
        "2d array:\n",
        "[ 0.25600466  0.25600466  0.25600466  0.25600466  0.25600466]\n"
       ]
      }
     ],
     "prompt_number": 242
    },
    {
     "cell_type": "heading",
     "level": 3,
     "metadata": {},
     "source": [
      "colour.linear_to_panalog"
     ]
    },
    {
     "cell_type": "code",
     "collapsed": false,
     "input": [
      "def linear_to_panalog_2d(value):\n",
      "    for i in range(len(value)):\n",
      "        linear_to_panalog(value[i])"
     ],
     "language": "python",
     "metadata": {},
     "outputs": [],
     "prompt_number": 243
    },
    {
     "cell_type": "code",
     "collapsed": false,
     "input": [
      "%timeit linear_to_panalog_2d(DATA)"
     ],
     "language": "python",
     "metadata": {},
     "outputs": [
      {
       "output_type": "stream",
       "stream": "stdout",
       "text": [
        "1 loops, best of 3: 5.27 s per loop\n"
       ]
      }
     ],
     "prompt_number": 244
    },
    {
     "cell_type": "code",
     "collapsed": false,
     "input": [
      "def linear_to_panalog_vectorise(value, black_offset=10 ** ((64 - 681) / 444), **kwargs):\n",
      "    value = as_array(value)\n",
      "\n",
      "    return as_numeric(((681 +\n",
      "             444 * np.log10(value * (1 - black_offset) + black_offset)) / 1023))\n",
      "\n",
      "print('Reference:')\n",
      "print(linear_to_panalog(0.18))\n",
      "\n",
      "print('\\n')\n",
      "\n",
      "print('1d array:')\n",
      "print(linear_to_panalog_vectorise(0.18))\n",
      "\n",
      "print('\\n')\n",
      "\n",
      "print('2d array:')\n",
      "print(linear_to_panalog_vectorise(\n",
      "    [0.18, 0.18, 0.18, 0.18, 0.18]))"
     ],
     "language": "python",
     "metadata": {},
     "outputs": [
      {
       "output_type": "stream",
       "stream": "stdout",
       "text": [
        "Reference:\n",
        "0.374576791382\n",
        "\n",
        "\n",
        "1d array:\n",
        "0.374576791382\n",
        "\n",
        "\n",
        "2d array:\n",
        "[ 0.37457679  0.37457679  0.37457679  0.37457679  0.37457679]\n"
       ]
      }
     ],
     "prompt_number": 245
    },
    {
     "cell_type": "code",
     "collapsed": false,
     "input": [
      "%timeit linear_to_panalog_vectorise(DATA)"
     ],
     "language": "python",
     "metadata": {},
     "outputs": [
      {
       "output_type": "stream",
       "stream": "stdout",
       "text": [
        "10 loops, best of 3: 56.6 ms per loop\n"
       ]
      }
     ],
     "prompt_number": 246
    },
    {
     "cell_type": "heading",
     "level": 3,
     "metadata": {},
     "source": [
      "colour.panalog_to_linear"
     ]
    },
    {
     "cell_type": "code",
     "collapsed": false,
     "input": [
      "def panalog_to_linear_2d(value):\n",
      "    for i in range(len(value)):\n",
      "        panalog_to_linear(value[i])"
     ],
     "language": "python",
     "metadata": {},
     "outputs": [],
     "prompt_number": 247
    },
    {
     "cell_type": "code",
     "collapsed": false,
     "input": [
      "%timeit panalog_to_linear_2d(DATA)"
     ],
     "language": "python",
     "metadata": {},
     "outputs": [
      {
       "output_type": "stream",
       "stream": "stdout",
       "text": [
        "1 loops, best of 3: 4.56 s per loop\n"
       ]
      }
     ],
     "prompt_number": 248
    },
    {
     "cell_type": "code",
     "collapsed": false,
     "input": [
      "def panalog_to_linear_vectorise(value, black_offset=10 ** ((64 - 681) / 444), **kwargs):\n",
      "    value = as_array(value)\n",
      "\n",
      "    return as_numeric(((10 ** ((1023 * value - 681) / 444) - black_offset) /\n",
      "            (1 - black_offset)))\n",
      "\n",
      "print('Reference:')\n",
      "print(panalog_to_linear(0.5))\n",
      "\n",
      "print('\\n')\n",
      "\n",
      "print('1d array:')\n",
      "print(panalog_to_linear_vectorise(0.5))\n",
      "\n",
      "print('\\n')\n",
      "\n",
      "print('2d array:')\n",
      "print(panalog_to_linear_vectorise(\n",
      "    [0.5, 0.5, 0.5, 0.5, 0.5]))"
     ],
     "language": "python",
     "metadata": {},
     "outputs": [
      {
       "output_type": "stream",
       "stream": "stdout",
       "text": [
        "Reference:\n",
        "0.390329111909\n",
        "\n",
        "\n",
        "1d array:\n",
        "0.390329111909\n",
        "\n",
        "\n",
        "2d array:\n",
        "[ 0.39032911  0.39032911  0.39032911  0.39032911  0.39032911]\n"
       ]
      }
     ],
     "prompt_number": 249
    },
    {
     "cell_type": "code",
     "collapsed": false,
     "input": [
      "%timeit panalog_to_linear_vectorise(DATA)"
     ],
     "language": "python",
     "metadata": {},
     "outputs": [
      {
       "output_type": "stream",
       "stream": "stdout",
       "text": [
        "10 loops, best of 3: 101 ms per loop\n"
       ]
      }
     ],
     "prompt_number": 250
    },
    {
     "cell_type": "heading",
     "level": 3,
     "metadata": {},
     "source": [
      "colour.linear_to_red_log"
     ]
    },
    {
     "cell_type": "code",
     "collapsed": false,
     "input": [
      "def linear_to_red_log_2d(value):\n",
      "    for i in range(len(value)):\n",
      "        linear_to_red_log(value[i])"
     ],
     "language": "python",
     "metadata": {},
     "outputs": [],
     "prompt_number": 251
    },
    {
     "cell_type": "code",
     "collapsed": false,
     "input": [
      "%timeit linear_to_red_log(DATA)"
     ],
     "language": "python",
     "metadata": {},
     "outputs": [
      {
       "output_type": "stream",
       "stream": "stdout",
       "text": [
        "10 loops, best of 3: 58.7 ms per loop\n"
       ]
      }
     ],
     "prompt_number": 252
    },
    {
     "cell_type": "code",
     "collapsed": false,
     "input": [
      "def linear_to_red_log_vectorise(value, black_offset=10 ** ((0 - 1023) / 511), **kwargs):\n",
      "    value = as_array(value)\n",
      "\n",
      "    return as_numeric(((1023 +\n",
      "             511 * np.log10(value * (1 - black_offset) + black_offset)) / 1023))\n",
      "\n",
      "print('Reference:')\n",
      "print(linear_to_red_log(0.18))\n",
      "\n",
      "print('\\n')\n",
      "\n",
      "print('1d array:')\n",
      "print(linear_to_red_log_vectorise(0.18))\n",
      "\n",
      "print('\\n')\n",
      "\n",
      "print('2d array:')\n",
      "print(linear_to_red_log_vectorise(\n",
      "    [0.18, 0.18, 0.18, 0.18, 0.18]))"
     ],
     "language": "python",
     "metadata": {},
     "outputs": [
      {
       "output_type": "stream",
       "stream": "stdout",
       "text": [
        "Reference:\n",
        "0.637621845988\n",
        "\n",
        "\n",
        "1d array:\n",
        "0.637621845988\n",
        "\n",
        "\n",
        "2d array:\n",
        "[ 0.63762185  0.63762185  0.63762185  0.63762185  0.63762185]\n"
       ]
      }
     ],
     "prompt_number": 253
    },
    {
     "cell_type": "code",
     "collapsed": false,
     "input": [
      "%timeit linear_to_red_log_vectorise(DATA)"
     ],
     "language": "python",
     "metadata": {},
     "outputs": [
      {
       "output_type": "stream",
       "stream": "stdout",
       "text": [
        "10 loops, best of 3: 96.1 ms per loop\n"
       ]
      }
     ],
     "prompt_number": 254
    },
    {
     "cell_type": "heading",
     "level": 3,
     "metadata": {},
     "source": [
      "colour.red_log_to_linear"
     ]
    },
    {
     "cell_type": "code",
     "collapsed": false,
     "input": [
      "def red_log_to_linear_2d(value):\n",
      "    for i in range(len(value)):\n",
      "        red_log_to_linear(value[i])"
     ],
     "language": "python",
     "metadata": {},
     "outputs": [],
     "prompt_number": 255
    },
    {
     "cell_type": "code",
     "collapsed": false,
     "input": [
      "%timeit red_log_to_linear_2d(DATA)"
     ],
     "language": "python",
     "metadata": {},
     "outputs": [
      {
       "output_type": "stream",
       "stream": "stdout",
       "text": [
        "1 loops, best of 3: 4.62 s per loop\n"
       ]
      }
     ],
     "prompt_number": 256
    },
    {
     "cell_type": "code",
     "collapsed": false,
     "input": [
      "def red_log_to_linear_vectorise(value, black_offset=10 ** ((0 - 1023) / 511), **kwargs):\n",
      "    value = as_array(value)\n",
      "\n",
      "    return as_numeric((((10 ** ((1023 * value - 1023) / 511)) - black_offset) /\n",
      "            (1 - black_offset)))\n",
      "\n",
      "print('Reference:')\n",
      "print(red_log_to_linear(0.5))\n",
      "\n",
      "print('\\n')\n",
      "\n",
      "print('1d array:')\n",
      "print(red_log_to_linear_vectorise(0.5))\n",
      "\n",
      "print('\\n')\n",
      "\n",
      "print('2d array:')\n",
      "print(red_log_to_linear_vectorise(\n",
      "    [0.5, 0.5, 0.5, 0.5, 0.5]))"
     ],
     "language": "python",
     "metadata": {},
     "outputs": [
      {
       "output_type": "stream",
       "stream": "stdout",
       "text": [
        "Reference:\n",
        "0.0907230625571\n",
        "\n",
        "\n",
        "1d array:\n",
        "0.0907230625571\n",
        "\n",
        "\n",
        "2d array:\n",
        "[ 0.09072306  0.09072306  0.09072306  0.09072306  0.09072306]\n"
       ]
      }
     ],
     "prompt_number": 257
    },
    {
     "cell_type": "code",
     "collapsed": false,
     "input": [
      "%timeit red_log_to_linear_vectorise(DATA)"
     ],
     "language": "python",
     "metadata": {},
     "outputs": [
      {
       "output_type": "stream",
       "stream": "stdout",
       "text": [
        "10 loops, best of 3: 171 ms per loop\n"
       ]
      }
     ],
     "prompt_number": 258
    },
    {
     "cell_type": "heading",
     "level": 3,
     "metadata": {},
     "source": [
      "colour.linear_to_viper_log"
     ]
    },
    {
     "cell_type": "code",
     "collapsed": false,
     "input": [
      "def linear_to_viper_log_2d(value):\n",
      "    for i in range(len(value)):\n",
      "        linear_to_viper_log(value[i])"
     ],
     "language": "python",
     "metadata": {},
     "outputs": [],
     "prompt_number": 259
    },
    {
     "cell_type": "code",
     "collapsed": false,
     "input": [
      "%timeit linear_to_viper_log_2d(DATA)"
     ],
     "language": "python",
     "metadata": {},
     "outputs": [
      {
       "output_type": "stream",
       "stream": "stdout",
       "text": [
        "1 loops, best of 3: 4.43 s per loop\n"
       ]
      },
      {
       "output_type": "stream",
       "stream": "stderr",
       "text": [
        "/colour-science/colour/colour/models/log.py:302: RuntimeWarning: divide by zero encountered in log10\n",
        "  return (1023 + 500 * np.log10(value)) / 1023\n"
       ]
      }
     ],
     "prompt_number": 260
    },
    {
     "cell_type": "code",
     "collapsed": false,
     "input": [
      "def linear_to_viper_log_vectorise(value, **kwargs):\n",
      "    value = as_array(value)\n",
      "\n",
      "    return as_numeric((1023 + 500 * np.log10(value)) / 1023)\n",
      "\n",
      "print('Reference:')\n",
      "print(linear_to_viper_log(0.18))\n",
      "\n",
      "print('\\n')\n",
      "\n",
      "print('1d array:')\n",
      "print(linear_to_viper_log_vectorise(0.18))\n",
      "\n",
      "print('\\n')\n",
      "\n",
      "print('2d array:')\n",
      "print(linear_to_viper_log_vectorise(\n",
      "    [0.18, 0.18, 0.18, 0.18, 0.18]))"
     ],
     "language": "python",
     "metadata": {},
     "outputs": [
      {
       "output_type": "stream",
       "stream": "stdout",
       "text": [
        "Reference:\n",
        "0.63600806701\n",
        "\n",
        "\n",
        "1d array:\n",
        "0.63600806701\n",
        "\n",
        "\n",
        "2d array:\n",
        "[ 0.63600807  0.63600807  0.63600807  0.63600807  0.63600807]\n"
       ]
      }
     ],
     "prompt_number": 261
    },
    {
     "cell_type": "code",
     "collapsed": false,
     "input": [
      "%timeit linear_to_viper_log_vectorise(DATA)"
     ],
     "language": "python",
     "metadata": {},
     "outputs": [
      {
       "output_type": "stream",
       "stream": "stdout",
       "text": [
        "10 loops, best of 3: 51.6 ms per loop\n"
       ]
      },
      {
       "output_type": "stream",
       "stream": "stderr",
       "text": [
        "-c:4: RuntimeWarning: divide by zero encountered in log10\n"
       ]
      }
     ],
     "prompt_number": 262
    },
    {
     "cell_type": "heading",
     "level": 3,
     "metadata": {},
     "source": [
      "colour.viper_log_to_linear"
     ]
    },
    {
     "cell_type": "code",
     "collapsed": false,
     "input": [
      "def viper_log_to_linear_2d(value):\n",
      "    for i in range(len(value)):\n",
      "        viper_log_to_linear(value[i])"
     ],
     "language": "python",
     "metadata": {},
     "outputs": [],
     "prompt_number": 263
    },
    {
     "cell_type": "code",
     "collapsed": false,
     "input": [
      "%timeit viper_log_to_linear_2d(DATA)"
     ],
     "language": "python",
     "metadata": {},
     "outputs": [
      {
       "output_type": "stream",
       "stream": "stdout",
       "text": [
        "1 loops, best of 3: 3.72 s per loop\n"
       ]
      }
     ],
     "prompt_number": 264
    },
    {
     "cell_type": "code",
     "collapsed": false,
     "input": [
      "def viper_log_to_linear_vectorise(value, **kwargs):\n",
      "    value = as_array(value)\n",
      "\n",
      "    return as_numeric(10 ** ((1023 * value - 1023) / 500))\n",
      "\n",
      "print('Reference:')\n",
      "print(viper_log_to_linear(0.5))\n",
      "\n",
      "print('\\n')\n",
      "\n",
      "print('1d array:')\n",
      "print(viper_log_to_linear_vectorise(0.5))\n",
      "\n",
      "print('\\n')\n",
      "\n",
      "print('2d array:')\n",
      "print(viper_log_to_linear_vectorise(\n",
      "    [0.5, 0.5, 0.5, 0.5, 0.5]))"
     ],
     "language": "python",
     "metadata": {},
     "outputs": [
      {
       "output_type": "stream",
       "stream": "stdout",
       "text": [
        "Reference:\n",
        "0.0948418463301\n",
        "\n",
        "\n",
        "1d array:\n",
        "0.0948418463301\n",
        "\n",
        "\n",
        "2d array:\n",
        "[ 0.09484185  0.09484185  0.09484185  0.09484185  0.09484185]\n"
       ]
      }
     ],
     "prompt_number": 265
    },
    {
     "cell_type": "code",
     "collapsed": false,
     "input": [
      "%timeit viper_log_to_linear_vectorise(DATA)"
     ],
     "language": "python",
     "metadata": {},
     "outputs": [
      {
       "output_type": "stream",
       "stream": "stdout",
       "text": [
        "10 loops, best of 3: 82.6 ms per loop\n"
       ]
      }
     ],
     "prompt_number": 266
    },
    {
     "cell_type": "heading",
     "level": 3,
     "metadata": {},
     "source": [
      "colour.linear_to_pivoted_log"
     ]
    },
    {
     "cell_type": "code",
     "collapsed": false,
     "input": [
      "def linear_to_pivoted_log_2d(value):\n",
      "    for i in range(len(value)):\n",
      "        linear_to_pivoted_log(value[i])"
     ],
     "language": "python",
     "metadata": {},
     "outputs": [],
     "prompt_number": 267
    },
    {
     "cell_type": "code",
     "collapsed": false,
     "input": [
      "%timeit linear_to_pivoted_log_2d(DATA)"
     ],
     "language": "python",
     "metadata": {},
     "outputs": [
      {
       "output_type": "stream",
       "stream": "stdout",
       "text": [
        "1 loops, best of 3: 4.37 s per loop\n"
       ]
      },
      {
       "output_type": "stream",
       "stream": "stderr",
       "text": [
        "/colour-science/colour/colour/models/log.py:363: RuntimeWarning: divide by zero encountered in log10\n",
        "  return ((log_reference + np.log10(value / linear_reference) /\n"
       ]
      }
     ],
     "prompt_number": 268
    },
    {
     "cell_type": "code",
     "collapsed": false,
     "input": [
      "def linear_to_pivoted_log_vectorise(value,\n",
      "                                  log_reference=445,\n",
      "                                  linear_reference=0.18,\n",
      "                                  negative_gamma=0.6,\n",
      "                                  density_per_code_value=0.002):\n",
      "    value = as_array(value)\n",
      "\n",
      "    return as_numeric(((log_reference + np.log10(value / linear_reference) /\n",
      "             (density_per_code_value / negative_gamma)) / 1023))\n",
      "\n",
      "print('Reference:')\n",
      "print(linear_to_pivoted_log(0.18))\n",
      "\n",
      "print('\\n')\n",
      "\n",
      "print('1d array:')\n",
      "print(linear_to_pivoted_log_vectorise(0.18))\n",
      "\n",
      "print('\\n')\n",
      "\n",
      "print('2d array:')\n",
      "print(linear_to_pivoted_log_vectorise(\n",
      "    [0.18, 0.18, 0.18, 0.18, 0.18]))"
     ],
     "language": "python",
     "metadata": {},
     "outputs": [
      {
       "output_type": "stream",
       "stream": "stdout",
       "text": [
        "Reference:\n",
        "0.434995112414\n",
        "\n",
        "\n",
        "1d array:\n",
        "0.434995112414\n",
        "\n",
        "\n",
        "2d array:\n",
        "[ 0.43499511  0.43499511  0.43499511  0.43499511  0.43499511]\n"
       ]
      }
     ],
     "prompt_number": 269
    },
    {
     "cell_type": "code",
     "collapsed": false,
     "input": [
      "%timeit linear_to_pivoted_log_vectorise(DATA)"
     ],
     "language": "python",
     "metadata": {},
     "outputs": [
      {
       "output_type": "stream",
       "stream": "stdout",
       "text": [
        "10 loops, best of 3: 53.4 ms per loop\n"
       ]
      },
      {
       "output_type": "stream",
       "stream": "stderr",
       "text": [
        "-c:8: RuntimeWarning: divide by zero encountered in log10\n"
       ]
      }
     ],
     "prompt_number": 270
    },
    {
     "cell_type": "heading",
     "level": 3,
     "metadata": {},
     "source": [
      "colour.pivoted_log_to_linear"
     ]
    },
    {
     "cell_type": "code",
     "collapsed": false,
     "input": [
      "def pivoted_log_to_linear_2d(value):\n",
      "    for i in range(len(value)):\n",
      "        pivoted_log_to_linear(value[i])"
     ],
     "language": "python",
     "metadata": {},
     "outputs": [],
     "prompt_number": 271
    },
    {
     "cell_type": "code",
     "collapsed": false,
     "input": [
      "%timeit pivoted_log_to_linear_2d(DATA)"
     ],
     "language": "python",
     "metadata": {},
     "outputs": [
      {
       "output_type": "stream",
       "stream": "stdout",
       "text": [
        "1 loops, best of 3: 3.49 s per loop\n"
       ]
      }
     ],
     "prompt_number": 272
    },
    {
     "cell_type": "code",
     "collapsed": false,
     "input": [
      "def pivoted_log_to_linear_vectorise(value,\n",
      "                                  log_reference=445,\n",
      "                                  linear_reference=0.18,\n",
      "                                  negative_gamma=0.6,\n",
      "                                  density_per_code_value=0.002):\n",
      "    value = as_array(value)\n",
      "\n",
      "    return as_numeric((10 ** ((value * 1023 - log_reference) *\n",
      "                   (density_per_code_value / negative_gamma)) *\n",
      "            linear_reference))\n",
      "\n",
      "print('Reference:')\n",
      "print(pivoted_log_to_linear(0.5))\n",
      "\n",
      "print('\\n')\n",
      "\n",
      "print('1d array:')\n",
      "print(pivoted_log_to_linear_vectorise(0.5))\n",
      "\n",
      "print('\\n')\n",
      "\n",
      "print('2d array:')\n",
      "print(pivoted_log_to_linear_vectorise(\n",
      "    [0.5, 0.5, 0.5, 0.5, 0.5]))"
     ],
     "language": "python",
     "metadata": {},
     "outputs": [
      {
       "output_type": "stream",
       "stream": "stdout",
       "text": [
        "Reference:\n",
        "0.299874247918\n",
        "\n",
        "\n",
        "1d array:\n",
        "0.299874247918\n",
        "\n",
        "\n",
        "2d array:\n",
        "[ 0.29987425  0.29987425  0.29987425  0.29987425  0.29987425]\n"
       ]
      }
     ],
     "prompt_number": 273
    },
    {
     "cell_type": "code",
     "collapsed": false,
     "input": [
      "%timeit pivoted_log_to_linear_vectorise(DATA)"
     ],
     "language": "python",
     "metadata": {},
     "outputs": [
      {
       "output_type": "stream",
       "stream": "stdout",
       "text": [
        "10 loops, best of 3: 81.9 ms per loop\n"
       ]
      }
     ],
     "prompt_number": 274
    },
    {
     "cell_type": "heading",
     "level": 3,
     "metadata": {},
     "source": [
      "colour.linear_to_c_log"
     ]
    },
    {
     "cell_type": "code",
     "collapsed": false,
     "input": [
      "def linear_to_c_log_2d(value):\n",
      "    for i in range(len(value)):\n",
      "        linear_to_c_log(value[i])"
     ],
     "language": "python",
     "metadata": {},
     "outputs": [],
     "prompt_number": 275
    },
    {
     "cell_type": "code",
     "collapsed": false,
     "input": [
      "%timeit linear_to_c_log_2d(DATA)"
     ],
     "language": "python",
     "metadata": {},
     "outputs": [
      {
       "output_type": "stream",
       "stream": "stdout",
       "text": [
        "1 loops, best of 3: 3.66 s per loop\n"
       ]
      }
     ],
     "prompt_number": 276
    },
    {
     "cell_type": "code",
     "collapsed": false,
     "input": [
      "def linear_to_c_log_vectorise(value, **kwargs):\n",
      "    value = as_array(value)\n",
      "\n",
      "    return as_numeric(0.529136 * np.log10(10.1596 * value + 1) + 0.0730597)\n",
      "\n",
      "print('Reference:')\n",
      "print(linear_to_c_log(0.18))\n",
      "\n",
      "print('\\n')\n",
      "\n",
      "print('1d array:')\n",
      "print(linear_to_c_log_vectorise(0.18))\n",
      "\n",
      "print('\\n')\n",
      "\n",
      "print('2d array:')\n",
      "print(linear_to_c_log_vectorise(\n",
      "    [0.18, 0.18, 0.18, 0.18, 0.18]))"
     ],
     "language": "python",
     "metadata": {},
     "outputs": [
      {
       "output_type": "stream",
       "stream": "stdout",
       "text": [
        "Reference:\n",
        "0.31201285555\n",
        "\n",
        "\n",
        "1d array:\n",
        "0.31201285555\n",
        "\n",
        "\n",
        "2d array:\n",
        "[ 0.31201286  0.31201286  0.31201286  0.31201286  0.31201286]\n"
       ]
      }
     ],
     "prompt_number": 277
    },
    {
     "cell_type": "code",
     "collapsed": false,
     "input": [
      "%timeit linear_to_c_log_vectorise(DATA)"
     ],
     "language": "python",
     "metadata": {},
     "outputs": [
      {
       "output_type": "stream",
       "stream": "stdout",
       "text": [
        "10 loops, best of 3: 56.9 ms per loop\n"
       ]
      }
     ],
     "prompt_number": 278
    },
    {
     "cell_type": "heading",
     "level": 3,
     "metadata": {},
     "source": [
      "colour.c_log_to_linear"
     ]
    },
    {
     "cell_type": "code",
     "collapsed": false,
     "input": [
      "def c_log_to_linear_2d(value):\n",
      "    for i in range(len(value)):\n",
      "        c_log_to_linear(value[i])"
     ],
     "language": "python",
     "metadata": {},
     "outputs": [],
     "prompt_number": 279
    },
    {
     "cell_type": "code",
     "collapsed": false,
     "input": [
      "%timeit c_log_to_linear_2d(DATA)"
     ],
     "language": "python",
     "metadata": {},
     "outputs": [
      {
       "output_type": "stream",
       "stream": "stdout",
       "text": [
        "1 loops, best of 3: 4.11 s per loop\n"
       ]
      }
     ],
     "prompt_number": 280
    },
    {
     "cell_type": "code",
     "collapsed": false,
     "input": [
      "def c_log_to_linear_vectorise(value, **kwargs):\n",
      "    value = as_array(value)\n",
      "\n",
      "    return as_numeric(-0.071622555735168 * (\n",
      "        1.3742747797867 - np.exp(1) ** (4.3515940948906 * value)))\n",
      "\n",
      "print('Reference:')\n",
      "print(c_log_to_linear(0.5))\n",
      "\n",
      "print('\\n')\n",
      "\n",
      "print('1d array:')\n",
      "print(c_log_to_linear_vectorise(0.5))\n",
      "\n",
      "print('\\n')\n",
      "\n",
      "print('2d array:')\n",
      "print(c_log_to_linear_vectorise(\n",
      "    [0.5, 0.5, 0.5, 0.5, 0.5]))"
     ],
     "language": "python",
     "metadata": {},
     "outputs": [
      {
       "output_type": "stream",
       "stream": "stdout",
       "text": [
        "Reference:\n",
        "0.532508609402\n",
        "\n",
        "\n",
        "1d array:\n",
        "0.532508609402\n",
        "\n",
        "\n",
        "2d array:\n",
        "[ 0.53250861  0.53250861  0.53250861  0.53250861  0.53250861]\n"
       ]
      }
     ],
     "prompt_number": 281
    },
    {
     "cell_type": "code",
     "collapsed": false,
     "input": [
      "%timeit c_log_to_linear_vectorise(DATA)"
     ],
     "language": "python",
     "metadata": {},
     "outputs": [
      {
       "output_type": "stream",
       "stream": "stdout",
       "text": [
        "10 loops, best of 3: 79.9 ms per loop\n"
       ]
      }
     ],
     "prompt_number": 282
    },
    {
     "cell_type": "heading",
     "level": 2,
     "metadata": {},
     "source": [
      "colour.models.rgb"
     ]
    },
    {
     "cell_type": "heading",
     "level": 3,
     "metadata": {},
     "source": [
      "OECF / OECF_i"
     ]
    },
    {
     "cell_type": "code",
     "collapsed": false,
     "input": [
      "from colour.models.dataset.aces import _aces_cc_transfer_function, _aces_cc_inverse_transfer_function\n",
      "from colour.models.dataset.aces import *\n",
      "\n",
      "RGB = np.array([0.86969452, 1.00516431, 1.41715848])\n",
      "RGB_t = np.tile(RGB, (5, 1))\n",
      "\n",
      "\n",
      "def _aces_cc_transfer_function_vectorise(value):\n",
      "    value = as_array(value)\n",
      "    \n",
      "    output = np.where(value < 0,\n",
      "                      (np.log2(2 ** -15 * 0.5) + 9.72) / 17.52,\n",
      "                      (np.log2(2 ** -16 + value * 0.5) + 9.72) / 17.52)\n",
      "    output = np.where(value >= 2 ** -15,\n",
      "                      (np.log2(value) + 9.72) / 17.52,\n",
      "                      output)\n",
      "    \n",
      "    return as_numeric(output)\n",
      "\n",
      "\n",
      "print(_aces_cc_transfer_function(RGB[0]))\n",
      "\n",
      "print(_aces_cc_transfer_function_vectorise(RGB[0]))\n",
      "\n",
      "print(_aces_cc_transfer_function_vectorise(RGB))\n",
      "\n",
      "print(_aces_cc_transfer_function_vectorise(RGB_t))\n",
      "\n",
      "\n",
      "def _aces_cc_inverse_transfer_function_vectorise(value):\n",
      "    value = as_array(value)\n",
      "\n",
      "    output = np.where(value < (9.72 - 15) / 17.52,\n",
      "            (2 ** (value * 17.52 - 9.72) - 2 ** -16) * 2,\n",
      "            2 ** (value * 17.52 - 9.72))\n",
      "    output = np.where(value >= (np.log2(65504) + 9.72) / 17.52,\n",
      "                      65504,\n",
      "                      output)\n",
      "    \n",
      "    return as_numeric(output)\n",
      "\n",
      "\n",
      "print(_aces_cc_inverse_transfer_function(RGB[0]))\n",
      "\n",
      "print(_aces_cc_inverse_transfer_function_vectorise(RGB[0]))\n",
      "\n",
      "print(_aces_cc_inverse_transfer_function_vectorise(RGB))\n",
      "\n",
      "print(_aces_cc_inverse_transfer_function_vectorise(RGB_t))"
     ],
     "language": "python",
     "metadata": {},
     "outputs": [
      {
       "output_type": "stream",
       "stream": "stdout",
       "text": [
        "0.543297982235\n",
        "0.543297982235\n",
        "[ 0.54329798  0.55521868  0.58350463]\n",
        "[[ 0.54329798  0.55521868  0.58350463]\n",
        " [ 0.54329798  0.55521868  0.58350463]\n",
        " [ 0.54329798  0.55521868  0.58350463]\n",
        " [ 0.54329798  0.55521868  0.58350463]\n",
        " [ 0.54329798  0.55521868  0.58350463]]\n",
        "45.792771885\n",
        "45.792771885\n",
        "[    45.79277188    237.28526614  35330.25568507]\n",
        "[[    45.79277188    237.28526614  35330.25568507]\n",
        " [    45.79277188    237.28526614  35330.25568507]\n",
        " [    45.79277188    237.28526614  35330.25568507]\n",
        " [    45.79277188    237.28526614  35330.25568507]\n",
        " [    45.79277188    237.28526614  35330.25568507]]\n"
       ]
      }
     ],
     "prompt_number": 283
    },
    {
     "cell_type": "code",
     "collapsed": false,
     "input": [
      "from colour.models.dataset.aces import _aces_proxy_transfer_function, _aces_proxy_inverse_transfer_function\n",
      "\n",
      "\n",
      "def _aces_proxy_transfer_function_vectorise(value, bit_depth='10 Bit'):\n",
      "    value = as_array(value)\n",
      "    \n",
      "    constants = ACES_PROXY_CONSTANTS.get(bit_depth)\n",
      "\n",
      "    CV_min = np.resize(constants.CV_min, value.shape)\n",
      "    CV_max = np.resize(constants.CV_max, value.shape)\n",
      "  \n",
      "    float_2_cv = lambda x: np.maximum(CV_min, np.minimum(CV_max, np.round(x)))\n",
      "    \n",
      "    output = np.where(value > 2 ** -9.72,\n",
      "                    float_2_cv((np.log2(value) + constants.mid_log_offset) *\n",
      "                          constants.steps_per_stop + constants.mid_CV_offset),\n",
      "                    np.resize(CV_min, value.shape))\n",
      "    return as_numeric(output)\n",
      "\n",
      "\n",
      "print(_aces_proxy_transfer_function(RGB[0]))\n",
      "\n",
      "print(_aces_proxy_transfer_function_vectorise(RGB[0]))\n",
      "\n",
      "print(_aces_proxy_transfer_function_vectorise(RGB))\n",
      "\n",
      "print(_aces_proxy_transfer_function_vectorise(RGB_t))\n",
      "\n",
      "\n",
      "def _aces_proxy_inverse_transfer_function_vectorise(value, bit_depth='10 Bit'):\n",
      "    value = as_array(value)\n",
      "    \n",
      "    constants = ACES_PROXY_CONSTANTS.get(bit_depth)\n",
      "\n",
      "    return as_numeric((2 ** (((value - constants.mid_CV_offset) /\n",
      "                       constants.steps_per_stop - constants.mid_log_offset))))\n",
      "\n",
      "\n",
      "print(_aces_proxy_inverse_transfer_function(RGB[0]))\n",
      "\n",
      "print(_aces_proxy_inverse_transfer_function_vectorise(RGB[0]))\n",
      "\n",
      "print(_aces_proxy_inverse_transfer_function_vectorise(RGB))\n",
      "\n",
      "print(_aces_proxy_inverse_transfer_function_vectorise(RGB_t))"
     ],
     "language": "python",
     "metadata": {},
     "outputs": [
      {
       "output_type": "stream",
       "stream": "stdout",
       "text": [
        "540.0\n",
        "540.0\n",
        "[ 540.  550.  575.]\n",
        "[[ 540.  550.  575.]\n",
        " [ 540.  550.  575.]\n",
        " [ 540.  550.  575.]\n",
        " [ 540.  550.  575.]\n",
        " [ 540.  550.  575.]]\n",
        "0.00049420385692\n",
        "0.00049420385692\n",
        "[ 0.0004942   0.00049513  0.00049797]\n",
        "[[ 0.0004942   0.00049513  0.00049797]\n",
        " [ 0.0004942   0.00049513  0.00049797]\n",
        " [ 0.0004942   0.00049513  0.00049797]\n",
        " [ 0.0004942   0.00049513  0.00049797]\n",
        " [ 0.0004942   0.00049513  0.00049797]]\n"
       ]
      }
     ],
     "prompt_number": 284
    },
    {
     "cell_type": "code",
     "collapsed": false,
     "input": [
      "from colour.models.dataset.adobe_rgb_1998 import _adobe_rgb_1998_transfer_function, _adobe_rgb_1998_inverse_transfer_function \n",
      "from colour.models.dataset.adobe_rgb_1998 import *\n",
      "\n",
      "\n",
      "def _adobe_rgb_1998_transfer_function_vectorise(value):\n",
      "\n",
      "    # Also valid for:\n",
      "    # _adobe_wide_gamut_rgb_transfer_function\n",
      "    return as_numeric(as_array(value) ** (1 / (563 / 256)))\n",
      "\n",
      "\n",
      "print(_adobe_rgb_1998_transfer_function(RGB[0]))\n",
      "\n",
      "print(_adobe_rgb_1998_transfer_function_vectorise(RGB[0]))\n",
      "\n",
      "print(_adobe_rgb_1998_transfer_function_vectorise(RGB))\n",
      "\n",
      "print(_adobe_rgb_1998_transfer_function_vectorise(RGB_t))\n",
      "\n",
      "\n",
      "def _adobe_rgb_1998_inverse_transfer_function_vectorise(value):\n",
      "\n",
      "    # Also valid for:\n",
      "    # _adobe_wide_gamut_rgb_inverse_transfer_function\n",
      "    return as_numeric(as_array(value) ** (563 / 256))\n",
      "\n",
      "\n",
      "print(_adobe_rgb_1998_inverse_transfer_function(RGB[0]))\n",
      "\n",
      "print(_adobe_rgb_1998_inverse_transfer_function_vectorise(RGB[0]))\n",
      "\n",
      "print(_adobe_rgb_1998_inverse_transfer_function_vectorise(RGB))\n",
      "\n",
      "print(_adobe_rgb_1998_inverse_transfer_function_vectorise(RGB_t))"
     ],
     "language": "python",
     "metadata": {},
     "outputs": [
      {
       "output_type": "stream",
       "stream": "stdout",
       "text": [
        "0.938489966162\n",
        "0.938489966162\n",
        "[ 0.93848997  1.00234495  1.17179328]\n",
        "[[ 0.93848997  1.00234495  1.17179328]\n",
        " [ 0.93848997  1.00234495  1.17179328]\n",
        " [ 0.93848997  1.00234495  1.17179328]\n",
        " [ 0.93848997  1.00234495  1.17179328]\n",
        " [ 0.93848997  1.00234495  1.17179328]]\n",
        "0.735621109936\n",
        "0.735621109936\n",
        "[ 0.73562111  1.01139263  2.15279278]\n",
        "[[ 0.73562111  1.01139263  2.15279278]\n",
        " [ 0.73562111  1.01139263  2.15279278]\n",
        " [ 0.73562111  1.01139263  2.15279278]\n",
        " [ 0.73562111  1.01139263  2.15279278]\n",
        " [ 0.73562111  1.01139263  2.15279278]]\n"
       ]
      }
     ],
     "prompt_number": 285
    },
    {
     "cell_type": "code",
     "collapsed": false,
     "input": [
      "from colour.models.dataset.alexa_wide_gamut_rgb import _alexa_wide_gamut_rgb_transfer_function, _alexa_wide_gamut_rgb_inverse_transfer_function \n",
      "from colour.models.dataset.alexa_wide_gamut_rgb import *\n",
      "\n",
      "\n",
      "def _alexa_wide_gamut_rgb_transfer_function_vectorise(\n",
      "        value,\n",
      "        firmware='SUP 3.x',\n",
      "        method='Linear Scene Exposure Factor',\n",
      "        EI=800):\n",
      "    value = as_array(value)\n",
      "\n",
      "    cut, a, b, c, d, e, f, _ = ALEXA_LOG_C_CURVE_CONVERSION_DATA.get(\n",
      "        firmware).get(method).get(EI)\n",
      "\n",
      "    return as_numeric(np.where(value > cut, c * np.log10(a * value + b) + d, e * value + f))\n",
      "\n",
      "\n",
      "print(_alexa_wide_gamut_rgb_transfer_function(RGB[0]))\n",
      "\n",
      "print(_alexa_wide_gamut_rgb_transfer_function_vectorise(RGB[0]))\n",
      "\n",
      "print(_alexa_wide_gamut_rgb_transfer_function_vectorise(RGB))\n",
      "\n",
      "print(_alexa_wide_gamut_rgb_transfer_function_vectorise(RGB_t))\n",
      "\n",
      "\n",
      "def _alexa_wide_gamut_rgb_inverse_transfer_function_vectorise(\n",
      "        value,\n",
      "        firmware='SUP 3.x',\n",
      "        method='Linear Scene Exposure Factor',\n",
      "        EI=800):\n",
      "    value = as_array(value)\n",
      "\n",
      "    cut, a, b, c, d, e, f, _ = (\n",
      "        ALEXA_LOG_C_CURVE_CONVERSION_DATA.get(firmware).get(method).get(EI))\n",
      "\n",
      "    return as_numeric(np.where(value > e * cut + f,\n",
      "                        (np.power(10., (value - d) / c) - b) / a,\n",
      "                        (value - f) / e))\n",
      "            \n",
      "\n",
      "print(_alexa_wide_gamut_rgb_inverse_transfer_function(RGB[0]))\n",
      "\n",
      "print(_alexa_wide_gamut_rgb_inverse_transfer_function_vectorise(RGB[0]))\n",
      "\n",
      "print(_alexa_wide_gamut_rgb_inverse_transfer_function_vectorise(RGB))\n",
      "\n",
      "print(_alexa_wide_gamut_rgb_inverse_transfer_function_vectorise(RGB_t))"
     ],
     "language": "python",
     "metadata": {},
     "outputs": [
      {
       "output_type": "stream",
       "stream": "stdout",
       "text": [
        "0.555793445374\n",
        "0.555793445374\n",
        "[ 0.55579345  0.5711794   0.60776571]\n",
        "[[ 0.55579345  0.5711794   0.60776571]\n",
        " [ 0.55579345  0.5711794   0.60776571]\n",
        " [ 0.55579345  0.5711794   0.60776571]\n",
        " [ 0.55579345  0.5711794   0.60776571]\n",
        " [ 0.55579345  0.5711794   0.60776571]]\n",
        "16.3556556032\n",
        "16.3556556032\n",
        "[   16.3556556     57.79445133  2683.27896395]\n",
        "[[   16.3556556     57.79445133  2683.27896395]\n",
        " [   16.3556556     57.79445133  2683.27896395]\n",
        " [   16.3556556     57.79445133  2683.27896395]\n",
        " [   16.3556556     57.79445133  2683.27896395]\n",
        " [   16.3556556     57.79445133  2683.27896395]]\n"
       ]
      }
     ],
     "prompt_number": 286
    },
    {
     "cell_type": "code",
     "collapsed": false,
     "input": [
      "from colour.models.dataset.apple_rgb import _apple_rgb_transfer_function, _apple_rgb_inverse_transfer_function \n",
      "from colour.models.dataset.apple_rgb import *\n",
      "\n",
      "\n",
      "def _apple_rgb_transfer_function_vectorise(value):\n",
      "\n",
      "    # Also valid for:\n",
      "    # _color_match_rgb_transfer_function\n",
      "    return as_numeric(as_array(value) ** (1 / 1.8))\n",
      "\n",
      "\n",
      "print(_apple_rgb_transfer_function(RGB[0]))\n",
      "\n",
      "print(_apple_rgb_transfer_function_vectorise(RGB[0]))\n",
      "\n",
      "print(_apple_rgb_transfer_function_vectorise(RGB))\n",
      "\n",
      "print(_apple_rgb_transfer_function_vectorise(RGB_t))\n",
      "\n",
      "\n",
      "def _apple_rgb_inverse_transfer_function_vectorise(value):\n",
      "\n",
      "    # Also valid for:\n",
      "    # _color_match_rgb_inverse_transfer_function\n",
      "    return as_numeric(as_array(value) ** 1.8)\n",
      "\n",
      "\n",
      "print(_apple_rgb_inverse_transfer_function(RGB[0]))\n",
      "\n",
      "print(_apple_rgb_inverse_transfer_function_vectorise(RGB[0]))\n",
      "\n",
      "print(_apple_rgb_inverse_transfer_function_vectorise(RGB))\n",
      "\n",
      "print(_apple_rgb_inverse_transfer_function_vectorise(RGB_t))"
     ],
     "language": "python",
     "metadata": {},
     "outputs": [
      {
       "output_type": "stream",
       "stream": "stdout",
       "text": [
        "0.925368798653\n",
        "0.925368798653\n",
        "[ 0.9253688   1.00286578  1.21372793]\n",
        "[[ 0.9253688   1.00286578  1.21372793]\n",
        " [ 0.9253688   1.00286578  1.21372793]\n",
        " [ 0.9253688   1.00286578  1.21372793]\n",
        " [ 0.9253688   1.00286578  1.21372793]\n",
        " [ 0.9253688   1.00286578  1.21372793]]\n",
        "0.777785997772\n",
        "0.777785997772\n",
        "[ 0.777786    1.00931495  1.87306632]\n",
        "[[ 0.777786    1.00931495  1.87306632]\n",
        " [ 0.777786    1.00931495  1.87306632]\n",
        " [ 0.777786    1.00931495  1.87306632]\n",
        " [ 0.777786    1.00931495  1.87306632]\n",
        " [ 0.777786    1.00931495  1.87306632]]\n"
       ]
      }
     ],
     "prompt_number": 287
    },
    {
     "cell_type": "code",
     "collapsed": false,
     "input": [
      "from colour.models.dataset.best_rgb import _best_rgb_transfer_function, _best_rgb_inverse_transfer_function \n",
      "from colour.models.dataset.best_rgb import *\n",
      "\n",
      "\n",
      "def _best_rgb_transfer_function_vectorise(value):\n",
      "\n",
      "    # Also valid for:\n",
      "    # _beta_rgb_transfer_function\n",
      "    # _cie_rgb_transfer_function\n",
      "    # _don_rgb_4_transfer_function\n",
      "    # _ekta_space_ps_5_transfer_function\n",
      "    # _max_rgb_transfer_function\n",
      "    # _ntsc_rgb_transfer_function\n",
      "    # _russell_rgb_transfer_function\n",
      "    # _smpte_c_rgb_transfer_function\n",
      "    # _xtreme_rgb_transfer_function\n",
      "    return as_numeric(as_array(value) ** (1 / 2.2))\n",
      "\n",
      "\n",
      "print(_best_rgb_transfer_function(RGB[0]))\n",
      "\n",
      "print(_best_rgb_transfer_function_vectorise(RGB[0]))\n",
      "\n",
      "print(_best_rgb_transfer_function_vectorise(RGB))\n",
      "\n",
      "print(_best_rgb_transfer_function_vectorise(RGB_t))\n",
      "\n",
      "\n",
      "def _best_rgb_inverse_transfer_function_vectorise(value):\n",
      "\n",
      "    # Also valid for:\n",
      "    # _beta_rgb_inverse_transfer_function\n",
      "    # _cie_rgb_inverse_transfer_function\n",
      "    # _don_rgb_4_inverse_transfer_function\n",
      "    # _ekta_space_ps_5_inverse_transfer_function\n",
      "    # _max_rgb_inverse_transfer_function\n",
      "    # _ntsc_rgb_inverse_transfer_function\n",
      "    # _russell_rgb_inverse_transfer_function\n",
      "    # _smpte_c_rgb_inverse_transfer_function\n",
      "    # _xtreme_rgb_inverse_transfer_function\n",
      "    return as_numeric(as_array(value) ** 2.2)\n",
      "\n",
      "\n",
      "print(_best_rgb_inverse_transfer_function(RGB[0]))\n",
      "\n",
      "print(_best_rgb_inverse_transfer_function_vectorise(RGB[0]))\n",
      "\n",
      "print(_best_rgb_inverse_transfer_function_vectorise(RGB))\n",
      "\n",
      "print(_best_rgb_inverse_transfer_function_vectorise(RGB_t))"
     ],
     "language": "python",
     "metadata": {},
     "outputs": [
      {
       "output_type": "stream",
       "stream": "stdout",
       "text": [
        "0.938511123455\n",
        "0.938511123455\n",
        "[ 0.93851112  1.00234412  1.17172732]\n",
        "[[ 0.93851112  1.00234412  1.17172732]\n",
        " [ 0.93851112  1.00234412  1.17172732]\n",
        " [ 0.93851112  1.00234412  1.17172732]\n",
        " [ 0.93851112  1.00234412  1.17172732]\n",
        " [ 0.93851112  1.00234412  1.17172732]]\n",
        "0.735540878016\n",
        "0.735540878016\n",
        "[ 0.73554088  1.0113967   2.15337925]\n",
        "[[ 0.73554088  1.0113967   2.15337925]\n",
        " [ 0.73554088  1.0113967   2.15337925]\n",
        " [ 0.73554088  1.0113967   2.15337925]\n",
        " [ 0.73554088  1.0113967   2.15337925]\n",
        " [ 0.73554088  1.0113967   2.15337925]]\n"
       ]
      }
     ],
     "prompt_number": 288
    },
    {
     "cell_type": "code",
     "collapsed": false,
     "input": [
      "from colour.models.dataset.dci_p3 import _dci_p3_transfer_function, _dci_p3_inverse_transfer_function \n",
      "from colour.models.dataset.dci_p3 import *\n",
      "\n",
      "\n",
      "def _dci_p3_transfer_function_vectorise(value):\n",
      "\n",
      "    return as_numeric(4095 * (as_array(value) / 52.37) ** (1 / 2.6))\n",
      "\n",
      "\n",
      "print(_dci_p3_transfer_function(RGB[0]))\n",
      "\n",
      "print(_dci_p3_transfer_function_vectorise(RGB[0]))\n",
      "\n",
      "print(_dci_p3_transfer_function_vectorise(RGB))\n",
      "\n",
      "print(_dci_p3_transfer_function_vectorise(RGB_t))\n",
      "\n",
      "\n",
      "def _dci_p3_inverse_transfer_function_vectorise(value):\n",
      "\n",
      "    return as_numeric(52.37 * (as_array(value) / 4095) ** 2.6)\n",
      "\n",
      "\n",
      "print(_dci_p3_inverse_transfer_function(RGB[0]))\n",
      "\n",
      "print(_dci_p3_inverse_transfer_function_vectorise(RGB[0]))\n",
      "\n",
      "print(_dci_p3_inverse_transfer_function_vectorise(RGB))\n",
      "\n",
      "print(_dci_p3_inverse_transfer_function_vectorise(RGB_t))"
     ],
     "language": "python",
     "metadata": {},
     "outputs": [
      {
       "output_type": "stream",
       "stream": "stdout",
       "text": [
        "846.735588506\n",
        "846.735588506\n",
        "[  846.73558851   895.21779901  1021.65944555]\n",
        "[[  846.73558851   895.21779901  1021.65944555]\n",
        " [  846.73558851   895.21779901  1021.65944555]\n",
        " [  846.73558851   895.21779901  1021.65944555]\n",
        " [  846.73558851   895.21779901  1021.65944555]\n",
        " [  846.73558851   895.21779901  1021.65944555]]\n",
        "1.47766479104e-08\n",
        "1.47766479104e-08\n",
        "[  1.47766479e-08   2.15297394e-08   5.25908645e-08]\n",
        "[[  1.47766479e-08   2.15297394e-08   5.25908645e-08]\n",
        " [  1.47766479e-08   2.15297394e-08   5.25908645e-08]\n",
        " [  1.47766479e-08   2.15297394e-08   5.25908645e-08]\n",
        " [  1.47766479e-08   2.15297394e-08   5.25908645e-08]\n",
        " [  1.47766479e-08   2.15297394e-08   5.25908645e-08]]\n"
       ]
      }
     ],
     "prompt_number": 289
    },
    {
     "cell_type": "code",
     "collapsed": false,
     "input": [
      "from colour.models.dataset.pal_secam_rgb import _pal_secam_rgb_transfer_function, _pal_secam_rgb_inverse_transfer_function \n",
      "from colour.models.dataset.pal_secam_rgb import *\n",
      "\n",
      "\n",
      "def _pal_secam_rgb_transfer_function_vectorise(value):\n",
      "\n",
      "    return as_numeric(as_array(value) ** (1 / 2.8))\n",
      "\n",
      "\n",
      "print(_pal_secam_rgb_transfer_function(RGB[0]))\n",
      "\n",
      "print(_pal_secam_rgb_transfer_function_vectorise(RGB[0]))\n",
      "\n",
      "print(_pal_secam_rgb_transfer_function_vectorise(RGB))\n",
      "\n",
      "print(_pal_secam_rgb_transfer_function_vectorise(RGB_t))\n",
      "\n",
      "\n",
      "def _pal_secam_rgb_inverse_transfer_function_vectorise(value):\n",
      "\n",
      "    return as_numeric(as_array(value) ** 2.8)\n",
      "\n",
      "\n",
      "print(_pal_secam_rgb_inverse_transfer_function(RGB[0]))\n",
      "\n",
      "print(_pal_secam_rgb_inverse_transfer_function_vectorise(RGB[0]))\n",
      "\n",
      "print(_pal_secam_rgb_inverse_transfer_function_vectorise(RGB))\n",
      "\n",
      "print(_pal_secam_rgb_inverse_transfer_function_vectorise(RGB_t))"
     ],
     "language": "python",
     "metadata": {},
     "outputs": [
      {
       "output_type": "stream",
       "stream": "stdout",
       "text": [
        "0.951360820295\n",
        "0.951360820295\n",
        "[ 0.95136082  1.00184134  1.13260378]\n",
        "[[ 0.95136082  1.00184134  1.13260378]\n",
        " [ 0.95136082  1.00184134  1.13260378]\n",
        " [ 0.95136082  1.00184134  1.13260378]\n",
        " [ 0.95136082  1.00184134  1.13260378]\n",
        " [ 0.95136082  1.00184134  1.13260378]]\n",
        "0.676436219995\n",
        "0.676436219995\n",
        "[ 0.67643622  1.01452737  2.65443182]\n",
        "[[ 0.67643622  1.01452737  2.65443182]\n",
        " [ 0.67643622  1.01452737  2.65443182]\n",
        " [ 0.67643622  1.01452737  2.65443182]\n",
        " [ 0.67643622  1.01452737  2.65443182]\n",
        " [ 0.67643622  1.01452737  2.65443182]]\n"
       ]
      }
     ],
     "prompt_number": 290
    },
    {
     "cell_type": "code",
     "collapsed": false,
     "input": [
      "def _prophoto_rgb_transfer_function_vectorise(value):\n",
      "    value = as_array(value)\n",
      "\n",
      "    return as_numeric(np.where(value < 0.001953,\n",
      "                        value * 16,\n",
      "                        value ** (1 / 1.8)))\n",
      "\n",
      "\n",
      "print(_prophoto_rgb_transfer_function_vectorise(RGB))\n",
      "\n",
      "print(_prophoto_rgb_transfer_function_vectorise(RGB_t))\n",
      "\n",
      "\n",
      "def _prophoto_rgb_inverse_transfer_function_vectorise(value):\n",
      "    value = as_array(value)\n",
      "\n",
      "    return as_numeric(np.where(value < _prophoto_rgb_transfer_function_vectorise(0.001953),\n",
      "                        value / 16,\n",
      "                        value ** 1.8))\n",
      "            \n",
      "\n",
      "print(_prophoto_rgb_inverse_transfer_function_vectorise(RGB))\n",
      "\n",
      "print(_prophoto_rgb_inverse_transfer_function_vectorise(RGB_t))"
     ],
     "language": "python",
     "metadata": {},
     "outputs": [
      {
       "output_type": "stream",
       "stream": "stdout",
       "text": [
        "[ 0.9253688   1.00286578  1.21372793]\n",
        "[[ 0.9253688   1.00286578  1.21372793]\n",
        " [ 0.9253688   1.00286578  1.21372793]\n",
        " [ 0.9253688   1.00286578  1.21372793]\n",
        " [ 0.9253688   1.00286578  1.21372793]\n",
        " [ 0.9253688   1.00286578  1.21372793]]\n",
        "[ 0.777786    1.00931495  1.87306632]\n",
        "[[ 0.777786    1.00931495  1.87306632]\n",
        " [ 0.777786    1.00931495  1.87306632]\n",
        " [ 0.777786    1.00931495  1.87306632]\n",
        " [ 0.777786    1.00931495  1.87306632]\n",
        " [ 0.777786    1.00931495  1.87306632]]\n"
       ]
      }
     ],
     "prompt_number": 291
    },
    {
     "cell_type": "code",
     "collapsed": false,
     "input": [
      "def _rec_709_transfer_function_vectorise(value):\n",
      "    value = as_array(value)\n",
      "\n",
      "    return as_numeric(np.where(value < 0.018,\n",
      "                        value * 4.5,\n",
      "                        1.099 * (value ** 0.45) - 0.099))\n",
      "\n",
      "\n",
      "print(_rec_709_transfer_function_vectorise(RGB))\n",
      "\n",
      "print(_rec_709_transfer_function_vectorise(RGB_t))\n",
      "\n",
      "\n",
      "def _rec_709_inverse_transfer_function_vectorise(value):\n",
      "    value = as_array(value)\n",
      "\n",
      "    return as_numeric(np.where(value < _rec_709_transfer_function_vectorise(0.018),\n",
      "                        value / 4.5,\n",
      "                        ((value + 0.099) / 1.099) ** (1 / 0.45)))\n",
      "            \n",
      "\n",
      "print(_rec_709_inverse_transfer_function_vectorise(RGB))\n",
      "\n",
      "print(_rec_709_inverse_transfer_function_vectorise(RGB_t))"
     ],
     "language": "python",
     "metadata": {},
     "outputs": [
      {
       "output_type": "stream",
       "stream": "stdout",
       "text": [
        "[ 0.93307848  1.00255039  1.18668916]\n",
        "[[ 0.93307848  1.00255039  1.18668916]\n",
        " [ 0.93307848  1.00255039  1.18668916]\n",
        " [ 0.93307848  1.00255039  1.18668916]\n",
        " [ 0.93307848  1.00255039  1.18668916]\n",
        " [ 0.93307848  1.00255039  1.18668916]]\n",
        "[ 0.75543676  1.01047244  2.04431908]\n",
        "[[ 0.75543676  1.01047244  2.04431908]\n",
        " [ 0.75543676  1.01047244  2.04431908]\n",
        " [ 0.75543676  1.01047244  2.04431908]\n",
        " [ 0.75543676  1.01047244  2.04431908]\n",
        " [ 0.75543676  1.01047244  2.04431908]]\n"
       ]
      }
     ],
     "prompt_number": 292
    },
    {
     "cell_type": "code",
     "collapsed": false,
     "input": [
      "from colour.models.dataset.rec_2020 import *\n",
      "\n",
      "\n",
      "def _rec_2020_transfer_function_vectorise(value, is_10_bits_system=True):\n",
      "    value = as_array(value)\n",
      "\n",
      "    a = REC_2020_CONSTANTS.alpha(is_10_bits_system)\n",
      "    b = REC_2020_CONSTANTS.beta(is_10_bits_system)\n",
      "    return as_numeric(np.where(value < b,\n",
      "                        value * 4.5,\n",
      "                        a * (value ** 0.45) - (a - 1)))\n",
      "\n",
      "\n",
      "print(_rec_2020_transfer_function_vectorise(RGB))\n",
      "\n",
      "print(_rec_2020_transfer_function_vectorise(RGB_t))\n",
      "\n",
      "\n",
      "def _rec_2020_inverse_transfer_function_vectorise(value, is_10_bits_system=True):\n",
      "    value = as_array(value)\n",
      "\n",
      "    a = REC_2020_CONSTANTS.alpha(is_10_bits_system)\n",
      "    b = REC_2020_CONSTANTS.beta(is_10_bits_system)\n",
      "    return as_numeric(np.where(value < _rec_2020_transfer_function_vectorise(b),\n",
      "                        value / 4.5,\n",
      "                        ((value + (a - 1)) / a) ** (1 / 0.45)))\n",
      "\n",
      "\n",
      "print(_rec_2020_inverse_transfer_function_vectorise(RGB))\n",
      "\n",
      "print(_rec_2020_inverse_transfer_function_vectorise(RGB_t))"
     ],
     "language": "python",
     "metadata": {},
     "outputs": [
      {
       "output_type": "stream",
       "stream": "stdout",
       "text": [
        "[ 0.93307848  1.00255039  1.18668916]\n",
        "[[ 0.93307848  1.00255039  1.18668916]\n",
        " [ 0.93307848  1.00255039  1.18668916]\n",
        " [ 0.93307848  1.00255039  1.18668916]\n",
        " [ 0.93307848  1.00255039  1.18668916]\n",
        " [ 0.93307848  1.00255039  1.18668916]]\n",
        "[ 0.75543676  1.01047244  2.04431908]\n",
        "[[ 0.75543676  1.01047244  2.04431908]\n",
        " [ 0.75543676  1.01047244  2.04431908]\n",
        " [ 0.75543676  1.01047244  2.04431908]\n",
        " [ 0.75543676  1.01047244  2.04431908]\n",
        " [ 0.75543676  1.01047244  2.04431908]]\n"
       ]
      }
     ],
     "prompt_number": 293
    },
    {
     "cell_type": "code",
     "collapsed": false,
     "input": [
      "from colour.models.dataset.s_gamut import (\n",
      "    _s_log_transfer_function,\n",
      "    _s_log_inverse_transfer_function,\n",
      "    _s_log2_transfer_function,\n",
      "    _s_log2_inverse_transfer_function,\n",
      "    _s_log3_transfer_function,\n",
      "    _s_log3_inverse_transfer_function)\n",
      "from colour.models.dataset.s_gamut import *\n",
      "\n",
      "\n",
      "def _s_log_transfer_function_vectorise(value):\n",
      "    \n",
      "    return as_numeric((0.432699 * np.log10(as_array(value) + 0.037584) + 0.616596) + 0.03)\n",
      "\n",
      "\n",
      "print(_s_log_transfer_function(RGB[0]))\n",
      "\n",
      "print(_s_log_transfer_function_vectorise(RGB[0]))\n",
      "\n",
      "print(_s_log_transfer_function_vectorise(RGB))\n",
      "\n",
      "print(_s_log_transfer_function_vectorise(RGB_t))\n",
      "\n",
      "\n",
      "def _s_log_inverse_transfer_function_vectorise(value):\n",
      "    \n",
      "    return as_numeric(10 ** (((as_array(value) - 0.616596 - 0.03) / 0.432699)) - 0.037584)\n",
      "\n",
      "\n",
      "print(_s_log_inverse_transfer_function(RGB[0]))\n",
      "\n",
      "print(_s_log_inverse_transfer_function_vectorise(RGB[0]))\n",
      "\n",
      "print(_s_log_inverse_transfer_function_vectorise(RGB))\n",
      "\n",
      "print(_s_log_inverse_transfer_function_vectorise(RGB_t))\n",
      "\n",
      "\n",
      "def _s_log2_transfer_function_vectorise(value):\n",
      "    \n",
      "    return as_numeric(((4 * (16 + 219 * (0.616596 + 0.03 + 0.432699 *\n",
      "                              (np.log10(0.037584 + as_array(value) / 0.9))))) / 1023))\n",
      "\n",
      "\n",
      "print(_s_log2_transfer_function(RGB[0]))\n",
      "\n",
      "print(_s_log2_transfer_function_vectorise(RGB[0]))\n",
      "\n",
      "print(_s_log2_transfer_function_vectorise(RGB))\n",
      "\n",
      "print(_s_log2_transfer_function_vectorise(RGB_t))\n",
      "\n",
      "\n",
      "def _s_log2_inverse_transfer_function_vectorise(value):\n",
      "    \n",
      "    return as_numeric(((10 ** (((((as_array(value) * 1023 / 4 - 16) / 219) - 0.616596 - 0.03)\n",
      "                     / 0.432699)) - 0.037584) * 0.9))\n",
      "\n",
      "\n",
      "print(_s_log2_inverse_transfer_function(RGB[0]))\n",
      "\n",
      "print(_s_log2_inverse_transfer_function_vectorise(RGB[0]))\n",
      "\n",
      "print(_s_log2_inverse_transfer_function_vectorise(RGB))\n",
      "\n",
      "print(_s_log2_inverse_transfer_function_vectorise(RGB_t))\n",
      "\n",
      "\n",
      "def _s_log3_transfer_function_vectorise(value):\n",
      "    value = as_array(value)\n",
      "    \n",
      "    return as_numeric(np.where(value >= 0.01125000,\n",
      "                               (420 + np.log10((value + 0.01) / (0.18 + 0.01)) * 261.5) / 1023,\n",
      "                               (value * (171.2102946929 - 95) / 0.01125000 + 95) / 1023))\n",
      "\n",
      "\n",
      "print(_s_log3_transfer_function(RGB[0]))\n",
      "\n",
      "print(_s_log3_transfer_function_vectorise(RGB[0]))\n",
      "\n",
      "print(_s_log3_transfer_function_vectorise(RGB))\n",
      "\n",
      "print(_s_log3_transfer_function_vectorise(RGB_t))\n",
      "\n",
      "\n",
      "def _s_log3_inverse_transfer_function_vectorise(value):\n",
      "    value = as_array(value)\n",
      "    \n",
      "    return as_numeric(np.where(value >= 171.2102946929 / 1023,\n",
      "                               ((10 ** ((value * 1023 - 420) / 261.5)) * (0.18 + 0.01) - 0.01),\n",
      "                               (value * 1023 - 95) * 0.01125000 / (171.2102946929 - 95)))\n",
      "\n",
      "\n",
      "print(_s_log3_inverse_transfer_function(RGB[0]))\n",
      "\n",
      "print(_s_log3_inverse_transfer_function_vectorise(RGB[0]))\n",
      "\n",
      "print(_s_log3_inverse_transfer_function_vectorise(RGB))\n",
      "\n",
      "print(_s_log3_inverse_transfer_function_vectorise(RGB_t))"
     ],
     "language": "python",
     "metadata": {},
     "outputs": [
      {
       "output_type": "stream",
       "stream": "stdout",
       "text": [
        "0.628310412424\n",
        "0.628310412424\n",
        "[ 0.62831041  0.65446225  0.71703339]\n",
        "[[ 0.62831041  0.65446225  0.71703339]\n",
        " [ 0.62831041  0.65446225  0.71703339]\n",
        " [ 0.62831041  0.65446225  0.71703339]\n",
        " [ 0.62831041  0.65446225  0.71703339]\n",
        " [ 0.62831041  0.65446225  0.71703339]]\n",
        "3.24032953749\n",
        "3.24032953749\n",
        "[  3.24032954   6.70270299  60.33335987]\n",
        "[[  3.24032954   6.70270299  60.33335987]\n",
        " [  3.24032954   6.70270299  60.33335987]\n",
        " [  3.24032954   6.70270299  60.33335987]\n",
        " [  3.24032954   6.70270299  60.33335987]\n",
        " [  3.24032954   6.70270299  60.33335987]]\n",
        "0.616872626496\n",
        "0.616872626496\n",
        "[ 0.61687263  0.63935351  0.69309826]\n",
        "[[ 0.61687263  0.63935351  0.69309826]\n",
        " [ 0.61687263  0.63935351  0.69309826]\n",
        " [ 0.61687263  0.63935351  0.69309826]\n",
        " [ 0.61687263  0.63935351  0.69309826]\n",
        " [ 0.61687263  0.63935351  0.69309826]]\n",
        "4.31404908381\n",
        "4.31404908381\n",
        "[   4.31404908   10.05627416  130.53020919]\n",
        "[[   4.31404908   10.05627416  130.53020919]\n",
        " [   4.31404908   10.05627416  130.53020919]\n",
        " [   4.31404908   10.05627416  130.53020919]\n",
        " [   4.31404908   10.05627416  130.53020919]\n",
        " [   4.31404908   10.05627416  130.53020919]]\n",
        "0.580692787575\n",
        "0.580692787575\n",
        "[ 0.58069279  0.59659354  0.63440901]\n",
        "[[ 0.58069279  0.59659354  0.63440901]\n",
        " [ 0.58069279  0.59659354  0.63440901]\n",
        " [ 0.58069279  0.59659354  0.63440901]\n",
        " [ 0.58069279  0.59659354  0.63440901]\n",
        " [ 0.58069279  0.59659354  0.63440901]]\n",
        "11.8728311451\n",
        "11.8728311451\n",
        "[   11.87283115    40.25094468  1646.7263037 ]\n",
        "[[   11.87283115    40.25094468  1646.7263037 ]\n",
        " [   11.87283115    40.25094468  1646.7263037 ]\n",
        " [   11.87283115    40.25094468  1646.7263037 ]\n",
        " [   11.87283115    40.25094468  1646.7263037 ]\n",
        " [   11.87283115    40.25094468  1646.7263037 ]]\n"
       ]
      }
     ],
     "prompt_number": 294
    },
    {
     "cell_type": "code",
     "collapsed": false,
     "input": [
      "from colour.models.dataset.srgb import *\n",
      "\n",
      "\n",
      "def _srgb_transfer_function(value):\n",
      "    value = as_array(value)\n",
      "\n",
      "    return as_numeric(np.where(value <= 0.0031308,\n",
      "                        value * 12.92,\n",
      "                        1.055 * (value ** (1 / 2.4)) - 0.055))\n",
      "\n",
      "\n",
      "print(_srgb_transfer_function(RGB))\n",
      "\n",
      "print(_srgb_transfer_function(RGB_t))\n",
      "\n",
      "\n",
      "def _srgb_inverse_transfer_function(value):\n",
      "    value = as_array(value)\n",
      "\n",
      "    return as_numeric(np.where(value <= _srgb_transfer_function(0.0031308),\n",
      "                        value / 12.92,\n",
      "                        ((value + 0.055) / 1.055) ** 2.4))\n",
      "\n",
      "\n",
      "print(_srgb_inverse_transfer_function(RGB))\n",
      "\n",
      "print(_srgb_inverse_transfer_function(RGB_t))"
     ],
     "language": "python",
     "metadata": {},
     "outputs": [
      {
       "output_type": "stream",
       "stream": "stdout",
       "text": [
        "[ 0.94037929  1.00226673  1.16495404]\n",
        "[[ 0.94037929  1.00226673  1.16495404]\n",
        " [ 0.94037929  1.00226673  1.16495404]\n",
        " [ 0.94037929  1.00226673  1.16495404]\n",
        " [ 0.94037929  1.00226673  1.16495404]\n",
        " [ 0.94037929  1.00226673  1.16495404]]\n",
        "[ 0.72876915  1.01178848  2.22476966]\n",
        "[[ 0.72876915  1.01178848  2.22476966]\n",
        " [ 0.72876915  1.01178848  2.22476966]\n",
        " [ 0.72876915  1.01178848  2.22476966]\n",
        " [ 0.72876915  1.01178848  2.22476966]\n",
        " [ 0.72876915  1.01178848  2.22476966]]\n"
       ]
      }
     ],
     "prompt_number": 295
    },
    {
     "cell_type": "heading",
     "level": 3,
     "metadata": {},
     "source": [
      "colour.XYZ_to_RGB"
     ]
    },
    {
     "cell_type": "code",
     "collapsed": false,
     "input": [
      "from colour.models.rgb import *\n",
      "\n",
      "XYZ = np.array([0.07049534, 0.1008, 0.09558313])\n",
      "W_R = (0.34567, 0.35850)\n",
      "W_T = (0.31271, 0.32902)\n",
      "CAT = 'Bradford'\n",
      "M = np.array([\n",
      "    [3.24100326, -1.53739899, -0.49861587],\n",
      "    [-0.96922426, 1.87592999, 0.04155422],\n",
      "    [0.05563942, -0.2040112, 1.05714897]])\n",
      "\n",
      "\n",
      "def XYZ_to_RGB_2d(XYZ):\n",
      "    for i in range(len(XYZ)):\n",
      "        XYZ_to_RGB(XYZ[i], W_R, W_T, M, CAT)\n"
     ],
     "language": "python",
     "metadata": {},
     "outputs": [],
     "prompt_number": 296
    },
    {
     "cell_type": "code",
     "collapsed": false,
     "input": [
      "%timeit XYZ_to_RGB_2d(DATA1)"
     ],
     "language": "python",
     "metadata": {},
     "outputs": [
      {
       "output_type": "stream",
       "stream": "stdout",
       "text": [
        "1 loops, best of 3: 3min 11s per loop\n"
       ]
      }
     ],
     "prompt_number": 297
    },
    {
     "cell_type": "code",
     "collapsed": false,
     "input": [
      "def XYZ_to_RGB_vectorise(XYZ,\n",
      "               illuminant_XYZ,\n",
      "               illuminant_RGB,\n",
      "               XYZ_to_RGB_matrix,\n",
      "               chromatic_adaptation_transform='CAT02',\n",
      "               transfer_function=None):\n",
      "    XYZ = as_array(XYZ, (-1, 3))\n",
      "    \n",
      "    M = chromatic_adaptation_matrix_VonKries_vectorise(\n",
      "        xy_to_XYZ_vectorise(illuminant_XYZ),\n",
      "        xy_to_XYZ_vectorise(illuminant_RGB),\n",
      "        transform=chromatic_adaptation_transform)\n",
      "\n",
      "    XYZ_a = np.einsum('...i,...ji', XYZ, M)\n",
      "\n",
      "    RGB = np.einsum('...i,...ji', XYZ_a, XYZ_to_RGB_matrix)\n",
      "\n",
      "    if transfer_function is not None:\n",
      "        RGB = transfer_function(RGB)\n",
      "\n",
      "    RGB = np.squeeze(RGB)\n",
      "\n",
      "    return RGB\n",
      "\n",
      "\n",
      "print('Reference:')\n",
      "XYZ = np.array([0.96907232, 1, 1.12179215])\n",
      "print(XYZ_to_RGB(XYZ, W_R, W_T, M, CAT))\n",
      "\n",
      "print('\\n')\n",
      "\n",
      "print('1d array:')\n",
      "print(XYZ_to_RGB_vectorise(XYZ, W_R, W_T, M, CAT))\n",
      "\n",
      "print('\\n')\n",
      "\n",
      "print('2d array:')\n",
      "XYZ = np.tile(XYZ, (5, 1))\n",
      "print(XYZ_to_RGB_vectorise(XYZ, W_R, W_T, M, CAT))"
     ],
     "language": "python",
     "metadata": {},
     "outputs": [
      {
       "output_type": "stream",
       "stream": "stdout",
       "text": [
        "Reference:\n",
        "[ 0.86969452  1.00516431  1.41715848]\n",
        "\n",
        "\n",
        "1d array:\n",
        "[ 0.86969452  1.00516431  1.41715848]\n",
        "\n",
        "\n",
        "2d array:\n",
        "[[ 0.86969452  1.00516431  1.41715848]\n",
        " [ 0.86969452  1.00516431  1.41715848]\n",
        " [ 0.86969452  1.00516431  1.41715848]\n",
        " [ 0.86969452  1.00516431  1.41715848]\n",
        " [ 0.86969452  1.00516431  1.41715848]]\n"
       ]
      }
     ],
     "prompt_number": 298
    },
    {
     "cell_type": "code",
     "collapsed": false,
     "input": [
      "%timeit XYZ_to_RGB_vectorise(DATA1, W_R, W_T, M, CAT)"
     ],
     "language": "python",
     "metadata": {},
     "outputs": [
      {
       "output_type": "stream",
       "stream": "stdout",
       "text": [
        "10 loops, best of 3: 112 ms per loop\n"
       ]
      }
     ],
     "prompt_number": 299
    },
    {
     "cell_type": "heading",
     "level": 3,
     "metadata": {},
     "source": [
      "colour.RGB_to_XYZ"
     ]
    },
    {
     "cell_type": "code",
     "collapsed": false,
     "input": [
      "RGB = np.array([0.86969452, 1.00516431, 1.41715848])\n",
      "W_R = (0.31271, 0.32902)\n",
      "W_T = (0.34567, 0.35850)\n",
      "CAT = 'Bradford'\n",
      "M = np.array([\n",
      "    [0.41238656, 0.35759149, 0.18045049],\n",
      "    [0.21263682, 0.71518298, 0.0721802],\n",
      "    [0.01933062, 0.11919716, 0.95037259]])\n",
      "\n",
      "\n",
      "def RGB_to_XYZ_2d(RGB):\n",
      "    for i in range(len(RGB)):\n",
      "        RGB_to_XYZ(RGB[i], W_R, W_T, M, CAT)"
     ],
     "language": "python",
     "metadata": {},
     "outputs": [],
     "prompt_number": 300
    },
    {
     "cell_type": "code",
     "collapsed": false,
     "input": [
      "%timeit RGB_to_XYZ_2d(DATA1)"
     ],
     "language": "python",
     "metadata": {},
     "outputs": [
      {
       "output_type": "stream",
       "stream": "stdout",
       "text": [
        "1 loops, best of 3: 3min 30s per loop\n"
       ]
      }
     ],
     "prompt_number": 301
    },
    {
     "cell_type": "code",
     "collapsed": false,
     "input": [
      "def RGB_to_XYZ_vectorise(RGB,\n",
      "               illuminant_RGB,\n",
      "               illuminant_XYZ,\n",
      "               RGB_to_XYZ_matrix,\n",
      "               chromatic_adaptation_transform='CAT02',\n",
      "               inverse_transfer_function=None):\n",
      "\n",
      "    RGB = as_array(RGB, (-1, 3))\n",
      "\n",
      "    if inverse_transfer_function is not None:\n",
      "        RGB = inverse_transfer_function(RGB)\n",
      "\n",
      "    XYZ = np.einsum('...i,...ji', RGB, RGB_to_XYZ_matrix)\n",
      "    \n",
      "    M = chromatic_adaptation_matrix_VonKries_vectorise(\n",
      "        xy_to_XYZ_vectorise(illuminant_RGB),\n",
      "        xy_to_XYZ_vectorise(illuminant_XYZ),\n",
      "        transform=chromatic_adaptation_transform)\n",
      "\n",
      "    XYZ_a = np.einsum('...i,...ji', XYZ, M)\n",
      "\n",
      "    XYZ_a = np.squeeze(XYZ_a)\n",
      "\n",
      "    return XYZ_a\n",
      "\n",
      "\n",
      "print('Reference:')\n",
      "RGB = np.array([0.86969452, 1.00516431, 1.41715848])\n",
      "print(RGB_to_XYZ(RGB, W_R, W_T, M, CAT))\n",
      "\n",
      "print('\\n')\n",
      "\n",
      "print('1d array:')\n",
      "print(RGB_to_XYZ_vectorise(RGB, W_R, W_T, M, CAT))\n",
      "\n",
      "print('\\n')\n",
      "\n",
      "print('2d array:')\n",
      "RGB = np.tile(RGB, (5, 1))\n",
      "print(RGB_to_XYZ_vectorise(RGB, W_R, W_T, M, CAT))"
     ],
     "language": "python",
     "metadata": {},
     "outputs": [
      {
       "output_type": "stream",
       "stream": "stdout",
       "text": [
        "Reference:\n",
        "[ 0.96907232  1.          1.12179214]\n",
        "\n",
        "\n",
        "1d array:\n",
        "[ 0.96907232  1.          1.12179214]\n",
        "\n",
        "\n",
        "2d array:\n",
        "[[ 0.96907232  1.          1.12179214]\n",
        " [ 0.96907232  1.          1.12179214]\n",
        " [ 0.96907232  1.          1.12179214]\n",
        " [ 0.96907232  1.          1.12179214]\n",
        " [ 0.96907232  1.          1.12179214]]\n"
       ]
      }
     ],
     "prompt_number": 302
    },
    {
     "cell_type": "code",
     "collapsed": false,
     "input": [
      "%timeit RGB_to_XYZ_vectorise(DATA1, W_R, W_T, M, CAT)"
     ],
     "language": "python",
     "metadata": {},
     "outputs": [
      {
       "output_type": "stream",
       "stream": "stdout",
       "text": [
        "1 loops, best of 3: 115 ms per loop\n"
       ]
      }
     ],
     "prompt_number": 303
    },
    {
     "cell_type": "heading",
     "level": 3,
     "metadata": {},
     "source": [
      "colour.RGB_to_RGB"
     ]
    },
    {
     "cell_type": "code",
     "collapsed": false,
     "input": [
      "from colour import sRGB_COLOURSPACE\n",
      "RGB = np.array([0.86969452, 1.00516431, 1.41715848])\n",
      "C = sRGB_COLOURSPACE\n",
      "CAT = 'Bradford'\n",
      "\n",
      "\n",
      "def RGB_to_RGB_2d(RGB):\n",
      "    for i in range(len(RGB)):\n",
      "        RGB_to_RGB(RGB[i], C, C, CAT)"
     ],
     "language": "python",
     "metadata": {},
     "outputs": [],
     "prompt_number": 304
    },
    {
     "cell_type": "code",
     "collapsed": false,
     "input": [
      "%timeit RGB_to_RGB_2d(DATA1)"
     ],
     "language": "python",
     "metadata": {},
     "outputs": [
      {
       "output_type": "stream",
       "stream": "stdout",
       "text": [
        "1 loops, best of 3: 1min 42s per loop\n"
       ]
      }
     ],
     "prompt_number": 305
    },
    {
     "cell_type": "code",
     "collapsed": false,
     "input": [
      "def RGB_to_RGB_vectorise(RGB,\n",
      "               input_colourspace,\n",
      "               output_colourspace,\n",
      "               chromatic_adaptation_transform='CAT02'):\n",
      "    RGB = as_array(RGB, (-1, 3))\n",
      "\n",
      "    cat = chromatic_adaptation_matrix_VonKries_vectorise(\n",
      "        xy_to_XYZ_vectorise(input_colourspace.whitepoint),\n",
      "        xy_to_XYZ_vectorise(output_colourspace.whitepoint),\n",
      "        chromatic_adaptation_transform)\n",
      "\n",
      "    M = np.einsum('...ij,...jk->...ik',\n",
      "                  input_colourspace.RGB_to_XYZ_matrix,\n",
      "                  cat)\n",
      "    M = np.einsum('...ij,...jk->...ik',\n",
      "                  M,\n",
      "                  output_colourspace.XYZ_to_RGB_matrix)\n",
      "    \n",
      "    RGB = np.squeeze(np.einsum('...i,...ji', RGB, M))\n",
      "\n",
      "    return RGB\n",
      "\n",
      "\n",
      "print('Reference:')\n",
      "RGB = np.array([0.86969452, 1.00516431, 1.41715848])\n",
      "print(RGB_to_RGB(RGB, C, C, CAT))\n",
      "\n",
      "print('\\n')\n",
      "\n",
      "print('1d array:')\n",
      "print(RGB_to_RGB_vectorise(RGB, C, C, CAT))\n",
      "\n",
      "print('\\n')\n",
      "\n",
      "print('2d array:')\n",
      "RGB = np.tile(RGB, (5, 1))\n",
      "print(RGB_to_RGB_vectorise(RGB, C, C, CAT))"
     ],
     "language": "python",
     "metadata": {},
     "outputs": [
      {
       "output_type": "stream",
       "stream": "stdout",
       "text": [
        "Reference:\n",
        "[ 0.86969452  1.00516431  1.41715848]\n",
        "\n",
        "\n",
        "1d array:\n",
        "[ 0.86969452  1.00516431  1.41715848]\n",
        "\n",
        "\n",
        "2d array:\n",
        "[[ 0.86969452  1.00516431  1.41715848]\n",
        " [ 0.86969452  1.00516431  1.41715848]\n",
        " [ 0.86969452  1.00516431  1.41715848]\n",
        " [ 0.86969452  1.00516431  1.41715848]\n",
        " [ 0.86969452  1.00516431  1.41715848]]\n"
       ]
      }
     ],
     "prompt_number": 306
    },
    {
     "cell_type": "code",
     "collapsed": false,
     "input": [
      "%timeit RGB_to_RGB_vectorise(DATA1, C, C, CAT)"
     ],
     "language": "python",
     "metadata": {},
     "outputs": [
      {
       "output_type": "stream",
       "stream": "stdout",
       "text": [
        "10 loops, best of 3: 49.9 ms per loop\n"
       ]
      }
     ],
     "prompt_number": 307
    },
    {
     "cell_type": "heading",
     "level": 2,
     "metadata": {},
     "source": [
      "colour.notation.munsell"
     ]
    },
    {
     "cell_type": "heading",
     "level": 3,
     "metadata": {},
     "source": [
      "colour.munsell_value_Priest1920"
     ]
    },
    {
     "cell_type": "code",
     "collapsed": false,
     "input": [
      "from colour.notation.munsell import *\n",
      "\n",
      "def munsell_value_Priest1920_2d(Y):\n",
      "    for i in range(len(Y)):\n",
      "        munsell_value_Priest1920(Y[i])\n",
      "\n",
      "Y = np.linspace(0, 100, 1000000)"
     ],
     "language": "python",
     "metadata": {},
     "outputs": [],
     "prompt_number": 308
    },
    {
     "cell_type": "code",
     "collapsed": false,
     "input": [
      "%timeit munsell_value_Priest1920_2d(Y)"
     ],
     "language": "python",
     "metadata": {},
     "outputs": [
      {
       "output_type": "stream",
       "stream": "stdout",
       "text": [
        "1 loops, best of 3: 3.32 s per loop\n"
       ]
      }
     ],
     "prompt_number": 309
    },
    {
     "cell_type": "code",
     "collapsed": false,
     "input": [
      "def munsell_value_Priest1920_vectorise(Y):\n",
      "    Y = as_array(Y)\n",
      "\n",
      "    Y /= 100\n",
      "    V = 10 * np.sqrt(Y)\n",
      "\n",
      "    return as_numeric(V)\n",
      "\n",
      "\n",
      "print('Reference:')\n",
      "print(munsell_value_Priest1920(10.08))\n",
      "\n",
      "print('\\n')\n",
      "\n",
      "print('1d array:')\n",
      "print(munsell_value_Priest1920_vectorise(10.08))\n",
      "\n",
      "print('\\n')\n",
      "\n",
      "print('2d array:')\n",
      "print(munsell_value_Priest1920_vectorise([10.08, 10.08, 10.08, 10.08, 10.08]))"
     ],
     "language": "python",
     "metadata": {},
     "outputs": [
      {
       "output_type": "stream",
       "stream": "stdout",
       "text": [
        "Reference:\n",
        "3.17490157328\n",
        "\n",
        "\n",
        "1d array:\n",
        "3.17490157328\n",
        "\n",
        "\n",
        "2d array:\n",
        "[ 3.17490157  3.17490157  3.17490157  3.17490157  3.17490157]\n"
       ]
      }
     ],
     "prompt_number": 310
    },
    {
     "cell_type": "code",
     "collapsed": false,
     "input": [
      "%timeit munsell_value_Priest1920_vectorise(Y)"
     ],
     "language": "python",
     "metadata": {},
     "outputs": [
      {
       "output_type": "stream",
       "stream": "stdout",
       "text": [
        "100 loops, best of 3: 4.66 ms per loop\n"
       ]
      }
     ],
     "prompt_number": 311
    },
    {
     "cell_type": "heading",
     "level": 3,
     "metadata": {},
     "source": [
      "colour.munsell_value_Munsell1933\u00b6"
     ]
    },
    {
     "cell_type": "code",
     "collapsed": false,
     "input": [
      "def munsell_value_Munsell1933_2d(Y):\n",
      "    for i in range(len(Y)):\n",
      "        munsell_value_Munsell1933(Y[i])"
     ],
     "language": "python",
     "metadata": {},
     "outputs": [],
     "prompt_number": 312
    },
    {
     "cell_type": "code",
     "collapsed": false,
     "input": [
      "%timeit munsell_value_Munsell1933_2d(Y)"
     ],
     "language": "python",
     "metadata": {},
     "outputs": [
      {
       "output_type": "stream",
       "stream": "stdout",
       "text": [
        "1 loops, best of 3: 2.86 s per loop\n"
       ]
      }
     ],
     "prompt_number": 313
    },
    {
     "cell_type": "code",
     "collapsed": false,
     "input": [
      "def munsell_value_Munsell1933_vectorise(Y):\n",
      "    Y = as_array(Y)\n",
      "\n",
      "    V = np.sqrt(1.4742 * Y - 0.004743 * (Y * Y))\n",
      "\n",
      "    return as_numeric(V)\n",
      "\n",
      "\n",
      "print('Reference:')\n",
      "print(munsell_value_Munsell1933(10.08))\n",
      "\n",
      "print('\\n')\n",
      "\n",
      "print('1d array:')\n",
      "print(munsell_value_Munsell1933_vectorise(10.08))\n",
      "\n",
      "print('\\n')\n",
      "\n",
      "print('2d array:')\n",
      "print(munsell_value_Munsell1933_vectorise([10.08, 10.08, 10.08, 10.08, 10.08]))"
     ],
     "language": "python",
     "metadata": {},
     "outputs": [
      {
       "output_type": "stream",
       "stream": "stdout",
       "text": [
        "Reference:\n",
        "3.79183555086\n",
        "\n",
        "\n",
        "1d array:\n",
        "3.79183555086\n",
        "\n",
        "\n",
        "2d array:\n",
        "[ 3.79183555  3.79183555  3.79183555  3.79183555  3.79183555]\n"
       ]
      }
     ],
     "prompt_number": 314
    },
    {
     "cell_type": "code",
     "collapsed": false,
     "input": [
      "%timeit munsell_value_Munsell1933_vectorise(Y)"
     ],
     "language": "python",
     "metadata": {},
     "outputs": [
      {
       "output_type": "stream",
       "stream": "stdout",
       "text": [
        "100 loops, best of 3: 7.93 ms per loop\n"
       ]
      }
     ],
     "prompt_number": 315
    },
    {
     "cell_type": "heading",
     "level": 3,
     "metadata": {},
     "source": [
      "colour.munsell_value_Moon1943"
     ]
    },
    {
     "cell_type": "code",
     "collapsed": false,
     "input": [
      "def munsell_value_Moon1943_2d(Y):\n",
      "    for i in range(len(Y)):\n",
      "        munsell_value_Moon1943(Y[i])"
     ],
     "language": "python",
     "metadata": {},
     "outputs": [],
     "prompt_number": 316
    },
    {
     "cell_type": "code",
     "collapsed": false,
     "input": [
      "%timeit munsell_value_Moon1943_2d(Y)"
     ],
     "language": "python",
     "metadata": {},
     "outputs": [
      {
       "output_type": "stream",
       "stream": "stdout",
       "text": [
        "1 loops, best of 3: 980 ms per loop\n"
       ]
      }
     ],
     "prompt_number": 317
    },
    {
     "cell_type": "code",
     "collapsed": false,
     "input": [
      "def munsell_value_Moon1943_vectorise(Y):\n",
      "    Y = as_array(Y)\n",
      "\n",
      "    V = 1.4 * Y ** 0.426\n",
      "\n",
      "    return as_numeric(V)\n",
      "\n",
      "\n",
      "print('Reference:')\n",
      "print(munsell_value_Moon1943(10.08))\n",
      "\n",
      "print('\\n')\n",
      "\n",
      "print('1d array:')\n",
      "print(munsell_value_Moon1943_vectorise(10.08))\n",
      "\n",
      "print('\\n')\n",
      "\n",
      "print('2d array:')\n",
      "print(munsell_value_Moon1943_vectorise([10.08, 10.08, 10.08, 10.08, 10.08]))"
     ],
     "language": "python",
     "metadata": {},
     "outputs": [
      {
       "output_type": "stream",
       "stream": "stdout",
       "text": [
        "Reference:\n",
        "3.74629715382\n",
        "\n",
        "\n",
        "1d array:\n",
        "3.74629715382\n",
        "\n",
        "\n",
        "2d array:\n",
        "[ 3.74629715  3.74629715  3.74629715  3.74629715  3.74629715]\n"
       ]
      }
     ],
     "prompt_number": 318
    },
    {
     "cell_type": "code",
     "collapsed": false,
     "input": [
      "%timeit munsell_value_Moon1943_vectorise(Y)"
     ],
     "language": "python",
     "metadata": {},
     "outputs": [
      {
       "output_type": "stream",
       "stream": "stdout",
       "text": [
        "10 loops, best of 3: 20.6 ms per loop\n"
       ]
      }
     ],
     "prompt_number": 319
    },
    {
     "cell_type": "heading",
     "level": 3,
     "metadata": {},
     "source": [
      "colour.munsell_value_Saunderson1944"
     ]
    },
    {
     "cell_type": "code",
     "collapsed": false,
     "input": [
      "def munsell_value_Saunderson1944_2d(Y):\n",
      "    for i in range(len(Y)):\n",
      "        munsell_value_Saunderson1944(Y[i])"
     ],
     "language": "python",
     "metadata": {},
     "outputs": [],
     "prompt_number": 320
    },
    {
     "cell_type": "code",
     "collapsed": false,
     "input": [
      "%timeit munsell_value_Saunderson1944_2d(Y)"
     ],
     "language": "python",
     "metadata": {},
     "outputs": [
      {
       "output_type": "stream",
       "stream": "stdout",
       "text": [
        "1 loops, best of 3: 1.24 s per loop\n"
       ]
      }
     ],
     "prompt_number": 321
    },
    {
     "cell_type": "code",
     "collapsed": false,
     "input": [
      "def munsell_value_Saunderson1944_vectorise(Y):\n",
      "    Y = as_array(Y)\n",
      "\n",
      "    V = 2.357 * (Y ** 0.343) - 1.52\n",
      "\n",
      "    return as_numeric(V)\n",
      "\n",
      "\n",
      "print('Reference:')\n",
      "print(munsell_value_Saunderson1944(10.08))\n",
      "\n",
      "print('\\n')\n",
      "\n",
      "print('1d array:')\n",
      "print(munsell_value_Saunderson1944_vectorise(10.08))\n",
      "\n",
      "print('\\n')\n",
      "\n",
      "print('2d array:')\n",
      "print(munsell_value_Saunderson1944_vectorise([10.08, 10.08, 10.08, 10.08, 10.08]))"
     ],
     "language": "python",
     "metadata": {},
     "outputs": [
      {
       "output_type": "stream",
       "stream": "stdout",
       "text": [
        "Reference:\n",
        "3.68650805994\n",
        "\n",
        "\n",
        "1d array:\n",
        "3.68650805994\n",
        "\n",
        "\n",
        "2d array:\n",
        "[ 3.68650806  3.68650806  3.68650806  3.68650806  3.68650806]\n"
       ]
      }
     ],
     "prompt_number": 322
    },
    {
     "cell_type": "code",
     "collapsed": false,
     "input": [
      "%timeit munsell_value_Saunderson1944_vectorise(Y)"
     ],
     "language": "python",
     "metadata": {},
     "outputs": [
      {
       "output_type": "stream",
       "stream": "stdout",
       "text": [
        "10 loops, best of 3: 22.5 ms per loop\n"
       ]
      }
     ],
     "prompt_number": 323
    },
    {
     "cell_type": "heading",
     "level": 3,
     "metadata": {},
     "source": [
      "colour.munsell_value_Ladd1955"
     ]
    },
    {
     "cell_type": "code",
     "collapsed": false,
     "input": [
      "def munsell_value_Ladd1955_2d(Y):\n",
      "    for i in range(len(Y)):\n",
      "        munsell_value_Ladd1955(Y[i])"
     ],
     "language": "python",
     "metadata": {},
     "outputs": [],
     "prompt_number": 324
    },
    {
     "cell_type": "code",
     "collapsed": false,
     "input": [
      "%timeit munsell_value_Ladd1955_2d(Y)"
     ],
     "language": "python",
     "metadata": {},
     "outputs": [
      {
       "output_type": "stream",
       "stream": "stdout",
       "text": [
        "1 loops, best of 3: 1.23 s per loop\n"
       ]
      }
     ],
     "prompt_number": 325
    },
    {
     "cell_type": "code",
     "collapsed": false,
     "input": [
      "def munsell_value_Ladd1955_vectorise(Y):\n",
      "    Y = as_array(Y)\n",
      "\n",
      "    V = 2.468 * (Y ** (1 / 3)) - 1.636\n",
      "\n",
      "    return as_numeric(V)\n",
      "\n",
      "\n",
      "print('Reference:')\n",
      "print(munsell_value_Ladd1955(10.08))\n",
      "\n",
      "print('\\n')\n",
      "\n",
      "print('1d array:')\n",
      "print(munsell_value_Ladd1955_vectorise(10.08))\n",
      "\n",
      "print('\\n')\n",
      "\n",
      "print('2d array:')\n",
      "print(munsell_value_Ladd1955_vectorise([10.08, 10.08, 10.08, 10.08, 10.08]))"
     ],
     "language": "python",
     "metadata": {},
     "outputs": [
      {
       "output_type": "stream",
       "stream": "stdout",
       "text": [
        "Reference:\n",
        "3.69528622419\n",
        "\n",
        "\n",
        "1d array:\n",
        "3.69528622419\n",
        "\n",
        "\n",
        "2d array:\n",
        "[ 3.69528622  3.69528622  3.69528622  3.69528622  3.69528622]\n"
       ]
      }
     ],
     "prompt_number": 326
    },
    {
     "cell_type": "code",
     "collapsed": false,
     "input": [
      "%timeit munsell_value_Ladd1955_vectorise(Y)"
     ],
     "language": "python",
     "metadata": {},
     "outputs": [
      {
       "output_type": "stream",
       "stream": "stdout",
       "text": [
        "10 loops, best of 3: 23.2 ms per loop\n"
       ]
      }
     ],
     "prompt_number": 327
    },
    {
     "cell_type": "heading",
     "level": 3,
     "metadata": {},
     "source": [
      "colour.munsell_value_McCamy1987"
     ]
    },
    {
     "cell_type": "code",
     "collapsed": false,
     "input": [
      "def munsell_value_McCamy1987_2d(Y):\n",
      "    for i in range(len(Y)):\n",
      "        munsell_value_McCamy1987(Y[i])"
     ],
     "language": "python",
     "metadata": {},
     "outputs": [],
     "prompt_number": 328
    },
    {
     "cell_type": "code",
     "collapsed": false,
     "input": [
      "%timeit munsell_value_McCamy1987_2d(Y)"
     ],
     "language": "python",
     "metadata": {},
     "outputs": [
      {
       "output_type": "stream",
       "stream": "stdout",
       "text": [
        "1 loops, best of 3: 1.16 s per loop\n"
       ]
      }
     ],
     "prompt_number": 329
    },
    {
     "cell_type": "code",
     "collapsed": false,
     "input": [
      "@ignore_floating_point_errors\n",
      "def munsell_value_McCamy1987_vectorise(Y):\n",
      "    Y = as_array(Y)\n",
      "\n",
      "    V = np.where(Y <= 0.9,\n",
      "                0.87445 * (Y ** 0.9967),\n",
      "                (2.49268 * (Y ** (1 / 3)) - 1.5614 -\n",
      "                 (0.985 / (((0.1073 * Y - 3.084) ** 2) + 7.54)) +\n",
      "                 (0.0133 / (Y ** 2.3)) +\n",
      "                 0.0084 * np.sin(4.1 * (Y ** (1 / 3)) + 1) +\n",
      "                 (0.0221 / Y) * np.sin(0.39 * (Y - 2)) -\n",
      "                 (0.0037 / (0.44 * Y)) * np.sin(1.28 * (Y - 0.53))))\n",
      "\n",
      "    return as_numeric(V)\n",
      "\n",
      "\n",
      "print('Reference:')\n",
      "print(munsell_value_McCamy1987(10.08))\n",
      "\n",
      "print('\\n')\n",
      "\n",
      "print('1d array:')\n",
      "print(munsell_value_McCamy1987_vectorise(10.08))\n",
      "\n",
      "print('\\n')\n",
      "\n",
      "print('2d array:')\n",
      "print(munsell_value_McCamy1987_vectorise([10.08, 10.08, 10.08, 10.08, 10.08]))"
     ],
     "language": "python",
     "metadata": {},
     "outputs": [
      {
       "output_type": "stream",
       "stream": "stdout",
       "text": [
        "Reference:\n",
        "3.73472352585\n",
        "\n",
        "\n",
        "1d array:\n",
        "3.73472352585\n",
        "\n",
        "\n",
        "2d array:\n",
        "[ 3.73472353  3.73472353  3.73472353  3.73472353  3.73472353]\n"
       ]
      }
     ],
     "prompt_number": 330
    },
    {
     "cell_type": "code",
     "collapsed": false,
     "input": [
      "%timeit munsell_value_McCamy1987_vectorise(Y)"
     ],
     "language": "python",
     "metadata": {},
     "outputs": [
      {
       "output_type": "stream",
       "stream": "stdout",
       "text": [
        "10 loops, best of 3: 183 ms per loop\n"
       ]
      }
     ],
     "prompt_number": 331
    },
    {
     "cell_type": "heading",
     "level": 3,
     "metadata": {},
     "source": [
      "colour.munsell_value_ASTMD153508"
     ]
    },
    {
     "cell_type": "code",
     "collapsed": false,
     "input": [
      "def munsell_value_ASTMD153508_2d(Y):\n",
      "    for i in range(len(Y)):\n",
      "        munsell_value_ASTMD153508(Y[i])"
     ],
     "language": "python",
     "metadata": {},
     "outputs": [],
     "prompt_number": 332
    },
    {
     "cell_type": "code",
     "collapsed": false,
     "input": [
      "%timeit munsell_value_ASTMD153508_2d(Y)"
     ],
     "language": "python",
     "metadata": {},
     "outputs": [
      {
       "output_type": "stream",
       "stream": "stdout",
       "text": [
        "1 loops, best of 3: 1min 45s per loop\n"
       ]
      }
     ],
     "prompt_number": 333
    },
    {
     "cell_type": "code",
     "collapsed": false,
     "input": [
      "from colour.algebra import *\n",
      "\n",
      "_MUNSELL_VALUE_ASTM_D1535_08_INTERPOLATOR_CACHE = None\n",
      "\n",
      "def _munsell_value_ASTMD153508_interpolator():\n",
      "    global _MUNSELL_VALUE_ASTM_D1535_08_INTERPOLATOR_CACHE\n",
      "    munsell_values = np.arange(0, 10, 0.001)\n",
      "    if _MUNSELL_VALUE_ASTM_D1535_08_INTERPOLATOR_CACHE is None:\n",
      "        _MUNSELL_VALUE_ASTM_D1535_08_INTERPOLATOR_CACHE = Extrapolator1d(\n",
      "            LinearInterpolator1d(luminance_ASTMD153508_vectorise(munsell_values),\n",
      "                                 munsell_values))\n",
      "\n",
      "    return _MUNSELL_VALUE_ASTM_D1535_08_INTERPOLATOR_CACHE\n",
      "\n",
      "def munsell_value_ASTMD153508_vectorise(Y):\n",
      "    Y = as_array(Y)\n",
      "\n",
      "    V = _munsell_value_ASTMD153508_interpolator()(Y)\n",
      "\n",
      "    return as_numeric(V)\n",
      "\n",
      "\n",
      "print('Reference:')\n",
      "print(munsell_value_ASTMD153508(10.08))\n",
      "\n",
      "print('\\n')\n",
      "\n",
      "print('1d array:')\n",
      "print(munsell_value_ASTMD153508_vectorise(10.08))\n",
      "\n",
      "print('\\n')\n",
      "\n",
      "print('2d array:')\n",
      "print(munsell_value_ASTMD153508_vectorise([10.08, 10.08, 10.08, 10.08, 10.08]))"
     ],
     "language": "python",
     "metadata": {},
     "outputs": [
      {
       "output_type": "stream",
       "stream": "stdout",
       "text": [
        "Reference:\n",
        "3.73447647693\n",
        "\n",
        "\n",
        "1d array:\n",
        "3.73447647693\n",
        "\n",
        "\n",
        "2d array:\n",
        "[ 3.73447648  3.73447648  3.73447648  3.73447648  3.73447648]\n"
       ]
      }
     ],
     "prompt_number": 334
    },
    {
     "cell_type": "code",
     "collapsed": false,
     "input": [
      "%timeit munsell_value_ASTMD153508_vectorise(Y)"
     ],
     "language": "python",
     "metadata": {},
     "outputs": [
      {
       "output_type": "stream",
       "stream": "stdout",
       "text": [
        "10 loops, best of 3: 30.6 ms per loop\n"
       ]
      }
     ],
     "prompt_number": 335
    },
    {
     "cell_type": "heading",
     "level": 2,
     "metadata": {},
     "source": [
      "colour.notation.triplet"
     ]
    },
    {
     "cell_type": "heading",
     "level": 3,
     "metadata": {},
     "source": [
      "colour.notation.triplet.RGB_to_HEX"
     ]
    },
    {
     "cell_type": "code",
     "collapsed": false,
     "input": [
      "from colour.notation.triplet import *\n",
      "RGB = np.array([0.86969452, 1.00516431, 1.41715848])\n",
      "\n",
      "def RGB_to_HEX_2d(RGB):\n",
      "    for i in range(len(RGB)):\n",
      "        RGB_to_HEX(RGB[i])"
     ],
     "language": "python",
     "metadata": {},
     "outputs": [],
     "prompt_number": 336
    },
    {
     "cell_type": "code",
     "collapsed": false,
     "input": [
      "%timeit RGB_to_HEX_2d(DATA1)"
     ],
     "language": "python",
     "metadata": {},
     "outputs": [
      {
       "output_type": "stream",
       "stream": "stdout",
       "text": [
        "1 loops, best of 3: 17.8 s per loop\n"
       ]
      }
     ],
     "prompt_number": 337
    },
    {
     "cell_type": "code",
     "collapsed": false,
     "input": [
      "def RGB_to_HEX_vectorise(RGB):\n",
      "    RGB = as_array(RGB, (-1, 3))\n",
      "\n",
      "    to_HEX = np.vectorize('{0:02x}'.format)\n",
      "\n",
      "    HEX = to_HEX((RGB * 255).astype(np.uint8)).astype(object)\n",
      "    HEX = as_stack(np.array('#') + HEX[:, 0] + HEX[:, 1] + HEX[:, 2])\n",
      "    \n",
      "    return HEX\n",
      "\n",
      "print('Reference:')\n",
      "RGB = np.array([0.66666667, 0.86666667, 1])\n",
      "print(RGB_to_HEX(RGB))\n",
      "\n",
      "print('\\n')\n",
      "\n",
      "print('1d array:')\n",
      "print(RGB_to_HEX_vectorise(RGB))\n",
      "\n",
      "print('\\n')\n",
      "\n",
      "print('2d array:')\n",
      "RGB = np.tile(RGB, (5, 1))\n",
      "print(RGB_to_HEX_vectorise(RGB))"
     ],
     "language": "python",
     "metadata": {},
     "outputs": [
      {
       "output_type": "stream",
       "stream": "stdout",
       "text": [
        "Reference:\n",
        "#aaddff\n",
        "\n",
        "\n",
        "1d array:\n",
        "#aaddff\n",
        "\n",
        "\n",
        "2d array:\n",
        "[u'#aaddff' u'#aaddff' u'#aaddff' u'#aaddff' u'#aaddff']\n"
       ]
      }
     ],
     "prompt_number": 338
    },
    {
     "cell_type": "code",
     "collapsed": false,
     "input": [
      "%timeit RGB_to_HEX_vectorise(DATA1)"
     ],
     "language": "python",
     "metadata": {},
     "outputs": [
      {
       "output_type": "stream",
       "stream": "stdout",
       "text": [
        "1 loops, best of 3: 14.8 s per loop\n"
       ]
      }
     ],
     "prompt_number": 339
    },
    {
     "cell_type": "heading",
     "level": 3,
     "metadata": {},
     "source": [
      "colour.notation.triplet.HEX_to_RGB"
     ]
    },
    {
     "cell_type": "code",
     "collapsed": false,
     "input": [
      "from colour.notation.triplet import *\n",
      "HEX1 = ['#aaddff'] * (1920 * 1080)\n",
      "\n",
      "def HEX_to_RGB_2d(HEX):\n",
      "    for i in range(len(HEX)):\n",
      "        HEX_to_RGB(HEX[i])"
     ],
     "language": "python",
     "metadata": {},
     "outputs": [],
     "prompt_number": 340
    },
    {
     "cell_type": "code",
     "collapsed": false,
     "input": [
      "%timeit HEX_to_RGB_2d(HEX1)"
     ],
     "language": "python",
     "metadata": {},
     "outputs": [
      {
       "output_type": "stream",
       "stream": "stdout",
       "text": [
        "1 loops, best of 3: 13.1 s per loop\n"
       ]
      }
     ],
     "prompt_number": 341
    },
    {
     "cell_type": "code",
     "collapsed": false,
     "input": [
      "def HEX_to_RGB_vectorise(HEX):\n",
      "    HEX = as_array(HEX, (-1, 1), str)\n",
      "    HEX = np.core.defchararray.lstrip(HEX, '#')\n",
      "\n",
      "    def to_RGB(x):\n",
      "        length = len(x)\n",
      "        return [int(x[i:i + length // 3], 16)\n",
      "                for i in\n",
      "                range(0, length, length // 3)]\n",
      "    \n",
      "    RGB = np.squeeze(np.array([to_RGB(x[0]) for x in HEX]) / 255)\n",
      "\n",
      "    return RGB\n",
      "\n",
      "\n",
      "print('Reference:')\n",
      "RGB = '#aaddff'\n",
      "print(HEX_to_RGB(RGB))\n",
      "\n",
      "print('\\n')\n",
      "\n",
      "print('1d array:')\n",
      "print(HEX_to_RGB_vectorise(RGB))\n",
      "\n",
      "print('\\n')\n",
      "\n",
      "print('2d array:')\n",
      "RGB = np.tile(RGB, (5, 1))\n",
      "print(HEX_to_RGB_vectorise(RGB))"
     ],
     "language": "python",
     "metadata": {},
     "outputs": [
      {
       "output_type": "stream",
       "stream": "stdout",
       "text": [
        "Reference:\n",
        "[ 0.66666667  0.86666667  1.        ]\n",
        "\n",
        "\n",
        "1d array:\n",
        "[ 0.66666667  0.86666667  1.        ]\n",
        "\n",
        "\n",
        "2d array:\n",
        "[[ 0.66666667  0.86666667  1.        ]\n",
        " [ 0.66666667  0.86666667  1.        ]\n",
        " [ 0.66666667  0.86666667  1.        ]\n",
        " [ 0.66666667  0.86666667  1.        ]\n",
        " [ 0.66666667  0.86666667  1.        ]]\n"
       ]
      }
     ],
     "prompt_number": 342
    },
    {
     "cell_type": "code",
     "collapsed": false,
     "input": [
      "%timeit HEX_to_RGB_vectorise(HEX1)"
     ],
     "language": "python",
     "metadata": {},
     "outputs": [
      {
       "output_type": "stream",
       "stream": "stdout",
       "text": [
        "1 loops, best of 3: 5.77 s per loop\n"
       ]
      }
     ],
     "prompt_number": 343
    },
    {
     "cell_type": "heading",
     "level": 2,
     "metadata": {},
     "source": [
      "colour.phenomenons.rayleigh"
     ]
    },
    {
     "cell_type": "heading",
     "level": 2,
     "metadata": {},
     "source": [
      "colour.phenomenons.rayleigh.air_refraction_index_Penndorf1957"
     ]
    },
    {
     "cell_type": "code",
     "collapsed": false,
     "input": [
      "from colour.phenomenons.rayleigh import *\n",
      "\n",
      "def air_refraction_index_Penndorf1957_2d(wl):\n",
      "    for i in range(len(wl)):\n",
      "        air_refraction_index_Penndorf1957(wl[i])"
     ],
     "language": "python",
     "metadata": {},
     "outputs": [],
     "prompt_number": 344
    },
    {
     "cell_type": "code",
     "collapsed": false,
     "input": [
      "%timeit air_refraction_index_Penndorf1957_2d(DATA1[:, 0])"
     ],
     "language": "python",
     "metadata": {},
     "outputs": [
      {
       "output_type": "stream",
       "stream": "stdout",
       "text": [
        "1 loops, best of 3: 14.1 s per loop\n"
       ]
      }
     ],
     "prompt_number": 345
    },
    {
     "cell_type": "code",
     "collapsed": false,
     "input": [
      "def air_refraction_index_Penndorf1957_vectorise(wavelength, *args):\n",
      "    wl = as_array(wavelength)\n",
      "    n = 6432.8 + 2949810 / (146 - wl ** (-2)) + 25540 / (41 - wl ** (-2))\n",
      "    n = as_numeric(n / 1.0e8 + 1)\n",
      "    \n",
      "    return n\n",
      "\n",
      "\n",
      "print('Reference:')\n",
      "print(air_refraction_index_Penndorf1957(0.555))\n",
      "\n",
      "print('\\n')\n",
      "\n",
      "print('1d array:')\n",
      "print(air_refraction_index_Penndorf1957_vectorise(0.555))\n",
      "\n",
      "print('\\n')\n",
      "\n",
      "print('2d array:')\n",
      "print(air_refraction_index_Penndorf1957_vectorise([0.555, 0.555, 0.555, 0.555, 0.555]))"
     ],
     "language": "python",
     "metadata": {},
     "outputs": [
      {
       "output_type": "stream",
       "stream": "stdout",
       "text": [
        "Reference:\n",
        "1.00027772953\n",
        "\n",
        "\n",
        "1d array:\n",
        "1.00027772953\n",
        "\n",
        "\n",
        "2d array:\n",
        "[ 1.00027773  1.00027773  1.00027773  1.00027773  1.00027773]\n"
       ]
      }
     ],
     "prompt_number": 346
    },
    {
     "cell_type": "code",
     "collapsed": false,
     "input": [
      "%timeit air_refraction_index_Penndorf1957_vectorise(DATA1[:, 0])"
     ],
     "language": "python",
     "metadata": {},
     "outputs": [
      {
       "output_type": "stream",
       "stream": "stdout",
       "text": [
        "1 loops, best of 3: 365 ms per loop\n"
       ]
      }
     ],
     "prompt_number": 347
    },
    {
     "cell_type": "heading",
     "level": 3,
     "metadata": {},
     "source": [
      "colour.phenomenons.rayleigh.air_refraction_index_Edlen1966"
     ]
    },
    {
     "cell_type": "code",
     "collapsed": false,
     "input": [
      "def air_refraction_index_Edlen1966_2d(wl):\n",
      "    for i in range(len(wl)):\n",
      "        air_refraction_index_Edlen1966(wl[i])"
     ],
     "language": "python",
     "metadata": {},
     "outputs": [],
     "prompt_number": 348
    },
    {
     "cell_type": "code",
     "collapsed": false,
     "input": [
      "%timeit air_refraction_index_Edlen1966_2d(DATA1[:, 0])"
     ],
     "language": "python",
     "metadata": {},
     "outputs": [
      {
       "output_type": "stream",
       "stream": "stdout",
       "text": [
        "1 loops, best of 3: 13.2 s per loop\n"
       ]
      }
     ],
     "prompt_number": 349
    },
    {
     "cell_type": "code",
     "collapsed": false,
     "input": [
      "def air_refraction_index_Edlen1966_vectorise(wavelength, *args):\n",
      "    wl = as_array(wavelength)\n",
      "    n = 8342.13 + 2406030 / (130 - wl ** (-2)) + 15997 / (38.9 - wl ** (-2))\n",
      "    n = as_numeric(n / 1.0e8 + 1)\n",
      "\n",
      "    return n\n",
      "\n",
      "\n",
      "print('Reference:')\n",
      "print(air_refraction_index_Edlen1966(0.555))\n",
      "\n",
      "print('\\n')\n",
      "\n",
      "print('1d array:')\n",
      "print(air_refraction_index_Edlen1966_vectorise(0.555))\n",
      "\n",
      "print('\\n')\n",
      "\n",
      "print('2d array:')\n",
      "print(air_refraction_index_Edlen1966_vectorise([0.555, 0.555, 0.555, 0.555, 0.555]))"
     ],
     "language": "python",
     "metadata": {},
     "outputs": [
      {
       "output_type": "stream",
       "stream": "stdout",
       "text": [
        "Reference:\n",
        "1.00027772769\n",
        "\n",
        "\n",
        "1d array:\n",
        "1.00027772769\n",
        "\n",
        "\n",
        "2d array:\n",
        "[ 1.00027773  1.00027773  1.00027773  1.00027773  1.00027773]\n"
       ]
      }
     ],
     "prompt_number": 350
    },
    {
     "cell_type": "code",
     "collapsed": false,
     "input": [
      "%timeit air_refraction_index_Edlen1966_vectorise(DATA1[:, 0])"
     ],
     "language": "python",
     "metadata": {},
     "outputs": [
      {
       "output_type": "stream",
       "stream": "stdout",
       "text": [
        "1 loops, best of 3: 377 ms per loop\n"
       ]
      }
     ],
     "prompt_number": 351
    },
    {
     "cell_type": "heading",
     "level": 3,
     "metadata": {},
     "source": [
      "colour.phenomenons.rayleigh.air_refraction_index_Peck1972"
     ]
    },
    {
     "cell_type": "code",
     "collapsed": false,
     "input": [
      "def air_refraction_index_Peck1972_2d(wl):\n",
      "    for i in range(len(wl)):\n",
      "        air_refraction_index_Peck1972(wl[i])"
     ],
     "language": "python",
     "metadata": {},
     "outputs": [],
     "prompt_number": 352
    },
    {
     "cell_type": "code",
     "collapsed": false,
     "input": [
      "%timeit air_refraction_index_Peck1972_2d(DATA1[:, 0])"
     ],
     "language": "python",
     "metadata": {},
     "outputs": [
      {
       "output_type": "stream",
       "stream": "stdout",
       "text": [
        "1 loops, best of 3: 10.6 s per loop\n"
       ]
      }
     ],
     "prompt_number": 353
    },
    {
     "cell_type": "code",
     "collapsed": false,
     "input": [
      "def air_refraction_index_Peck1972_vectorise(wavelength, *args):\n",
      "    wl = as_array(wavelength)\n",
      "    n = (8060.51 + 2480990 / (132.274 - wl ** (-2)) + 17455.7 /\n",
      "         (39.32957 - wl ** (-2)))\n",
      "    n = as_numeric(n / 1.0e8 + 1)\n",
      "\n",
      "    return n\n",
      "\n",
      "\n",
      "print('Reference:')\n",
      "print(air_refraction_index_Peck1972(0.555))\n",
      "\n",
      "print('\\n')\n",
      "\n",
      "print('1d array:')\n",
      "print(air_refraction_index_Peck1972_vectorise(0.555))\n",
      "\n",
      "print('\\n')\n",
      "\n",
      "print('2d array:')\n",
      "print(air_refraction_index_Peck1972_vectorise([0.555, 0.555, 0.555, 0.555, 0.555]))"
     ],
     "language": "python",
     "metadata": {},
     "outputs": [
      {
       "output_type": "stream",
       "stream": "stdout",
       "text": [
        "Reference:\n",
        "1.00027772654\n",
        "\n",
        "\n",
        "1d array:\n",
        "1.00027772654\n",
        "\n",
        "\n",
        "2d array:\n",
        "[ 1.00027773  1.00027773  1.00027773  1.00027773  1.00027773]\n"
       ]
      }
     ],
     "prompt_number": 354
    },
    {
     "cell_type": "code",
     "collapsed": false,
     "input": [
      "%timeit air_refraction_index_Peck1972_vectorise(DATA1[:, 0])"
     ],
     "language": "python",
     "metadata": {},
     "outputs": [
      {
       "output_type": "stream",
       "stream": "stdout",
       "text": [
        "1 loops, best of 3: 418 ms per loop\n"
       ]
      }
     ],
     "prompt_number": 355
    },
    {
     "cell_type": "heading",
     "level": 3,
     "metadata": {},
     "source": [
      "colour.phenomenons.rayleigh.air_refraction_index_Bodhaine1999"
     ]
    },
    {
     "cell_type": "code",
     "collapsed": false,
     "input": [
      "def air_refraction_index_Bodhaine1999_2d(wl):\n",
      "    for i in range(len(wl)):\n",
      "        air_refraction_index_Bodhaine1999(wl[i])"
     ],
     "language": "python",
     "metadata": {},
     "outputs": [],
     "prompt_number": 356
    },
    {
     "cell_type": "code",
     "collapsed": false,
     "input": [
      "%timeit air_refraction_index_Bodhaine1999_2d(DATA1[:, 0])"
     ],
     "language": "python",
     "metadata": {},
     "outputs": [
      {
       "output_type": "stream",
       "stream": "stdout",
       "text": [
        "1 loops, best of 3: 15 s per loop\n"
       ]
      }
     ],
     "prompt_number": 357
    },
    {
     "cell_type": "code",
     "collapsed": false,
     "input": [
      "def air_refraction_index_Bodhaine1999_vectorise(\n",
      "        wavelength,\n",
      "        CO2_concentration=STANDARD_CO2_CONCENTRATION):\n",
      "    wl = as_array(wavelength)\n",
      "    CCO2 = np.resize(as_array(CO2_concentration), wl.shape)\n",
      "    \n",
      "    n = as_numeric(((1 + 0.54 * ((CCO2 * 1e-6) - 300e-6)) *\n",
      "         (air_refraction_index_Peck1972(wl) - 1) + 1))\n",
      "\n",
      "    return n\n",
      "\n",
      "\n",
      "\n",
      "print('Reference:')\n",
      "print(air_refraction_index_Bodhaine1999(0.555))\n",
      "\n",
      "print('\\n')\n",
      "\n",
      "print('1d array:')\n",
      "print(air_refraction_index_Bodhaine1999_vectorise(0.555))\n",
      "\n",
      "print('\\n')\n",
      "\n",
      "print('2d array:')\n",
      "print(air_refraction_index_Bodhaine1999_vectorise([0.555, 0.555, 0.555, 0.555, 0.555]))"
     ],
     "language": "python",
     "metadata": {},
     "outputs": [
      {
       "output_type": "stream",
       "stream": "stdout",
       "text": [
        "Reference:\n",
        "1.00027772654\n",
        "\n",
        "\n",
        "1d array:\n",
        "1.00027772654\n",
        "\n",
        "\n",
        "2d array:\n",
        "[ 1.00027773  1.00027773  1.00027773  1.00027773  1.00027773]\n"
       ]
      }
     ],
     "prompt_number": 358
    },
    {
     "cell_type": "code",
     "collapsed": false,
     "input": [
      "%timeit air_refraction_index_Bodhaine1999_vectorise(DATA1[:, 0])"
     ],
     "language": "python",
     "metadata": {},
     "outputs": [
      {
       "output_type": "stream",
       "stream": "stdout",
       "text": [
        "1 loops, best of 3: 666 ms per loop\n"
       ]
      }
     ],
     "prompt_number": 359
    },
    {
     "cell_type": "heading",
     "level": 3,
     "metadata": {},
     "source": [
      "colour.phenomenons.rayleigh.N2_depolarisation"
     ]
    },
    {
     "cell_type": "code",
     "collapsed": false,
     "input": [
      "def N2_depolarisation_2d(wl):\n",
      "    for i in range(len(wl)):\n",
      "        N2_depolarisation(wl[i])"
     ],
     "language": "python",
     "metadata": {},
     "outputs": [],
     "prompt_number": 360
    },
    {
     "cell_type": "code",
     "collapsed": false,
     "input": [
      "%timeit N2_depolarisation_2d(DATA1[:, 0])"
     ],
     "language": "python",
     "metadata": {},
     "outputs": [
      {
       "output_type": "stream",
       "stream": "stdout",
       "text": [
        "1 loops, best of 3: 5.21 s per loop\n"
       ]
      }
     ],
     "prompt_number": 361
    },
    {
     "cell_type": "code",
     "collapsed": false,
     "input": [
      "def N2_depolarisation_vectorise(wavelength):\n",
      "    wl = as_array(wavelength)\n",
      "    N2 = as_numeric(1.034 + 3.17 * 1.0e-4 * (1 / wl ** 2))\n",
      "\n",
      "    return N2\n",
      "\n",
      "\n",
      "print('Reference:')\n",
      "print(N2_depolarisation(0.555))\n",
      "\n",
      "print('\\n')\n",
      "\n",
      "print('1d array:')\n",
      "print(N2_depolarisation_vectorise(0.555))\n",
      "\n",
      "print('\\n')\n",
      "\n",
      "print('2d array:')\n",
      "print(N2_depolarisation_vectorise([0.555, 0.555, 0.555, 0.555, 0.555]))"
     ],
     "language": "python",
     "metadata": {},
     "outputs": [
      {
       "output_type": "stream",
       "stream": "stdout",
       "text": [
        "Reference:\n",
        "1.03502913725\n",
        "\n",
        "\n",
        "1d array:\n",
        "1.03502913725\n",
        "\n",
        "\n",
        "2d array:\n",
        "[ 1.03502914  1.03502914  1.03502914  1.03502914  1.03502914]\n"
       ]
      }
     ],
     "prompt_number": 362
    },
    {
     "cell_type": "code",
     "collapsed": false,
     "input": [
      "%timeit N2_depolarisation_vectorise(DATA1[:, 0])"
     ],
     "language": "python",
     "metadata": {},
     "outputs": [
      {
       "output_type": "stream",
       "stream": "stdout",
       "text": [
        "100 loops, best of 3: 18.3 ms per loop\n"
       ]
      }
     ],
     "prompt_number": 363
    },
    {
     "cell_type": "heading",
     "level": 3,
     "metadata": {},
     "source": [
      "colour.phenomenons.rayleigh.O2_depolarisation"
     ]
    },
    {
     "cell_type": "code",
     "collapsed": false,
     "input": [
      "def O2_depolarisation_2d(wl):\n",
      "    for i in range(len(wl)):\n",
      "        O2_depolarisation(wl[i])"
     ],
     "language": "python",
     "metadata": {},
     "outputs": [],
     "prompt_number": 364
    },
    {
     "cell_type": "code",
     "collapsed": false,
     "input": [
      "%timeit O2_depolarisation_2d(DATA1[:, 0])"
     ],
     "language": "python",
     "metadata": {},
     "outputs": [
      {
       "output_type": "stream",
       "stream": "stdout",
       "text": [
        "1 loops, best of 3: 9.17 s per loop\n"
       ]
      }
     ],
     "prompt_number": 365
    },
    {
     "cell_type": "code",
     "collapsed": false,
     "input": [
      "def O2_depolarisation_vectorise(wavelength):\n",
      "    wl = as_array(wavelength)\n",
      "    O2 = as_numeric(1.096 + 1.385 * 1.0e-3 * (1 / wl ** 2) +\n",
      "          1.448 * 1.0e-4 * (1 / wl ** 4))\n",
      "\n",
      "    return O2\n",
      "\n",
      "\n",
      "print('Reference:')\n",
      "print(O2_depolarisation(0.555))\n",
      "\n",
      "print('\\n')\n",
      "\n",
      "print('1d array:')\n",
      "print(O2_depolarisation_vectorise(0.555))\n",
      "\n",
      "print('\\n')\n",
      "\n",
      "print('2d array:')\n",
      "print(O2_depolarisation_vectorise([0.555, 0.555, 0.555, 0.555, 0.555]))"
     ],
     "language": "python",
     "metadata": {},
     "outputs": [
      {
       "output_type": "stream",
       "stream": "stdout",
       "text": [
        "Reference:\n",
        "1.1020225362\n",
        "\n",
        "\n",
        "1d array:\n",
        "1.1020225362\n",
        "\n",
        "\n",
        "2d array:\n",
        "[ 1.10202254  1.10202254  1.10202254  1.10202254  1.10202254]\n"
       ]
      }
     ],
     "prompt_number": 366
    },
    {
     "cell_type": "code",
     "collapsed": false,
     "input": [
      "%timeit O2_depolarisation_vectorise(DATA1[:, 0])"
     ],
     "language": "python",
     "metadata": {},
     "outputs": [
      {
       "output_type": "stream",
       "stream": "stdout",
       "text": [
        "1 loops, best of 3: 205 ms per loop\n"
       ]
      }
     ],
     "prompt_number": 367
    },
    {
     "cell_type": "heading",
     "level": 3,
     "metadata": {},
     "source": [
      "colour.phenomenons.rayleigh.F_air_Penndorf1957"
     ]
    },
    {
     "cell_type": "code",
     "collapsed": false,
     "input": [
      "def F_air_Penndorf1957_vectorise(wavelength, *args):\n",
      "    wl = as_array(wavelength)\n",
      "\n",
      "    return as_numeric(np.resize(np.array([1.0608]), wl.shape))\n",
      "\n",
      "\n",
      "print('Reference:')\n",
      "print(F_air_Penndorf1957(0.555))\n",
      "\n",
      "print('\\n')\n",
      "\n",
      "print('1d array:')\n",
      "print(F_air_Penndorf1957_vectorise(0.555))\n",
      "\n",
      "print('\\n')\n",
      "\n",
      "print('2d array:')\n",
      "print(F_air_Penndorf1957_vectorise([0.555, 0.555, 0.555, 0.555, 0.555]))"
     ],
     "language": "python",
     "metadata": {},
     "outputs": [
      {
       "output_type": "stream",
       "stream": "stdout",
       "text": [
        "Reference:\n",
        "1.0608\n",
        "\n",
        "\n",
        "1d array:\n",
        "1.0608\n",
        "\n",
        "\n",
        "2d array:\n",
        "[ 1.0608  1.0608  1.0608  1.0608  1.0608]\n"
       ]
      }
     ],
     "prompt_number": 368
    },
    {
     "cell_type": "heading",
     "level": 3,
     "metadata": {},
     "source": [
      "colour.phenomenons.rayleigh.F_air_Young1981"
     ]
    },
    {
     "cell_type": "code",
     "collapsed": false,
     "input": [
      "def F_air_Young1981_vectorise(wavelength, *args):\n",
      "    wl = as_array(wavelength)\n",
      "\n",
      "    return as_numeric(np.resize(np.array([1.0480]), wl.shape))\n",
      "\n",
      "\n",
      "print('Reference:')\n",
      "print(F_air_Young1981(0.555))\n",
      "\n",
      "print('\\n')\n",
      "\n",
      "print('1d array:')\n",
      "print(F_air_Young1981_vectorise(0.555))\n",
      "\n",
      "print('\\n')\n",
      "\n",
      "print('2d array:')\n",
      "print(F_air_Young1981_vectorise([0.555, 0.555, 0.555, 0.555, 0.555]))"
     ],
     "language": "python",
     "metadata": {},
     "outputs": [
      {
       "output_type": "stream",
       "stream": "stdout",
       "text": [
        "Reference:\n",
        "1.048\n",
        "\n",
        "\n",
        "1d array:\n",
        "1.048\n",
        "\n",
        "\n",
        "2d array:\n",
        "[ 1.048  1.048  1.048  1.048  1.048]\n"
       ]
      }
     ],
     "prompt_number": 369
    },
    {
     "cell_type": "heading",
     "level": 3,
     "metadata": {},
     "source": [
      "colour.phenomenons.rayleigh.F_air_Bates1984"
     ]
    },
    {
     "cell_type": "code",
     "collapsed": false,
     "input": [
      "def F_air_Bates1984_2d(wl):\n",
      "    for i in range(len(wl)):\n",
      "        F_air_Bates1984(wl[i])"
     ],
     "language": "python",
     "metadata": {},
     "outputs": [],
     "prompt_number": 370
    },
    {
     "cell_type": "code",
     "collapsed": false,
     "input": [
      "%timeit F_air_Bates1984_2d(DATA1[:, 0])"
     ],
     "language": "python",
     "metadata": {},
     "outputs": [
      {
       "output_type": "stream",
       "stream": "stdout",
       "text": [
        "1 loops, best of 3: 18.5 s per loop\n"
       ]
      }
     ],
     "prompt_number": 371
    },
    {
     "cell_type": "code",
     "collapsed": false,
     "input": [
      "def F_air_Bates1984_vectorise(wavelength, *args):\n",
      "    wl = as_array(wavelength)\n",
      "    O2 = O2_depolarisation_vectorise(wl)\n",
      "    N2 = N2_depolarisation_vectorise(wl)\n",
      "    Ar = 1.00\n",
      "    CO2 = 1.15\n",
      "\n",
      "    F_air = as_numeric((78.084 * N2 + 20.946 * O2 + CO2 + Ar) /\n",
      "             (78.084 + 20.946 + Ar + CO2))\n",
      "\n",
      "    return F_air\n",
      "\n",
      "\n",
      "print('Reference:')\n",
      "print(F_air_Bates1984(0.555))\n",
      "\n",
      "print('\\n')\n",
      "\n",
      "print('1d array:')\n",
      "print(F_air_Bates1984_vectorise(0.555))\n",
      "\n",
      "print('\\n')\n",
      "\n",
      "print('2d array:')\n",
      "print(F_air_Bates1984_vectorise([0.555, 0.555, 0.555, 0.555, 0.555]))"
     ],
     "language": "python",
     "metadata": {},
     "outputs": [
      {
       "output_type": "stream",
       "stream": "stdout",
       "text": [
        "Reference:\n",
        "1.04815357972\n",
        "\n",
        "\n",
        "1d array:\n",
        "1.04815357972\n",
        "\n",
        "\n",
        "2d array:\n",
        "[ 1.04815358  1.04815358  1.04815358  1.04815358  1.04815358]\n"
       ]
      }
     ],
     "prompt_number": 372
    },
    {
     "cell_type": "code",
     "collapsed": false,
     "input": [
      "%timeit F_air_Bates1984_vectorise(DATA1[:, 0])"
     ],
     "language": "python",
     "metadata": {},
     "outputs": [
      {
       "output_type": "stream",
       "stream": "stdout",
       "text": [
        "1 loops, best of 3: 234 ms per loop\n"
       ]
      }
     ],
     "prompt_number": 373
    },
    {
     "cell_type": "heading",
     "level": 3,
     "metadata": {},
     "source": [
      "colour.phenomenons.rayleigh.F_air_Bodhaine1999"
     ]
    },
    {
     "cell_type": "code",
     "collapsed": false,
     "input": [
      "def F_air_Bodhaine1999_2d(wl):\n",
      "    for i in range(len(wl)):\n",
      "        F_air_Bodhaine1999(wl[i])"
     ],
     "language": "python",
     "metadata": {},
     "outputs": [],
     "prompt_number": 374
    },
    {
     "cell_type": "code",
     "collapsed": false,
     "input": [
      "%timeit F_air_Bodhaine1999_2d(DATA1[:, 0])"
     ],
     "language": "python",
     "metadata": {},
     "outputs": [
      {
       "output_type": "stream",
       "stream": "stdout",
       "text": [
        "1 loops, best of 3: 18.9 s per loop\n"
       ]
      }
     ],
     "prompt_number": 375
    },
    {
     "cell_type": "code",
     "collapsed": false,
     "input": [
      "def F_air_Bodhaine1999_vectorise(wavelength,\n",
      "                       CO2_concentration=STANDARD_CO2_CONCENTRATION):\n",
      "    wl = as_array(wavelength)\n",
      "    O2 = O2_depolarisation_vectorise(wl)\n",
      "    N2 = N2_depolarisation_vectorise(wl)\n",
      "    CO2_c = CO2_concentration\n",
      "\n",
      "    F_air = as_numeric((78.084 * N2 + 20.946 * O2 + 0.934 * 1 + CO2_c * 1.15) /\n",
      "             (78.084 + 20.946 + 0.934 + CO2_c))\n",
      "\n",
      "    return F_air\n",
      "\n",
      "\n",
      "print('Reference:')\n",
      "print(F_air_Bodhaine1999(0.555))\n",
      "\n",
      "print('\\n')\n",
      "\n",
      "print('1d array:')\n",
      "print(F_air_Bodhaine1999_vectorise(0.555))\n",
      "\n",
      "print('\\n')\n",
      "\n",
      "print('2d array:')\n",
      "print(F_air_Bodhaine1999_vectorise([0.555, 0.555, 0.555, 0.555, 0.555]))"
     ],
     "language": "python",
     "metadata": {},
     "outputs": [
      {
       "output_type": "stream",
       "stream": "stdout",
       "text": [
        "Reference:\n",
        "1.12469167024\n",
        "\n",
        "\n",
        "1d array:\n",
        "1.12469167024\n",
        "\n",
        "\n",
        "2d array:\n",
        "[ 1.12469167  1.12469167  1.12469167  1.12469167  1.12469167]\n"
       ]
      }
     ],
     "prompt_number": 376
    },
    {
     "cell_type": "code",
     "collapsed": false,
     "input": [
      "%timeit F_air_Bodhaine1999_vectorise(DATA1[:, 0])"
     ],
     "language": "python",
     "metadata": {},
     "outputs": [
      {
       "output_type": "stream",
       "stream": "stdout",
       "text": [
        "1 loops, best of 3: 242 ms per loop\n"
       ]
      }
     ],
     "prompt_number": 377
    },
    {
     "cell_type": "heading",
     "level": 3,
     "metadata": {},
     "source": [
      "colour.phenomenons.rayleigh.molecular_density"
     ]
    },
    {
     "cell_type": "code",
     "collapsed": false,
     "input": [
      "def molecular_density_2d(temperature):\n",
      "    for i in range(len(temperature)):\n",
      "        molecular_density(temperature[i])"
     ],
     "language": "python",
     "metadata": {},
     "outputs": [],
     "prompt_number": 378
    },
    {
     "cell_type": "code",
     "collapsed": false,
     "input": [
      "%timeit molecular_density_2d(DATA1[:, 0])"
     ],
     "language": "python",
     "metadata": {},
     "outputs": [
      {
       "output_type": "stream",
       "stream": "stdout",
       "text": [
        "1 loops, best of 3: 2.53 s per loop\n"
       ]
      }
     ],
     "prompt_number": 379
    },
    {
     "cell_type": "code",
     "collapsed": false,
     "input": [
      "from colour.constants import AVOGADRO_CONSTANT\n",
      "\n",
      "def molecular_density_vectorise(temperature=STANDARD_AIR_TEMPERATURE,\n",
      "                                avogadro_constant=AVOGADRO_CONSTANT):\n",
      "    # Review doctests to use coherent temperature values.\n",
      "    T = as_array(temperature)\n",
      "    N_s = as_numeric((avogadro_constant / 22.4141) * (273.15 / T) * (1 / 1000))\n",
      "\n",
      "    return N_s\n",
      "\n",
      "print('Reference:')\n",
      "print(molecular_density(15))\n",
      "\n",
      "print('\\n')\n",
      "\n",
      "print('1d array:')\n",
      "print(molecular_density_vectorise(15))\n",
      "\n",
      "print('\\n')\n",
      "\n",
      "print('2d array:')\n",
      "print(molecular_density_vectorise([15, 15, 15, 15, 15]))"
     ],
     "language": "python",
     "metadata": {},
     "outputs": [
      {
       "output_type": "stream",
       "stream": "stdout",
       "text": [
        "Reference:\n",
        "4.89259894423e+20\n",
        "\n",
        "\n",
        "1d array:\n",
        "4.89259894423e+20\n",
        "\n",
        "\n",
        "2d array:\n",
        "[  4.89259894e+20   4.89259894e+20   4.89259894e+20   4.89259894e+20\n",
        "   4.89259894e+20]\n"
       ]
      }
     ],
     "prompt_number": 380
    },
    {
     "cell_type": "code",
     "collapsed": false,
     "input": [
      "%timeit molecular_density_vectorise(DATA1[:, 0])"
     ],
     "language": "python",
     "metadata": {},
     "outputs": [
      {
       "output_type": "stream",
       "stream": "stdout",
       "text": [
        "10 loops, best of 3: 20.8 ms per loop\n"
       ]
      }
     ],
     "prompt_number": 381
    },
    {
     "cell_type": "heading",
     "level": 3,
     "metadata": {},
     "source": [
      "colour.phenomenons.rayleigh.mean_molecular_weights"
     ]
    },
    {
     "cell_type": "code",
     "collapsed": false,
     "input": [
      "def mean_molecular_weights_2d(C):\n",
      "    for i in range(len(C)):\n",
      "        mean_molecular_weights(C[i])"
     ],
     "language": "python",
     "metadata": {},
     "outputs": [],
     "prompt_number": 382
    },
    {
     "cell_type": "code",
     "collapsed": false,
     "input": [
      "%timeit mean_molecular_weights_2d(DATA1[:, 0])"
     ],
     "language": "python",
     "metadata": {},
     "outputs": [
      {
       "output_type": "stream",
       "stream": "stdout",
       "text": [
        "1 loops, best of 3: 2.56 s per loop\n"
       ]
      }
     ],
     "prompt_number": 383
    },
    {
     "cell_type": "code",
     "collapsed": false,
     "input": [
      "def mean_molecular_weights_vectorise(CO2_concentration=STANDARD_CO2_CONCENTRATION):\n",
      "    CO2_c = as_array(CO2_concentration) * 1.0e-6\n",
      "\n",
      "    m_a = as_numeric(15.0556 * CO2_c + 28.9595)\n",
      "\n",
      "    return m_a\n",
      "\n",
      "\n",
      "print('Reference:')\n",
      "print(mean_molecular_weights(300))\n",
      "\n",
      "print('\\n')\n",
      "\n",
      "print('1d array:')\n",
      "print(mean_molecular_weights_vectorise(300))\n",
      "\n",
      "print('\\n')\n",
      "\n",
      "print('2d array:')\n",
      "print(mean_molecular_weights_vectorise([300, 300, 300, 300, 300]))"
     ],
     "language": "python",
     "metadata": {},
     "outputs": [
      {
       "output_type": "stream",
       "stream": "stdout",
       "text": [
        "Reference:\n",
        "28.96401668\n",
        "\n",
        "\n",
        "1d array:\n",
        "28.96401668\n",
        "\n",
        "\n",
        "2d array:\n",
        "[ 28.96401668  28.96401668  28.96401668  28.96401668  28.96401668]\n"
       ]
      }
     ],
     "prompt_number": 384
    },
    {
     "cell_type": "code",
     "collapsed": false,
     "input": [
      "%timeit mean_molecular_weights_vectorise(DATA1[:, 0])"
     ],
     "language": "python",
     "metadata": {},
     "outputs": [
      {
       "output_type": "stream",
       "stream": "stdout",
       "text": [
        "100 loops, best of 3: 11.1 ms per loop\n"
       ]
      }
     ],
     "prompt_number": 385
    },
    {
     "cell_type": "heading",
     "level": 3,
     "metadata": {},
     "source": [
      "colour.phenomenons.rayleigh.gravity_List1968"
     ]
    },
    {
     "cell_type": "code",
     "collapsed": false,
     "input": [
      "def gravity_List1968_2d(C):\n",
      "    for i in range(len(C)):\n",
      "        gravity_List1968(C[i])"
     ],
     "language": "python",
     "metadata": {},
     "outputs": [],
     "prompt_number": 386
    },
    {
     "cell_type": "code",
     "collapsed": false,
     "input": [
      "%timeit gravity_List1968_2d(DATA1[:, 0])"
     ],
     "language": "python",
     "metadata": {},
     "outputs": [
      {
       "output_type": "stream",
       "stream": "stdout",
       "text": [
        "1 loops, best of 3: 23.6 s per loop\n"
       ]
      }
     ],
     "prompt_number": 387
    },
    {
     "cell_type": "code",
     "collapsed": false,
     "input": [
      "def gravity_List1968_vectorise(latitude=DEFAULT_LATITUDE, altitude=DEFAULT_ALTITUDE):\n",
      "    latitude = as_array(latitude)\n",
      "    altitude = np.resize(as_array(altitude), latitude.shape)\n",
      "\n",
      "    cos2phi = np.cos(2 * np.radians(latitude))\n",
      "\n",
      "    # Sea level acceleration of gravity.\n",
      "    g0 = 980.6160 * (1 - 0.0026373 * cos2phi + 0.0000059 * cos2phi ** 2)\n",
      "\n",
      "    g = as_numeric(g0 - (3.085462e-4 + 2.27e-7 * cos2phi) * altitude +\n",
      "         (7.254e-11 + 1.0e-13 * cos2phi) * altitude ** 2 -\n",
      "         (1.517e-17 + 6e-20 * cos2phi) * altitude ** 3)\n",
      "    \n",
      "    return g\n",
      "\n",
      "\n",
      "print('Reference:')\n",
      "print(gravity_List1968(0, 0))\n",
      "\n",
      "print('\\n')\n",
      "\n",
      "print('1d array:')\n",
      "print(gravity_List1968_vectorise(0, 0))\n",
      "\n",
      "print('\\n')\n",
      "\n",
      "print('2d array:')\n",
      "print(gravity_List1968_vectorise([0, 0, 0, 0, 0], [0]))"
     ],
     "language": "python",
     "metadata": {},
     "outputs": [
      {
       "output_type": "stream",
       "stream": "stdout",
       "text": [
        "Reference:\n",
        "978.035607058\n",
        "\n",
        "\n",
        "1d array:\n",
        "978.035607058\n",
        "\n",
        "\n",
        "2d array:\n",
        "[ 978.03560706  978.03560706  978.03560706  978.03560706  978.03560706]\n"
       ]
      }
     ],
     "prompt_number": 388
    },
    {
     "cell_type": "code",
     "collapsed": false,
     "input": [
      "%timeit gravity_List1968_vectorise(DATA1[:, 0])"
     ],
     "language": "python",
     "metadata": {},
     "outputs": [
      {
       "output_type": "stream",
       "stream": "stdout",
       "text": [
        "1 loops, best of 3: 422 ms per loop\n"
       ]
      }
     ],
     "prompt_number": 389
    },
    {
     "cell_type": "heading",
     "level": 3,
     "metadata": {},
     "source": [
      "colour.phenomenons.rayleigh.scattering_cross_section"
     ]
    },
    {
     "cell_type": "code",
     "collapsed": false,
     "input": [
      "def scattering_cross_section_2d(wl):\n",
      "    for i in range(len(wl)):\n",
      "        scattering_cross_section(wl[i])"
     ],
     "language": "python",
     "metadata": {},
     "outputs": [],
     "prompt_number": 390
    },
    {
     "cell_type": "code",
     "collapsed": false,
     "input": [
      "%timeit scattering_cross_section_2d(DATA1[:, 0])"
     ],
     "language": "python",
     "metadata": {},
     "outputs": [
      {
       "output_type": "stream",
       "stream": "stdout",
       "text": [
        "1 loops, best of 3: 48.9 s per loop\n"
       ]
      }
     ],
     "prompt_number": 391
    },
    {
     "cell_type": "code",
     "collapsed": false,
     "input": [
      "def scattering_cross_section_vectorise(wavelength,\n",
      "                                     CO2_concentration=STANDARD_CO2_CONCENTRATION,\n",
      "                                     temperature=STANDARD_AIR_TEMPERATURE,\n",
      "                                     avogadro_constant=AVOGADRO_CONSTANT,\n",
      "                                     n_s=air_refraction_index_Bodhaine1999,\n",
      "                                     F_air=F_air_Bodhaine1999):\n",
      "    wl = as_array(wavelength)\n",
      "    temperature = np.resize(as_array(temperature), wl.shape)\n",
      "    CO2_concentration = np.resize(as_array(CO2_concentration), wl.shape)\n",
      "    \n",
      "    wl_micrometers = wl * 10e3\n",
      "\n",
      "    n_s = as_array(n_s(wl_micrometers))\n",
      "    N_s = as_array(molecular_density(temperature, avogadro_constant))\n",
      "    F_air = as_array(F_air(wl_micrometers, CO2_concentration))\n",
      "\n",
      "    sigma = (24 * np.pi ** 3 * (n_s ** 2 - 1) ** 2 /\n",
      "             (wl ** 4 * N_s ** 2 * (n_s ** 2 + 2) ** 2))\n",
      "    sigma = as_numeric(sigma * F_air)\n",
      "\n",
      "    return sigma\n",
      "\n",
      "\n",
      "print('Reference:')\n",
      "print(scattering_cross_section(555 * 10e-8))\n",
      "\n",
      "print('\\n')\n",
      "\n",
      "print('1d array:')\n",
      "print(scattering_cross_section_vectorise(555 * 10e-8))\n",
      "\n",
      "print('\\n')\n",
      "\n",
      "print('2d array:')\n",
      "print(scattering_cross_section_vectorise([555 * 10e-8, 555 * 10e-8, 555 * 10e-8, 555 * 10e-8, 555 * 10e-8]))"
     ],
     "language": "python",
     "metadata": {},
     "outputs": [
      {
       "output_type": "stream",
       "stream": "stdout",
       "text": [
        "Reference:\n",
        "4.66133090234e-27\n",
        "\n",
        "\n",
        "1d array:\n",
        "4.66133090234e-27\n",
        "\n",
        "\n",
        "2d array:\n",
        "[  4.66133090e-27   4.66133090e-27   4.66133090e-27   4.66133090e-27\n",
        "   4.66133090e-27]\n"
       ]
      }
     ],
     "prompt_number": 392
    },
    {
     "cell_type": "code",
     "collapsed": false,
     "input": [
      "%timeit scattering_cross_section_vectorise(DATA1[:, 0])"
     ],
     "language": "python",
     "metadata": {},
     "outputs": [
      {
       "output_type": "stream",
       "stream": "stdout",
       "text": [
        "1 loops, best of 3: 1.49 s per loop\n"
       ]
      }
     ],
     "prompt_number": 393
    },
    {
     "cell_type": "heading",
     "level": 3,
     "metadata": {},
     "source": [
      "colour.phenomenons.rayleigh.rayleigh_optical_depth"
     ]
    },
    {
     "cell_type": "code",
     "collapsed": false,
     "input": [
      "def rayleigh_optical_depth_2d(wl):\n",
      "    for i in range(len(wl)):\n",
      "        rayleigh_optical_depth(wl[i])"
     ],
     "language": "python",
     "metadata": {},
     "outputs": [],
     "prompt_number": 394
    },
    {
     "cell_type": "code",
     "collapsed": false,
     "input": [
      "%timeit rayleigh_optical_depth_2d(DATA1[:, 0])"
     ],
     "language": "python",
     "metadata": {},
     "outputs": [
      {
       "output_type": "stream",
       "stream": "stdout",
       "text": [
        "1 loops, best of 3: 1min 18s per loop\n"
       ]
      }
     ],
     "prompt_number": 395
    },
    {
     "cell_type": "code",
     "collapsed": false,
     "input": [
      "def rayleigh_optical_depth_vectorise(wavelength,\n",
      "                                   CO2_concentration=STANDARD_CO2_CONCENTRATION,\n",
      "                                   temperature=STANDARD_AIR_TEMPERATURE,\n",
      "                                   pressure=AVERAGE_PRESSURE_MEAN_SEA_LEVEL,\n",
      "                                   latitude=DEFAULT_LATITUDE,\n",
      "                                   altitude=DEFAULT_ALTITUDE,\n",
      "                                   avogadro_constant=AVOGADRO_CONSTANT,\n",
      "                                   n_s=air_refraction_index_Bodhaine1999,\n",
      "                                   F_air=F_air_Bodhaine1999):\n",
      "    wavelength = as_array(wavelength)\n",
      "    CO2_c = np.resize(as_array(CO2_concentration), wavelength.shape)\n",
      "    latitude = np.resize(as_array(latitude), wavelength.shape)\n",
      "    altitude = np.resize(as_array(altitude), wavelength.shape)\n",
      "    # Conversion from pascal to dyne/cm2.\n",
      "    P = np.resize(as_array(pressure * 10), wavelength.shape)\n",
      "\n",
      "    sigma = as_array(scattering_cross_section(wavelength,\n",
      "                                             CO2_c,\n",
      "                                             temperature,\n",
      "                                             avogadro_constant,\n",
      "                                             n_s,\n",
      "                                             F_air))\n",
      "\n",
      "\n",
      "    m_a = as_array(mean_molecular_weights(CO2_c))\n",
      "    g = as_array(gravity_List1968(latitude, altitude))\n",
      "\n",
      "    T_R = as_numeric(sigma * (P * avogadro_constant) / (m_a * g))\n",
      "\n",
      "    return T_R\n",
      "\n",
      "\n",
      "print('Reference:')\n",
      "print(rayleigh_optical_depth(555 * 10e-8))\n",
      "\n",
      "print('\\n')\n",
      "\n",
      "print('1d array:')\n",
      "print(rayleigh_optical_depth_vectorise(555 * 10e-8))\n",
      "\n",
      "print('\\n')\n",
      "\n",
      "print('2d array:')\n",
      "print(rayleigh_optical_depth_vectorise([555 * 10e-8, 555 * 10e-8, 555 * 10e-8, 555 * 10e-8, 555 * 10e-8]))"
     ],
     "language": "python",
     "metadata": {},
     "outputs": [
      {
       "output_type": "stream",
       "stream": "stdout",
       "text": [
        "Reference:\n",
        "0.100407017729\n",
        "\n",
        "\n",
        "1d array:\n",
        "0.100407017729\n",
        "\n",
        "\n",
        "2d array:\n",
        "[ 0.10040702  0.10040702  0.10040702  0.10040702  0.10040702]\n"
       ]
      }
     ],
     "prompt_number": 396
    },
    {
     "cell_type": "code",
     "collapsed": false,
     "input": [
      "%timeit rayleigh_optical_depth_vectorise(DATA1[:, 0])"
     ],
     "language": "python",
     "metadata": {},
     "outputs": [
      {
       "output_type": "stream",
       "stream": "stdout",
       "text": [
        "1 loops, best of 3: 2.23 s per loop\n"
       ]
      }
     ],
     "prompt_number": 397
    },
    {
     "cell_type": "heading",
     "level": 3,
     "metadata": {},
     "source": [
      "colour.phenomenons.rayleigh.rayleigh_scattering_spd"
     ]
    },
    {
     "cell_type": "code",
     "collapsed": false,
     "input": [
      "def rayleigh_scattering_spd_vectorise(shape=DEFAULT_SPECTRAL_SHAPE,\n",
      "                                    CO2_concentration=STANDARD_CO2_CONCENTRATION,\n",
      "                                    temperature=STANDARD_AIR_TEMPERATURE,\n",
      "                                    pressure=AVERAGE_PRESSURE_MEAN_SEA_LEVEL,\n",
      "                                    latitude=DEFAULT_LATITUDE,\n",
      "                                    altitude=DEFAULT_ALTITUDE,\n",
      "                                    avogadro_constant=AVOGADRO_CONSTANT,\n",
      "                                    n_s=air_refraction_index_Bodhaine1999,\n",
      "                                    F_air=F_air_Bodhaine1999):\n",
      "    wavelengths = shape.range()\n",
      "    return SpectralPowerDistribution(\n",
      "        name=('Rayleigh Scattering - {0} ppm, {1} K, {2} Pa, {3} Degrees, '\n",
      "              '{4} m').format(CO2_concentration,\n",
      "                              temperature,\n",
      "                              pressure,\n",
      "                              latitude,\n",
      "                              altitude),\n",
      "        data=dict(zip(wavelengths, rayleigh_optical_depth_vectorise(wavelengths * 10e-8,\n",
      "                                                               CO2_concentration,\n",
      "                                                               temperature,\n",
      "                                                               pressure,\n",
      "                                                               latitude,\n",
      "                                                               altitude,\n",
      "                                                               avogadro_constant,\n",
      "                                                               n_s,\n",
      "                                                               F_air))))\n",
      "\n",
      "print(rayleigh_scattering_spd_vectorise().values)"
     ],
     "language": "python",
     "metadata": {},
     "outputs": [
      {
       "output_type": "stream",
       "stream": "stdout",
       "text": [
        "[ 0.59910134  0.59217069  0.58534101  0.57861051  0.57197745  0.56544013\n",
        "  0.55899687  0.55264605  0.54638605  0.54021531  0.53413228  0.52813547\n",
        "  0.5222234   0.51639461  0.51064769  0.50498125  0.49939393  0.4938844\n",
        "  0.48845134  0.48309347  0.47780954  0.47259832  0.46745859  0.46238917\n",
        "  0.4573889   0.45245664  0.44759127  0.4427917   0.43805685  0.43338567\n",
        "  0.42877712  0.4242302   0.4197439   0.41531726  0.4109493   0.4066391\n",
        "  0.40238573  0.39818829  0.39404589  0.38995765  0.38592273  0.38194029\n",
        "  0.37800949  0.37412954  0.37029964  0.366519    0.36278687  0.3591025\n",
        "  0.35546514  0.35187408  0.3483286   0.344828    0.34137161  0.33795874\n",
        "  0.33458873  0.33126094  0.32797472  0.32472946  0.32152453  0.31835934\n",
        "  0.31523328  0.31214577  0.30909624  0.30608413  0.30310889  0.30016996\n",
        "  0.29726682  0.29439893  0.29156579  0.28876688  0.28600171  0.28326979\n",
        "  0.28057063  0.27790377  0.27526872  0.27266505  0.27009229  0.26755001\n",
        "  0.26503777  0.26255513  0.26010169  0.25767703  0.25528074  0.25291242\n",
        "  0.25057168  0.24825813  0.24597138  0.24371107  0.24147683  0.2392683\n",
        "  0.23708511  0.23492692  0.23279339  0.23068417  0.22859893  0.22653734\n",
        "  0.22449907  0.22248382  0.22049127  0.21852111  0.21657303  0.21464674\n",
        "  0.21274195  0.21085836  0.2089957   0.20715367  0.20533201  0.20353045\n",
        "  0.20174871  0.19998654  0.19824368  0.19651987  0.19481486  0.1931284\n",
        "  0.19146025  0.18981018  0.18817794  0.18656331  0.18496605  0.18338593\n",
        "  0.18182275  0.18027628  0.1787463   0.17723261  0.17573499  0.17425324\n",
        "  0.17278715  0.17133653  0.16990119  0.16848091  0.16707553  0.16568484\n",
        "  0.16430867  0.16294683  0.16159914  0.16026543  0.15894551  0.15763923\n",
        "  0.1563464   0.15506686  0.15380046  0.15254701  0.15130638  0.15007839\n",
        "  0.14886289  0.14765974  0.14646877  0.14528984  0.14412281  0.14296753\n",
        "  0.14182386  0.14069165  0.13957077  0.13846109  0.13736246  0.13627476\n",
        "  0.13519785  0.13413161  0.1330759   0.13203061  0.13099561  0.12997078\n",
        "  0.12895599  0.12795114  0.12695609  0.12597074  0.12499498  0.12402869\n",
        "  0.12307176  0.12212407  0.12118554  0.12025604  0.11933547  0.11842374\n",
        "  0.11752073  0.11662635  0.11574049  0.11486307  0.11399398  0.11313313\n",
        "  0.11228043  0.11143577  0.11059908  0.10977026  0.10894922  0.10813587\n",
        "  0.10733013  0.10653191  0.10574113  0.1049577   0.10418154  0.10341257\n",
        "  0.10265072  0.10189589  0.10114802  0.10040702  0.09967282  0.09894535\n",
        "  0.09822452  0.09751028  0.09680254  0.09610123  0.09540629  0.09471764\n",
        "  0.09403522  0.09335896  0.09268878  0.09202464  0.09136645  0.09071416\n",
        "  0.0900677   0.08942701  0.08879203  0.0881627   0.08753895  0.08692073\n",
        "  0.08630797  0.08570063  0.08509864  0.08450194  0.08391049  0.08332421\n",
        "  0.08274307  0.082167    0.08159596  0.08102988  0.08046872  0.07991243\n",
        "  0.07936096  0.07881425  0.07827225  0.07773493  0.07720222  0.07667408\n",
        "  0.07615047  0.07563133  0.07511663  0.07460631  0.07410033  0.07359865\n",
        "  0.07310122  0.072608    0.07211894  0.07163402  0.07115317  0.07067636\n",
        "  0.07020356  0.06973471  0.06926979  0.06880874  0.06835154  0.06789814\n",
        "  0.06744851  0.0670026   0.06656038  0.06612182  0.06568688  0.06525551\n",
        "  0.0648277   0.06440339  0.06398256  0.06356518  0.0631512   0.0627406\n",
        "  0.06233333  0.06192938  0.06152871  0.06113128  0.06073706  0.06034603\n",
        "  0.05995814  0.05957338  0.05919171  0.0588131   0.05843752  0.05806494\n",
        "  0.05769534  0.05732868  0.05696494  0.05660408  0.05624609  0.05589093\n",
        "  0.05553858  0.05518901  0.05484219  0.0544981   0.05415671  0.053818\n",
        "  0.05348194  0.05314851  0.05281768  0.05248942  0.05216372  0.05184055\n",
        "  0.05151988  0.0512017   0.05088598  0.05057269  0.05026182  0.04995333\n",
        "  0.04964722  0.04934346  0.04904202  0.04874288  0.04844603  0.04815144\n",
        "  0.0478591   0.04756897  0.04728105  0.0469953   0.04671172  0.04643028\n",
        "  0.04615096  0.04587374  0.04559861  0.04532554  0.04505452  0.04478553\n",
        "  0.04451855  0.04425355  0.04399054  0.04372947  0.04347035  0.04321315\n",
        "  0.04295785  0.04270444  0.0424529   0.04220321  0.04195537  0.04170934\n",
        "  0.04146512  0.04122268  0.04098202  0.04074312  0.04050596  0.04027053\n",
        "  0.04003681  0.03980479  0.03957445  0.03934578  0.03911876  0.03889338\n",
        "  0.03866963  0.03844748  0.03822694  0.03800797  0.03779058  0.03757474\n",
        "  0.03736044  0.03714767  0.03693642  0.03672667  0.03651841  0.03631163\n",
        "  0.03610632  0.03590245  0.03570003  0.03549903  0.03529945  0.03510128\n",
        "  0.03490449  0.03470909  0.03451505  0.03432237  0.03413104  0.03394104\n",
        "  0.03375237  0.033565    0.03337894  0.03319417  0.03301068  0.03282846\n",
        "  0.03264749  0.03246778  0.0322893   0.03211204  0.03193601  0.03176118\n",
        "  0.03158755  0.03141511  0.03124385  0.03107375  0.03090481  0.03073702\n",
        "  0.03057037  0.03040485  0.03024045  0.03007717  0.02991498  0.02975389\n",
        "  0.02959389  0.02943496  0.0292771   0.0291203   0.02896455  0.02880984\n",
        "  0.02865616  0.02850351  0.02835188  0.02820126  0.02805164  0.02790301\n",
        "  0.02775536  0.02760869  0.027463    0.02731826  0.02717448  0.02703164\n",
        "  0.02688975  0.02674878  0.02660874  0.02646962  0.02633141  0.0261941\n",
        "  0.02605768  0.02592215  0.02578751  0.02565374  0.02552084  0.0253888\n",
        "  0.02525761  0.02512727  0.02499778  0.02486911  0.02474128  0.02461427\n",
        "  0.02448807  0.02436268  0.0242381   0.02411431  0.02399131  0.0238691\n",
        "  0.02374767  0.02362701  0.02350711  0.02338798  0.0232696   0.02315197\n",
        "  0.02303509  0.02291894  0.02280353  0.02268884  0.02257487  0.02246162\n",
        "  0.02234908  0.02223725  0.02212612  0.02201568  0.02190593  0.02179686\n",
        "  0.02168847  0.02158076  0.02147372  0.02136734  0.02126162  0.02115655\n",
        "  0.02105213  0.02094836  0.02084523  0.02074273  0.02064086  0.02053962\n",
        "  0.020439    0.02033899  0.0202396   0.02014082  0.02004263  0.01994505\n",
        "  0.01984806  0.01975166  0.01965585]\n"
       ]
      }
     ],
     "prompt_number": 398
    }
   ],
   "metadata": {}
  }
 ]
}