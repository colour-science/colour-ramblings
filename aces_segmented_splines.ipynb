{
 "cells": [
  {
   "cell_type": "code",
   "execution_count": 1,
   "metadata": {},
   "outputs": [
    {
     "name": "stderr",
     "output_type": "stream",
     "text": [
      "  File \"/Users/kelsolaar/Documents/Development/colour-science/colour/colour/__init__.py\", line 294, in __getattr__\n",
      "    return super(colour, self).__getattr__(attribute)\n",
      "  File \"/Users/kelsolaar/Documents/Development/colour-science/colour/colour/utilities/deprecation.py\", line 240, in __getattr__\n",
      "    warning(str(change))\n",
      "/Users/kelsolaar/Documents/Development/colour-science/colour/colour/utilities/verbose.py:209: ColourWarning: \"colour.Structure\" object access is deprecated and will change to \"colour.utilities.Structure\" in a future release.\n",
      "  warn(*args, **kwargs)\n",
      "  File \"/Users/kelsolaar/Documents/Development/colour-science/colour/colour/__init__.py\", line 294, in __getattr__\n",
      "    return super(colour, self).__getattr__(attribute)\n",
      "  File \"/Users/kelsolaar/Documents/Development/colour-science/colour/colour/utilities/deprecation.py\", line 240, in __getattr__\n",
      "    warning(str(change))\n",
      "/Users/kelsolaar/Documents/Development/colour-science/colour/colour/utilities/verbose.py:209: ColourWarning: \"colour.dot_vector\" object access is deprecated and will change to \"colour.utilities.dot_vector\" in a future release.\n",
      "  warn(*args, **kwargs)\n",
      "  File \"/Users/kelsolaar/Documents/Development/colour-science/colour/colour/__init__.py\", line 294, in __getattr__\n",
      "    return super(colour, self).__getattr__(attribute)\n",
      "  File \"/Users/kelsolaar/Documents/Development/colour-science/colour/colour/utilities/deprecation.py\", line 240, in __getattr__\n",
      "    warning(str(change))\n",
      "/Users/kelsolaar/Documents/Development/colour-science/colour/colour/utilities/verbose.py:209: ColourWarning: \"colour.tstack\" object access is deprecated and will change to \"colour.utilities.tstack\" in a future release.\n",
      "  warn(*args, **kwargs)\n"
     ]
    }
   ],
   "source": [
    "from __future__ import division, unicode_literals\n",
    "import numpy as np\n",
    "from bqplot import Axis, Bars, Figure, Lines, LogScale, Scatter, pyplot\n",
    "from collections import namedtuple\n",
    "\n",
    "from colour import Structure, dot_vector, tstack"
   ]
  },
  {
   "cell_type": "code",
   "execution_count": 2,
   "metadata": {
    "scrolled": false
   },
   "outputs": [],
   "source": [
    "HALF_MIN = 2 ** -14\n",
    "\n",
    "M = np.array([\n",
    "        [0.5, -1.0, 0.5],\n",
    "        [-1.0, 1.0, 0.0],\n",
    "        [0.5,  0.5, 0.0]])\n",
    "\n",
    "SplinePoint = namedtuple('SplinePoint', ('x', 'y'))\n",
    "\n",
    "SegmentedSplineParams = namedtuple(\n",
    "    'SegmentedSplineParams',\n",
    "    ('coefs_low',   # coefs for B-spline between minPoint and midPoint (units of log luminance)\n",
    "     'coefs_high',  # coefs for B-spline between midPoint and maxPoint (units of log luminance)\n",
    "     'min_point',   # linear extension below this\n",
    "     'mid_point',\n",
    "     'max_point',   # linear extension above this\n",
    "     'slope_low',   # log-log slope of low linear extension\n",
    "     'slope_high')) # log-log slope of high linear extension\n",
    "\n",
    "RRT_PARAMS = SegmentedSplineParams(\n",
    "    np.array([-4.0000000000, -4.0000000000, -3.1573765773, -0.4852499958, 1.8477324706, 1.8477324706]),\n",
    "    np.array([-0.7185482425, 2.0810307172, 3.6681241237, 4.0000000000, 4.0000000000, 4.0000000000]),\n",
    "    SplinePoint(0.18 * 2 ** -15, 0.0001),\n",
    "    SplinePoint(0.18, 4.8),\n",
    "    SplinePoint(0.18 * 2 ** 18, 10000),\n",
    "    0,\n",
    "    0)\n",
    "\n",
    "ODT_48nits = SegmentedSplineParams(\n",
    "    np.array([-1.6989700043, -1.6989700043, -1.4779000000, -1.2291000000, -0.8648000000, -0.4480000000, 0.0051800000, 0.4511080334, 0.9113744414, 0.9113744414]),\n",
    "    np.array([0.5154386965, 0.8470437783, 1.1358000000, 1.3802000000, 1.5197000000, 1.5985000000, 1.6467000000, 1.6746091357, 1.6878733390, 1.6878733390]),\n",
    "    SplinePoint(0.18 * 2 ** -6.5, 0.02),\n",
    "    SplinePoint(0.18, 4.8),\n",
    "    SplinePoint(0.18 * 2 ** 6.5, 48.0),\n",
    "    0,\n",
    "    0.04)\n",
    "\n",
    "\n",
    "def segmented_spline_fwd(x, C, knots_low, knots_high):\n",
    "    N_KNOTS_LOW = knots_low\n",
    "    N_KNOTS_HIGH = knots_high\n",
    "    \n",
    "    log_x = np.log10(np.maximum(x, HALF_MIN))\n",
    "    log_y = np.zeros(log_x.shape)\n",
    "\n",
    "    mask = log_x <= np.log10(C.min_point.x)\n",
    "    log_y[mask] = (\n",
    "        log_x[mask] * C.slope_low + (np.log10(C.min_point.y) - C.slope_low * np.log10(C.min_point.x)))\n",
    "\n",
    "    mask = np.logical_and(log_x > np.log10(C.min_point.x), log_x < np.log10(C.mid_point.x))\n",
    "    knot_coord = ((N_KNOTS_LOW - 1) * \n",
    "                  (log_x[mask] - np.log10(C.min_point[0])) / (np.log10(C.mid_point[0]) - np.log10(C.min_point[0])))\n",
    "    j = knot_coord.astype(np.int_)\n",
    "    t = knot_coord - j\n",
    "    cf = tstack((C.coefs_low[j], C.coefs_low[j + 1], C.coefs_low[j + 2]))\n",
    "    monomials = tstack((t * t, t, np.ones(t.shape)))\n",
    "    log_y[mask] = np.einsum('ij, ij->i', monomials, dot_vector(M, cf))\n",
    "\n",
    "    mask = np.logical_and(log_x >= np.log10(C.mid_point.x), log_x < np.log10(C.max_point.x))\n",
    "    knot_coord = ((N_KNOTS_HIGH - 1) * \n",
    "                  (log_x[mask] - np.log10(C.mid_point.x)) / (np.log10(C.max_point.x) - np.log10(C.mid_point.x)))\n",
    "    j = knot_coord.astype(np.int_)\n",
    "    t = knot_coord - j\n",
    "    cf = tstack((C.coefs_high[j], C.coefs_high[j + 1], C.coefs_high[j + 2]))\n",
    "    monomials = tstack((t * t, t, np.ones(t.shape)))\n",
    "    log_y[mask] = np.einsum('ij, ij->i', monomials, dot_vector(M, cf))\n",
    "\n",
    "    mask = log_x >= np.log10(C.max_point.x) \n",
    "    log_y[mask] = (\n",
    "        log_x[mask] * C.slope_high + (np.log10(C.max_point.y) - C.slope_high * np.log10(C.max_point.x)))\n",
    "    \n",
    "    return 10 ** log_y\n",
    "\n",
    "\n",
    "def segmented_spline_c5_fwd(x, C=RRT_PARAMS):\n",
    "    return segmented_spline_fwd(x, C=C, knots_low=4, knots_high=4)\n",
    "\n",
    "\n",
    "def segmented_spline_c9_fwd(x, C=RRT_PARAMS):\n",
    "    return segmented_spline_fwd(x, C=C, knots_low=8, knots_high=8)"
   ]
  },
  {
   "cell_type": "code",
   "execution_count": 3,
   "metadata": {
    "scrolled": false
   },
   "outputs": [
    {
     "name": "stderr",
     "output_type": "stream",
     "text": [
      "  File \"<ipython-input-3-883d1f33c265>\", line 16, in <module>\n",
      "    DEFAULT_SAMPLE_COUNT / 4)\n",
      "  File \"/usr/local/anaconda3/envs/colour-2.7/lib/python2.7/site-packages/numpy/core/function_base.py\", line 101, in linspace\n",
      "    num = _index_deprecate(num)\n",
      "/usr/local/anaconda3/envs/colour-2.7/lib/python2.7/site-packages/ipykernel_launcher.py:16: DeprecationWarning: object of type <type 'float'> cannot be safely interpreted as an integer.\n",
      "  app.launch_new_instance()\n"
     ]
    },
    {
     "data": {
      "application/vnd.jupyter.widget-view+json": {
       "model_id": "86ec4a7f6b594a77a7393efdf88803a5",
       "version_major": 2,
       "version_minor": 0
      },
      "text/plain": [
       "RmlndXJlKGF4ZXM9W0F4aXMobGFiZWw9dSdYJywgc2NhbGU9TG9nU2NhbGUoKSksIEF4aXMobGFiZWw9dSdZJywgb3JpZW50YXRpb249dSd2ZXJ0aWNhbCcsIHNjYWxlPUxvZ1NjYWxlKCkpXSzigKY=\n"
      ]
     },
     "metadata": {},
     "output_type": "display_data"
    }
   ],
   "source": [
    "S_P = ODT_48nits\n",
    "S_FUNCTION = segmented_spline_c9_fwd\n",
    "\n",
    "MINIMUM_REPR_NUMBER = S_P.min_point.x\n",
    "MAXIMUM_REPR_NUMBER = S_P.max_point.x\n",
    "\n",
    "DEFAULT_SAMPLE_COUNT = 1024\n",
    "\n",
    "SAMPLES_LOG = np.logspace(\n",
    "    np.log10(MINIMUM_REPR_NUMBER), \n",
    "    np.log10(MAXIMUM_REPR_NUMBER), \n",
    "    DEFAULT_SAMPLE_COUNT)\n",
    "SAMPLES = np.linspace(\n",
    "    SAMPLES_LOG[0], \n",
    "    SAMPLES_LOG[-1], \n",
    "    DEFAULT_SAMPLE_COUNT / 4)\n",
    "\n",
    "SPLINE_SCALE_X = LogScale()\n",
    "SPLINE_SCALE_Y = LogScale()\n",
    "\n",
    "SPLINE_AXIS_X = Axis(scale=SPLINE_SCALE_X, grid_lines='solid', label='X')\n",
    "SPLINE_AXIS_Y = Axis(scale=SPLINE_SCALE_Y, grid_lines='solid', label='Y', orientation='vertical')\n",
    "\n",
    "SPLINE_LINE = Lines(\n",
    "    x=SAMPLES_LOG, \n",
    "    y=S_FUNCTION(SAMPLES_LOG, S_P), \n",
    "    scales={'x': SPLINE_SCALE_X, 'y': SPLINE_SCALE_Y})\n",
    "\n",
    "SPLINE_SCATTER = Scatter(\n",
    "    x=[S_P.min_point.x, \n",
    "       S_P.mid_point.x, \n",
    "       S_P.max_point.x],\n",
    "    y=[S_P.min_point.y, \n",
    "       S_P.mid_point.y, \n",
    "       S_P.max_point.y],\n",
    "    scales={'x': SPLINE_SCALE_X, 'y': SPLINE_SCALE_Y},\n",
    "    enable_move=True,\n",
    "    update_on_move=True)\n",
    "\n",
    "Figure(marks=[SPLINE_LINE, SPLINE_SCATTER], \n",
    "       axes=[SPLINE_AXIS_X, SPLINE_AXIS_Y], \n",
    "       title='Segmented Spline Interactive')"
   ]
  },
  {
   "cell_type": "code",
   "execution_count": 4,
   "metadata": {},
   "outputs": [],
   "source": [
    "def on_spline_scatter_drag(name, value):\n",
    "    s_p = SegmentedSplineParams(\n",
    "        S_P.coefs_low,\n",
    "        S_P.coefs_high,\n",
    "        SplinePoint(SPLINE_SCATTER.x[0], SPLINE_SCATTER.y[0]),\n",
    "        SplinePoint(SPLINE_SCATTER.x[1], SPLINE_SCATTER.y[1]),\n",
    "        SplinePoint(SPLINE_SCATTER.x[2], SPLINE_SCATTER.y[2]),\n",
    "        S_P.slope_low,\n",
    "        S_P.slope_high)\n",
    "\n",
    "    SPLINE_LINE.y = S_FUNCTION(SAMPLES_LOG, s_p)\n",
    "\n",
    "SPLINE_SCATTER.on_drag_start(on_spline_scatter_drag)\n",
    "SPLINE_SCATTER.on_drag(on_spline_scatter_drag)\n",
    "SPLINE_SCATTER.on_drag_end(on_spline_scatter_drag)"
   ]
  }
 ],
 "metadata": {
  "anaconda-cloud": {},
  "kernelspec": {
   "display_name": "Python 2",
   "language": "python",
   "name": "python2"
  },
  "language_info": {
   "codemirror_mode": {
    "name": "ipython",
    "version": 2
   },
   "file_extension": ".py",
   "mimetype": "text/x-python",
   "name": "python",
   "nbconvert_exporter": "python",
   "pygments_lexer": "ipython2",
   "version": "2.7.14"
  }
 },
 "nbformat": 4,
 "nbformat_minor": 1
}
